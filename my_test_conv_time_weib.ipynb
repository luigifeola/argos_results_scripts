{
 "cells": [
  {
   "cell_type": "code",
   "execution_count": 5,
   "metadata": {},
   "outputs": [
    {
     "data": {
      "text/html": [
       "<style>.container { width:80% !important; }</style>"
      ],
      "text/plain": [
       "<IPython.core.display.HTML object>"
      ]
     },
     "metadata": {},
     "output_type": "display_data"
    }
   ],
   "source": [
    "from IPython.core.display import display, HTML\n",
    "display(HTML(\"<style>.container { width:80% !important; }</style>\"))"
   ]
  },
  {
   "cell_type": "code",
   "execution_count": 6,
   "metadata": {},
   "outputs": [],
   "source": [
    "import matplotlib.pyplot as plt\n",
    "import numpy as np\n",
    "import csv\n",
    "import sys\n",
    "import os\n",
    "from scipy import stats\n",
    "import math\n",
    "from scipy.optimize import curve_fit\n",
    "import scipy.special as sc\n",
    "from scipy.stats import norm\n",
    "import seaborn as sns\n",
    "import pandas as pd"
   ]
  },
  {
   "cell_type": "code",
   "execution_count": 16,
   "metadata": {},
   "outputs": [],
   "source": [
    "def weib_cdf(x,alpha,gamma):\n",
    "    return (1 - np.exp(-np.power(x/alpha,gamma)))\n",
    "\n",
    "bound_is=75000\n",
    "# bound_is=750000 #ASHWARIA"
   ]
  },
  {
   "cell_type": "code",
   "execution_count": 17,
   "metadata": {},
   "outputs": [],
   "source": [
    "temp = np.array([ 421.,  424.,  429.,  484.,  525.,  532.,  533.,  606.,  658.,\n",
    "        688.,  692.,  697.,  749.,  833.,  834.,  838.,  911.,  929.,\n",
    "        962., 1117., 1131., 1223., 1356., 1360., 1457., 1722., 1824.,\n",
    "       2238., 2298., 2327.])"
   ]
  },
  {
   "cell_type": "code",
   "execution_count": 18,
   "metadata": {},
   "outputs": [
    {
     "data": {
      "text/plain": [
       "30"
      ]
     },
     "execution_count": 18,
     "metadata": {},
     "output_type": "execute_result"
    }
   ],
   "source": [
    "temp.size"
   ]
  },
  {
   "cell_type": "code",
   "execution_count": 19,
   "metadata": {
    "scrolled": true
   },
   "outputs": [
    {
     "name": "stdout",
     "output_type": "stream",
     "text": [
      "[30 29 28 27 26 25 24 23 22 21 20 19 18 17 16 15 14 13 12 11 10  9  8  7\n",
      "  6  5  4  3  2  1]\n"
     ]
    }
   ],
   "source": [
    "'''K-M estimator'''\n",
    "n_est=np.asarray(range(temp.size))[::-1] + 1  #array from 29 to 0\n",
    "print(n_est)"
   ]
  },
  {
   "cell_type": "code",
   "execution_count": 20,
   "metadata": {},
   "outputs": [
    {
     "name": "stdout",
     "output_type": "stream",
     "text": [
      "[30 29 28 27 26 25 24 23 22 21 20 19 18 17 16 15 14 13 12 11 10  9  8  7\n",
      "  6  5  4  3  2  1]\n",
      "29 30\n",
      "28 29\n",
      "27 28\n",
      "26 27\n",
      "25 26\n",
      "24 25\n",
      "23 24\n",
      "22 23\n",
      "21 22\n",
      "20 21\n",
      "19 20\n",
      "18 19\n",
      "17 18\n",
      "16 17\n",
      "15 16\n",
      "14 15\n",
      "13 14\n",
      "12 13\n",
      "11 12\n",
      "10 11\n",
      "9 10\n",
      "8 9\n",
      "7 8\n",
      "6 7\n",
      "5 6\n",
      "4 5\n",
      "3 4\n",
      "2 3\n",
      "1 2\n",
      "0 1\n"
     ]
    }
   ],
   "source": [
    "n_est=np.asarray(range(temp.size))[::-1]+1\n",
    "print(n_est)\n",
    "RT_sync=[]\n",
    "for i in range(n_est.size):\n",
    "    print((n_est[i]-1),n_est[i])\n",
    "    if len(RT_sync)==0:\n",
    "        RT_sync.append((n_est[i]-1)/n_est[i])\n",
    "    else:\n",
    "        RT_sync.append(RT_sync[-1]*((n_est[i]-1)/n_est[i]))\n",
    "F=1-np.asarray(RT_sync).reshape(-1,1)"
   ]
  },
  {
   "cell_type": "code",
   "execution_count": 21,
   "metadata": {},
   "outputs": [
    {
     "name": "stdout",
     "output_type": "stream",
     "text": [
      "alpha:1046.3256814655495, gamma:2.05730904435154\n"
     ]
    },
    {
     "data": {
      "image/png": "[encoded data removed]",
      "text/plain": [
       "<Figure size 800x480 with 1 Axes>"
      ]
     },
     "metadata": {},
     "output_type": "display_data"
    }
   ],
   "source": [
    "#popt_weibull[0] is alpha\n",
    "#popt_weibull[1] is gamma\n",
    "popt_weibull,_= curve_fit(weib_cdf,xdata=temp,ydata=np.squeeze(F),bounds=(0,[bound_is,10]),method='trf')\n",
    "print(\"alpha:%s, gamma:%s\" % (popt_weibull[0],popt_weibull[1]))\n",
    "\n",
    "\n",
    "fig=plt.figure(figsize=(10, 6), dpi= 80, facecolor='w', edgecolor='k')\n",
    "y_weib=weib_cdf(temp,popt_weibull[0],popt_weibull[1])\n",
    "plt.plot(temp,y_weib,'r',linewidth=5,label=\"Weibull Distribution\")\n",
    "plt.plot(temp,F,'b',linewidth=5,label=\"K-M stats\")\n",
    "#plt.ylim(0,1)\n",
    "plt.legend()\n",
    "plt.xlabel(\"Number of time steps\")\n",
    "plt.ylabel(\"Synchronisation probability\")\n",
    "plt.show();"
   ]
  },
  {
   "cell_type": "code",
   "execution_count": null,
   "metadata": {},
   "outputs": [],
   "source": []
  },
  {
   "cell_type": "code",
   "execution_count": null,
   "metadata": {},
   "outputs": [],
   "source": []
  },
  {
   "cell_type": "code",
   "execution_count": null,
   "metadata": {},
   "outputs": [],
   "source": []
  },
  {
   "cell_type": "markdown",
   "metadata": {},
   "source": [
    "# Adding 0 at time 0.0"
   ]
  },
  {
   "cell_type": "code",
   "execution_count": 22,
   "metadata": {},
   "outputs": [],
   "source": [
    "temp1 = np.array([ 0., 421.,  424.,  429.,  484.,  525.,  532.,  533.,  606.,  658.,\n",
    "        688.,  692.,  697.,  749.,  833.,  834.,  838.,  911.,  929.,\n",
    "        962., 1117., 1131., 1223., 1356., 1360., 1457., 1722., 1824.,\n",
    "       2238., 2298., 2327.])"
   ]
  },
  {
   "cell_type": "code",
   "execution_count": 23,
   "metadata": {
    "scrolled": true
   },
   "outputs": [],
   "source": [
    "F1 = np.array([0., 0.03333333, 0.06666667, 0.1       , 0.13333333, 0.16666667,\n",
    "       0.2       , 0.23333333, 0.26666667, 0.3       , 0.33333333,\n",
    "       0.36666667, 0.4       , 0.43333333, 0.46666667, 0.5       ,\n",
    "       0.53333333, 0.56666667, 0.6       , 0.63333333, 0.66666667,\n",
    "       0.7       , 0.73333333, 0.76666667, 0.8       , 0.83333333,\n",
    "       0.86666667, 0.9       , 0.93333333, 0.96666667, 1.        ])"
   ]
  },
  {
   "cell_type": "code",
   "execution_count": 24,
   "metadata": {
    "scrolled": false
   },
   "outputs": [
    {
     "name": "stdout",
     "output_type": "stream",
     "text": [
      "alpha:1046.3256808091287, gamma:2.057309044936719\n"
     ]
    },
    {
     "data": {
      "image/png": "[encoded data removed]",
      "text/plain": [
       "<Figure size 800x480 with 1 Axes>"
      ]
     },
     "metadata": {},
     "output_type": "display_data"
    }
   ],
   "source": [
    "#popt_weibull[0] is alpha\n",
    "#popt_weibull[1] is gamma\n",
    "popt_weibull,_= curve_fit(weib_cdf,xdata=temp1,ydata=np.squeeze(F1),bounds=(0,[bound_is,10]),method='trf')\n",
    "print(\"alpha:%s, gamma:%s\" % (popt_weibull[0],popt_weibull[1]))\n",
    "\n",
    "\n",
    "fig=plt.figure(figsize=(10, 6), dpi= 80, facecolor='w', edgecolor='k')\n",
    "y_weib=weib_cdf(temp1,popt_weibull[0],popt_weibull[1])\n",
    "plt.plot(temp1,y_weib,'r',linewidth=5,label=\"Weibull Distribution\")\n",
    "plt.plot(temp1,F1,'b',linewidth=5,label=\"K-M stats\")\n",
    "#plt.ylim(0,1)\n",
    "plt.legend()\n",
    "plt.xlabel(\"Number of time steps\")\n",
    "plt.ylabel(\"Synchronisation probability\")\n",
    "plt.show();"
   ]
  },
  {
   "cell_type": "code",
   "execution_count": null,
   "metadata": {},
   "outputs": [],
   "source": [
    "#WARNING : temp proviene dal K-M estimator, dai un nome più consono a temp\n",
    "# TODO: Il total_dict non lo usi per nulla, cancellare\n",
    "mean_fpt_dict = dict()\n",
    "convergence_time_dict = dict()\n",
    "\n",
    "for dirName, subdirList, fileList in os.walk(folder):\n",
    "    num_robots = \"0\"\n",
    "    rho = -1.0\n",
    "    alpha = -1.0\n",
    "    elements=dirName.split(\"_\")\n",
    "    for e in elements:\n",
    "        if e.startswith(\"robots\"):\n",
    "            num_robots=e.split(\"#\")[-1]\n",
    "            if(num_robots not in mean_fpt_dict):\n",
    "                mean_fpt_dict[num_robots]=dict()\n",
    "                convergence_time_dict[num_robots]=dict()\n",
    "\n",
    "        if(e.startswith(\"rho\")):\n",
    "            rho=float(e.split(\"#\")[-1])\n",
    "        if(e.startswith(\"alpha\")):\n",
    "            alpha=float(e.split(\"#\")[-1])\n",
    "\n",
    "#     print(str(count) + \" : \" + dirName)\n",
    "    if(num_robots == \"0\" or rho == -1.0 or alpha == -1):\n",
    "        continue\n",
    "    rho_str=str(rho)\n",
    "    alpha_str=str(alpha)\n",
    "#     print(\"rho\", rho_str)\n",
    "#     print(\"alpha\", alpha_str)\n",
    "    if(rho_str not in mean_fpt_dict[num_robots]):\n",
    "        mean_fpt_dict[num_robots][rho_str]=dict()\n",
    "        convergence_time_dict[num_robots][rho_str]=dict()\n",
    "#         print(total_dict)\n",
    "    #WARNING : di mettere alpha probabilmente non ce n'è bisogno\n",
    "#     if(alpha_str not in total_dict[num_robots][rho_str]):\n",
    "#         total_dict[num_robots][rho_str][alpha_str]=dict()\n",
    "#         mean_fpt_dict[num_robots][rho_str][alpha_str]=dict()\n",
    "#         convergence_time_dict[num_robots][rho_str][alpha_str]=dict()\n",
    "\n",
    "    #df = pd.DataFrame()\n",
    "    number_of_experiments = 0\n",
    "    df = pd.DataFrame()\n",
    "    conv_time_batch = np.array([])\n",
    "    for file in fileList:\n",
    "        if file.endswith('time_results.tsv'):\n",
    "#             print(mean_wmsd)\n",
    "#             print('Directory %s' % dirName)\n",
    "#             print('\\t\\tfile %s' % file)\n",
    "        \n",
    "            df_single = pd.read_csv(dirName+\"/\"+file, sep=\"\\t\")\n",
    "            df = df.append(df_single)\n",
    "            number_of_experiments +=1\n",
    "            \n",
    "            '''Variable for Conv Time'''\n",
    "            times = df_single.values[:,1:]\n",
    "            conv_times = np.zeros(times.shape[0])\n",
    "            print(\"Time shape\", times.shape)\n",
    "            for idx, elem in enumerate(times):\n",
    "                if(elem[0] == 0):\n",
    "                    conv_times[idx] = elem[1]\n",
    "                else:\n",
    "                    conv_times[idx] = elem.min()\n",
    "            #c_time in ticks \n",
    "            conv_time_batch = np.append(conv_time_batch, conv_times.max()) \n",
    "         \n",
    "        #WARNING : le tre righe seguenti le ho scommentate, attenzione\n",
    "            c_time_max_val = conv_times.max()\n",
    "        #     print(\"Convergence time:\", c_time_max_val)\n",
    "            convergence_time_dict[num_robots][rho_str][alpha_str]= c_time_max_val\n",
    "            \n",
    "#     print(conv_time_batch.size)            \n",
    "\n",
    "\n",
    "    \n",
    "  \n",
    "    '''Weibull distribution for Convergence Time'''\n",
    "    figPath = results_dir+'/'+\"conv_time_alpha_%s_rho_%s.png\" % (alpha_str, rho_str) \n",
    "    figLabel = \"Convergence Time alpha:%s, rho:%s.png\" % (alpha_str, rho_str)\n",
    "    censored = 1\n",
    "#     bound_is=7500\n",
    "    temp = conv_time_batch.reshape(-1)\n",
    "    print(\"Temp1 size: \", temp.size)\n",
    "    print(\"Temp\", temp)\n",
    "    print()\n",
    "    temp = temp[np.argsort(temp)]\n",
    "    print(\"Temp2 size: \", temp.size)\n",
    "    print(\"Temp\", temp)\n",
    "   \n",
    "    \n",
    "#     data = df.values\n",
    "#     #print(data) \n",
    "    \n",
    "#     ''' Weibull distribution for First Passage Time'''\n",
    "#     figPath = results_dir+'/'+\"fpt_alpha_%s_rho_%s.png\" % (alpha_str, rho_str)\n",
    "#     figLabel = \"fpt alpha:%s, rho:%s.png\" % (alpha_str, rho_str)\n",
    "#     fpt = data[:,1:2]\n",
    "#     censored = fpt.size - np.count_nonzero(fpt)\n",
    "# #     print(fpt.size, censored)\n",
    "#     temp = fpt.reshape(-1)\n",
    "#     #print(temp)\n",
    "#     temp = temp[np.argsort(temp)]\n",
    "#     #print(temp.size)\n",
    "#     temp = temp[censored:]\n",
    "#     #print(temp.size)\n",
    "\n",
    "\n",
    "    '''K-M estimator'''\n",
    "    n_est=np.asarray(range(0,temp.size))[::-1] + censored  #array from 29 to 0\n",
    "    RT_sync=[]\n",
    "    for i in range(n_est.size):\n",
    "        if len(RT_sync)==0:\n",
    "            RT_sync.append((n_est[i]-1)/n_est[i])\n",
    "        else:\n",
    "            RT_sync.append(RT_sync[-1]*((n_est[i]-1)/n_est[i]))\n",
    "#     print(RT_sync)\n",
    "    F=1-np.asarray(RT_sync).reshape(-1,1)\n",
    "#     print(F)\n",
    "    #popt_weibull[0] is alpha\n",
    "    #popt_weibull[1] is gamma\n",
    "    \n",
    "    \n",
    "    \n",
    "    popt_weibull,_= curve_fit(weib_cdf,xdata=temp,ydata=np.squeeze(F),bounds=(0,[bound_is,10]),method='trf')\n",
    "    mean = sc.gamma(1+(1./popt_weibull[1]))*popt_weibull[0]\n",
    "    mean_fpt_dict[num_robots][rho_str][alpha_str] = mean\n",
    "#     print(\"mean\",mean)\n",
    "    std_dev = np.sqrt(popt_weibull[0]**2 * sc.gamma(1+(2./popt_weibull[1])) - mean**2)\n",
    "    \n",
    "    #fig=plt.figure(figsize=(16, 14), dpi= 80, facecolor='w', edgecolor='k')\n",
    "    fig, ax = plt.subplots(figsize=(10, 4), dpi= 80, facecolor='w', edgecolor='k')\n",
    "\n",
    "    '''Textbox with mu and sigma'''\n",
    "    textstr = '\\n'.join((\n",
    "        r'$\\mu=%.2f$' % (mean, ),\n",
    "        r'$\\sigma=%.2f$' % (std_dev, )))\n",
    "\n",
    "    # these are matplotlib.patch.Patch properties\n",
    "    props = dict(boxstyle='round', facecolor='wheat', alpha=0.5)\n",
    "    # place a text box in upper left in axes coords\n",
    "    ax.text(0.05, 0.95, textstr, transform=ax.transAxes, fontsize=14,\n",
    "            verticalalignment='top', bbox=props)\n",
    "\n",
    "\n",
    "    y_weib=weib_cdf(temp,popt_weibull[0],popt_weibull[1])\n",
    "    error_weib=np.power(y_weib-np.squeeze(F),2)\n",
    "    plt.plot(temp,y_weib,'r',linewidth=5,label=\"Weibull Distribution\")\n",
    "    plt.plot(temp,F,'b',linewidth=5,label=\"K-M stats\")\n",
    "    plt.legend(loc=4)\n",
    "    plt.ylim(0,1)\n",
    "    #label=\"Alpha \"+str(dataset[sample,1])+\" Rho \"+str(dataset[sample,2])+\" Time of First Passage for \"+str(censored)+\"/\"+str(uncensored)+\" censored values\"\n",
    "    label = figLabel\n",
    "    plt.title(label)\n",
    "    plt.xlabel(\"Number of time steps\")\n",
    "    plt.ylabel(\"Synchronisation probability\")\n",
    "#     plt.show()\n",
    "    plt.savefig(figPath)\n",
    "    plt.close(fig)"
   ]
  }
 ],
 "metadata": {
  "kernelspec": {
   "display_name": "Python 3",
   "language": "python",
   "name": "python3"
  },
  "language_info": {
   "codemirror_mode": {
    "name": "ipython",
    "version": 3
   },
   "file_extension": ".py",
   "mimetype": "text/x-python",
   "name": "python",
   "nbconvert_exporter": "python",
   "pygments_lexer": "ipython3",
   "version": "3.5.2"
  }
 },
 "nbformat": 4,
 "nbformat_minor": 4
}
