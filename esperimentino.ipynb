{
 "cells": [
  {
   "cell_type": "code",
   "execution_count": 1,
   "metadata": {},
   "outputs": [
    {
     "data": {
      "text/html": [
       "<style>.container { width:80% !important; }</style>"
      ],
      "text/plain": [
       "<IPython.core.display.HTML object>"
      ]
     },
     "metadata": {},
     "output_type": "display_data"
    }
   ],
   "source": [
    "from IPython.core.display import display, HTML\n",
    "display(HTML(\"<style>.container { width:80% !important; }</style>\"))"
   ]
  },
  {
   "cell_type": "code",
   "execution_count": 5,
   "metadata": {},
   "outputs": [],
   "source": [
    "import matplotlib.pyplot as plt\n",
    "import numpy as np\n",
    "import csv\n",
    "import sys\n",
    "import os\n",
    "import seaborn as sns\n",
    "import pandas as pd"
   ]
  },
  {
   "cell_type": "code",
   "execution_count": 36,
   "metadata": {},
   "outputs": [],
   "source": [
    "Ncolors = 9\n",
    "colormap = plt.cm.viridis  # LinearSegmentedColormap\n",
    "Ncolors = min(colormap.N, Ncolors)\n",
    "mapcolors = [colormap(int(x * colormap.N / Ncolors)) for x in range(Ncolors)]"
   ]
  },
  {
   "cell_type": "code",
   "execution_count": 13,
   "metadata": {},
   "outputs": [],
   "source": [
    "def load_pd_positions(dirPath, experiment_type):\n",
    "    if experiment_type != \"experiment\" and experiment_type != \"baseline\":\n",
    "        print(\"experiment_type could be only $experiment or $baseline\")\n",
    "        exit(-1)\n",
    "\n",
    "    num_experiment = len([name for name in os.listdir(dirPath) if\n",
    "                          (os.path.isfile(os.path.join(dirPath, name)) and (name.endswith('position.tsv')))])\n",
    "\n",
    "    if os.path.exists(dirPath + \"/\" + experiment_type + \".pkl\"):\n",
    "        return num_experiment, pd.read_pickle(dirPath + \"/\" + experiment_type + \".pkl\")\n",
    "    # else:\n",
    "    #     print(\"Baseline:\"+dirPath+\" not an existing path\")\n",
    "    #     exit(-1)\n",
    "\n",
    "    print(\"Generating pickle positions file in \" + dirPath + \"/\" + experiment_type + \".pkl\")\n",
    "    df = pd.DataFrame()\n",
    "    for filename in os.listdir(dirPath):\n",
    "        if filename.endswith('positions_file.tsv'):\n",
    "            if not os.path.getsize(os.path.join(dirPath, filename)) > 0:\n",
    "                print(\"Error, empty file at:\" + os.path.join(dirPath, filename))\n",
    "                continue\n",
    "        df_single = pd.read_csv(dirPath + \"/\" + filename, sep=\"\\t\")\n",
    "        df = df.append(df_single)\n",
    "\n",
    "    df.to_pickle(dirPath + \"/\" + experiment_type + \".pkl\")\n",
    "    return num_experiment, df"
   ]
  },
  {
   "cell_type": "code",
   "execution_count": 14,
   "metadata": {},
   "outputs": [],
   "source": [
    "folder = \"/home/luigi/Documents/ARGoS/argos_results_scripts/esperimentino\"\n",
    "[number_of_experiments, df_experiment] = load_pd_positions(folder, \"experiment\")"
   ]
  },
  {
   "cell_type": "markdown",
   "metadata": {},
   "source": [
    "### Baseline, 1 sec straight 1 sec left and right rotation"
   ]
  },
  {
   "cell_type": "code",
   "execution_count": 337,
   "metadata": {},
   "outputs": [],
   "source": [
    "df_base = pd.DataFrame()\n",
    "for filename in os.listdir(folder):\n",
    "    if filename.endswith('positions_file.tsv'):\n",
    "        continue\n",
    "        \n",
    "    df_base = pd.read_csv(folder + \"/\" + filename, sep=\"\\t\") "
   ]
  },
  {
   "cell_type": "code",
   "execution_count": 338,
   "metadata": {},
   "outputs": [],
   "source": [
    "base_concatenated = df_base.values[:, 1:]\n",
    "base_concatenated = np.array([x.split(',') for x in base_concatenated.ravel()], dtype=float)\n",
    "base_concatenated = base_concatenated.reshape(1,-1,2)\n",
    "base_concatenated = np.append(base_concatenated,base_concatenated, axis=0)"
   ]
  },
  {
   "cell_type": "code",
   "execution_count": 339,
   "metadata": {},
   "outputs": [
    {
     "data": {
      "text/plain": [
       "(2, 901, 2)"
      ]
     },
     "execution_count": 339,
     "metadata": {},
     "output_type": "execute_result"
    }
   ],
   "source": [
    "base_concatenated.shape"
   ]
  },
  {
   "cell_type": "code",
   "execution_count": 341,
   "metadata": {},
   "outputs": [
    {
     "name": "stdout",
     "output_type": "stream",
     "text": [
      "straight#2000_turn#3000_positions_file.tsv\n",
      "Straight: 2000\n",
      "Turning: 3000\n",
      "Storing fig: comparison_rotation_straight_2000_turning_3000_seconds.png\n",
      "straight#2000_turn#100_positions_file.tsv\n",
      "Straight: 2000\n",
      "Turning: 100\n",
      "Storing fig: comparison_rotation_straight_2000_turning_100_seconds.png\n",
      "straight#2000_turn#500_positions_file.tsv\n",
      "Straight: 2000\n",
      "Turning: 500\n",
      "Storing fig: comparison_rotation_straight_2000_turning_500_seconds.png\n",
      "straight#1000_turn#2000_positions_file.tsv\n",
      "Straight: 1000\n",
      "Turning: 2000\n",
      "Storing fig: comparison_rotation_straight_1000_turning_2000_seconds.png\n",
      "straight#2000_turn#1500_positions_file.tsv\n",
      "Straight: 2000\n",
      "Turning: 1500\n",
      "Storing fig: comparison_rotation_straight_2000_turning_1500_seconds.png\n",
      "straight#2000_turn#2000_positions_file.tsv\n",
      "Straight: 2000\n",
      "Turning: 2000\n",
      "Storing fig: comparison_rotation_straight_2000_turning_2000_seconds.png\n",
      "straight#2000_turn#1000_positions_file.tsv\n",
      "Straight: 2000\n",
      "Turning: 1000\n",
      "Storing fig: comparison_rotation_straight_2000_turning_1000_seconds.png\n",
      "straight#1500_turn#2000_positions_file.tsv\n",
      "Straight: 1500\n",
      "Turning: 2000\n",
      "Storing fig: comparison_rotation_straight_1500_turning_2000_seconds.png\n"
     ]
    }
   ],
   "source": [
    "df = pd.DataFrame()\n",
    "for filename in os.listdir(folder):\n",
    "    straight_millisec = -1\n",
    "    turn_millisec = -1\n",
    "    \n",
    "    if filename.endswith('positions_file.tsv'):\n",
    "        print(filename)\n",
    "        elements = filename.split(\"_\")\n",
    "        for e in elements:\n",
    "            if e.startswith(\"straight\"):\n",
    "                straight_millisec = e.split(\"#\")[-1]\n",
    "            if e.startswith(\"turn\"):\n",
    "                turn_millisec = e.split(\"#\")[-1]\n",
    "    \n",
    "    else:\n",
    "        continue\n",
    "    \n",
    "    print(\"Straight:\",straight_millisec)\n",
    "    print(\"Turning:\",turn_millisec)\n",
    "    \n",
    "    df = pd.read_csv(folder + \"/\" + filename, sep=\"\\t\")\n",
    "    positions_concatenated = df.values[:,1:]\n",
    "    positions_concatenated = np.array([x.split(',') for x in positions_concatenated.ravel()],dtype=float)\n",
    "    positions_concatenated = positions_concatenated.reshape(1,-1,2)\n",
    "    positions_concatenated = np.append(positions_concatenated,positions_concatenated, axis=0)\n",
    "    \n",
    "    total_experiment_wmsd = []\n",
    "    baseline_experiment_wmsd = []\n",
    "\n",
    "    for window_size in range(1, 10):\n",
    "        w_displacement_array = np.array([])\n",
    "        base_w_displacement_array = np.array([])\n",
    "\n",
    "        win_disp = fixed_window_displacement(positions_concatenated, window_size)\n",
    "        base_win_disp = fixed_window_displacement(base_concatenated, window_size)\n",
    "\n",
    "\n",
    "        w_displacement_array = np.vstack(\n",
    "            [w_displacement_array, win_disp]) if w_displacement_array.size else win_disp\n",
    "\n",
    "        base_w_displacement_array = np.vstack(\n",
    "            [base_w_displacement_array, base_win_disp]) if base_w_displacement_array.size else base_win_disp\n",
    "\n",
    "        total_experiment_wmsd.append(w_displacement_array)\n",
    "        baseline_experiment_wmsd.append(base_w_displacement_array)\n",
    "        \n",
    "    plot_both_wmsd(baseline_experiment_wmsd, total_experiment_wmsd, straight_millisec, turn_millisec)"
   ]
  },
  {
   "cell_type": "code",
   "execution_count": 275,
   "metadata": {},
   "outputs": [],
   "source": []
  },
  {
   "cell_type": "code",
   "execution_count": 276,
   "metadata": {},
   "outputs": [
    {
     "data": {
      "text/plain": [
       "(2, 901, 2)"
      ]
     },
     "execution_count": 276,
     "metadata": {},
     "output_type": "execute_result"
    }
   ],
   "source": []
  },
  {
   "cell_type": "code",
   "execution_count": 301,
   "metadata": {},
   "outputs": [],
   "source": [
    "minor_straight_concatenated = df_base.values[:, 1:]\n",
    "minor_straight_concatenated = np.array([x.split(',') for x in minor_straight_concatenated.ravel()], dtype=float)\n",
    "minor_straight_concatenated = minor_straight_concatenated.reshape(1,-1,2)\n",
    "minor_straight_concatenated = np.append(minor_straight_concatenated,minor_straight_concatenated, axis=0)"
   ]
  },
  {
   "cell_type": "code",
   "execution_count": 302,
   "metadata": {},
   "outputs": [
    {
     "data": {
      "text/plain": [
       "(2, 901, 2)"
      ]
     },
     "execution_count": 302,
     "metadata": {},
     "output_type": "execute_result"
    }
   ],
   "source": [
    "minor_straight_concatenated.shape"
   ]
  },
  {
   "cell_type": "code",
   "execution_count": 303,
   "metadata": {},
   "outputs": [],
   "source": [
    "positions_concatenated = minor_straight_concatenated"
   ]
  },
  {
   "cell_type": "markdown",
   "metadata": {},
   "source": [
    "### Qui prendi posizione per posizione !!!!!!!!!!!!!!!!!!!!!!"
   ]
  },
  {
   "cell_type": "code",
   "execution_count": 304,
   "metadata": {},
   "outputs": [],
   "source": [
    "pos = 6\n",
    "positions_concatenated = df.values[:,1:] "
   ]
  },
  {
   "cell_type": "code",
   "execution_count": 279,
   "metadata": {},
   "outputs": [],
   "source": [
    "positions_concatenated = np.array([x.split(',') for x in positions_concatenated.ravel()],dtype=float)\n",
    "positions_concatenated = positions_concatenated.reshape(1,-1,2)\n",
    "positions_concatenated = np.append(positions_concatenated,positions_concatenated, axis=0)"
   ]
  },
  {
   "cell_type": "code",
   "execution_count": 305,
   "metadata": {},
   "outputs": [],
   "source": [
    "total_experiment_wmsd = []\n",
    "baseline_experiment_wmsd = []\n",
    "\n",
    "for window_size in range(1, 10):\n",
    "    w_displacement_array = np.array([])\n",
    "    base_w_displacement_array = np.array([])\n",
    "    \n",
    "    win_disp = fixed_window_displacement(positions_concatenated, window_size)\n",
    "    base_win_disp = fixed_window_displacement(base_concatenated, window_size)\n",
    "    \n",
    "    \n",
    "    w_displacement_array = np.vstack(\n",
    "        [w_displacement_array, win_disp]) if w_displacement_array.size else win_disp\n",
    "    \n",
    "    base_w_displacement_array = np.vstack(\n",
    "        [base_w_displacement_array, base_win_disp]) if base_w_displacement_array.size else base_win_disp\n",
    "\n",
    "    total_experiment_wmsd.append(w_displacement_array)\n",
    "    baseline_experiment_wmsd.append(base_w_displacement_array)"
   ]
  },
  {
   "cell_type": "code",
   "execution_count": 323,
   "metadata": {},
   "outputs": [],
   "source": [
    "def fixed_window_displacement(df, window_size):\n",
    "    w_displacement_matrix = np.array([])\n",
    "    for f in range(window_size, df.shape[1], window_size):\n",
    "#         print(\"f:\", f)\n",
    "        tf = df[:, f]\n",
    "        ti = df[:, f - window_size]\n",
    "        sq_distance = np.sum((tf - ti) ** 2, axis=1)\n",
    "        wmsd = np.true_divide(sq_distance, window_size ** 2)\n",
    "        w_displacement_matrix = np.column_stack([w_displacement_matrix, wmsd]) if w_displacement_matrix.size else wmsd\n",
    "\n",
    "    w_displacement_array = np.mean(w_displacement_matrix, axis=0)\n",
    "    return w_displacement_array"
   ]
  },
  {
   "cell_type": "code",
   "execution_count": 257,
   "metadata": {},
   "outputs": [
    {
     "data": {
      "text/plain": [
       "9"
      ]
     },
     "execution_count": 257,
     "metadata": {},
     "output_type": "execute_result"
    }
   ],
   "source": [
    "len(total_experiment_wmsd)"
   ]
  },
  {
   "cell_type": "code",
   "execution_count": 307,
   "metadata": {},
   "outputs": [],
   "source": [
    "seconds = \"2_straight_0.5_sec\""
   ]
  },
  {
   "cell_type": "code",
   "execution_count": 312,
   "metadata": {},
   "outputs": [],
   "source": [
    "plot_both_wmsd(baseline_experiment_wmsd, total_experiment_wmsd)"
   ]
  },
  {
   "cell_type": "code",
   "execution_count": 334,
   "metadata": {},
   "outputs": [],
   "source": [
    "def plot_both_wmsd(base_matrix, total_wmsd_matrix, straight_millisec, turn_millisec, storage_dir='./comparison'):\n",
    "    fig = plt.figure(figsize=(20, 10), dpi=160, facecolor='w', edgecolor='k')\n",
    "    \n",
    "    for i, y in enumerate(total_wmsd_matrix):\n",
    "        times = np.linspace(0, len(y) * (i + 1) * 10, len(y), endpoint=True)\n",
    "\n",
    "        #         print(\"indice finestra: \", i+1)\n",
    "        #         print(\"numero di punti: \", len(y))\n",
    "        #         print(\"Max val linspace: \", len(y)*(i+1)*10)\n",
    "        #         print(\"times shape:\", times.shape)\n",
    "        #         print(times)\n",
    "        plt.plot(times, y, label=i + 1, marker='o', color=mapcolors[i])\n",
    "\n",
    "    for i, y in enumerate(base_matrix):\n",
    "        times = np.linspace(0, len(y) * (i + 1) * 10, len(y), endpoint=True)\n",
    "\n",
    "        plt.plot(times, y, label=\"b\" + str(i + 1), linestyle='dashed', alpha=0.6, color=mapcolors[i])\n",
    "\n",
    "    fig.legend(loc=7, bbox_to_anchor=(0.95, 0.5))  # , prop={'size': 20})\n",
    "    #     fig.subplots_adjust(right=0.9)\n",
    "    #     plt.show()\n",
    "\n",
    "    plt.title(\"WMSD with different w_size, going straight for \"+str(straight_millisec)+\" milliseconds and turning for \"+str(turn_millisec)+\" milliseconds\")\n",
    "    plt.ylabel('WMSD')\n",
    "    plt.xlabel('time(s)')\n",
    "    #     plt.legend(loc='lower right')\n",
    "#     plt.xticks(np.arange(0, 9000, 200))\n",
    "    #     plt.grid(which='minor')\n",
    "    plt.grid()\n",
    "#     plt.ylim((0.0085, 0.0095))\n",
    "\n",
    "    # ax = plt.axes()\n",
    "    # #     plt.setp(ax.get_xticklabels(),visible=False)\n",
    "    #     # Make a plot with major ticks that are multiples of 20 and minor ticks that\n",
    "    #     # are multiples of 5.  Label major ticks with '%d' formatting but don't label\n",
    "    #     # minor ticks.\n",
    "    #     ax.xaxis.set_major_locator(MultipleLocator(100))\n",
    "    #     ax.xaxis.set_major_formatter(FormatStrFormatter('%d'))\n",
    "\n",
    "    #     # For the minor ticks, use no labels; default NullFormatter.\n",
    "    #     ax.xaxis.set_minor_locator(MultipleLocator(10))\n",
    "    #     ax.yaxis.set_minor_locator(AutoMinorLocator(2))\n",
    "    #     ax.yaxis.set_major_formatter(FormatStrFormatter('%f'))\n",
    "\n",
    "    #     plt.show();\n",
    "    fileName = \"comparison_rotation_straight_\"+str(straight_millisec)+\"_turning_\"+str(turn_millisec)+\"_seconds.png\" \n",
    "    print(\"Storing fig:\",fileName)\n",
    "    plt.savefig(storage_dir + '/' + fileName)\n",
    "    plt.close(fig)\n"
   ]
  },
  {
   "cell_type": "code",
   "execution_count": null,
   "metadata": {},
   "outputs": [],
   "source": []
  }
 ],
 "metadata": {
  "kernelspec": {
   "display_name": "Python 3",
   "language": "python",
   "name": "python3"
  },
  "language_info": {
   "codemirror_mode": {
    "name": "ipython",
    "version": 3
   },
   "file_extension": ".py",
   "mimetype": "text/x-python",
   "name": "python",
   "nbconvert_exporter": "python",
   "pygments_lexer": "ipython3",
   "version": "3.6.9"
  }
 },
 "nbformat": 4,
 "nbformat_minor": 4
}
