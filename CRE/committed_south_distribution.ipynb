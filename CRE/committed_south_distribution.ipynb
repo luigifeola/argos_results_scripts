{
 "cells": [
  {
   "cell_type": "code",
   "execution_count": 1,
   "metadata": {},
   "outputs": [
    {
     "data": {
      "text/html": [
       "<style>.container { width:85% !important; }</style>"
      ],
      "text/plain": [
       "<IPython.core.display.HTML object>"
      ]
     },
     "metadata": {},
     "output_type": "display_data"
    }
   ],
   "source": [
    "from IPython.core.display import display, HTML\n",
    "display(HTML(\"<style>.container { width:85% !important; }</style>\"))"
   ]
  },
  {
   "cell_type": "code",
   "execution_count": 2,
   "metadata": {},
   "outputs": [],
   "source": [
    "import os\n",
    "import pandas as pd\n",
    "from termcolor import colored\n",
    "import numpy as np\n",
    "from collections import OrderedDict\n",
    "import matplotlib.pyplot as plt\n",
    "from natsort import natsorted\n",
    "import sys\n",
    "import pickle\n",
    "import seaborn as sns\n",
    "\n",
    "# Display pandas df without truncation\n",
    "pd.set_option('display.max_rows', None)\n",
    "pd.set_option('display.max_columns', None)\n",
    "pd.set_option('display.width', None)\n",
    "pd.set_option('display.max_colwidth', None)\n",
    "\n",
    "np.set_printoptions(edgeitems=30, linewidth=100000, formatter=dict(float=lambda x: \"%.3g\" % x))\n",
    "\n"
   ]
  },
  {
   "cell_type": "code",
   "execution_count": 3,
   "metadata": {},
   "outputs": [],
   "source": [
    "fieldsPerKilobot = 5 #id, x, y, ori, state\n",
    "num_robot = 20\n",
    "experiment_time = 900"
   ]
  },
  {
   "cell_type": "code",
   "execution_count": 4,
   "metadata": {},
   "outputs": [
    {
     "data": {
      "text/plain": [
       "array([0, 1, 2, 3, 4, 5, 6, 7, 8, 9, 10, 11, 12, 13, 14, 15, 16, 17, 18, 19, 20])"
      ]
     },
     "execution_count": 4,
     "metadata": {},
     "output_type": "execute_result"
    }
   ],
   "source": [
    "bin_edges = np.linspace(0, 20, 21)\n",
    "bin_edges"
   ]
  },
  {
   "cell_type": "code",
   "execution_count": 20,
   "metadata": {},
   "outputs": [],
   "source": [
    "results_folder = '/home/luigi/Documents/ARGoS/argos_results_scripts/CRE/results_cre/different_resources_number/different_resources_2021-05-26_900seconds/'\n",
    "# results_folder = '/home/luigi/Documents/ARGoS/argos_results_scripts/CRE/results_cre/equal_resources_number/equal_resources_2021-05-27_seconds#900/'\n",
    "fileName = \"seed#1_areaLOG_client.tsv\""
   ]
  },
  {
   "cell_type": "code",
   "execution_count": 21,
   "metadata": {},
   "outputs": [
    {
     "name": "stdout",
     "output_type": "stream",
     "text": [
      "\u001b[32mOK, /home/luigi/Documents/ARGoS/argos_results_scripts/CRE/results_cre/different_resources_number/different_resources_2021-05-26_900seconds/ exists\u001b[0m\n"
     ]
    }
   ],
   "source": [
    "if not os.path.isdir(results_folder):\n",
    "    print(colored(\"Error, \" + results_folder + \" does not exist\", 'red'))\n",
    "else:\n",
    "    print(colored(\"OK, \" + results_folder + \" exists\", 'green'))"
   ]
  },
  {
   "cell_type": "code",
   "execution_count": 22,
   "metadata": {},
   "outputs": [
    {
     "name": "stdout",
     "output_type": "stream",
     "text": [
      "['state0', 'state1', 'state2', 'state3', 'state4', 'state5', 'state6', 'state7', 'state8', 'state9', 'state10', 'state11', 'state12', 'state13', 'state14', 'state15', 'state16', 'state17', 'state18', 'state19']\n"
     ]
    }
   ],
   "source": [
    "kilo_state_label = []\n",
    "for i in range(num_robot):\n",
    "    kilo_state_label += [\"state\"+str(i)]\n",
    "# area_pos_label\n",
    "\n",
    "print(kilo_state_label)"
   ]
  },
  {
   "cell_type": "code",
   "execution_count": 23,
   "metadata": {},
   "outputs": [
    {
     "name": "stdout",
     "output_type": "stream",
     "text": [
      "\u001b[34mMain folder:\u001b[0m /home/luigi/Documents/ARGoS/argos_results_scripts/CRE/results_cre/different_resources_number/different_resources_2021-05-26_900seconds/\n",
      "\tfilename:  seed#1_kiloLOG_server.tsv\n",
      "\tCutting null elements in client kilo df\n",
      "\tfilename:  seed#2_kiloLOG_server.tsv\n",
      "\tCutting null elements in client kilo df\n",
      "\tfilename:  seed#3_kiloLOG_server.tsv\n",
      "\tCutting null elements in client kilo df\n",
      "\tfilename:  seed#4_kiloLOG_server.tsv\n",
      "\tCutting null elements in client kilo df\n",
      "\tfilename:  seed#5_kiloLOG_server.tsv\n",
      "\tCutting null elements in client kilo df\n",
      "\tfilename:  seed#6_kiloLOG_server.tsv\n",
      "\tCutting null elements in client kilo df\n",
      "\tfilename:  seed#7_kiloLOG_server.tsv\n",
      "\tCutting null elements in client kilo df\n",
      "\tfilename:  seed#8_kiloLOG_server.tsv\n",
      "\tCutting null elements in client kilo df\n",
      "\tfilename:  seed#9_kiloLOG_server.tsv\n",
      "\tCutting null elements in client kilo df\n",
      "\tfilename:  seed#10_kiloLOG_server.tsv\n",
      "\tCutting null elements in client kilo df\n",
      "\tfilename:  seed#11_kiloLOG_server.tsv\n",
      "\tCutting null elements in client kilo df\n",
      "\tfilename:  seed#12_kiloLOG_server.tsv\n",
      "\tCutting null elements in client kilo df\n",
      "\tfilename:  seed#13_kiloLOG_server.tsv\n",
      "\tCutting null elements in client kilo df\n",
      "\tfilename:  seed#14_kiloLOG_server.tsv\n",
      "\tCutting null elements in client kilo df\n",
      "\tfilename:  seed#15_kiloLOG_server.tsv\n",
      "\tCutting null elements in client kilo df\n",
      "\tfilename:  seed#16_kiloLOG_server.tsv\n",
      "\tCutting null elements in client kilo df\n",
      "\tfilename:  seed#17_kiloLOG_server.tsv\n",
      "\tCutting null elements in client kilo df\n",
      "\tfilename:  seed#18_kiloLOG_server.tsv\n",
      "\tCutting null elements in client kilo df\n",
      "\tfilename:  seed#19_kiloLOG_server.tsv\n",
      "\tCutting null elements in client kilo df\n",
      "\tfilename:  seed#20_kiloLOG_server.tsv\n",
      "\tCutting null elements in client kilo df\n",
      "\tfilename:  seed#21_kiloLOG_server.tsv\n",
      "\tCutting null elements in client kilo df\n",
      "\tfilename:  seed#22_kiloLOG_server.tsv\n",
      "\tCutting null elements in client kilo df\n",
      "\tfilename:  seed#23_kiloLOG_server.tsv\n",
      "\tCutting null elements in client kilo df\n",
      "\tfilename:  seed#24_kiloLOG_server.tsv\n",
      "\tCutting null elements in client kilo df\n",
      "\tfilename:  seed#25_kiloLOG_server.tsv\n",
      "\tCutting null elements in client kilo df\n",
      "\tfilename:  seed#26_kiloLOG_server.tsv\n",
      "\tCutting null elements in client kilo df\n",
      "\tfilename:  seed#27_kiloLOG_server.tsv\n",
      "\tCutting null elements in client kilo df\n",
      "\tfilename:  seed#28_kiloLOG_server.tsv\n",
      "\tCutting null elements in client kilo df\n",
      "\tfilename:  seed#29_kiloLOG_server.tsv\n",
      "\tCutting null elements in client kilo df\n",
      "\tfilename:  seed#30_kiloLOG_server.tsv\n",
      "\tCutting null elements in client kilo df\n",
      "\tfilename:  seed#31_kiloLOG_server.tsv\n",
      "\tCutting null elements in client kilo df\n",
      "\tfilename:  seed#32_kiloLOG_server.tsv\n",
      "\tCutting null elements in client kilo df\n",
      "\tfilename:  seed#33_kiloLOG_server.tsv\n",
      "\tCutting null elements in client kilo df\n",
      "\tfilename:  seed#34_kiloLOG_server.tsv\n",
      "\tCutting null elements in client kilo df\n",
      "\tfilename:  seed#35_kiloLOG_server.tsv\n",
      "\tCutting null elements in client kilo df\n",
      "\tfilename:  seed#36_kiloLOG_server.tsv\n",
      "\tCutting null elements in client kilo df\n",
      "\tfilename:  seed#37_kiloLOG_server.tsv\n",
      "\tCutting null elements in client kilo df\n",
      "\tfilename:  seed#38_kiloLOG_server.tsv\n",
      "\tCutting null elements in client kilo df\n",
      "\tfilename:  seed#39_kiloLOG_server.tsv\n",
      "\tCutting null elements in client kilo df\n",
      "\tfilename:  seed#40_kiloLOG_server.tsv\n",
      "\tCutting null elements in client kilo df\n",
      "\tfilename:  seed#41_kiloLOG_server.tsv\n",
      "\tCutting null elements in client kilo df\n",
      "\tfilename:  seed#42_kiloLOG_server.tsv\n",
      "\tCutting null elements in client kilo df\n",
      "\tfilename:  seed#43_kiloLOG_server.tsv\n",
      "\tCutting null elements in client kilo df\n",
      "\tfilename:  seed#44_kiloLOG_server.tsv\n",
      "\tCutting null elements in client kilo df\n",
      "\tfilename:  seed#45_kiloLOG_server.tsv\n",
      "\tCutting null elements in client kilo df\n",
      "\tfilename:  seed#46_kiloLOG_server.tsv\n",
      "\tCutting null elements in client kilo df\n",
      "\tfilename:  seed#47_kiloLOG_server.tsv\n",
      "\tCutting null elements in client kilo df\n",
      "\tfilename:  seed#48_kiloLOG_server.tsv\n",
      "\tCutting null elements in client kilo df\n",
      "\tfilename:  seed#49_kiloLOG_server.tsv\n",
      "\tCutting null elements in client kilo df\n",
      "\tfilename:  seed#50_kiloLOG_server.tsv\n",
      "\tCutting null elements in client kilo df\n",
      "\tfilename:  seed#51_kiloLOG_server.tsv\n",
      "\tCutting null elements in client kilo df\n",
      "\tfilename:  seed#52_kiloLOG_server.tsv\n",
      "\tCutting null elements in client kilo df\n",
      "\tfilename:  seed#53_kiloLOG_server.tsv\n",
      "\tCutting null elements in client kilo df\n",
      "\tfilename:  seed#54_kiloLOG_server.tsv\n",
      "\tCutting null elements in client kilo df\n",
      "\tfilename:  seed#55_kiloLOG_server.tsv\n",
      "\tCutting null elements in client kilo df\n",
      "\tfilename:  seed#56_kiloLOG_server.tsv\n",
      "\tCutting null elements in client kilo df\n",
      "\tfilename:  seed#57_kiloLOG_server.tsv\n",
      "\tCutting null elements in client kilo df\n",
      "\tfilename:  seed#58_kiloLOG_server.tsv\n",
      "\tCutting null elements in client kilo df\n",
      "\tfilename:  seed#59_kiloLOG_server.tsv\n",
      "\tCutting null elements in client kilo df\n",
      "\tfilename:  seed#60_kiloLOG_server.tsv\n",
      "\tCutting null elements in client kilo df\n",
      "\tfilename:  seed#61_kiloLOG_server.tsv\n",
      "\tCutting null elements in client kilo df\n",
      "\tfilename:  seed#62_kiloLOG_server.tsv\n",
      "\tCutting null elements in client kilo df\n",
      "\tfilename:  seed#63_kiloLOG_server.tsv\n",
      "\tCutting null elements in client kilo df\n",
      "\tfilename:  seed#64_kiloLOG_server.tsv\n",
      "\tCutting null elements in client kilo df\n",
      "\tfilename:  seed#65_kiloLOG_server.tsv\n",
      "\tCutting null elements in client kilo df\n",
      "\tfilename:  seed#66_kiloLOG_server.tsv\n",
      "\tCutting null elements in client kilo df\n",
      "\tfilename:  seed#67_kiloLOG_server.tsv\n",
      "\tCutting null elements in client kilo df\n",
      "\tfilename:  seed#68_kiloLOG_server.tsv\n",
      "\tCutting null elements in client kilo df\n",
      "\tfilename:  seed#69_kiloLOG_server.tsv\n",
      "\tCutting null elements in client kilo df\n",
      "\tfilename:  seed#70_kiloLOG_server.tsv\n",
      "\tCutting null elements in client kilo df\n",
      "\tfilename:  seed#71_kiloLOG_server.tsv\n",
      "\tCutting null elements in client kilo df\n",
      "\tfilename:  seed#72_kiloLOG_server.tsv\n",
      "\tCutting null elements in client kilo df\n",
      "\tfilename:  seed#73_kiloLOG_server.tsv\n",
      "\tCutting null elements in client kilo df\n",
      "\tfilename:  seed#74_kiloLOG_server.tsv\n",
      "\tCutting null elements in client kilo df\n",
      "\tfilename:  seed#75_kiloLOG_server.tsv\n",
      "\tCutting null elements in client kilo df\n",
      "\tfilename:  seed#76_kiloLOG_server.tsv\n",
      "\tCutting null elements in client kilo df\n",
      "\tfilename:  seed#77_kiloLOG_server.tsv\n",
      "\tCutting null elements in client kilo df\n",
      "\tfilename:  seed#78_kiloLOG_server.tsv\n",
      "\tCutting null elements in client kilo df\n",
      "\tfilename:  seed#79_kiloLOG_server.tsv\n",
      "\tCutting null elements in client kilo df\n",
      "\tfilename:  seed#80_kiloLOG_server.tsv\n",
      "\tCutting null elements in client kilo df\n",
      "\tfilename:  seed#81_kiloLOG_server.tsv\n",
      "\tCutting null elements in client kilo df\n",
      "\tfilename:  seed#82_kiloLOG_server.tsv\n",
      "\tCutting null elements in client kilo df\n",
      "\tfilename:  seed#83_kiloLOG_server.tsv\n",
      "\tCutting null elements in client kilo df\n",
      "\tfilename:  seed#84_kiloLOG_server.tsv\n",
      "\tCutting null elements in client kilo df\n",
      "\tfilename:  seed#85_kiloLOG_server.tsv\n",
      "\tCutting null elements in client kilo df\n",
      "\tfilename:  seed#86_kiloLOG_server.tsv\n",
      "\tCutting null elements in client kilo df\n",
      "\tfilename:  seed#87_kiloLOG_server.tsv\n",
      "\tCutting null elements in client kilo df\n",
      "\tfilename:  seed#88_kiloLOG_server.tsv\n",
      "\tCutting null elements in client kilo df\n",
      "\tfilename:  seed#89_kiloLOG_server.tsv\n",
      "\tCutting null elements in client kilo df\n",
      "\tfilename:  seed#90_kiloLOG_server.tsv\n",
      "\tCutting null elements in client kilo df\n",
      "\tfilename:  seed#91_kiloLOG_server.tsv\n",
      "\tCutting null elements in client kilo df\n",
      "\tfilename:  seed#92_kiloLOG_server.tsv\n",
      "\tCutting null elements in client kilo df\n",
      "\tfilename:  seed#93_kiloLOG_server.tsv\n",
      "\tCutting null elements in client kilo df\n",
      "\tfilename:  seed#94_kiloLOG_server.tsv\n",
      "\tCutting null elements in client kilo df\n",
      "\tfilename:  seed#95_kiloLOG_server.tsv\n",
      "\tCutting null elements in client kilo df\n",
      "\tfilename:  seed#96_kiloLOG_server.tsv\n",
      "\tCutting null elements in client kilo df\n",
      "\tfilename:  seed#97_kiloLOG_server.tsv\n",
      "\tCutting null elements in client kilo df\n",
      "\tfilename:  seed#98_kiloLOG_server.tsv\n",
      "\tCutting null elements in client kilo df\n",
      "\tfilename:  seed#99_kiloLOG_server.tsv\n",
      "\tCutting null elements in client kilo df\n",
      "\tfilename:  seed#100_kiloLOG_server.tsv\n",
      "\tCutting null elements in client kilo df\n"
     ]
    }
   ],
   "source": [
    "committed_south_count = np.zeros((experiment_time+1, num_robot+1))\n",
    "\n",
    "print(colored(\"Main folder:\", 'blue'),results_folder)\n",
    "for filename in natsorted(os.listdir(results_folder)):\n",
    "#     print('\\t filename: ', filename)\n",
    "    seed = filename.split(\"_\")[0]\n",
    "#     if seed == 'seed#2':\n",
    "#         print(seed.split(\"#\")[-1])\n",
    "#         break\n",
    "\n",
    "    if filename.endswith(\"kiloLOG_server.tsv\"):\n",
    "        if not os.path.getsize(os.path.join(results_folder, filename)) > 0:\n",
    "            print(colored(\"\\tWARNING, empty file at:\" + filename, 'red'))\n",
    "            continue\n",
    "        print('\\tfilename: ', filename)\n",
    "        df_kilo_server = pd.read_csv(os.path.join(results_folder, filename), sep=\"\\t\",\n",
    "                                     header=None)\n",
    "        \n",
    "        if len(df_kilo_server.columns)==102:\n",
    "            print(\"\\tCutting null elements in client kilo df\")\n",
    "            df_kilo_server.drop(df_kilo_server.columns[len(df_kilo_server.columns) - 1], axis=1, inplace=True)\n",
    "\n",
    "        col_kilo_labels = ['time']\n",
    "        for i in range(0, len(df_kilo_server.columns) - 1, fieldsPerKilobot):\n",
    "            col_kilo_labels += ['id' + str(i // fieldsPerKilobot), 'posx' + str(i // fieldsPerKilobot), 'posy' + str(i // fieldsPerKilobot), 'ori' + str(i // fieldsPerKilobot), 'state' + str(i // fieldsPerKilobot)]\n",
    "\n",
    "        df_kilo_server.columns = col_kilo_labels\n",
    "\n",
    "        for row_idx,row_val in enumerate(df_kilo_server[kilo_state_label].values):\n",
    "    #         print(row_idx, row_val)\n",
    "            committed_south_count[row_idx, np.count_nonzero(row_val == 2)] += 1"
   ]
  },
  {
   "cell_type": "code",
   "execution_count": 24,
   "metadata": {},
   "outputs": [],
   "source": [
    "# committed_south_count"
   ]
  },
  {
   "cell_type": "code",
   "execution_count": 25,
   "metadata": {},
   "outputs": [
    {
     "data": {
      "text/plain": [
       "([<matplotlib.axis.XTick at 0x7f2baba802e8>,\n",
       "  <matplotlib.axis.XTick at 0x7f2baba806d8>,\n",
       "  <matplotlib.axis.XTick at 0x7f2baba80dd8>,\n",
       "  <matplotlib.axis.XTick at 0x7f2bab99f5f8>,\n",
       "  <matplotlib.axis.XTick at 0x7f2bab9b17b8>,\n",
       "  <matplotlib.axis.XTick at 0x7f2bab9b1b70>,\n",
       "  <matplotlib.axis.XTick at 0x7f2bab9b90b8>,\n",
       "  <matplotlib.axis.XTick at 0x7f2bab9b94e0>,\n",
       "  <matplotlib.axis.XTick at 0x7f2bab9b9978>,\n",
       "  <matplotlib.axis.XTick at 0x7f2bab9b9e10>,\n",
       "  <matplotlib.axis.XTick at 0x7f2bab9c12e8>,\n",
       "  <matplotlib.axis.XTick at 0x7f2bab9c1780>,\n",
       "  <matplotlib.axis.XTick at 0x7f2bab9b9ef0>,\n",
       "  <matplotlib.axis.XTick at 0x7f2bab9b19e8>,\n",
       "  <matplotlib.axis.XTick at 0x7f2bab9c1668>,\n",
       "  <matplotlib.axis.XTick at 0x7f2bab9c1da0>,\n",
       "  <matplotlib.axis.XTick at 0x7f2bab9cb278>,\n",
       "  <matplotlib.axis.XTick at 0x7f2bab9cb710>,\n",
       "  <matplotlib.axis.XTick at 0x7f2bab9cbba8>,\n",
       "  <matplotlib.axis.XTick at 0x7f2bab9d40f0>,\n",
       "  <matplotlib.axis.XTick at 0x7f2bab9d4518>,\n",
       "  <matplotlib.axis.XTick at 0x7f2bab9d49b0>,\n",
       "  <matplotlib.axis.XTick at 0x7f2bab9cb668>,\n",
       "  <matplotlib.axis.XTick at 0x7f2bab9c1160>,\n",
       "  <matplotlib.axis.XTick at 0x7f2bab9d4b70>,\n",
       "  <matplotlib.axis.XTick at 0x7f2bab9d4828>,\n",
       "  <matplotlib.axis.XTick at 0x7f2bab95e4a8>,\n",
       "  <matplotlib.axis.XTick at 0x7f2bab95e940>,\n",
       "  <matplotlib.axis.XTick at 0x7f2bab95edd8>,\n",
       "  <matplotlib.axis.XTick at 0x7f2bab9652b0>,\n",
       "  <matplotlib.axis.XTick at 0x7f2bab965748>,\n",
       "  <matplotlib.axis.XTick at 0x7f2bab965be0>,\n",
       "  <matplotlib.axis.XTick at 0x7f2bab965ba8>,\n",
       "  <matplotlib.axis.XTick at 0x7f2bab95ed30>,\n",
       "  <matplotlib.axis.XTick at 0x7f2bab9cb6d8>,\n",
       "  <matplotlib.axis.XTick at 0x7f2bab9c1b70>,\n",
       "  <matplotlib.axis.XTick at 0x7f2bab96d358>,\n",
       "  <matplotlib.axis.XTick at 0x7f2bab96d7f0>,\n",
       "  <matplotlib.axis.XTick at 0x7f2bab96dc88>,\n",
       "  <matplotlib.axis.XTick at 0x7f2bab977198>,\n",
       "  <matplotlib.axis.XTick at 0x7f2bab9775f8>,\n",
       "  <matplotlib.axis.XTick at 0x7f2bab977a90>,\n",
       "  <matplotlib.axis.XTick at 0x7f2bae6a4668>,\n",
       "  <matplotlib.axis.XTick at 0x7f2bac6562b0>,\n",
       "  <matplotlib.axis.XTick at 0x7f2bac661710>,\n",
       "  <matplotlib.axis.XTick at 0x7f2bac66dc50>],\n",
       " <a list of 46 Text major ticklabel objects>)"
      ]
     },
     "execution_count": 25,
     "metadata": {},
     "output_type": "execute_result"
    },
    {
     "data": {
      "image/png": "[encoded data removed]",
      "text/plain": [
       "<Figure size 1200x400 with 2 Axes>"
      ]
     },
     "metadata": {
      "needs_background": "light"
     },
     "output_type": "display_data"
    }
   ],
   "source": [
    "hist_val = np.array([])\n",
    "# for x in committed_south_count:\n",
    "# #     print(x.size)\n",
    "#     hist,_= np.histogram(x,bin_edges)\n",
    "#     hist_val = np.vstack([hist_val, hist]) if hist_val.size else hist\n",
    "\n",
    "\n",
    "values = committed_south_count.T\n",
    "y_edges = bin_edges.round(decimals=2)\n",
    "\n",
    "fig = plt.figure(figsize=(15, 5), dpi=80)\n",
    "# plt.xlabel('time(s)')\n",
    "yticks = y_edges\n",
    "\n",
    "\n",
    "\n",
    "# print(\"\\t v_max:\", v_max)\n",
    "ax = sns.heatmap(values, yticklabels=yticks, xticklabels=np.arange(values.shape[1], step=20), cmap=\"viridis\", vmin=0)\n",
    "ax.set_title(\"Robots committed for south region\")\n",
    "ax.set_xlabel('time(s)')\n",
    "plt.ylabel('y-position')\n",
    "plt.yticks(np.arange(yticks.size), yticks)\n",
    "plt.xticks(np.arange(values.shape[1], step=20))\n",
    "# plt.savefig(\"commit_south_count_different_resource_numbers.png\")\n",
    "# plt.savefig(\"commit_south_count_equal_resource_numbers.png\")\n",
    "# plt.show()"
   ]
  },
  {
   "cell_type": "code",
   "execution_count": null,
   "metadata": {},
   "outputs": [],
   "source": []
  },
  {
   "cell_type": "code",
   "execution_count": null,
   "metadata": {},
   "outputs": [],
   "source": []
  }
 ],
 "metadata": {
  "kernelspec": {
   "display_name": "Python 3",
   "language": "python",
   "name": "python3"
  },
  "language_info": {
   "codemirror_mode": {
    "name": "ipython",
    "version": 3
   },
   "file_extension": ".py",
   "mimetype": "text/x-python",
   "name": "python",
   "nbconvert_exporter": "python",
   "pygments_lexer": "ipython3",
   "version": "3.6.9"
  }
 },
 "nbformat": 4,
 "nbformat_minor": 4
}
