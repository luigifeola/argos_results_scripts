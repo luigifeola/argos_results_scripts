{
 "cells": [
  {
   "cell_type": "code",
   "execution_count": 1,
   "metadata": {},
   "outputs": [
    {
     "data": {
      "text/html": [
       "<style>.container { width:80% !important; }</style>"
      ],
      "text/plain": [
       "<IPython.core.display.HTML object>"
      ]
     },
     "metadata": {},
     "output_type": "display_data"
    }
   ],
   "source": [
    "from IPython.core.display import display, HTML\n",
    "display(HTML(\"<style>.container { width:80% !important; }</style>\"))"
   ]
  },
  {
   "cell_type": "code",
   "execution_count": 2,
   "metadata": {},
   "outputs": [],
   "source": [
    "import matplotlib.pyplot as plt\n",
    "import numpy as np\n",
    "import csv\n",
    "import sys\n",
    "import os\n",
    "from scipy import stats\n",
    "import math\n",
    "from scipy.optimize import curve_fit\n",
    "from scipy.stats import norm\n",
    "import seaborn as sns\n",
    "import pandas as pd\n",
    "from matplotlib.ticker import (MultipleLocator, FormatStrFormatter,\n",
    "                               AutoMinorLocator)\n",
    "\n",
    "import powerlaw\n",
    "from natsort import natsorted"
   ]
  },
  {
   "cell_type": "code",
   "execution_count": 3,
   "metadata": {},
   "outputs": [],
   "source": [
    "import sys\n",
    "np.set_printoptions(threshold=sys.maxsize)"
   ]
  },
  {
   "cell_type": "code",
   "execution_count": 4,
   "metadata": {},
   "outputs": [],
   "source": [
    "def load_pd_positions(dirPath, experiment_type):\n",
    "    if experiment_type != \"experiment\" and experiment_type != \"baseline\":\n",
    "        print(\"experiment_type could be only $experiment or $baseline\")\n",
    "        exit(-1)\n",
    "\n",
    "    num_experiment = len([name for name in os.listdir(dirPath) if\n",
    "                          (os.path.isfile(os.path.join(dirPath, name)) and (name.endswith('position.tsv')))])\n",
    "\n",
    "    if os.path.exists(dirPath + \"/\" + experiment_type + \".pkl\"):\n",
    "        return num_experiment, pd.read_pickle(dirPath + \"/\" + experiment_type + \".pkl\")\n",
    "    # else:\n",
    "    #     print(\"Baseline:\"+dirPath+\" not an existing path\")\n",
    "    #     exit(-1)\n",
    "\n",
    "    print(\"Generating pickle positions file in \" + dirPath + \"/\" + experiment_type + \".pkl\")\n",
    "    df = pd.DataFrame()\n",
    "    for filename in os.listdir(dirPath):\n",
    "        if filename.endswith('position.tsv'):\n",
    "            if not os.path.getsize(os.path.join(dirPath, filename)) > 0:\n",
    "                print(\"Error, empty file at:\" + os.path.join(dirPath, filename))\n",
    "                continue\n",
    "            df_single = pd.read_csv(dirPath + \"/\" + filename, sep=\"\\t\")\n",
    "            df = df.append(df_single)\n",
    "\n",
    "    df.to_pickle(dirPath + \"/\" + experiment_type + \".pkl\")\n",
    "    return num_experiment, df"
   ]
  },
  {
   "cell_type": "code",
   "execution_count": 5,
   "metadata": {},
   "outputs": [],
   "source": [
    "def distance_from_the_origin(positions):\n",
    "    distances = np.array([])\n",
    "    # df_values1 = df_values[:3,:4]\n",
    "    for i in range(positions.shape[1]):\n",
    "        #     print(i)\n",
    "        x_pos = positions[:, i, 0]\n",
    "        y_pos = positions[:, i, 1]\n",
    "        distances = np.vstack([distances, np.sqrt(x_pos ** 2 + y_pos ** 2)]) if distances.size else np.sqrt(\n",
    "            x_pos ** 2 + y_pos ** 2)\n",
    "    # print(distances)\n",
    "    # print(\"distances shape\", distances.shape)\n",
    "    return distances\n",
    "        "
   ]
  },
  {
   "cell_type": "code",
   "execution_count": null,
   "metadata": {},
   "outputs": [],
   "source": []
  },
  {
   "cell_type": "code",
   "execution_count": null,
   "metadata": {},
   "outputs": [],
   "source": [
    "df_experiment"
   ]
  },
  {
   "cell_type": "code",
   "execution_count": null,
   "metadata": {},
   "outputs": [],
   "source": [
    "# for i in positions_concatenated:\n",
    "#     print(i, end='\\n\\n\\n')"
   ]
  },
  {
   "cell_type": "code",
   "execution_count": 6,
   "metadata": {
    "scrolled": false
   },
   "outputs": [],
   "source": [
    "def get_connections(positions):\n",
    "    connection_number_history = np.zeros((positions.shape[0],positions.shape[1]))\n",
    "    for index,pos_t in enumerate(positions.transpose(1, 0, 2)):\n",
    "        connection_number = np.zeros(positions.shape[0])\n",
    "    #     print(c.shape)\n",
    "        for idx, elem in enumerate(pos_t):\n",
    "    #         print('\\t',elem)\n",
    "            robot_distance = np.sqrt(np.sum((pos_t-elem)**2, axis=1))\n",
    "    #         print(robot_distance, end='\\n\\n\\n')\n",
    "            connection_number[idx] = robot_distance[np.where(robot_distance <= 0.1)].size - 1\n",
    "        connection_number_history[:,index] = connection_number\n",
    "    return connection_number_history"
   ]
  },
  {
   "cell_type": "code",
   "execution_count": 7,
   "metadata": {},
   "outputs": [],
   "source": [
    "def get_mean_connection_number_history(folder):\n",
    "    [number_of_experiments, df_experiment] = load_pd_positions(folder, \"experiment\")\n",
    "\n",
    "    positions_concatenated = df_experiment.values[:,1:] #10 robots, 4 time_step\n",
    "    [num_robot, num_times] = positions_concatenated.shape\n",
    "    positions_concatenated = np.array([x.split(',') for x in positions_concatenated.ravel()],dtype=float)\n",
    "    positions_concatenated = positions_concatenated.reshape(num_robot,num_times,2)\n",
    "\n",
    "    position_concatenated_split = np.split(positions_concatenated, 50)\n",
    "\n",
    "    connection_number_history = np.array([])\n",
    "    for single_run in position_concatenated_split:\n",
    "        connection_number_history = np.vstack((connection_number_history, get_connections(single_run))) if connection_number_history.size else get_connections(single_run)\n",
    "        \n",
    "    return np.mean(connection_number_history, axis=0)"
   ]
  },
  {
   "cell_type": "code",
   "execution_count": null,
   "metadata": {},
   "outputs": [],
   "source": [
    "# print(positions_concatenated.shape)"
   ]
  },
  {
   "cell_type": "code",
   "execution_count": null,
   "metadata": {
    "scrolled": false
   },
   "outputs": [],
   "source": [
    "# print(len(position_concatenated_split[0][0]))"
   ]
  },
  {
   "cell_type": "code",
   "execution_count": null,
   "metadata": {},
   "outputs": [],
   "source": [
    "# print(connection_number_history.shape)"
   ]
  },
  {
   "cell_type": "code",
   "execution_count": null,
   "metadata": {
    "scrolled": true
   },
   "outputs": [],
   "source": [
    "folder_experiments = \"/home/luigi/Documents/ARGoS/argos_results_scripts/test/bouncing_angle_50\"\n",
    "dir_list = os.listdir(folder_experiments)\n",
    "# dir_list.sort()\n",
    "print(dir_list)"
   ]
  },
  {
   "cell_type": "code",
   "execution_count": null,
   "metadata": {},
   "outputs": [],
   "source": [
    "for dirName in natsorted(os.listdir(folder_experiments)):\n",
    "    \n",
    "    print(os.path.join(folder_experiments,dirName))"
   ]
  },
  {
   "cell_type": "code",
   "execution_count": null,
   "metadata": {
    "scrolled": false
   },
   "outputs": [],
   "source": [
    "# folder_experiments = \"/home/luigi/Documents/ARGoS/argos_results_scripts/test/bouncing_angle_50\"\n",
    "\n",
    "# n_robots = [10, 20, 50, 100]\n",
    "\n",
    "\n",
    "# Ncolors = len(n_robots)+1\n",
    "# colormap = plt.cm.viridis  # LinearSegmentedColormap\n",
    "# Ncolors = min(colormap.N, Ncolors)\n",
    "# mapcolors = [colormap(int(x * colormap.N / Ncolors)) for x in range(Ncolors)]\n",
    "\n",
    "\n",
    "# runs = 50\n",
    "# alpha_array = [1.2, 1.6, 2.0]\n",
    "# rho_array = [0.0, 0.3, 0.6, 0.9]\n",
    "\n",
    "\n",
    "# for a in alpha_array:\n",
    "#     for r in rho_array:\n",
    "# #         print(\"a\",a,\"r\",r)\n",
    "#         robot_array = []\n",
    "#         fig = plt.figure(figsize=(20, 10), dpi=80)\n",
    "        \n",
    "        \n",
    "        \n",
    "#         for dirName, subdirList, fileList in os.walk(folder_experiments):\n",
    "#             num_robots = \"-1\"\n",
    "#             elements = dirName.split(\"_\")\n",
    "#             for e in elements:\n",
    "#                 if e.startswith(\"robots\"):\n",
    "#                     num_robots = e.split(\"#\")[-1]\n",
    "#                 if (e.startswith(\"rho\")):\n",
    "#                     rho = float(e.split(\"#\")[-1])\n",
    "#                 if (e.startswith(\"alpha\")):\n",
    "#                     alpha = float(e.split(\"#\")[-1])\n",
    "\n",
    "#             #         print(num_robots+' '+str(rho)+' '+str(alpha))\n",
    "# #             print(alpha, rho)\n",
    "#             if (num_robots == \"-1\" or rho != r or alpha != a):\n",
    "#                 continue\n",
    "#             else:\n",
    "# #                 print(dirName)\n",
    "                \n",
    "#                 robot_array += [int(num_robots)]\n",
    "#                 print(num_robots, int(num_robots))\n",
    "#                 runs = len([f for f in fileList if f.endswith('position.tsv')])\n",
    "#         #         print(runs)\n",
    "\n",
    "#             rho_str = str(rho)\n",
    "#             alpha_str = str(alpha)\n",
    "            \n",
    "#             [_, df_experiment] = load_pd_positions(dirName, \"experiment\")\n",
    "\n",
    "#             positions_concatenated = df_experiment.values[:,1:]\n",
    "#             [num_robot, num_times] = positions_concatenated.shape\n",
    "#             positions_concatenated = np.array([x.split(',') for x in positions_concatenated.ravel()],dtype=float)\n",
    "#             positions_concatenated = positions_concatenated.reshape(num_robot,num_times,2)\n",
    "\n",
    "#             position_concatenated_split = np.split(positions_concatenated, runs)\n",
    "\n",
    "#             connection_number_history = np.array([])\n",
    "#             for single_run in position_concatenated_split:\n",
    "#                 connection_number_history = np.vstack((connection_number_history, get_connections(single_run))) if connection_number_history.size else get_connections(single_run)\n",
    "\n",
    "#             connection_number_history_mean = np.mean(connection_number_history, axis=0)\n",
    "# #             print(num_times)\n",
    "# #             print(connection_number_history_mean.shape)\n",
    "#             print(len(robot_array))\n",
    "#             plt.plot(np.arange(num_times), connection_number_history_mean, linewidth=2, label=num_robots, color=mapcolors[len(robot_array)])\n",
    "           \n",
    "#         plt.title(\"Average connection with \" + r\" $\\bf{\\rho}:$\" + rho_str + \" and \" + r\"$\\bf{\\alpha}:$\" + alpha_str)\n",
    "#         plt.ylabel('mean connection link')\n",
    "#         plt.xlabel('time')\n",
    "#         #     plt.legend(loc='lower right')\n",
    "#         plt.yticks(np.arange(0, 9, 0.5))\n",
    "#         #     plt.grid(which='minor')\n",
    "#         plt.grid()\n",
    "#         plt.legend()\n",
    "#         file_name = \"average_connection_plot_robots_%s_rho_%s_alpha_%s.png\" % (num_robots, rho_str, alpha_str)\n",
    "#         plt.savefig(\"connection_plot/\"+file_name)\n",
    "#         plt.close(fig)\n",
    "# #         plt.show()"
   ]
  },
  {
   "cell_type": "code",
   "execution_count": 21,
   "metadata": {},
   "outputs": [],
   "source": [
    "folder_experiments = \"/home/luigi/Documents/ARGoS/argos_results_scripts/test/bouncing_angle_50\"\n",
    "\n",
    "for dirName in natsorted(os.listdir(folder_experiments)):\n",
    "    dirPath = os.path.join(folder_experiments,dirName)\n",
    "#     os.path.isfile(os.path.join(DIR, name))\n",
    "    \n",
    "#     for file in os.listdir(os.path.join(folder_experiments,dirName)):\n",
    "#     print(dirPath)\n",
    "    \n",
    "    runs = len([f for f in os.listdir(dirPath) if (os.path.isfile(os.path.join(dirPath, f)) and f.endswith('position.tsv'))])\n",
    "#     print(runs)"
   ]
  },
  {
   "cell_type": "markdown",
   "metadata": {},
   "source": [
    "# Average connection plots among different population sizes"
   ]
  },
  {
   "cell_type": "code",
   "execution_count": 22,
   "metadata": {},
   "outputs": [],
   "source": [
    "folder_experiments = \"/home/luigi/Documents/ARGoS/argos_results_scripts/test/bouncing_angle_50\"\n",
    "\n",
    "n_robots = [10, 20, 50, 100]\n",
    "\n",
    "\n",
    "Ncolors = len(n_robots)+1\n",
    "colormap = plt.cm.viridis  # LinearSegmentedColormap\n",
    "Ncolors = min(colormap.N, Ncolors)\n",
    "mapcolors = [colormap(int(x * colormap.N / Ncolors)) for x in range(Ncolors)]\n",
    "\n",
    "\n",
    "alpha_array = [1.2, 1.6, 2.0]\n",
    "rho_array = [0.0, 0.3, 0.6, 0.9]\n",
    "\n",
    "\n",
    "for a in alpha_array:\n",
    "    for r in rho_array:\n",
    "#         print(\"a\",a,\"r\",r)\n",
    "        robot_array = []\n",
    "        fig = plt.figure(figsize=(20, 10), dpi=80)\n",
    "        \n",
    "        \n",
    "        \n",
    "#         for dirName, subdirList, fileList in os.walk(folder_experiments):\n",
    "        for dirName in natsorted(os.listdir(folder_experiments)):\n",
    "            dirPath = os.path.join(folder_experiments,dirName)\n",
    "            \n",
    "            num_robots = \"-1\"\n",
    "            elements = dirName.split(\"_\")\n",
    "            for e in elements:\n",
    "                if e.startswith(\"robots\"):\n",
    "                    num_robots = e.split(\"#\")[-1]\n",
    "                if (e.startswith(\"rho\")):\n",
    "                    rho = float(e.split(\"#\")[-1])\n",
    "                if (e.startswith(\"alpha\")):\n",
    "                    alpha = float(e.split(\"#\")[-1])\n",
    "\n",
    "            #         print(num_robots+' '+str(rho)+' '+str(alpha))\n",
    "#             print(alpha, rho)\n",
    "            if (num_robots == \"-1\" or rho != r or alpha != a):\n",
    "                continue\n",
    "            else:\n",
    "#                 print(dirName)\n",
    "                \n",
    "                robot_array += [int(num_robots)]\n",
    "#                 print(num_robots, int(num_robots))\n",
    "                runs = len([f for f in os.listdir(dirPath) if (os.path.isfile(os.path.join(dirPath, f)) and f.endswith('position.tsv'))])\n",
    "        #         print(runs)\n",
    "\n",
    "            rho_str = str(rho)\n",
    "            alpha_str = str(alpha)\n",
    "            \n",
    "            [_, df_experiment] = load_pd_positions(dirPath, \"experiment\")\n",
    "\n",
    "            positions_concatenated = df_experiment.values[:,1:]\n",
    "            [num_robot, num_times] = positions_concatenated.shape\n",
    "            positions_concatenated = np.array([x.split(',') for x in positions_concatenated.ravel()],dtype=float)\n",
    "            positions_concatenated = positions_concatenated.reshape(num_robot,num_times,2)\n",
    "\n",
    "            position_concatenated_split = np.split(positions_concatenated, runs)\n",
    "\n",
    "            connection_number_history = np.array([])\n",
    "            for single_run in position_concatenated_split:\n",
    "                connection_number_history = np.vstack((connection_number_history, get_connections(single_run))) if connection_number_history.size else get_connections(single_run)\n",
    "\n",
    "            connection_number_history_mean = np.mean(connection_number_history, axis=0)\n",
    "#             print(num_times)\n",
    "#             print(connection_number_history_mean.shape)\n",
    "#             print(len(robot_array))\n",
    "            plt.plot(np.arange(num_times), connection_number_history_mean, linewidth=2, label=num_robots, color=mapcolors[len(robot_array)])\n",
    "           \n",
    "        \n",
    "        plt.title(\"Average connection with \" + r\" $\\bf{\\rho}:$\" + rho_str + \" and \" + r\"$\\bf{\\alpha}:$\" + alpha_str)\n",
    "        plt.ylabel('mean connection link')\n",
    "        plt.xlabel('time')\n",
    "        #     plt.legend(loc='lower right')\n",
    "        plt.yticks(np.arange(0, 9, 0.5))\n",
    "        #     plt.grid(which='minor')\n",
    "        plt.grid()\n",
    "        plt.legend(loc=2)#, bbox_to_anchor=(0.95, 0.5))\n",
    "        file_name = \"average_connection_plot_robots_%s_rho_%s_alpha_%s.png\" % (num_robots, rho_str, alpha_str)\n",
    "        plt.savefig(\"connection_plot/\"+file_name)\n",
    "        plt.close(fig)\n",
    "#         plt.show()"
   ]
  },
  {
   "cell_type": "code",
   "execution_count": null,
   "metadata": {},
   "outputs": [],
   "source": [
    "# # mean_grad = np.mean(connection_number_history, axis=0)\n",
    "# n_robots = [10, 20, 50, 100]\n",
    "# fig = plt.figure(figsize=(20, 10), dpi=80)\n",
    "\n",
    "\n",
    "# Ncolors = len(n_robots)\n",
    "# colormap = plt.cm.viridis  # LinearSegmentedColormap\n",
    "# Ncolors = min(colormap.N, Ncolors)\n",
    "# mapcolors = [colormap(int(x * colormap.N / Ncolors)) for x in range(Ncolors)]\n",
    "\n",
    "\n",
    "# for i,n_r in enumerate(n_robots):\n",
    "#     folder = \"/home/luigi/Documents/ARGoS/argos_results_scripts/test/\"+str(n_r)\n",
    "# #     connection_number_history_experiment.append(get_mean_connection_number_history(folder))\n",
    "#     plt.plot(times, get_mean_connection_number_history(folder), linewidth=2, label=str(n_r), color=mapcolors[i])\n",
    "\n",
    "# plt.title(\"Mean connection link\")\n",
    "# plt.ylabel('mean connection link')\n",
    "# plt.xlabel('time')\n",
    "# #     plt.legend(loc='lower right')\n",
    "# plt.yticks(np.arange(0, 7, 0.5))\n",
    "# #     plt.grid(which='minor')\n",
    "# plt.grid()\n",
    "# plt.legend()\n",
    "# plt.show()\n",
    "\n",
    "\n",
    "# # folder_20 = \"/home/luigi/Documents/ARGoS/argos_results_scripts/test/20\"\n",
    "# # connection_number_history_experiment.append(get_mean_connection_number_history(folder_20))\n",
    "# # folder_50 = \"/home/luigi/Documents/ARGoS/argos_results_scripts/test/50\"\n",
    "# # connection_number_history_experiment.append(get_mean_connection_number_history(folder_50))\n",
    "# # folder_100 = \"/home/luigi/Documents/ARGoS/argos_results_scripts/test/100\"\n",
    "# # connection_number_history_experiment.append(get_mean_connection_number_history(folder_100))\n",
    "# # times = np.arange(mean_grad.size)\n"
   ]
  },
  {
   "cell_type": "code",
   "execution_count": null,
   "metadata": {},
   "outputs": [],
   "source": []
  },
  {
   "cell_type": "markdown",
   "metadata": {},
   "source": [
    "Qui hai le **posizioni**"
   ]
  },
  {
   "cell_type": "code",
   "execution_count": null,
   "metadata": {},
   "outputs": [],
   "source": [
    "folder = \"/home/luigi/Documents/ARGoS/argos_results_scripts/test/100\"\n",
    "[number_of_experiments, df_experiment] = load_pd_positions(folder, \"experiment\")\n",
    "\n",
    "positions_concatenated = df_experiment.values[:,1:] #10 robots, 4 time_step\n",
    "[num_robot, num_times] = positions_concatenated.shape\n",
    "positions_concatenated = np.array([x.split(',') for x in positions_concatenated.ravel()],dtype=float)\n",
    "positions_concatenated = positions_concatenated.reshape(num_robot,num_times,2)\n",
    "\n",
    "position_concatenated_split = np.split(positions_concatenated, 50)\n",
    "\n",
    "print(positions_concatenated.shape)"
   ]
  },
  {
   "cell_type": "markdown",
   "metadata": {},
   "source": [
    "Qui hai il **numero di connessioni**"
   ]
  },
  {
   "cell_type": "code",
   "execution_count": null,
   "metadata": {
    "scrolled": true
   },
   "outputs": [],
   "source": [
    "connection_number_history = np.array([])\n",
    "for single_run in position_concatenated_split:\n",
    "    connection_number_history = np.vstack((connection_number_history, get_connections(single_run))) if connection_number_history.size else get_connections(single_run)\n",
    "    \n",
    "print(connection_number_history.shape)"
   ]
  },
  {
   "cell_type": "markdown",
   "metadata": {},
   "source": [
    "Qui hai  le **distanze** dallorigine"
   ]
  },
  {
   "cell_type": "code",
   "execution_count": null,
   "metadata": {},
   "outputs": [],
   "source": [
    "# distance_from_the_origin(position_concatenated_split[0])"
   ]
  },
  {
   "cell_type": "code",
   "execution_count": null,
   "metadata": {},
   "outputs": [],
   "source": [
    "distance_0 = distance_from_the_origin(positions_concatenated).T\n",
    "# print(distance_0.min())"
   ]
  },
  {
   "cell_type": "code",
   "execution_count": null,
   "metadata": {
    "scrolled": true
   },
   "outputs": [],
   "source": [
    "bin_edges = np.linspace(0, 0.45, 20)\n",
    "print(bin_edges)"
   ]
  },
  {
   "cell_type": "code",
   "execution_count": null,
   "metadata": {
    "scrolled": false
   },
   "outputs": [],
   "source": [
    "connection_t0 = np.ones((bin_edges.size-1, distance_0.shape[1])) * -1\n",
    "\n",
    "for idx,distance_t in enumerate(distance_0.T):\n",
    "#     print(distance_t)\n",
    "    for edge_idx in range(bin_edges.size-1):\n",
    "#         print(bin_edges[edge_idx],bin_edges[edge_idx+1])\n",
    "#         print(\"\\t\",edge_idx)\n",
    "        where_index = np.where(np.logical_and(distance_t>= bin_edges[edge_idx], distance_t< bin_edges[edge_idx+1]))\n",
    "        connection_t0[edge_idx,idx] = np.mean(connection_number_history[where_index])"
   ]
  },
  {
   "cell_type": "code",
   "execution_count": null,
   "metadata": {
    "scrolled": true
   },
   "outputs": [],
   "source": [
    "# print(connection_t0.shape)\n",
    "# print(connection_t0)"
   ]
  },
  {
   "cell_type": "code",
   "execution_count": null,
   "metadata": {},
   "outputs": [],
   "source": [
    "\n",
    "print(bin_edges)"
   ]
  },
  {
   "cell_type": "code",
   "execution_count": null,
   "metadata": {},
   "outputs": [],
   "source": [
    "print(np.mean(connection_number_history[where_index]))"
   ]
  },
  {
   "cell_type": "code",
   "execution_count": null,
   "metadata": {},
   "outputs": [],
   "source": [
    "prova = np.empty(3)"
   ]
  },
  {
   "cell_type": "code",
   "execution_count": null,
   "metadata": {},
   "outputs": [],
   "source": [
    "prova"
   ]
  },
  {
   "cell_type": "code",
   "execution_count": null,
   "metadata": {},
   "outputs": [],
   "source": []
  },
  {
   "cell_type": "code",
   "execution_count": null,
   "metadata": {},
   "outputs": [],
   "source": []
  },
  {
   "cell_type": "code",
   "execution_count": null,
   "metadata": {},
   "outputs": [],
   "source": [
    "hist, bins = np.histogram(distance_0, bin_edges)"
   ]
  },
  {
   "cell_type": "code",
   "execution_count": null,
   "metadata": {},
   "outputs": [],
   "source": [
    "hist"
   ]
  },
  {
   "cell_type": "code",
   "execution_count": null,
   "metadata": {},
   "outputs": [],
   "source": [
    "bins"
   ]
  },
  {
   "cell_type": "code",
   "execution_count": null,
   "metadata": {},
   "outputs": [],
   "source": []
  },
  {
   "cell_type": "code",
   "execution_count": 23,
   "metadata": {},
   "outputs": [],
   "source": [
    "def connection_heatmap(edges, time_connections, alpha, rho, num_robots):\n",
    "    y_edges = edges[1:].round(decimals=3)\n",
    "    fig = plt.figure(figsize=(10, 5), dpi=160)\n",
    "#     plt.ylabel('distance from the origin')\n",
    "#     plt.xlabel('time(s)')\n",
    "#     plt.legend()\n",
    "    yticks = y_edges\n",
    "    ax = sns.heatmap(time_connections, yticklabels=yticks, cmap=\"viridis\")\n",
    "    ax.set_title(\n",
    "        \"Average connection from the origin with \" + r\"$\\bf{Robots}$:\" + num_robots + r\" $\\bf{\\rho}:$\" + rho + \" and \" + r\"$\\bf{\\alpha}:$\" + alpha)\n",
    "    file_name = \"average_connection_heatmap_robots_%s_rho_%s_alpha_%s.png\" % (num_robots, rho, alpha)\n",
    "    plt.savefig(\"connection_plot/\"+file_name)\n",
    "    plt.close(fig)\n",
    "#     ax.set_title('Average connection from the origin')\n",
    "#     plt.show()"
   ]
  },
  {
   "cell_type": "code",
   "execution_count": 24,
   "metadata": {},
   "outputs": [
    {
     "name": "stdout",
     "output_type": "stream",
     "text": [
      "/home/luigi/Documents/ARGoS/argos_results_scripts/test/bouncing_angle_50/2020-06-13_robots#20_alpha#1.6_rho#0.9_baseline_1800\n",
      "positions_concatenated.shape:  (1000, 181, 2)\n",
      "(1000, 181)\n"
     ]
    },
    {
     "name": "stderr",
     "output_type": "stream",
     "text": [
      "/home/luigi/.virtualenvs/argos/lib/python3.6/site-packages/numpy/core/fromnumeric.py:3335: RuntimeWarning: Mean of empty slice.\n",
      "  out=out, **kwargs)\n",
      "/home/luigi/.virtualenvs/argos/lib/python3.6/site-packages/numpy/core/_methods.py:161: RuntimeWarning: invalid value encountered in double_scalars\n",
      "  ret = ret.dtype.type(ret / rcount)\n"
     ]
    },
    {
     "name": "stdout",
     "output_type": "stream",
     "text": [
      "/home/luigi/Documents/ARGoS/argos_results_scripts/test/bouncing_angle_50/2020-06-13_robots#50_alpha#1.2_rho#0.6_baseline_1800\n",
      "positions_concatenated.shape:  (2500, 181, 2)\n",
      "(2500, 181)\n",
      "/home/luigi/Documents/ARGoS/argos_results_scripts/test/bouncing_angle_50/2020-06-13_robots#10_alpha#1.2_rho#0.9_baseline_1800\n",
      "positions_concatenated.shape:  (500, 181, 2)\n",
      "(500, 181)\n"
     ]
    },
    {
     "name": "stderr",
     "output_type": "stream",
     "text": [
      "/home/luigi/.virtualenvs/argos/lib/python3.6/site-packages/numpy/core/fromnumeric.py:3335: RuntimeWarning: Mean of empty slice.\n",
      "  out=out, **kwargs)\n",
      "/home/luigi/.virtualenvs/argos/lib/python3.6/site-packages/numpy/core/_methods.py:161: RuntimeWarning: invalid value encountered in double_scalars\n",
      "  ret = ret.dtype.type(ret / rcount)\n"
     ]
    },
    {
     "name": "stdout",
     "output_type": "stream",
     "text": [
      "/home/luigi/Documents/ARGoS/argos_results_scripts/test/bouncing_angle_50/2020-06-13_robots#100_alpha#1.6_rho#0.6_baseline_1800\n",
      "positions_concatenated.shape:  (5000, 181, 2)\n",
      "(5000, 181)\n",
      "/home/luigi/Documents/ARGoS/argos_results_scripts/test/bouncing_angle_50/2020-06-13_robots#10_alpha#2.0_rho#0.9_baseline_1800\n",
      "positions_concatenated.shape:  (500, 181, 2)\n",
      "(500, 181)\n"
     ]
    },
    {
     "name": "stderr",
     "output_type": "stream",
     "text": [
      "/home/luigi/.virtualenvs/argos/lib/python3.6/site-packages/numpy/core/fromnumeric.py:3335: RuntimeWarning: Mean of empty slice.\n",
      "  out=out, **kwargs)\n",
      "/home/luigi/.virtualenvs/argos/lib/python3.6/site-packages/numpy/core/_methods.py:161: RuntimeWarning: invalid value encountered in double_scalars\n",
      "  ret = ret.dtype.type(ret / rcount)\n"
     ]
    },
    {
     "name": "stdout",
     "output_type": "stream",
     "text": [
      "/home/luigi/Documents/ARGoS/argos_results_scripts/test/bouncing_angle_50/2020-06-13_robots#50_alpha#1.6_rho#0.9_baseline_1800\n",
      "positions_concatenated.shape:  (2500, 181, 2)\n",
      "(2500, 181)\n",
      "/home/luigi/Documents/ARGoS/argos_results_scripts/test/bouncing_angle_50/2020-06-13_robots#20_alpha#1.2_rho#0.9_baseline_1800\n",
      "positions_concatenated.shape:  (1000, 181, 2)\n",
      "(1000, 181)\n"
     ]
    },
    {
     "name": "stderr",
     "output_type": "stream",
     "text": [
      "/home/luigi/.virtualenvs/argos/lib/python3.6/site-packages/numpy/core/fromnumeric.py:3335: RuntimeWarning: Mean of empty slice.\n",
      "  out=out, **kwargs)\n",
      "/home/luigi/.virtualenvs/argos/lib/python3.6/site-packages/numpy/core/_methods.py:161: RuntimeWarning: invalid value encountered in double_scalars\n",
      "  ret = ret.dtype.type(ret / rcount)\n"
     ]
    },
    {
     "name": "stdout",
     "output_type": "stream",
     "text": [
      "/home/luigi/Documents/ARGoS/argos_results_scripts/test/bouncing_angle_50/2020-06-13_robots#100_alpha#1.6_rho#0.9_baseline_1800\n",
      "positions_concatenated.shape:  (5000, 181, 2)\n",
      "(5000, 181)\n",
      "/home/luigi/Documents/ARGoS/argos_results_scripts/test/bouncing_angle_50/2020-06-13_robots#50_alpha#2.0_rho#0.3_baseline_1800\n",
      "positions_concatenated.shape:  (2500, 181, 2)\n",
      "(2500, 181)\n",
      "/home/luigi/Documents/ARGoS/argos_results_scripts/test/bouncing_angle_50/2020-06-13_robots#10_alpha#2.0_rho#0.0_baseline_1800\n",
      "positions_concatenated.shape:  (500, 181, 2)\n",
      "(500, 181)\n"
     ]
    },
    {
     "name": "stderr",
     "output_type": "stream",
     "text": [
      "/home/luigi/.virtualenvs/argos/lib/python3.6/site-packages/numpy/core/fromnumeric.py:3335: RuntimeWarning: Mean of empty slice.\n",
      "  out=out, **kwargs)\n",
      "/home/luigi/.virtualenvs/argos/lib/python3.6/site-packages/numpy/core/_methods.py:161: RuntimeWarning: invalid value encountered in double_scalars\n",
      "  ret = ret.dtype.type(ret / rcount)\n"
     ]
    },
    {
     "name": "stdout",
     "output_type": "stream",
     "text": [
      "/home/luigi/Documents/ARGoS/argos_results_scripts/test/bouncing_angle_50/2020-06-13_robots#50_alpha#2.0_rho#0.0_baseline_1800\n",
      "positions_concatenated.shape:  (2500, 181, 2)\n",
      "(2500, 181)\n",
      "/home/luigi/Documents/ARGoS/argos_results_scripts/test/bouncing_angle_50/2020-06-13_robots#10_alpha#1.6_rho#0.3_baseline_1800\n",
      "positions_concatenated.shape:  (500, 181, 2)\n",
      "(500, 181)\n"
     ]
    },
    {
     "name": "stderr",
     "output_type": "stream",
     "text": [
      "/home/luigi/.virtualenvs/argos/lib/python3.6/site-packages/numpy/core/fromnumeric.py:3335: RuntimeWarning: Mean of empty slice.\n",
      "  out=out, **kwargs)\n",
      "/home/luigi/.virtualenvs/argos/lib/python3.6/site-packages/numpy/core/_methods.py:161: RuntimeWarning: invalid value encountered in double_scalars\n",
      "  ret = ret.dtype.type(ret / rcount)\n"
     ]
    },
    {
     "name": "stdout",
     "output_type": "stream",
     "text": [
      "/home/luigi/Documents/ARGoS/argos_results_scripts/test/bouncing_angle_50/2020-06-13_robots#100_alpha#1.2_rho#0.6_baseline_1800\n",
      "positions_concatenated.shape:  (5000, 181, 2)\n",
      "(5000, 181)\n",
      "/home/luigi/Documents/ARGoS/argos_results_scripts/test/bouncing_angle_50/2020-06-13_robots#10_alpha#2.0_rho#0.3_baseline_1800\n",
      "positions_concatenated.shape:  (500, 181, 2)\n",
      "(500, 181)\n"
     ]
    },
    {
     "name": "stderr",
     "output_type": "stream",
     "text": [
      "/home/luigi/.virtualenvs/argos/lib/python3.6/site-packages/numpy/core/fromnumeric.py:3335: RuntimeWarning: Mean of empty slice.\n",
      "  out=out, **kwargs)\n",
      "/home/luigi/.virtualenvs/argos/lib/python3.6/site-packages/numpy/core/_methods.py:161: RuntimeWarning: invalid value encountered in double_scalars\n",
      "  ret = ret.dtype.type(ret / rcount)\n"
     ]
    },
    {
     "name": "stdout",
     "output_type": "stream",
     "text": [
      "/home/luigi/Documents/ARGoS/argos_results_scripts/test/bouncing_angle_50/2020-06-13_robots#20_alpha#2.0_rho#0.6_baseline_1800\n",
      "positions_concatenated.shape:  (1000, 181, 2)\n",
      "(1000, 181)\n"
     ]
    },
    {
     "name": "stderr",
     "output_type": "stream",
     "text": [
      "/home/luigi/.virtualenvs/argos/lib/python3.6/site-packages/numpy/core/fromnumeric.py:3335: RuntimeWarning: Mean of empty slice.\n",
      "  out=out, **kwargs)\n",
      "/home/luigi/.virtualenvs/argos/lib/python3.6/site-packages/numpy/core/_methods.py:161: RuntimeWarning: invalid value encountered in double_scalars\n",
      "  ret = ret.dtype.type(ret / rcount)\n"
     ]
    },
    {
     "name": "stdout",
     "output_type": "stream",
     "text": [
      "/home/luigi/Documents/ARGoS/argos_results_scripts/test/bouncing_angle_50/2020-06-13_robots#50_alpha#1.2_rho#0.3_baseline_1800\n",
      "positions_concatenated.shape:  (2500, 181, 2)\n",
      "(2500, 181)\n"
     ]
    },
    {
     "name": "stderr",
     "output_type": "stream",
     "text": [
      "/home/luigi/.virtualenvs/argos/lib/python3.6/site-packages/numpy/core/fromnumeric.py:3335: RuntimeWarning: Mean of empty slice.\n",
      "  out=out, **kwargs)\n",
      "/home/luigi/.virtualenvs/argos/lib/python3.6/site-packages/numpy/core/_methods.py:161: RuntimeWarning: invalid value encountered in double_scalars\n",
      "  ret = ret.dtype.type(ret / rcount)\n"
     ]
    },
    {
     "name": "stdout",
     "output_type": "stream",
     "text": [
      "/home/luigi/Documents/ARGoS/argos_results_scripts/test/bouncing_angle_50/2020-06-13_robots#50_alpha#1.6_rho#0.3_baseline_1800\n",
      "positions_concatenated.shape:  (2500, 181, 2)\n",
      "(2500, 181)\n",
      "/home/luigi/Documents/ARGoS/argos_results_scripts/test/bouncing_angle_50/2020-06-13_robots#20_alpha#1.6_rho#0.6_baseline_1800\n",
      "positions_concatenated.shape:  (1000, 181, 2)\n",
      "(1000, 181)\n"
     ]
    },
    {
     "name": "stderr",
     "output_type": "stream",
     "text": [
      "/home/luigi/.virtualenvs/argos/lib/python3.6/site-packages/numpy/core/fromnumeric.py:3335: RuntimeWarning: Mean of empty slice.\n",
      "  out=out, **kwargs)\n",
      "/home/luigi/.virtualenvs/argos/lib/python3.6/site-packages/numpy/core/_methods.py:161: RuntimeWarning: invalid value encountered in double_scalars\n",
      "  ret = ret.dtype.type(ret / rcount)\n"
     ]
    },
    {
     "name": "stdout",
     "output_type": "stream",
     "text": [
      "/home/luigi/Documents/ARGoS/argos_results_scripts/test/bouncing_angle_50/2020-06-13_robots#10_alpha#2.0_rho#0.6_baseline_1800\n",
      "positions_concatenated.shape:  (500, 181, 2)\n",
      "(500, 181)\n"
     ]
    },
    {
     "name": "stderr",
     "output_type": "stream",
     "text": [
      "/home/luigi/.virtualenvs/argos/lib/python3.6/site-packages/numpy/core/fromnumeric.py:3335: RuntimeWarning: Mean of empty slice.\n",
      "  out=out, **kwargs)\n",
      "/home/luigi/.virtualenvs/argos/lib/python3.6/site-packages/numpy/core/_methods.py:161: RuntimeWarning: invalid value encountered in double_scalars\n",
      "  ret = ret.dtype.type(ret / rcount)\n"
     ]
    },
    {
     "name": "stdout",
     "output_type": "stream",
     "text": [
      "/home/luigi/Documents/ARGoS/argos_results_scripts/test/bouncing_angle_50/2020-06-13_robots#10_alpha#1.6_rho#0.0_baseline_1800\n",
      "positions_concatenated.shape:  (500, 181, 2)\n",
      "(500, 181)\n"
     ]
    },
    {
     "name": "stderr",
     "output_type": "stream",
     "text": [
      "/home/luigi/.virtualenvs/argos/lib/python3.6/site-packages/numpy/core/fromnumeric.py:3335: RuntimeWarning: Mean of empty slice.\n",
      "  out=out, **kwargs)\n",
      "/home/luigi/.virtualenvs/argos/lib/python3.6/site-packages/numpy/core/_methods.py:161: RuntimeWarning: invalid value encountered in double_scalars\n",
      "  ret = ret.dtype.type(ret / rcount)\n"
     ]
    },
    {
     "name": "stdout",
     "output_type": "stream",
     "text": [
      "/home/luigi/Documents/ARGoS/argos_results_scripts/test/bouncing_angle_50/2020-06-13_robots#50_alpha#2.0_rho#0.9_baseline_1800\n",
      "positions_concatenated.shape:  (2500, 181, 2)\n",
      "(2500, 181)\n",
      "/home/luigi/Documents/ARGoS/argos_results_scripts/test/bouncing_angle_50/2020-06-13_robots#100_alpha#1.6_rho#0.0_baseline_1800\n",
      "positions_concatenated.shape:  (5000, 181, 2)\n",
      "(5000, 181)\n",
      "/home/luigi/Documents/ARGoS/argos_results_scripts/test/bouncing_angle_50/2020-06-13_robots#20_alpha#1.6_rho#0.0_baseline_1800\n",
      "positions_concatenated.shape:  (1000, 181, 2)\n",
      "(1000, 181)\n"
     ]
    },
    {
     "name": "stderr",
     "output_type": "stream",
     "text": [
      "/home/luigi/.virtualenvs/argos/lib/python3.6/site-packages/numpy/core/fromnumeric.py:3335: RuntimeWarning: Mean of empty slice.\n",
      "  out=out, **kwargs)\n",
      "/home/luigi/.virtualenvs/argos/lib/python3.6/site-packages/numpy/core/_methods.py:161: RuntimeWarning: invalid value encountered in double_scalars\n",
      "  ret = ret.dtype.type(ret / rcount)\n"
     ]
    },
    {
     "name": "stdout",
     "output_type": "stream",
     "text": [
      "/home/luigi/Documents/ARGoS/argos_results_scripts/test/bouncing_angle_50/2020-06-13_robots#100_alpha#1.2_rho#0.3_baseline_1800\n",
      "positions_concatenated.shape:  (5000, 181, 2)\n",
      "(5000, 181)\n",
      "/home/luigi/Documents/ARGoS/argos_results_scripts/test/bouncing_angle_50/2020-06-13_robots#100_alpha#1.6_rho#0.3_baseline_1800\n",
      "positions_concatenated.shape:  (5000, 181, 2)\n",
      "(5000, 181)\n",
      "/home/luigi/Documents/ARGoS/argos_results_scripts/test/bouncing_angle_50/2020-06-13_robots#50_alpha#2.0_rho#0.6_baseline_1800\n",
      "positions_concatenated.shape:  (2500, 181, 2)\n",
      "(2500, 181)\n",
      "/home/luigi/Documents/ARGoS/argos_results_scripts/test/bouncing_angle_50/2020-06-13_robots#20_alpha#1.6_rho#0.3_baseline_1800\n",
      "positions_concatenated.shape:  (1000, 181, 2)\n",
      "(1000, 181)\n"
     ]
    },
    {
     "name": "stderr",
     "output_type": "stream",
     "text": [
      "/home/luigi/.virtualenvs/argos/lib/python3.6/site-packages/numpy/core/fromnumeric.py:3335: RuntimeWarning: Mean of empty slice.\n",
      "  out=out, **kwargs)\n",
      "/home/luigi/.virtualenvs/argos/lib/python3.6/site-packages/numpy/core/_methods.py:161: RuntimeWarning: invalid value encountered in double_scalars\n",
      "  ret = ret.dtype.type(ret / rcount)\n"
     ]
    },
    {
     "name": "stdout",
     "output_type": "stream",
     "text": [
      "/home/luigi/Documents/ARGoS/argos_results_scripts/test/bouncing_angle_50/2020-06-13_robots#100_alpha#2.0_rho#0.6_baseline_1800\n",
      "positions_concatenated.shape:  (5000, 181, 2)\n",
      "(5000, 181)\n",
      "/home/luigi/Documents/ARGoS/argos_results_scripts/test/bouncing_angle_50/2020-06-13_robots#10_alpha#1.6_rho#0.9_baseline_1800\n",
      "positions_concatenated.shape:  (500, 181, 2)\n",
      "(500, 181)\n"
     ]
    },
    {
     "name": "stderr",
     "output_type": "stream",
     "text": [
      "/home/luigi/.virtualenvs/argos/lib/python3.6/site-packages/numpy/core/fromnumeric.py:3335: RuntimeWarning: Mean of empty slice.\n",
      "  out=out, **kwargs)\n",
      "/home/luigi/.virtualenvs/argos/lib/python3.6/site-packages/numpy/core/_methods.py:161: RuntimeWarning: invalid value encountered in double_scalars\n",
      "  ret = ret.dtype.type(ret / rcount)\n"
     ]
    },
    {
     "name": "stdout",
     "output_type": "stream",
     "text": [
      "/home/luigi/Documents/ARGoS/argos_results_scripts/test/bouncing_angle_50/2020-06-13_robots#100_alpha#2.0_rho#0.3_baseline_1800\n",
      "positions_concatenated.shape:  (5000, 181, 2)\n",
      "(5000, 181)\n",
      "/home/luigi/Documents/ARGoS/argos_results_scripts/test/bouncing_angle_50/2020-06-13_robots#20_alpha#2.0_rho#0.0_baseline_1800\n",
      "positions_concatenated.shape:  (1000, 181, 2)\n",
      "(1000, 181)\n"
     ]
    },
    {
     "name": "stderr",
     "output_type": "stream",
     "text": [
      "/home/luigi/.virtualenvs/argos/lib/python3.6/site-packages/numpy/core/fromnumeric.py:3335: RuntimeWarning: Mean of empty slice.\n",
      "  out=out, **kwargs)\n",
      "/home/luigi/.virtualenvs/argos/lib/python3.6/site-packages/numpy/core/_methods.py:161: RuntimeWarning: invalid value encountered in double_scalars\n",
      "  ret = ret.dtype.type(ret / rcount)\n"
     ]
    },
    {
     "name": "stdout",
     "output_type": "stream",
     "text": [
      "/home/luigi/Documents/ARGoS/argos_results_scripts/test/bouncing_angle_50/2020-06-13_robots#20_alpha#2.0_rho#0.3_baseline_1800\n",
      "positions_concatenated.shape:  (1000, 181, 2)\n",
      "(1000, 181)\n"
     ]
    },
    {
     "name": "stderr",
     "output_type": "stream",
     "text": [
      "/home/luigi/.virtualenvs/argos/lib/python3.6/site-packages/numpy/core/fromnumeric.py:3335: RuntimeWarning: Mean of empty slice.\n",
      "  out=out, **kwargs)\n",
      "/home/luigi/.virtualenvs/argos/lib/python3.6/site-packages/numpy/core/_methods.py:161: RuntimeWarning: invalid value encountered in double_scalars\n",
      "  ret = ret.dtype.type(ret / rcount)\n"
     ]
    },
    {
     "name": "stdout",
     "output_type": "stream",
     "text": [
      "/home/luigi/Documents/ARGoS/argos_results_scripts/test/bouncing_angle_50/2020-06-13_robots#100_alpha#2.0_rho#0.0_baseline_1800\n",
      "positions_concatenated.shape:  (5000, 181, 2)\n",
      "(5000, 181)\n",
      "/home/luigi/Documents/ARGoS/argos_results_scripts/test/bouncing_angle_50/2020-06-13_robots#10_alpha#1.2_rho#0.6_baseline_1800\n",
      "positions_concatenated.shape:  (500, 181, 2)\n",
      "(500, 181)\n"
     ]
    },
    {
     "name": "stderr",
     "output_type": "stream",
     "text": [
      "/home/luigi/.virtualenvs/argos/lib/python3.6/site-packages/numpy/core/fromnumeric.py:3335: RuntimeWarning: Mean of empty slice.\n",
      "  out=out, **kwargs)\n",
      "/home/luigi/.virtualenvs/argos/lib/python3.6/site-packages/numpy/core/_methods.py:161: RuntimeWarning: invalid value encountered in double_scalars\n",
      "  ret = ret.dtype.type(ret / rcount)\n"
     ]
    },
    {
     "name": "stdout",
     "output_type": "stream",
     "text": [
      "/home/luigi/Documents/ARGoS/argos_results_scripts/test/bouncing_angle_50/2020-06-13_robots#50_alpha#1.2_rho#0.9_baseline_1800\n",
      "positions_concatenated.shape:  (2500, 181, 2)\n",
      "(2500, 181)\n"
     ]
    },
    {
     "name": "stderr",
     "output_type": "stream",
     "text": [
      "/home/luigi/.virtualenvs/argos/lib/python3.6/site-packages/numpy/core/fromnumeric.py:3335: RuntimeWarning: Mean of empty slice.\n",
      "  out=out, **kwargs)\n",
      "/home/luigi/.virtualenvs/argos/lib/python3.6/site-packages/numpy/core/_methods.py:161: RuntimeWarning: invalid value encountered in double_scalars\n",
      "  ret = ret.dtype.type(ret / rcount)\n"
     ]
    },
    {
     "name": "stdout",
     "output_type": "stream",
     "text": [
      "/home/luigi/Documents/ARGoS/argos_results_scripts/test/bouncing_angle_50/2020-06-13_robots#20_alpha#1.2_rho#0.6_baseline_1800\n",
      "positions_concatenated.shape:  (1000, 181, 2)\n",
      "(1000, 181)\n"
     ]
    },
    {
     "name": "stderr",
     "output_type": "stream",
     "text": [
      "/home/luigi/.virtualenvs/argos/lib/python3.6/site-packages/numpy/core/fromnumeric.py:3335: RuntimeWarning: Mean of empty slice.\n",
      "  out=out, **kwargs)\n",
      "/home/luigi/.virtualenvs/argos/lib/python3.6/site-packages/numpy/core/_methods.py:161: RuntimeWarning: invalid value encountered in double_scalars\n",
      "  ret = ret.dtype.type(ret / rcount)\n"
     ]
    },
    {
     "name": "stdout",
     "output_type": "stream",
     "text": [
      "/home/luigi/Documents/ARGoS/argos_results_scripts/test/bouncing_angle_50/2020-06-13_robots#100_alpha#1.2_rho#0.9_baseline_1800\n",
      "positions_concatenated.shape:  (5000, 181, 2)\n",
      "(5000, 181)\n",
      "/home/luigi/Documents/ARGoS/argos_results_scripts/test/bouncing_angle_50/2020-06-13_robots#50_alpha#1.6_rho#0.0_baseline_1800\n",
      "positions_concatenated.shape:  (2500, 181, 2)\n",
      "(2500, 181)\n",
      "/home/luigi/Documents/ARGoS/argos_results_scripts/test/bouncing_angle_50/2020-06-13_robots#100_alpha#2.0_rho#0.9_baseline_1800\n",
      "positions_concatenated.shape:  (5000, 181, 2)\n",
      "(5000, 181)\n",
      "/home/luigi/Documents/ARGoS/argos_results_scripts/test/bouncing_angle_50/2020-06-13_robots#20_alpha#2.0_rho#0.9_baseline_1800\n",
      "positions_concatenated.shape:  (1000, 181, 2)\n",
      "(1000, 181)\n"
     ]
    },
    {
     "name": "stderr",
     "output_type": "stream",
     "text": [
      "/home/luigi/.virtualenvs/argos/lib/python3.6/site-packages/numpy/core/fromnumeric.py:3335: RuntimeWarning: Mean of empty slice.\n",
      "  out=out, **kwargs)\n",
      "/home/luigi/.virtualenvs/argos/lib/python3.6/site-packages/numpy/core/_methods.py:161: RuntimeWarning: invalid value encountered in double_scalars\n",
      "  ret = ret.dtype.type(ret / rcount)\n"
     ]
    },
    {
     "name": "stdout",
     "output_type": "stream",
     "text": [
      "/home/luigi/Documents/ARGoS/argos_results_scripts/test/bouncing_angle_50/2020-06-13_robots#20_alpha#1.2_rho#0.3_baseline_1800\n",
      "positions_concatenated.shape:  (1000, 181, 2)\n",
      "(1000, 181)\n"
     ]
    },
    {
     "name": "stderr",
     "output_type": "stream",
     "text": [
      "/home/luigi/.virtualenvs/argos/lib/python3.6/site-packages/numpy/core/fromnumeric.py:3335: RuntimeWarning: Mean of empty slice.\n",
      "  out=out, **kwargs)\n",
      "/home/luigi/.virtualenvs/argos/lib/python3.6/site-packages/numpy/core/_methods.py:161: RuntimeWarning: invalid value encountered in double_scalars\n",
      "  ret = ret.dtype.type(ret / rcount)\n"
     ]
    },
    {
     "name": "stdout",
     "output_type": "stream",
     "text": [
      "/home/luigi/Documents/ARGoS/argos_results_scripts/test/bouncing_angle_50/2020-06-13_robots#10_alpha#1.6_rho#0.6_baseline_1800\n",
      "positions_concatenated.shape:  (500, 181, 2)\n",
      "(500, 181)\n"
     ]
    },
    {
     "name": "stderr",
     "output_type": "stream",
     "text": [
      "/home/luigi/.virtualenvs/argos/lib/python3.6/site-packages/numpy/core/fromnumeric.py:3335: RuntimeWarning: Mean of empty slice.\n",
      "  out=out, **kwargs)\n",
      "/home/luigi/.virtualenvs/argos/lib/python3.6/site-packages/numpy/core/_methods.py:161: RuntimeWarning: invalid value encountered in double_scalars\n",
      "  ret = ret.dtype.type(ret / rcount)\n"
     ]
    },
    {
     "name": "stdout",
     "output_type": "stream",
     "text": [
      "/home/luigi/Documents/ARGoS/argos_results_scripts/test/bouncing_angle_50/2020-06-13_robots#20_alpha#1.2_rho#0.0_baseline_1800\n",
      "positions_concatenated.shape:  (1000, 181, 2)\n",
      "(1000, 181)\n"
     ]
    },
    {
     "name": "stderr",
     "output_type": "stream",
     "text": [
      "/home/luigi/.virtualenvs/argos/lib/python3.6/site-packages/numpy/core/fromnumeric.py:3335: RuntimeWarning: Mean of empty slice.\n",
      "  out=out, **kwargs)\n",
      "/home/luigi/.virtualenvs/argos/lib/python3.6/site-packages/numpy/core/_methods.py:161: RuntimeWarning: invalid value encountered in double_scalars\n",
      "  ret = ret.dtype.type(ret / rcount)\n"
     ]
    },
    {
     "name": "stdout",
     "output_type": "stream",
     "text": [
      "/home/luigi/Documents/ARGoS/argos_results_scripts/test/bouncing_angle_50/2020-06-13_robots#50_alpha#1.6_rho#0.6_baseline_1800\n",
      "positions_concatenated.shape:  (2500, 181, 2)\n",
      "(2500, 181)\n",
      "/home/luigi/Documents/ARGoS/argos_results_scripts/test/bouncing_angle_50/2020-06-13_robots#100_alpha#1.2_rho#0.0_baseline_1800\n",
      "positions_concatenated.shape:  (5000, 181, 2)\n",
      "(5000, 181)\n",
      "/home/luigi/Documents/ARGoS/argos_results_scripts/test/bouncing_angle_50/2020-06-13_robots#10_alpha#1.2_rho#0.0_baseline_1800\n",
      "positions_concatenated.shape:  (500, 181, 2)\n",
      "(500, 181)\n"
     ]
    },
    {
     "name": "stderr",
     "output_type": "stream",
     "text": [
      "/home/luigi/.virtualenvs/argos/lib/python3.6/site-packages/numpy/core/fromnumeric.py:3335: RuntimeWarning: Mean of empty slice.\n",
      "  out=out, **kwargs)\n",
      "/home/luigi/.virtualenvs/argos/lib/python3.6/site-packages/numpy/core/_methods.py:161: RuntimeWarning: invalid value encountered in double_scalars\n",
      "  ret = ret.dtype.type(ret / rcount)\n"
     ]
    },
    {
     "name": "stdout",
     "output_type": "stream",
     "text": [
      "/home/luigi/Documents/ARGoS/argos_results_scripts/test/bouncing_angle_50/2020-06-13_robots#50_alpha#1.2_rho#0.0_baseline_1800\n",
      "positions_concatenated.shape:  (2500, 181, 2)\n",
      "(2500, 181)\n",
      "/home/luigi/Documents/ARGoS/argos_results_scripts/test/bouncing_angle_50/2020-06-13_robots#10_alpha#1.2_rho#0.3_baseline_1800\n",
      "positions_concatenated.shape:  (500, 181, 2)\n",
      "(500, 181)\n"
     ]
    },
    {
     "name": "stderr",
     "output_type": "stream",
     "text": [
      "/home/luigi/.virtualenvs/argos/lib/python3.6/site-packages/numpy/core/fromnumeric.py:3335: RuntimeWarning: Mean of empty slice.\n",
      "  out=out, **kwargs)\n",
      "/home/luigi/.virtualenvs/argos/lib/python3.6/site-packages/numpy/core/_methods.py:161: RuntimeWarning: invalid value encountered in double_scalars\n",
      "  ret = ret.dtype.type(ret / rcount)\n"
     ]
    }
   ],
   "source": [
    "folder_experiments = \"/home/luigi/Documents/ARGoS/argos_results_scripts/test/bouncing_angle_50\"\n",
    "# runs = 50\n",
    "bin_edges = np.linspace(0, 0.45, 20)\n",
    "# print(bin_edges)\n",
    "\n",
    "for dirName, subdirList, fileList in os.walk(folder_experiments):\n",
    "    num_robots = \"-1\"\n",
    "    rho = -1.0\n",
    "    alpha = -1.0\n",
    "    elements = dirName.split(\"_\")\n",
    "    for e in elements:\n",
    "        if e.startswith(\"robots\"):\n",
    "            num_robots = e.split(\"#\")[-1]\n",
    "        if (e.startswith(\"rho\")):\n",
    "            rho = float(e.split(\"#\")[-1])\n",
    "        if (e.startswith(\"alpha\")):\n",
    "            alpha = float(e.split(\"#\")[-1])\n",
    "\n",
    "    #         print(num_robots+' '+str(rho)+' '+str(alpha))\n",
    "    if (num_robots == \"-1\" or rho == -1.0 or alpha == -1):\n",
    "        continue\n",
    "    else:\n",
    "        print(dirName)\n",
    "        runs = len([f for f in fileList if f.endswith('position.tsv')])\n",
    "#         print(runs)\n",
    "        \n",
    "    rho_str = str(rho)\n",
    "    alpha_str = str(alpha)\n",
    "    \n",
    "    #POSIZIONI\n",
    "    [_, df_experiment] = load_pd_positions(dirName, \"experiment\")\n",
    "    \n",
    "    positions_concatenated = df_experiment.values[:,1:] #10 robots, 4 time_step\n",
    "    [num_robot, num_times] = positions_concatenated.shape\n",
    "    positions_concatenated = np.array([x.split(',') for x in positions_concatenated.ravel()],dtype=float)\n",
    "    positions_concatenated = positions_concatenated.reshape(num_robot,num_times,2)\n",
    "\n",
    "    position_concatenated_split = np.split(positions_concatenated, runs)\n",
    "\n",
    "    print(\"positions_concatenated.shape: \",positions_concatenated.shape)\n",
    "    \n",
    "    #CONNESSIONI\n",
    "    connection_number_history = np.array([])\n",
    "    for single_run in position_concatenated_split:\n",
    "        connection_number_history = np.vstack((connection_number_history, get_connections(single_run))) if connection_number_history.size else get_connections(single_run)\n",
    "\n",
    "    print(connection_number_history.shape)\n",
    "    \n",
    "    #DISTANZE DALL'ORIGINE\n",
    "    origin_distance = distance_from_the_origin(positions_concatenated).T\n",
    "    \n",
    "    connection_in_time = np.ones((bin_edges.size-1, origin_distance.shape[1])) * -1\n",
    "\n",
    "    for idx,distance_t in enumerate(origin_distance.T):\n",
    "    #     print(distance_t)\n",
    "        for edge_idx in range(bin_edges.size-1):\n",
    "    #         print(bin_edges[edge_idx],bin_edges[edge_idx+1])\n",
    "    #         print(\"\\t\",edge_idx)\n",
    "            where_index = np.where(np.logical_and(distance_t>= bin_edges[edge_idx], distance_t< bin_edges[edge_idx+1]))\n",
    "            connection_in_time[edge_idx,idx] = np.mean(connection_number_history[where_index])\n",
    "\n",
    "    connection_heatmap(bin_edges, connection_in_time, alpha_str, rho_str, num_robots)"
   ]
  },
  {
   "cell_type": "code",
   "execution_count": null,
   "metadata": {},
   "outputs": [],
   "source": []
  },
  {
   "cell_type": "code",
   "execution_count": null,
   "metadata": {},
   "outputs": [],
   "source": []
  },
  {
   "cell_type": "code",
   "execution_count": null,
   "metadata": {},
   "outputs": [],
   "source": []
  },
  {
   "cell_type": "code",
   "execution_count": null,
   "metadata": {},
   "outputs": [],
   "source": []
  },
  {
   "cell_type": "code",
   "execution_count": null,
   "metadata": {},
   "outputs": [],
   "source": []
  },
  {
   "cell_type": "code",
   "execution_count": null,
   "metadata": {
    "scrolled": true
   },
   "outputs": [],
   "source": [
    "# print(mean_grad.shape)\n",
    "# print(times.shape)"
   ]
  },
  {
   "cell_type": "code",
   "execution_count": null,
   "metadata": {},
   "outputs": [],
   "source": [
    "# fig = plt.figure(figsize=(20, 10), dpi=80)\n",
    "# plt.title(\"10 robs\")\n",
    "# plt.ylim(0, 4)\n",
    "# plt.plot(times, mean_grad, linewidth=2)\n"
   ]
  },
  {
   "cell_type": "code",
   "execution_count": null,
   "metadata": {
    "scrolled": true
   },
   "outputs": [],
   "source": [
    "# fig = plt.figure(figsize=(20, 10), dpi=80)\n",
    "# plt.title(\"20 robs\")\n",
    "# plt.ylim(0, 4)\n",
    "# plt.plot(times, mean_grad, color='green', linewidth=2)\n"
   ]
  },
  {
   "cell_type": "code",
   "execution_count": null,
   "metadata": {
    "scrolled": true
   },
   "outputs": [],
   "source": [
    "# fig = plt.figure(figsize=(20, 10), dpi=80)\n",
    "# plt.title(\"50 robs\")\n",
    "# plt.ylim(0, 6)\n",
    "# plt.plot(times, mean_grad, color='blue', linewidth=2)"
   ]
  },
  {
   "cell_type": "code",
   "execution_count": null,
   "metadata": {},
   "outputs": [],
   "source": [
    "# fig = plt.figure(figsize=(20, 10), dpi=80)\n",
    "# plt.title(\"100 robs\")\n",
    "# # plt.ylim(0, 6)\n",
    "# plt.plot(times, mean_grad, color='gray', linewidth=2)"
   ]
  },
  {
   "cell_type": "code",
   "execution_count": null,
   "metadata": {},
   "outputs": [],
   "source": [
    "def distance_from_the_origin(df_values):\n",
    "    distances = np.array([])\n",
    "    # df_values1 = df_values[:3,:4]\n",
    "    for i in range(df_values.shape[1]):\n",
    "        #     print(i)\n",
    "        x_pos = df_values[:, i, 0]\n",
    "        y_pos = df_values[:, i, 1]\n",
    "        distances = np.vstack([distances, np.sqrt(x_pos ** 2 + y_pos ** 2)]) if distances.size else np.sqrt(\n",
    "            x_pos ** 2 + y_pos ** 2)\n",
    "    # print(distances)\n",
    "    # print(\"distances shape\", distances.shape)\n",
    "    return distances"
   ]
  },
  {
   "cell_type": "code",
   "execution_count": null,
   "metadata": {},
   "outputs": [],
   "source": [
    "distances = distance_from_the_origin(positions_concatenated)"
   ]
  },
  {
   "cell_type": "code",
   "execution_count": null,
   "metadata": {},
   "outputs": [],
   "source": [
    "distances.T"
   ]
  },
  {
   "cell_type": "code",
   "execution_count": null,
   "metadata": {},
   "outputs": [],
   "source": [
    "distances"
   ]
  },
  {
   "cell_type": "code",
   "execution_count": null,
   "metadata": {
    "scrolled": true
   },
   "outputs": [],
   "source": []
  },
  {
   "cell_type": "code",
   "execution_count": null,
   "metadata": {},
   "outputs": [],
   "source": [
    "fig = plt.figure(figsize=(50, 15), dpi=80)\n",
    "ax = sns.heatmap(connection_number_history, cmap=\"viridis\")"
   ]
  },
  {
   "cell_type": "code",
   "execution_count": null,
   "metadata": {},
   "outputs": [],
   "source": []
  },
  {
   "cell_type": "markdown",
   "metadata": {},
   "source": [
    "# 20"
   ]
  },
  {
   "cell_type": "code",
   "execution_count": null,
   "metadata": {},
   "outputs": [],
   "source": [
    "folder = \"/home/luigi/Documents/ARGoS/argos_results_scripts/test/20\"\n",
    "[number_of_experiments, df_experiment] = load_pd_positions(folder, \"experiment\")\n",
    "\n",
    "positions_concatenated = df_experiment.values[:,1:] #50 robots\n",
    "[num_robot, num_times] = positions_concatenated.shape\n",
    "positions_concatenated = np.array([x.split(',') for x in positions_concatenated.ravel()],dtype=float)\n",
    "positions_concatenated = positions_concatenated.reshape(num_robot,num_times,2)\n",
    "\n",
    "print(positions_concatenated.shape)"
   ]
  },
  {
   "cell_type": "code",
   "execution_count": null,
   "metadata": {},
   "outputs": [],
   "source": [
    "connection_number_history = np.zeros((positions_concatenated.shape[0],positions_concatenated.shape[1]))\n",
    "for index,col in enumerate(positions_concatenated.transpose(1, 0, 2)):\n",
    "    connection_number = np.zeros(positions_concatenated.shape[0])\n",
    "#     print(c.shape)\n",
    "    for idx, elem in enumerate(col):\n",
    "#         print('\\t',elem)\n",
    "        robot_distance = np.sqrt(np.sum((col-elem)**2, axis=1))\n",
    "#         print(robot_distance, end='\\n\\n\\n')\n",
    "        connection_number[idx] = robot_distance[np.where(robot_distance <= 0.07)].size - 1\n",
    "    connection_number_history[:,index] = connection_number"
   ]
  },
  {
   "cell_type": "code",
   "execution_count": null,
   "metadata": {},
   "outputs": [],
   "source": [
    "fig = plt.figure(figsize=(50, 15), dpi=80)\n",
    "ax = sns.heatmap(connection_number_history, cmap=\"viridis\")"
   ]
  },
  {
   "cell_type": "markdown",
   "metadata": {},
   "source": [
    "# 50"
   ]
  },
  {
   "cell_type": "code",
   "execution_count": null,
   "metadata": {},
   "outputs": [],
   "source": [
    "folder = \"/home/luigi/Documents/ARGoS/argos_results_scripts/test/50\"\n",
    "[number_of_experiments, df_experiment] = load_pd_positions(folder, \"experiment\")\n",
    "\n",
    "positions_concatenated = df_experiment.values[:,1:] #50 robots\n",
    "[num_robot, num_times] = positions_concatenated.shape\n",
    "positions_concatenated = np.array([x.split(',') for x in positions_concatenated.ravel()],dtype=float)\n",
    "positions_concatenated = positions_concatenated.reshape(num_robot,num_times,2)\n",
    "\n",
    "print(positions_concatenated.shape)"
   ]
  },
  {
   "cell_type": "code",
   "execution_count": null,
   "metadata": {},
   "outputs": [],
   "source": [
    "connection_number_history = np.zeros((positions_concatenated.shape[0],positions_concatenated.shape[1]))\n",
    "for index,col in enumerate(positions_concatenated.transpose(1, 0, 2)):\n",
    "    connection_number = np.zeros(positions_concatenated.shape[0])\n",
    "#     print(c.shape)\n",
    "    for idx, elem in enumerate(col):\n",
    "#         print('\\t',elem)\n",
    "        robot_distance = np.sqrt(np.sum((col-elem)**2, axis=1))\n",
    "#         print(robot_distance, end='\\n\\n\\n')\n",
    "        connection_number[idx] = robot_distance[np.where(robot_distance <= 0.07)].size - 1\n",
    "    connection_number_history[:,index] = connection_number"
   ]
  },
  {
   "cell_type": "code",
   "execution_count": null,
   "metadata": {},
   "outputs": [],
   "source": [
    "fig = plt.figure(figsize=(50, 15), dpi=80)\n",
    "ax = sns.heatmap(connection_number_history, cmap=\"viridis\")"
   ]
  },
  {
   "cell_type": "markdown",
   "metadata": {},
   "source": [
    "# 100"
   ]
  },
  {
   "cell_type": "code",
   "execution_count": null,
   "metadata": {},
   "outputs": [],
   "source": [
    "folder = \"/home/luigi/Documents/ARGoS/argos_results_scripts/test/100\"\n",
    "[number_of_experiments, df_experiment] = load_pd_positions(folder, \"experiment\")\n",
    "\n",
    "positions_concatenated = df_experiment.values[:,1:] #50 robots\n",
    "[num_robot, num_times] = positions_concatenated.shape\n",
    "positions_concatenated = np.array([x.split(',') for x in positions_concatenated.ravel()],dtype=float)\n",
    "positions_concatenated = positions_concatenated.reshape(num_robot,num_times,2)\n",
    "\n",
    "print(positions_concatenated.shape)"
   ]
  },
  {
   "cell_type": "code",
   "execution_count": null,
   "metadata": {},
   "outputs": [],
   "source": [
    "connection_number_history = np.zeros((positions_concatenated.shape[0],positions_concatenated.shape[1]))\n",
    "for index,col in enumerate(positions_concatenated.transpose(1, 0, 2)):\n",
    "    connection_number = np.zeros(positions_concatenated.shape[0])\n",
    "#     print(c.shape)\n",
    "    for idx, elem in enumerate(col):\n",
    "#         print('\\t',elem)\n",
    "        robot_distance = np.sqrt(np.sum((col-elem)**2, axis=1))\n",
    "#         print(robot_distance, end='\\n\\n\\n')\n",
    "        connection_number[idx] = robot_distance[np.where(robot_distance <= 0.07)].size - 1\n",
    "    connection_number_history[:,index] = connection_number"
   ]
  },
  {
   "cell_type": "code",
   "execution_count": null,
   "metadata": {},
   "outputs": [],
   "source": [
    "fig = plt.figure(figsize=(50, 15), dpi=80)\n",
    "ax = sns.heatmap(connection_number_history, cmap=\"viridis\")"
   ]
  },
  {
   "cell_type": "code",
   "execution_count": null,
   "metadata": {},
   "outputs": [],
   "source": []
  },
  {
   "cell_type": "code",
   "execution_count": null,
   "metadata": {},
   "outputs": [],
   "source": []
  },
  {
   "cell_type": "code",
   "execution_count": null,
   "metadata": {},
   "outputs": [],
   "source": []
  },
  {
   "cell_type": "code",
   "execution_count": null,
   "metadata": {},
   "outputs": [],
   "source": [
    "fig = plt.figure(figsize=(50, 15), dpi=80)\n",
    "ax = sns.heatmap(connection_number_history, cmap=\"viridis\")"
   ]
  },
  {
   "cell_type": "code",
   "execution_count": null,
   "metadata": {},
   "outputs": [],
   "source": []
  },
  {
   "cell_type": "code",
   "execution_count": null,
   "metadata": {},
   "outputs": [],
   "source": []
  },
  {
   "cell_type": "code",
   "execution_count": null,
   "metadata": {},
   "outputs": [],
   "source": [
    "first_elem = positions_concatenated[0,0,:]"
   ]
  },
  {
   "cell_type": "code",
   "execution_count": null,
   "metadata": {},
   "outputs": [],
   "source": [
    "first_col + first_elem"
   ]
  },
  {
   "cell_type": "code",
   "execution_count": null,
   "metadata": {},
   "outputs": [],
   "source": []
  },
  {
   "cell_type": "code",
   "execution_count": null,
   "metadata": {},
   "outputs": [],
   "source": [
    "robot_distance = np.sqrt(np.sum((first_col-first_col[0])**2, axis=1))\n",
    "print(robot_distance)\n",
    "robot_in_range = robot_distance[np.where(robot_distance <= 0.07)].size - 1"
   ]
  },
  {
   "cell_type": "code",
   "execution_count": null,
   "metadata": {},
   "outputs": [],
   "source": [
    "robot_in_range"
   ]
  },
  {
   "cell_type": "code",
   "execution_count": null,
   "metadata": {},
   "outputs": [],
   "source": []
  },
  {
   "cell_type": "code",
   "execution_count": null,
   "metadata": {},
   "outputs": [],
   "source": [
    "a = np.arange(20) * 2\n",
    "a = a.reshape(10,2)"
   ]
  },
  {
   "cell_type": "code",
   "execution_count": null,
   "metadata": {},
   "outputs": [],
   "source": [
    "a"
   ]
  },
  {
   "cell_type": "code",
   "execution_count": null,
   "metadata": {},
   "outputs": [],
   "source": [
    "(a-a[1])**2"
   ]
  },
  {
   "cell_type": "code",
   "execution_count": null,
   "metadata": {},
   "outputs": [],
   "source": [
    "np.sum((a-a[1])**2, axis=1)"
   ]
  },
  {
   "cell_type": "code",
   "execution_count": null,
   "metadata": {},
   "outputs": [],
   "source": [
    "comm_range = np.sqrt(np.sum((a-a[1])**2, axis=1))\n",
    "print(comm_range)"
   ]
  },
  {
   "cell_type": "code",
   "execution_count": null,
   "metadata": {},
   "outputs": [],
   "source": [
    "comm_range[np.where(comm_range <= 10)].size - 1"
   ]
  },
  {
   "cell_type": "code",
   "execution_count": null,
   "metadata": {},
   "outputs": [],
   "source": [
    "np.where(comm_range <= 10)"
   ]
  },
  {
   "cell_type": "code",
   "execution_count": null,
   "metadata": {},
   "outputs": [],
   "source": [
    "dist = np.linalg.norm(a-b, axis = 0)"
   ]
  },
  {
   "cell_type": "code",
   "execution_count": null,
   "metadata": {},
   "outputs": [],
   "source": [
    "dist"
   ]
  },
  {
   "cell_type": "code",
   "execution_count": null,
   "metadata": {},
   "outputs": [],
   "source": [
    "np.ones(6) * 2"
   ]
  },
  {
   "cell_type": "code",
   "execution_count": null,
   "metadata": {},
   "outputs": [],
   "source": []
  }
 ],
 "metadata": {
  "kernelspec": {
   "display_name": "Python 3",
   "language": "python",
   "name": "python3"
  },
  "language_info": {
   "codemirror_mode": {
    "name": "ipython",
    "version": 3
   },
   "file_extension": ".py",
   "mimetype": "text/x-python",
   "name": "python",
   "nbconvert_exporter": "python",
   "pygments_lexer": "ipython3",
   "version": "3.6.9"
  }
 },
 "nbformat": 4,
 "nbformat_minor": 4
}
