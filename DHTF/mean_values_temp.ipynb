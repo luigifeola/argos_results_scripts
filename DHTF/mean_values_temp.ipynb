{
 "cells": [
  {
   "cell_type": "code",
   "execution_count": 1,
   "metadata": {},
   "outputs": [
    {
     "data": {
      "text/html": [
       "<style>.container { width:85% !important; }</style>"
      ],
      "text/plain": [
       "<IPython.core.display.HTML object>"
      ]
     },
     "metadata": {},
     "output_type": "display_data"
    }
   ],
   "source": [
    "from IPython.core.display import display, HTML\n",
    "display(HTML(\"<style>.container { width:85% !important; }</style>\"))"
   ]
  },
  {
   "cell_type": "code",
   "execution_count": null,
   "metadata": {},
   "outputs": [],
   "source": []
  },
  {
   "cell_type": "code",
   "execution_count": 39,
   "metadata": {},
   "outputs": [],
   "source": [
    "import os\n",
    "from utils import boxplots_utils\n",
    "import pandas as pd\n",
    "from termcolor import colored\n",
    "import numpy as np\n",
    "from collections import OrderedDict\n",
    "import matplotlib.pyplot as plt\n",
    "from natsort import natsorted\n",
    "import sys\n",
    "import pickle\n",
    "import seaborn as sns\n",
    "\n",
    "# Display pandas df without truncation\n",
    "pd.set_option('display.max_rows', None)\n",
    "pd.set_option('display.max_columns', None)\n",
    "pd.set_option('display.width', None)\n",
    "pd.set_option('display.max_colwidth', None)\n",
    "\n"
   ]
  },
  {
   "cell_type": "code",
   "execution_count": null,
   "metadata": {},
   "outputs": [],
   "source": []
  },
  {
   "cell_type": "code",
   "execution_count": 3,
   "metadata": {},
   "outputs": [],
   "source": [
    "num_robots = 24\n",
    "num_areas = 8"
   ]
  },
  {
   "cell_type": "code",
   "execution_count": null,
   "metadata": {},
   "outputs": [],
   "source": [
    "results_folder = '/home/luigi/Documents/ARGoS/argos_results_scripts/DHTF/results_adaptive/random_mixed/random_mixed_2021-05-05_robots#24_timeout#6_redAreas#4_1800seconds'"
   ]
  },
  {
   "cell_type": "code",
   "execution_count": null,
   "metadata": {},
   "outputs": [],
   "source": [
    "if not os.path.isdir(results_folder):\n",
    "    print(colored(\"Error, \" + results_folder + \" does not exist\", 'red'))\n",
    "else:\n",
    "    print(colored(\"OK, \" + results_folder + \" exists\", 'green'))"
   ]
  },
  {
   "cell_type": "code",
   "execution_count": null,
   "metadata": {},
   "outputs": [],
   "source": [
    "# df_area_client = pd.DataFrame()\n",
    "# df_area_server = pd.DataFrame()\n",
    "# df_task_client = pd.DataFrame()\n",
    "# df_task_server = pd.DataFrame()\n",
    "# df_kilo_client = pd.DataFrame()\n",
    "# df_kilo_server = pd.DataFrame()\n",
    "\n",
    "for filename in natsorted(os.listdir(results_folder)):\n",
    "#     print('\\t filename: ', filename)\n",
    "    seed = filename.split(\"_\")[0]\n",
    "    if seed == 'seed#2':\n",
    "        break\n",
    "    \n",
    "    if filename.endswith(\"areaLOG_client.tsv\"):\n",
    "        if not os.path.getsize(os.path.join(results_folder, filename)) > 0:\n",
    "            print(colored(\"\\tWARNING, empty file at:\" + filename, 'red'))\n",
    "            continue\n",
    "        print('\\tfilename: ', filename)\n",
    "        df_area_client = pd.read_csv(os.path.join(results_folder, filename), sep=\"\\t\",\n",
    "                                     header=None)\n",
    "\n",
    "    if filename.endswith(\"areaLOG_server.tsv\"):\n",
    "        if not os.path.getsize(os.path.join(results_folder, filename)) > 0:\n",
    "            print(colored(\"\\tWARNING, empty file at:\" + filename, 'red'))\n",
    "            continue\n",
    "        print('\\tfilename: ', filename)\n",
    "        df_area_server = pd.read_csv(os.path.join(results_folder, filename), sep=\"\\t\",\n",
    "                                     header=None)\n",
    "\n",
    "    if filename.endswith(\"taskLOG_client.tsv\"):\n",
    "        if not os.path.getsize(os.path.join(results_folder, filename)) > 0:\n",
    "            print(colored(\"\\tWARNING, empty file at:\" + filename, 'red'))\n",
    "            continue\n",
    "        print('\\tfilename: ', filename)\n",
    "        df_task_client = pd.read_csv(os.path.join(results_folder, filename), sep=\"\\t\",\n",
    "                                     header=None)\n",
    "\n",
    "    if filename.endswith(\"taskLOG_server.tsv\"):\n",
    "        if not os.path.getsize(os.path.join(results_folder, filename)) > 0:\n",
    "            print(colored(\"\\tWARNING, empty file at:\" + filename, 'red'))\n",
    "            continue\n",
    "        print('\\tfilename: ', filename)\n",
    "        df_task_server = pd.read_csv(os.path.join(results_folder, filename), sep=\"\\t\",\n",
    "                                     header=None)\n",
    "\n",
    "    if filename.endswith(\"kiloLOG_client.tsv\"):\n",
    "        if not os.path.getsize(os.path.join(results_folder, filename)) > 0:\n",
    "            print(colored(\"\\tWARNING, empty file at:\" + filename, 'red'))\n",
    "            continue\n",
    "        print('\\tfilename: ', filename)\n",
    "        df_kilo_client = pd.read_csv(os.path.join(results_folder, filename), sep=\"\\t\",\n",
    "                                     header=None)\n",
    "\n",
    "    if filename.endswith(\"kiloLOG_server.tsv\"):\n",
    "        if not os.path.getsize(os.path.join(results_folder, filename)) > 0:\n",
    "            print(colored(\"\\tWARNING, empty file at:\" + filename, 'red'))\n",
    "            continue\n",
    "        print('\\tfilename: ', filename, end='\\n')\n",
    "        df_kilo_server = pd.read_csv(os.path.join(results_folder, filename), sep=\"\\t\",\n",
    "                                     header=None)"
   ]
  },
  {
   "cell_type": "code",
   "execution_count": null,
   "metadata": {},
   "outputs": [],
   "source": [
    "seed"
   ]
  },
  {
   "cell_type": "markdown",
   "metadata": {},
   "source": [
    "### Kilo LOG part"
   ]
  },
  {
   "cell_type": "code",
   "execution_count": null,
   "metadata": {},
   "outputs": [],
   "source": [
    "if len(df_kilo_client.columns) > 145:\n",
    "    print(\"Cutting null elements in client kilo df\")\n",
    "    df_kilo_client.drop(df_kilo_client.columns[len(df_kilo_client.columns) - 1], axis=1, inplace=True)\n",
    "\n",
    "if len(df_kilo_server.columns) > 145:\n",
    "    print(\"Cutting null elements in server kilo df\")\n",
    "    df_kilo_server.drop(df_kilo_server.columns[len(df_kilo_server.columns) - 1], axis=1, inplace=True)\n",
    "\n",
    "col_kilo_labels = ['time']\n",
    "for i in range(0, len(df_kilo_server.columns) - 1, 6):\n",
    "    #     print(i,end=\", \")\n",
    "    col_kilo_labels += ['id' + str(i // 6), 'state' + str(i // 6), 'posx' + str(i // 6), 'posy' + str(i // 6),\n",
    "                        'ori' + str(i // 6), 'same_state' + str(i // 6)]\n",
    "\n",
    "col_kilo_to_drop = []\n",
    "for i in range((len(df_kilo_server.columns) - 1) // 6):\n",
    "    #     print(i,end=\", \")\n",
    "    col_kilo_to_drop += ['same_state' + str(i)]\n",
    "\n",
    "df_kilo_server.columns = col_kilo_labels\n",
    "df_kilo_client.columns = col_kilo_labels\n",
    "df_kilo_server = df_kilo_server.drop(col_kilo_to_drop, axis=1)\n",
    "df_kilo_client = df_kilo_client.drop(col_kilo_to_drop, axis=1)\n",
    "\n",
    "# kID0_client = df_kilo_client.iloc[:, :6]\n",
    "# kID0_server = df_kilo_server.iloc[:, :6]"
   ]
  },
  {
   "cell_type": "markdown",
   "metadata": {},
   "source": [
    "### area LOG part"
   ]
  },
  {
   "cell_type": "code",
   "execution_count": null,
   "metadata": {},
   "outputs": [],
   "source": [
    "col_area_labels = ['time']\n",
    "for i in range(0, len(df_area_server.columns) - 2, 6):\n",
    "    # print(i, end=\", \")\n",
    "    col_area_labels += ['id' + str(i // 6), 'posx' + str(i // 6), 'posy' + str(i // 6), 'color' + str(i // 6),\n",
    "                        'completed' + str(i // 6), 'contained' + str(i // 6)]\n",
    "\n",
    "# Remove last empty col and assign labels to df_area_server\n",
    "if len(df_area_server.columns) > 49:\n",
    "    print(\"Cutting null elements in area server df\")\n",
    "    df_area_server.drop(df_area_server.columns[len(df_area_server.columns) - 1], axis=1, inplace=True)\n",
    "df_area_server.columns = col_area_labels\n",
    "\n",
    "# First df_area_client row contains garbage, so is substituted with the second row except for the time,\n",
    "# then remove Nan values in [:,49:]\n",
    "if len(df_area_client.columns) > 49:\n",
    "    print(\"Cutting null elements in area client df\")\n",
    "    df_area_client.loc[0, 1:] = df_area_client.loc[1, 1:]\n",
    "    df_area_client = df_area_client.drop(np.arange(49, len(df_area_client.columns)), axis=1)\n",
    "df_area_client.columns = col_area_labels"
   ]
  },
  {
   "cell_type": "markdown",
   "metadata": {},
   "source": [
    "### completed task LOG part"
   ]
  },
  {
   "cell_type": "code",
   "execution_count": null,
   "metadata": {},
   "outputs": [],
   "source": [
    "# task_label = ['time', 'id', 'creationTime', 'completitionTime', 'color', 'contained']\n",
    "# df_task_client.columns = task_label"
   ]
  },
  {
   "cell_type": "markdown",
   "metadata": {},
   "source": [
    "#### Get area positions and colors"
   ]
  },
  {
   "cell_type": "code",
   "execution_count": null,
   "metadata": {},
   "outputs": [],
   "source": [
    "area_color_label = []\n",
    "for i in range(num_areas):\n",
    "    area_color_label += [\"color\"+str(i)]\n",
    "#     print(\"color\"+str(i))\n",
    "# area_color_label\n",
    "\n",
    "areas_client_color = df_area_client[area_color_label].iloc[0, :].values\n",
    "areas_server_color = df_area_server[area_color_label].iloc[0, :].values\n",
    "\n",
    "print(areas_client_color)\n",
    "print(areas_server_color)"
   ]
  },
  {
   "cell_type": "code",
   "execution_count": null,
   "metadata": {},
   "outputs": [],
   "source": [
    "area_pos_label = []\n",
    "for i in range(num_areas):\n",
    "    area_pos_label += [\"posx\"+str(i)]\n",
    "    area_pos_label += [\"posy\"+str(i)]\n",
    "# area_pos_label\n",
    "\n",
    "areas_pos = df_area_client[area_pos_label].iloc[0, :].values\n",
    "\n",
    "print(areas_pos)"
   ]
  },
  {
   "cell_type": "code",
   "execution_count": null,
   "metadata": {},
   "outputs": [],
   "source": [
    "areas_pos = areas_pos.reshape(-1,2)\n",
    "areas_pos"
   ]
  },
  {
   "cell_type": "code",
   "execution_count": null,
   "metadata": {},
   "outputs": [],
   "source": [
    "df_kilo_client_temp = df_kilo_client.copy()#.iloc[:20,:26]\n",
    "df_kilo_server_temp = df_kilo_server.copy()\n",
    "df_kilo_server_temp.iloc[:10,:]"
   ]
  },
  {
   "cell_type": "code",
   "execution_count": null,
   "metadata": {
    "scrolled": true
   },
   "outputs": [],
   "source": [
    "# for kilo_id in np.arange(1, len(df_kilo_client_temp.columns), 5):\n",
    "#     print(colored(\"kilo_id:\"+str((kilo_id-1)//5), 'blue'))\n",
    "# #     print(df_kilo_client.iloc[:20, kilo_id+2:kilo_id+4].values, end='\\n\\n')\n",
    "#     kilo_pos = df_kilo_client_temp.iloc[:5, kilo_id+2:kilo_id+4].values\n",
    "#     in_area=np.empty(kilo_pos.shape[0], dtype=int); in_area.fill(-1)\n",
    "#     for area_idx, area_pos in enumerate(areas_pos):\n",
    "#     #     print(area_idx,' ', area_pos)\n",
    "#         dist = np.linalg.norm(kilo_pos-area_pos, axis=1)\n",
    "#     #     print(dist, end='\\n\\n')\n",
    "#         in_area = np.where(dist < 0.08, df_area_colors.iloc[area_idx][-1], in_area)\n",
    "# #     in_area = np.where(in_area == -1, np.NaN, in_area)\n",
    "#     print(in_area)\n",
    "    "
   ]
  },
  {
   "cell_type": "code",
   "execution_count": null,
   "metadata": {},
   "outputs": [],
   "source": []
  },
  {
   "cell_type": "markdown",
   "metadata": {},
   "source": [
    "## Area color df"
   ]
  },
  {
   "cell_type": "code",
   "execution_count": null,
   "metadata": {},
   "outputs": [],
   "source": [
    "color_list = [\"color\" + str(i) for i in range(num_areas)]"
   ]
  },
  {
   "cell_type": "code",
   "execution_count": null,
   "metadata": {},
   "outputs": [],
   "source": [
    "df_area3_s = df_area_server.iloc[:1, :][color_list]\n",
    "df_area3_c = df_area_client.iloc[:1, :][color_list]\n",
    "# [['color0', 'color1', 'color2', 'color3', 'color4', 'color5', 'color6', 'color7']]\n",
    "#[['color0', 'completed0', 'color1', 'completed1', 'color2', 'completed2', 'color3', 'completed3', 'color4', 'completed4', 'color5', 'completed5', 'color6', 'completed6', 'color7', 'completed7']]"
   ]
  },
  {
   "cell_type": "code",
   "execution_count": null,
   "metadata": {},
   "outputs": [],
   "source": [
    "for i,idx in enumerate(range(1,len(df_area3_c.columns)*2,2)):\n",
    "#     print(i, ' ', idx)\n",
    "    df_area3_c.insert(loc=idx, column='other_col'+str(i), value=df_area3_s.iloc[0][i])\n",
    "    \n",
    "df_area3_c"
   ]
  },
  {
   "cell_type": "code",
   "execution_count": null,
   "metadata": {},
   "outputs": [],
   "source": [
    "client = [col for col in df_area3_c.columns if 'color' in col]\n",
    "server = [col for col in df_area3_c.columns if 'other_col' in col]\n",
    "df_area_colors = pd.lreshape(df_area3_c, {'color_client' : client, 'color_server' : server})\n",
    "df_area_colors"
   ]
  },
  {
   "cell_type": "code",
   "execution_count": null,
   "metadata": {},
   "outputs": [],
   "source": [
    "area_type = []\n",
    "for area in df_area_colors.values:\n",
    "    if(area[0] == 0 and area[1] == 0):\n",
    "        area_type += ['BB']\n",
    "    if(area[0] == 0 and area[1] == 1):\n",
    "        area_type += ['BR']\n",
    "    if(area[0] == 1 and area[1] == 0):\n",
    "        area_type += ['RB']\n",
    "    if(area[0] == 1 and area[1] == 1):\n",
    "        area_type += ['RR']\n",
    "area_type"
   ]
  },
  {
   "cell_type": "code",
   "execution_count": null,
   "metadata": {},
   "outputs": [],
   "source": [
    "df_area_colors.insert(loc=2, column='area_type', value=area_type)"
   ]
  },
  {
   "cell_type": "code",
   "execution_count": null,
   "metadata": {},
   "outputs": [],
   "source": [
    "df_area_colors"
   ]
  },
  {
   "cell_type": "markdown",
   "metadata": {},
   "source": [
    "## Per il server:"
   ]
  },
  {
   "cell_type": "code",
   "execution_count": null,
   "metadata": {},
   "outputs": [],
   "source": [
    "for i,kilo_id in enumerate(np.arange(1, len(df_kilo_server_temp.columns), 5)):\n",
    "    print(colored(\"kilo_id:\"+str((kilo_id-1)//5), 'blue'))\n",
    "#     print(df_kilo_client_temp.iloc[:20, kilo_id+2:kilo_id+4].values, end='\\n\\n')\n",
    "    kilo_pos = df_kilo_server_temp.iloc[:, kilo_id+i+2:kilo_id+i+4].values\n",
    "#     print(kilo_pos)\n",
    "    in_area=np.empty(kilo_pos.shape[0], dtype=int); in_area.fill(-1)\n",
    "    for area_idx, area_pos in enumerate(areas_pos):\n",
    "    #     print(area_idx,' ', area_pos)\n",
    "        dist = np.linalg.norm(kilo_pos-area_pos, axis=1)\n",
    "    #     print(dist, end='\\n\\n')\n",
    "        in_area = np.where(dist < 0.1, df_area_colors.iloc[area_idx][-1][::-1], in_area)\n",
    "#     in_area = np.where(in_area == -1, np.NaN, in_area)\n",
    "#     print(in_area)\n",
    "    df_kilo_server_temp.insert(loc=int(kilo_id+i+2), column='area_type'+str(i), value=in_area)"
   ]
  },
  {
   "cell_type": "code",
   "execution_count": null,
   "metadata": {},
   "outputs": [],
   "source": [
    "df_kilo_server_temp.iloc[:2,:]"
   ]
  },
  {
   "cell_type": "markdown",
   "metadata": {},
   "source": [
    "## Per il client:"
   ]
  },
  {
   "cell_type": "code",
   "execution_count": null,
   "metadata": {},
   "outputs": [],
   "source": [
    "for i,kilo_id in enumerate(np.arange(1, len(df_kilo_client_temp.columns), 5)):\n",
    "    print(colored(\"kilo_id:\"+str((kilo_id-1)//5), 'blue'))\n",
    "#     print(df_kilo_client_temp.iloc[:20, kilo_id+2:kilo_id+4].values, end='\\n\\n')\n",
    "    kilo_pos = df_kilo_client_temp.iloc[:, kilo_id+i+2:kilo_id+i+4].values\n",
    "#     print(kilo_pos)\n",
    "    in_area=np.empty(kilo_pos.shape[0], dtype=int); in_area.fill(-1)\n",
    "    for area_idx, area_pos in enumerate(areas_pos):\n",
    "    #     print(area_idx,' ', area_pos)\n",
    "        dist = np.linalg.norm(kilo_pos-area_pos, axis=1)\n",
    "    #     print(dist, end='\\n\\n')\n",
    "        in_area = np.where(dist < 0.1, df_area_colors.iloc[area_idx][-1], in_area)\n",
    "#     in_area = np.where(in_area == -1, np.NaN, in_area)\n",
    "#     print(in_area)\n",
    "    df_kilo_client_temp.insert(loc=int(kilo_id+i+2), column='area_type'+str(i), value=in_area)"
   ]
  },
  {
   "cell_type": "code",
   "execution_count": null,
   "metadata": {
    "scrolled": false
   },
   "outputs": [],
   "source": [
    "df_kilo_client_temp.iloc[:2,:]"
   ]
  },
  {
   "cell_type": "markdown",
   "metadata": {},
   "source": [
    "## Jump to Estrazione di stato..."
   ]
  },
  {
   "cell_type": "markdown",
   "metadata": {},
   "source": [
    "#### Save & Load pickle"
   ]
  },
  {
   "cell_type": "code",
   "execution_count": null,
   "metadata": {},
   "outputs": [],
   "source": [
    "# df_kilo_client_temp.to_pickle('porcodddio')\n",
    "# df_kilo_client_temp1= pd.read_pickle('porcodddio')\n",
    "# df_kilo_client_temp1"
   ]
  },
  {
   "cell_type": "code",
   "execution_count": null,
   "metadata": {},
   "outputs": [],
   "source": [
    "# Test\n",
    "\n",
    "# in_area=np.empty(kID0_client_pos.shape[0], dtype=int); in_area.fill(-1)\n",
    "# # print(in_area)\n",
    "# for area_idx, area_pos in enumerate(areas_pos):\n",
    "# #     print(area_idx,' ', area_pos)\n",
    "#     dist = np.linalg.norm(kID0_client_pos-area_pos, axis=1)\n",
    "# #     print(dist, end='\\n\\n')\n",
    "#     in_area = np.where(dist < 0.08, df_area_colors.iloc[area_idx][-1], in_area)\n",
    "# # in_area = np.where(in_area == -1, np.NaN, in_area)"
   ]
  },
  {
   "cell_type": "code",
   "execution_count": null,
   "metadata": {},
   "outputs": [],
   "source": [
    "# in_area"
   ]
  },
  {
   "cell_type": "code",
   "execution_count": null,
   "metadata": {
    "scrolled": true
   },
   "outputs": [],
   "source": [
    "df_kilo_client_temp = df_kilo_client.iloc[:20, :6]\n",
    "df_kilo_client_temp\n",
    "df_kilo_client_temp.insert(loc=5, column='area_type', value=in_area)\n",
    "df_kilo_client_temp"
   ]
  },
  {
   "cell_type": "code",
   "execution_count": null,
   "metadata": {
    "scrolled": true
   },
   "outputs": [],
   "source": [
    "# completed = df_area_client.iloc[:20, :][['completed1']]\n",
    "# contained = df_area_client.iloc[:20, :][['contained1']]"
   ]
  },
  {
   "cell_type": "code",
   "execution_count": null,
   "metadata": {},
   "outputs": [],
   "source": [
    "# df_kilo_client_temp.insert(loc=6, column='completed1' , value=completed)\n",
    "# df_kilo_client_temp.insert(loc=7, column='contained1' , value=contained)"
   ]
  },
  {
   "cell_type": "code",
   "execution_count": null,
   "metadata": {},
   "outputs": [],
   "source": [
    "# df_kilo_client_temp"
   ]
  },
  {
   "cell_type": "code",
   "execution_count": null,
   "metadata": {},
   "outputs": [],
   "source": [
    "for idx, elem in enumerate(in_area):\n",
    "#     print(idx, ' ', elem)\n",
    "#     print(elem)\n",
    "    if(elem != -1):\n",
    "        print(df_area_colors.iloc[elem][-1])\n",
    "#         print(\"hello\")"
   ]
  },
  {
   "cell_type": "code",
   "execution_count": null,
   "metadata": {},
   "outputs": [],
   "source": [
    "df_area_colors.iloc[1].values"
   ]
  },
  {
   "cell_type": "code",
   "execution_count": null,
   "metadata": {},
   "outputs": [],
   "source": [
    "# Evaluate transition 0->1, 1->0\n",
    "# df_transition = kID0_client[['state0']].rolling(2).apply(lambda x: x[0] != x[-1], raw=True).sum().astype(int)\n",
    "# df_transition"
   ]
  },
  {
   "cell_type": "markdown",
   "metadata": {},
   "source": [
    "## Estrazione di stato e tipo di area per ogni kilobot"
   ]
  },
  {
   "cell_type": "code",
   "execution_count": null,
   "metadata": {},
   "outputs": [],
   "source": [
    "kilo_resume = [[\"state\" + str(i), \"area_type\" + str(i)] for i in range(num_robots)]"
   ]
  },
  {
   "cell_type": "code",
   "execution_count": null,
   "metadata": {},
   "outputs": [],
   "source": [
    "kilo_resume = np.reshape(kilo_resume, (-1))"
   ]
  },
  {
   "cell_type": "code",
   "execution_count": null,
   "metadata": {},
   "outputs": [],
   "source": [
    "print(kilo_resume)"
   ]
  },
  {
   "cell_type": "code",
   "execution_count": null,
   "metadata": {},
   "outputs": [],
   "source": [
    "server_kilo_resume = df_kilo_server_temp.iloc[:][kilo_resume]\n",
    "client_kilo_resume = df_kilo_client_temp.iloc[:][kilo_resume]"
   ]
  },
  {
   "cell_type": "code",
   "execution_count": null,
   "metadata": {},
   "outputs": [],
   "source": [
    "client_kilo_resume.iloc[:2,:]"
   ]
  },
  {
   "cell_type": "code",
   "execution_count": null,
   "metadata": {},
   "outputs": [],
   "source": [
    "server_kilo_resume.iloc[:2,:]"
   ]
  },
  {
   "cell_type": "code",
   "execution_count": null,
   "metadata": {},
   "outputs": [],
   "source": [
    "total_exp_df = client_kilo_resume.join(server_kilo_resume, lsuffix='_c', rsuffix='_s')"
   ]
  },
  {
   "cell_type": "code",
   "execution_count": null,
   "metadata": {},
   "outputs": [],
   "source": [
    "total_exp_df.iloc[:,4:6]"
   ]
  },
  {
   "cell_type": "code",
   "execution_count": null,
   "metadata": {},
   "outputs": [],
   "source": [
    "# small_total_exp_df = total_exp_df.iloc[:,0:2]"
   ]
  },
  {
   "cell_type": "code",
   "execution_count": null,
   "metadata": {},
   "outputs": [],
   "source": [
    "# small_total_exp_df = small_total_exp_df.replace(2, 3)"
   ]
  },
  {
   "cell_type": "code",
   "execution_count": null,
   "metadata": {
    "scrolled": true
   },
   "outputs": [],
   "source": [
    "# small_total_exp_df.iloc[:1,:]"
   ]
  },
  {
   "cell_type": "code",
   "execution_count": null,
   "metadata": {},
   "outputs": [],
   "source": [
    "# mask = small_total_exp_df[\"state4_c\"].shift().ne(small_total_exp_df[\"state4_c\"])"
   ]
  },
  {
   "cell_type": "code",
   "execution_count": null,
   "metadata": {},
   "outputs": [],
   "source": [
    "# mask"
   ]
  },
  {
   "cell_type": "code",
   "execution_count": null,
   "metadata": {},
   "outputs": [],
   "source": [
    "# small_client_kilo = client_kilo_resume.iloc[:,0:2]\n",
    "# small_client_kilo = small_client_kilo.replace(2,3)\n",
    "# small_client_kilo"
   ]
  },
  {
   "cell_type": "code",
   "execution_count": null,
   "metadata": {},
   "outputs": [],
   "source": [
    "# mask1 = (small_client_kilo[small_client_kilo.columns.values[0]].diff() == 2)#.sum(axis=0)"
   ]
  },
  {
   "cell_type": "code",
   "execution_count": null,
   "metadata": {},
   "outputs": [],
   "source": [
    "# small_client_kilo[mask1]"
   ]
  },
  {
   "cell_type": "code",
   "execution_count": null,
   "metadata": {
    "scrolled": true
   },
   "outputs": [],
   "source": [
    "# small_client_kilo[mask1][small_client_kilo.columns.values[1]].value_counts().to_frame().T"
   ]
  },
  {
   "cell_type": "code",
   "execution_count": null,
   "metadata": {},
   "outputs": [],
   "source": [
    "# len(server_kilo_resume.columns)"
   ]
  },
  {
   "cell_type": "markdown",
   "metadata": {},
   "source": [
    "##### For each kilobot evaluate completed area type"
   ]
  },
  {
   "cell_type": "code",
   "execution_count": null,
   "metadata": {
    "scrolled": true
   },
   "outputs": [],
   "source": [
    "completed_area_count = pd.DataFrame(columns=['RR', 'RB', 'BR', 'BB'])\n",
    "for i in range(0,len(total_exp_df.columns),2):\n",
    "#     print(total_exp_df.iloc[:50,i:i+2])\n",
    "    print('\\n',i)\n",
    "    kilo_state = total_exp_df.iloc[:,i:i+2]\n",
    "#     kilo_state = kilo_state.replace(2,3)\n",
    "    mask = (kilo_state[kilo_state.columns.values[0]].diff() == -1)\n",
    "    print(kilo_state[mask])\n",
    "    print(kilo_state[mask][kilo_state.columns.values[1]].value_counts(), end='\\n\\n')\n",
    "    robot_timeout = kilo_state[mask][kilo_state.columns.values[1]].value_counts().to_frame().T\n",
    "#     robot_timeout = pd.DataFrame(kilo_state[mask][kilo_state.columns.values[1]].value_counts(), columns=['RR, RB,BR,BB'])\n",
    "#     print(robot_timeout)\n",
    "    completed_area_count = completed_area_count.append(robot_timeout)\n",
    "    print(robot_timeout, end='\\n\\n')\n",
    "    \n",
    "completed_area_count = completed_area_count.fillna(0)"
   ]
  },
  {
   "cell_type": "code",
   "execution_count": null,
   "metadata": {},
   "outputs": [],
   "source": [
    "completed_area_count"
   ]
  },
  {
   "cell_type": "markdown",
   "metadata": {},
   "source": [
    "##### For each kilobot evaluate elapsed timeout"
   ]
  },
  {
   "cell_type": "code",
   "execution_count": null,
   "metadata": {
    "scrolled": true
   },
   "outputs": [],
   "source": [
    "timeout_count = pd.DataFrame(columns=['RR', 'RB', 'BR', 'BB'])\n",
    "for i in range(0,len(total_exp_df.columns),2):\n",
    "#     print(total_exp_df.iloc[:50,i:i+2])\n",
    "    print('\\n',i)\n",
    "    kilo_state = total_exp_df.iloc[:,i:i+2]\n",
    "    kilo_state = kilo_state.replace(2,3)\n",
    "    mask = (kilo_state[kilo_state.columns.values[0]].diff() == 2)\n",
    "#     print(kilo_state[mask])\n",
    "#     print(kilo_state[mask][kilo_state.columns.values[1]].value_counts(), end='\\n\\n')\n",
    "    robot_timeout = kilo_state[mask][kilo_state.columns.values[1]].value_counts().to_frame().T\n",
    "#     robot_timeout = pd.DataFrame(kilo_state[mask][kilo_state.columns.values[1]].value_counts(), columns=['RR, RB,BR,BB'])\n",
    "#     print(robot_timeout)\n",
    "    timeout_count = timeout_count.append(robot_timeout)\n",
    "    print(robot_timeout, end='\\n\\n')\n",
    "    \n",
    "timeout_count = timeout_count.fillna(0)"
   ]
  },
  {
   "cell_type": "code",
   "execution_count": null,
   "metadata": {
    "scrolled": true
   },
   "outputs": [],
   "source": [
    "timeout_count"
   ]
  },
  {
   "cell_type": "code",
   "execution_count": null,
   "metadata": {
    "scrolled": true
   },
   "outputs": [],
   "source": [
    "# df.mean non considera i NaN values\n",
    "single_run_mean = timeout_count.mean(axis = 0)"
   ]
  },
  {
   "cell_type": "code",
   "execution_count": null,
   "metadata": {},
   "outputs": [],
   "source": [
    "single_run_mean"
   ]
  },
  {
   "cell_type": "code",
   "execution_count": null,
   "metadata": {},
   "outputs": [],
   "source": [
    "seed"
   ]
  },
  {
   "cell_type": "code",
   "execution_count": null,
   "metadata": {
    "scrolled": true
   },
   "outputs": [],
   "source": [
    "single_df = single_run_mean.to_frame().T\n",
    "single_df.index = [seed]\n",
    "single_df"
   ]
  },
  {
   "cell_type": "code",
   "execution_count": null,
   "metadata": {},
   "outputs": [],
   "source": [
    "# single_run_mean.to_frame().T.to_pickle(os.path.join(results_folder,seed+\"_mean_elapsed_timeout.pickle\"))"
   ]
  },
  {
   "cell_type": "code",
   "execution_count": null,
   "metadata": {},
   "outputs": [],
   "source": [
    "run_memory_mean = pd.DataFrame()\n",
    "if os.path.isfile(os.path.join(results_folder,\"mean_elapsed_timeout.pickle\")):\n",
    "    print(\"Appending\")\n",
    "    run_memory_mean = pd.read_pickle(os.path.join(results_folder,\"mean_elapsed_timeout.pickle\"))\n",
    "    run_memory_mean = run_memory_mean.append(single_df)\n",
    "    run_memory_mean.to_pickle(os.path.join(results_folder,\"mean_elapsed_timeout.pickle\"))\n",
    "else:\n",
    "    print(\"Writing\")\n",
    "    single_df.to_pickle(os.path.join(results_folder,\"mean_elapsed_timeout.pickle\"))"
   ]
  },
  {
   "cell_type": "code",
   "execution_count": null,
   "metadata": {},
   "outputs": [],
   "source": [
    "run_memory_mean"
   ]
  },
  {
   "cell_type": "code",
   "execution_count": null,
   "metadata": {},
   "outputs": [],
   "source": [
    "df_prova = pd.read_pickle(os.path.join(results_folder,\"mean_elapsed_timeout.pickle\"))\n",
    "df_prova"
   ]
  },
  {
   "cell_type": "code",
   "execution_count": null,
   "metadata": {},
   "outputs": [],
   "source": []
  },
  {
   "cell_type": "code",
   "execution_count": null,
   "metadata": {},
   "outputs": [],
   "source": [
    "results_folder1 = '/home/luigi/Documents/ARGoS/argos_results_scripts/DHTF/results_adaptive/random_mixed'\n",
    "df_prova = pd.read_pickle(os.path.join(results_folder1,\"mean_elapsed_timeout10.pickle\"))"
   ]
  },
  {
   "cell_type": "code",
   "execution_count": null,
   "metadata": {},
   "outputs": [],
   "source": [
    "df_prova"
   ]
  },
  {
   "cell_type": "code",
   "execution_count": null,
   "metadata": {},
   "outputs": [],
   "source": [
    "for filename in natsorted(os.listdir(results_folder1)):\n",
    "    if filename.startswith(\"mean_elapsed\"):\n",
    "        print('filename: ', filename)\n",
    "        df_temp = pd.read_pickle(os.path.join(results_folder1,filename))\n",
    "        print(df_temp)"
   ]
  },
  {
   "cell_type": "code",
   "execution_count": null,
   "metadata": {},
   "outputs": [],
   "source": []
  },
  {
   "cell_type": "code",
   "execution_count": null,
   "metadata": {},
   "outputs": [],
   "source": []
  },
  {
   "cell_type": "markdown",
   "metadata": {},
   "source": [
    "### Plot the timeout boxplot"
   ]
  },
  {
   "cell_type": "code",
   "execution_count": null,
   "metadata": {},
   "outputs": [],
   "source": [
    "def set_box_color(bp, color):\n",
    "    \"\"\"\n",
    "    # Set boxplot rules\n",
    "    \"\"\"\n",
    "    plt.setp(bp['boxes'], color=color)\n",
    "    plt.setp(bp['whiskers'], color=color)\n",
    "    plt.setp(bp['caps'], color=color)\n",
    "    plt.setp(bp['medians'], color=color)\n",
    "\n",
    "\n",
    "def grouped_4_boxplot(rr, rb, br, bb, fig_name):\n",
    "    \"\"\"\n",
    "    # Boxplot from three dicts (red,blue,mixed)\n",
    "    :param red: dict with red area values\n",
    "    :param blue: dict with blue area values\n",
    "    :param mixed: dict with red-blue area values\n",
    "    :param fig_name: name of the output figure, saved in the current directory\n",
    "    :return:\n",
    "    \"\"\"\n",
    "    ticks = rr.keys()\n",
    "\n",
    "    fig, ax = plt.subplots(figsize=(10, 5), dpi=80)\n",
    "\n",
    "    bpRR = plt.boxplot(rr.values(), positions=np.array(range(len(rr.values())))*3.0-0.4, sym='', widths=0.3)\n",
    "    bpRB = plt.boxplot(rb.values(), positions=np.array(range(len(rb.values())))*3.0+0.4, sym='', widths=0.3)\n",
    "    bpBR = plt.boxplot(br.values(), positions=np.array(range(len(br.values())))*3.0, sym='', widths=0.3)\n",
    "#     bpBB = plt.boxplot(bb.values(), positions=np.array(range(len(bb.values())))*3.0, sym='', widths=0.3)\n",
    "\n",
    "    set_box_color(bpRR, '#d95f02') # colors are from http://colorbrewer2.org/\n",
    "    set_box_color(bpRB, '#ffd700')\n",
    "    set_box_color(bpBR, '#ffA500')\n",
    "#     set_box_color(bpBB, '#7570b3')\n",
    "\n",
    "    # draw temporary rr and blue lines and use them to create a legend\n",
    "    plt.plot([], c='#d95f02', label='RR')\n",
    "    plt.plot([], c='#ffd700', label='RB')\n",
    "    plt.plot([], c='#ffA500', label='BR')\n",
    "#     plt.plot([], c='#7570b3', label='BB')\n",
    "    plt.legend(loc=2)\n",
    "\n",
    "    # plt.xticks(range(0, 300, 5), ticks)\n",
    "    # plt.xlim(-3, len(ticks)*3)\n",
    "    plt.ylim(-1, 44)\n",
    "    plt.xticks(range(0, len(ticks) * 3, 3), ticks)\n",
    "    plt.xlim(-2, len(ticks)*3)\n",
    "\n",
    "    ax.set_xticklabels(rr.keys())\n",
    "    ax.set_xlabel(\"Timeout[s]\")\n",
    "    ax.set_ylabel(\"Completed areas\")\n",
    "\n",
    "    plt.tight_layout()\n",
    "#     plt.savefig(fig_name + '.png')"
   ]
  },
  {
   "cell_type": "code",
   "execution_count": null,
   "metadata": {},
   "outputs": [],
   "source": [
    "results_folder1 = '/home/luigi/Documents/ARGoS/argos_results_scripts/DHTF/results_adaptive/random_mixed'\n",
    "df_prova = pd.read_pickle(os.path.join(results_folder1,\"mean_run_elapsed_timeout120.pickle\"))"
   ]
  },
  {
   "cell_type": "code",
   "execution_count": null,
   "metadata": {
    "scrolled": true
   },
   "outputs": [],
   "source": [
    "# df_prova"
   ]
  },
  {
   "cell_type": "code",
   "execution_count": null,
   "metadata": {},
   "outputs": [],
   "source": [
    "# df_prova.to_dict()"
   ]
  },
  {
   "cell_type": "code",
   "execution_count": null,
   "metadata": {},
   "outputs": [],
   "source": [
    "# df_prova.to_dict()['RR']"
   ]
  },
  {
   "cell_type": "code",
   "execution_count": null,
   "metadata": {},
   "outputs": [],
   "source": [
    "prova_dict = dict(df_prova['RR'])"
   ]
  },
  {
   "cell_type": "code",
   "execution_count": null,
   "metadata": {},
   "outputs": [],
   "source": [
    "type(df_prova.to_dict('series')['RR'])"
   ]
  },
  {
   "cell_type": "code",
   "execution_count": null,
   "metadata": {},
   "outputs": [],
   "source": [
    "# df_prova.to_dict('series')['RR']\n",
    "# for k, val in df_prova.to_dict('series')['RR'].items():\n",
    "#     print(\"type k:\", type(k))\n",
    "#     print(\"type val:\", type(val))\n",
    "#     print(\"k:\", k, \" val:\",val)"
   ]
  },
  {
   "cell_type": "code",
   "execution_count": null,
   "metadata": {},
   "outputs": [],
   "source": [
    "# df_prova['RR'].values"
   ]
  },
  {
   "cell_type": "code",
   "execution_count": null,
   "metadata": {
    "scrolled": true
   },
   "outputs": [],
   "source": [
    "# print(df_prova.to_dict('r'))"
   ]
  },
  {
   "cell_type": "code",
   "execution_count": null,
   "metadata": {
    "scrolled": true
   },
   "outputs": [],
   "source": [
    "# print(df_prova.to_dict())"
   ]
  },
  {
   "cell_type": "code",
   "execution_count": null,
   "metadata": {},
   "outputs": [],
   "source": [
    "rr.shape[1]"
   ]
  },
  {
   "cell_type": "code",
   "execution_count": null,
   "metadata": {
    "scrolled": true
   },
   "outputs": [],
   "source": [
    "rr.values"
   ]
  },
  {
   "cell_type": "code",
   "execution_count": null,
   "metadata": {},
   "outputs": [],
   "source": [
    "rr.shape"
   ]
  },
  {
   "cell_type": "code",
   "execution_count": null,
   "metadata": {},
   "outputs": [],
   "source": [
    "df_prova"
   ]
  },
  {
   "cell_type": "code",
   "execution_count": null,
   "metadata": {},
   "outputs": [],
   "source": [
    "# rr = df_prova['RR']\n",
    "# rb = df_prova['RB'] \n",
    "# br = df_prova['BR']\n",
    "# bb = df_prova['BB']"
   ]
  },
  {
   "cell_type": "code",
   "execution_count": null,
   "metadata": {},
   "outputs": [],
   "source": [
    "len(rr.values())"
   ]
  },
  {
   "cell_type": "code",
   "execution_count": null,
   "metadata": {},
   "outputs": [],
   "source": [
    "def grouped_4_boxplot(rr, rb, br, bb, fig_name):\n",
    "    ticks = rr.keys()\n",
    "\n",
    "    fig, ax = plt.subplots(figsize=(20, 5), dpi=80)\n",
    "\n",
    "    bpRR = plt.boxplot(rr.values(), positions=np.array(range(len(rr.values())))*3.0-0.8, sym='', widths=0.35)\n",
    "    bpRB = plt.boxplot(rb.values(), positions=np.array(range(len(rb.values())))*3.0-0.25, sym='', widths=0.35)\n",
    "    bpBR = plt.boxplot(br.values(), positions=np.array(range(len(rr.values())))*3.0+0.25, sym='', widths=0.35)\n",
    "    bpBB = plt.boxplot(bb.values(), positions=np.array(range(len(bb.values())))*3.0+0.8, sym='', widths=0.35)\n",
    "\n",
    "    set_box_color(bpRR, '#d95f02') # colors are from http://colorbrewer2.org/\n",
    "    set_box_color(bpRB, '#1c9099')\n",
    "    set_box_color(bpBR, '#2ca25f')\n",
    "    set_box_color(bpBB, '#7570b3')\n",
    "\n",
    "    # draw temporary rr and blue lines and use them to create a legend\n",
    "    plt.plot([], c='#d95f02', label='RR')\n",
    "    plt.plot([], c='#1c9099', label='RB')\n",
    "    plt.plot([], c='#2ca25f', label='BR')\n",
    "    plt.plot([], c='#7570b3', label='BB')\n",
    "    plt.legend(loc=2)\n",
    "\n",
    "    # plt.xticks(range(0, 300, 5), ticks)\n",
    "    # plt.xlim(-3, len(ticks)*3)\n",
    "    plt.ylim(-1, 15)\n",
    "    plt.xticks(range(0, len(ticks) * 3, 3), ticks)\n",
    "    plt.xlim(-2, len(ticks)*3)\n",
    "\n",
    "    ax.set_xticklabels(rr.keys())\n",
    "    ax.set_xlabel(\"Timeout[s]\")\n",
    "    ax.set_ylabel(\"Elapsed timeout for each kilobot\")\n",
    "\n",
    "    plt.tight_layout()\n",
    "    plt.savefig(fig_name + '.png')"
   ]
  },
  {
   "cell_type": "code",
   "execution_count": null,
   "metadata": {},
   "outputs": [],
   "source": [
    "results_folder = os.path.join(os.getcwd(), \"results_adaptive/\" + experiment)\n",
    "if not os.path.isdir(results_folder):\n",
    "    print(colored(\"Error, \" + results_folder + \" does not exist\", 'red'))\n",
    "else:\n",
    "    print(colored(\"OK, \" + results_folder + \" exists\", 'green'))\n",
    "\n",
    "rr = {}\n",
    "rb = {}\n",
    "br = {}\n",
    "bb = {}\n",
    "\n",
    "for mean_timeout in natsorted(os.listdir(os.path.join(results_folder))):\n",
    "    if not mean_timeout.startswith(\"mean_run\"):\n",
    "        continue\n",
    "    \n",
    "    print(colored(\"Timeout file:\", 'blue'), mean_timeout)\n",
    "    \n",
    "    parameters = mean_timeout.split(\"_\")\n",
    "    for param in parameters:\n",
    "        if param.startswith(\"timeout\"):\n",
    "            timeout = int(param.split(\"#\")[-1])\n",
    "    \n",
    "    df_timeout = pd.read_pickle(os.path.join(results_folder,mean_timeout))\n",
    "    rr[timeout] = df_timeout['RR'].values\n",
    "    rb[timeout] = df_timeout['RB'].values\n",
    "    br[timeout] = df_timeout['BR'].values\n",
    "    bb[timeout] = df_timeout['BB'].values    \n",
    "#     if mean_timeout.endswith(\"10.pickle\"):\n",
    "#         break"
   ]
  },
  {
   "cell_type": "code",
   "execution_count": null,
   "metadata": {},
   "outputs": [],
   "source": [
    "figname = 'meanElapsedTimeout_groupsize0.75_randomMixed_adaptive.png'\n",
    "grouped_4_boxplot(rr,rb,br,bb,figname)"
   ]
  },
  {
   "cell_type": "code",
   "execution_count": null,
   "metadata": {},
   "outputs": [],
   "source": [
    "df_timeout = pd.read_pickle(os.path.join(results_folder,mean_timeout))\n",
    "rr[mean_timeout[-9:-7]] = df_timeout['RR'].values"
   ]
  },
  {
   "cell_type": "code",
   "execution_count": null,
   "metadata": {},
   "outputs": [],
   "source": [
    "rr"
   ]
  },
  {
   "cell_type": "code",
   "execution_count": null,
   "metadata": {},
   "outputs": [],
   "source": [
    "some_array = df_timeout['RR'].values\n",
    "some_array = some_array.reshape(-1)"
   ]
  },
  {
   "cell_type": "code",
   "execution_count": null,
   "metadata": {
    "scrolled": true
   },
   "outputs": [],
   "source": [
    "some_array.shape"
   ]
  },
  {
   "cell_type": "code",
   "execution_count": null,
   "metadata": {},
   "outputs": [],
   "source": []
  },
  {
   "cell_type": "code",
   "execution_count": null,
   "metadata": {},
   "outputs": [],
   "source": []
  },
  {
   "cell_type": "code",
   "execution_count": null,
   "metadata": {},
   "outputs": [],
   "source": []
  },
  {
   "cell_type": "code",
   "execution_count": null,
   "metadata": {},
   "outputs": [],
   "source": []
  },
  {
   "cell_type": "code",
   "execution_count": null,
   "metadata": {},
   "outputs": [],
   "source": []
  },
  {
   "cell_type": "code",
   "execution_count": null,
   "metadata": {},
   "outputs": [],
   "source": []
  },
  {
   "cell_type": "markdown",
   "metadata": {},
   "source": [
    "# Position distribution"
   ]
  },
  {
   "cell_type": "code",
   "execution_count": null,
   "metadata": {},
   "outputs": [],
   "source": [
    "robot_pos_label = [[\"posx\" + str(i), \"posy\" + str(i)] for i in range(num_robots)]\n",
    "robot_pos_label = np.reshape(robot_pos_label, (-1))\n",
    "robot_pos_label = np.append('time', robot_pos_label)\n",
    "robot_pos_label"
   ]
  },
  {
   "cell_type": "code",
   "execution_count": null,
   "metadata": {},
   "outputs": [],
   "source": [
    "kilo_0_pos = df_kilo_client_temp[robot_pos_label].iloc[:,3:5]\n",
    "kilo_0_pos"
   ]
  },
  {
   "cell_type": "code",
   "execution_count": null,
   "metadata": {},
   "outputs": [],
   "source": [
    "dist = np.linalg.norm(kilo_0_pos, axis=1)\n",
    "dist"
   ]
  },
  {
   "cell_type": "code",
   "execution_count": null,
   "metadata": {},
   "outputs": [],
   "source": [
    "robot_origin_distance_df = pd.DataFrame()\n",
    "for r_idx in range(1,len(robot_pos_label),2):\n",
    "#     print(df_kilo_client_temp[robot_pos_label].iloc[:2,r_idx:r_idx+2])\n",
    "    print(r_idx//2)\n",
    "    r_pos = df_kilo_client_temp[robot_pos_label].iloc[:,r_idx:r_idx+2]\n",
    "    origin_dist = np.linalg.norm(r_pos, axis=1)\n",
    "    robot_origin_distance_df['dist'+str(r_idx//2)] = origin_dist"
   ]
  },
  {
   "cell_type": "code",
   "execution_count": null,
   "metadata": {},
   "outputs": [],
   "source": [
    "len(robot_pos_label)"
   ]
  },
  {
   "cell_type": "code",
   "execution_count": null,
   "metadata": {},
   "outputs": [],
   "source": [
    "robot_origin_distance_df['distance0'] = [44]"
   ]
  },
  {
   "cell_type": "code",
   "execution_count": null,
   "metadata": {},
   "outputs": [],
   "source": [
    "robot_origin_distance_df.index = df_kilo_client_temp['time']\n",
    "robot_origin_distance_df.shape"
   ]
  },
  {
   "cell_type": "code",
   "execution_count": null,
   "metadata": {},
   "outputs": [],
   "source": [
    "bin_edges = np.linspace(0, 0.5, 20)\n",
    "bin_edges"
   ]
  },
  {
   "cell_type": "code",
   "execution_count": null,
   "metadata": {},
   "outputs": [],
   "source": [
    "hist_val = np.array([])\n",
    "i=0\n",
    "for x in robot_origin_distance_df.values:\n",
    "#     print(x)\n",
    "    hist, _ = np.histogram(x, bin_edges)\n",
    "#     print(i,' ',hist)\n",
    "    i+=1\n",
    "    hist_val = np.vstack([hist_val, hist]) if hist_val.size else hist\n",
    "    print(i, '\\n', hist_val, end='\\n\\n')\n",
    "\n",
    "# for i in range(edges[1:].size):\n",
    "#     area = np.pi * (np.square(edges[1:][i]) - np.square(edges[1:][i - 1])) if i else np.pi * np.square(edges[1:][i])\n",
    "#     hist_val[:, i] = np.true_divide(hist_val[:, i], area * runs)"
   ]
  },
  {
   "cell_type": "code",
   "execution_count": null,
   "metadata": {},
   "outputs": [],
   "source": [
    "hist_val.shape"
   ]
  },
  {
   "cell_type": "code",
   "execution_count": null,
   "metadata": {},
   "outputs": [],
   "source": [
    "values = hist_val.T\n",
    "y_edges = bin_edges[1:].round(decimals=3)\n",
    "fig = plt.figure(figsize=(10, 5), dpi=80)\n",
    "# plt.ylabel('Distance from origin')\n",
    "# plt.xlabel('time(s)')\n",
    "# plt.legend()\n",
    "yticks = y_edges\n",
    "# plt.imshow(distances,interpolation='none')\n",
    "\n",
    "\n",
    "\n",
    "# print(\"\\t v_max:\", v_max)\n",
    "ax = sns.heatmap(values, yticklabels=yticks, cmap=\"viridis\", vmin=0)#, vmax=v_max)\n",
    "ax.set_title(\"Robots diffusion\")\n",
    "ax.set_ylabel('distance from the origin')\n",
    "ax.set_xlabel('time')\n",
    "plt.savefig(\"randomMixed_adaptive_timeout6\")"
   ]
  },
  {
   "cell_type": "code",
   "execution_count": null,
   "metadata": {},
   "outputs": [],
   "source": []
  },
  {
   "cell_type": "code",
   "execution_count": null,
   "metadata": {},
   "outputs": [],
   "source": []
  },
  {
   "cell_type": "markdown",
   "metadata": {},
   "source": [
    "# Prova di impilazione df"
   ]
  },
  {
   "cell_type": "code",
   "execution_count": null,
   "metadata": {},
   "outputs": [],
   "source": [
    "df_kilo_client_temp.shape"
   ]
  },
  {
   "cell_type": "code",
   "execution_count": null,
   "metadata": {},
   "outputs": [],
   "source": [
    "df_kilo_server_temp.shape"
   ]
  },
  {
   "cell_type": "code",
   "execution_count": null,
   "metadata": {},
   "outputs": [],
   "source": [
    "df_kilo_client_temp.iloc[898:,]"
   ]
  },
  {
   "cell_type": "code",
   "execution_count": null,
   "metadata": {},
   "outputs": [],
   "source": [
    "df_kilo_server_temp.iloc[898:,]"
   ]
  },
  {
   "cell_type": "code",
   "execution_count": null,
   "metadata": {},
   "outputs": [],
   "source": [
    "df_join = pd.DataFrame()\n",
    "df_join = df_kilo_client_temp.append(df_kilo_server_temp)"
   ]
  },
  {
   "cell_type": "code",
   "execution_count": null,
   "metadata": {},
   "outputs": [],
   "source": [
    "df_join"
   ]
  },
  {
   "cell_type": "code",
   "execution_count": 11,
   "metadata": {},
   "outputs": [],
   "source": [
    "num_robots = 24\n",
    "num_areas = 8"
   ]
  },
  {
   "cell_type": "code",
   "execution_count": 12,
   "metadata": {},
   "outputs": [
    {
     "name": "stdout",
     "output_type": "stream",
     "text": [
      "\u001b[32mOK, /home/luigi/Documents/ARGoS/argos_results_scripts/DHTF/results_adaptive/random_mixed/ exists\u001b[0m\n"
     ]
    }
   ],
   "source": [
    "results_folder = '/home/luigi/Documents/ARGoS/argos_results_scripts/DHTF/results_adaptive/random_mixed/'\n",
    "if not os.path.isdir(results_folder):\n",
    "    print(colored(\"Error, \" + results_folder + \" does not exist\", 'red'))\n",
    "else:\n",
    "    print(colored(\"OK, \" + results_folder + \" exists\", 'green'))"
   ]
  },
  {
   "cell_type": "code",
   "execution_count": 83,
   "metadata": {
    "scrolled": true
   },
   "outputs": [
    {
     "name": "stdout",
     "output_type": "stream",
     "text": [
      "\u001b[34mTimeout folder:\u001b[0m random_mixed_2021-05-05_robots#24_timeout#1_redAreas#4_1800seconds\n",
      "Already exists  /home/luigi/Documents/ARGoS/argos_results_scripts/DHTF/results_adaptive/random_mixed/random_mixed_2021-05-05_robots#24_timeout#1_redAreas#4_1800seconds/kiloLOG_timeout#10_.pickle\n",
      "\u001b[34mTimeout folder:\u001b[0m random_mixed_2021-05-05_robots#24_timeout#2_redAreas#4_1800seconds\n",
      "Already exists  /home/luigi/Documents/ARGoS/argos_results_scripts/DHTF/results_adaptive/random_mixed/random_mixed_2021-05-05_robots#24_timeout#2_redAreas#4_1800seconds/kiloLOG_timeout#20_.pickle\n"
     ]
    }
   ],
   "source": [
    "df_kilo_timeout = pd.DataFrame()\n",
    "\n",
    "evaluate_run = False\n",
    "\n",
    "for timeout_folder in natsorted(os.listdir(os.path.join(results_folder))):\n",
    "\n",
    "    if timeout_folder.endswith(\"pickle\"):\n",
    "        continue\n",
    "\n",
    "    print(colored(\"Timeout folder:\", 'blue'), timeout_folder)\n",
    "    timeout = -1\n",
    "    parameters = timeout_folder.split(\"_\")\n",
    "    for param in parameters:\n",
    "        if param.startswith(\"timeout\"):\n",
    "            timeout = int(param.split(\"#\")[-1]) * 10\n",
    "            # print(\"\\t timeoutR:\",timeoutR)\n",
    "\n",
    "    if timeout == -1:\n",
    "        print(colored(\"\\tWARNING: wrong timeout folder\", 'red'))\n",
    "        continue\n",
    "\n",
    "    # TODO : check for total_timeout_df existence\n",
    "    if os.path.isfile(os.path.join(results_folder, timeout_folder, \"kiloLOG_timeout#\"+str(timeout)+\"_.pickle\")):\n",
    "        print(\"Already exists \", os.path.join(results_folder, timeout_folder, \"kiloLOG_timeout#\"+str(timeout)+\"_.pickle\"))\n",
    "    else:\n",
    "        # print(colored(\n",
    "        #     os.path.join(results_folder, pickle_file_root\"_timeout#\"+str(timeout*10)+\"_.pickle\"),\n",
    "        #     'red'))\n",
    "        # sys.exit()\n",
    "        for filename in natsorted(os.listdir(os.path.join(results_folder, timeout_folder))):\n",
    "            filename_seed = filename.split(\"_\")[0].split(\"#\")[-1]\n",
    "            \n",
    "#             if filename_seed == '3':\n",
    "#                 filename_seed = '2'\n",
    "#                 break\n",
    "            \n",
    "            \n",
    "            # print(filename)\n",
    "            if filename.endswith(\"areaLOG_client.tsv\"):\n",
    "                if not os.path.getsize(os.path.join(results_folder, timeout_folder, filename)) > 0:\n",
    "                    print(colored(\"\\tWARNING, empty file at:\" + filename, 'red'))\n",
    "                    continue\n",
    "                print('\\tfilename: ', filename)\n",
    "                \n",
    "                df_area_client = pd.read_csv(os.path.join(results_folder, timeout_folder, filename), sep=\"\\t\", header=None)\n",
    "\n",
    "            if filename.endswith(\"areaLOG_server.tsv\"):\n",
    "                if not os.path.getsize(os.path.join(results_folder, timeout_folder, filename)) > 0:\n",
    "                    print(colored(\"\\tWARNING, empty file at:\" + filename, 'red'))\n",
    "                    continue\n",
    "                print('\\tfilename: ', filename)\n",
    "                df_area_server = pd.read_csv(os.path.join(results_folder, timeout_folder, filename), sep=\"\\t\", header=None)\n",
    "\n",
    "            if filename.endswith(\"kiloLOG_client.tsv\"):\n",
    "                if not os.path.getsize(os.path.join(results_folder, timeout_folder, filename)) > 0:\n",
    "                    print(colored(\"\\tWARNING, empty file at:\" + filename, 'red'))\n",
    "                    continue\n",
    "                print('\\tfilename: ', filename)\n",
    "                df_kilo_client = pd.read_csv(os.path.join(results_folder, timeout_folder, filename), sep=\"\\t\", header=None)\n",
    "\n",
    "            if filename.endswith(\"kiloLOG_server.tsv\"):\n",
    "                if not os.path.getsize(os.path.join(results_folder, timeout_folder, filename)) > 0:\n",
    "                    print(colored(\"\\tWARNING, empty file at:\" + filename, 'red'))\n",
    "                    continue\n",
    "                print('\\tfilename: ', filename, end='\\n')\n",
    "                df_kilo_server = pd.read_csv(os.path.join(results_folder, timeout_folder, filename), sep=\"\\t\",header=None)\n",
    "                evaluate_run = True\n",
    "                \n",
    "                \n",
    "            if evaluate_run:\n",
    "                print(colored(\"\\tEvaluating run:\"+filename_seed, 'blue'))\n",
    "                \n",
    "                if len(df_kilo_client.columns) > 145:\n",
    "                    print(\"\\tCutting null elements in client kilo df\")\n",
    "                    df_kilo_client.drop(df_kilo_client.columns[len(df_kilo_client.columns) - 1], axis=1, inplace=True)\n",
    "\n",
    "                if len(df_kilo_server.columns) > 145:\n",
    "                    print(\"\\tCutting null elements in server kilo df\")\n",
    "                    df_kilo_server.drop(df_kilo_server.columns[len(df_kilo_server.columns) - 1], axis=1, inplace=True)\n",
    "\n",
    "                col_kilo_labels = ['time']\n",
    "                for i in range(0, len(df_kilo_server.columns) - 1, 6):\n",
    "                    #     print(i,end=\", \")\n",
    "                    col_kilo_labels += ['id' + str(i // 6), 'state' + str(i // 6), 'posx' + str(i // 6), 'posy' + str(i // 6),\n",
    "                                        'ori' + str(i // 6), 'same_state' + str(i // 6)]\n",
    "\n",
    "                col_kilo_to_drop = []\n",
    "                for i in range((len(df_kilo_server.columns) - 1) // 6):\n",
    "                    #     print(i,end=\", \")\n",
    "                    col_kilo_to_drop += ['same_state' + str(i)]\n",
    "\n",
    "                df_kilo_server.columns = col_kilo_labels\n",
    "                df_kilo_client.columns = col_kilo_labels\n",
    "                df_kilo_server = df_kilo_server.drop(col_kilo_to_drop, axis=1)\n",
    "                df_kilo_client = df_kilo_client.drop(col_kilo_to_drop, axis=1)\n",
    "\n",
    "                col_area_labels = ['time']\n",
    "                for i in range(0, len(df_area_server.columns) - 2, 6):\n",
    "                    # print(i, end=\", \")\n",
    "                    col_area_labels += ['id' + str(i // 6), 'posx' + str(i // 6), 'posy' + str(i // 6), 'color' + str(i // 6),\n",
    "                                        'completed' + str(i // 6), 'contained' + str(i // 6)]\n",
    "\n",
    "                # Remove last empty col and assign labels to df_area_server\n",
    "                if len(df_area_server.columns) > 49:\n",
    "                    print(\"\\tCutting null elements in area server df\")\n",
    "                    df_area_server.drop(df_area_server.columns[len(df_area_server.columns) - 1], axis=1, inplace=True)\n",
    "                df_area_server.columns = col_area_labels\n",
    "\n",
    "                # First df_area_client row contains garbage, so is substituted with the second row except for the time,\n",
    "                # then remove Nan values in [:,49:]\n",
    "                if len(df_area_client.columns) > 49:\n",
    "                    print(\"\\tCutting null elements in area client df\")\n",
    "                    df_area_client.loc[0, 1:] = df_area_client.loc[1, 1:]\n",
    "                    df_area_client = df_area_client.drop(np.arange(49, len(df_area_client.columns)), axis=1)\n",
    "                df_area_client.columns = col_area_labels\n",
    "                \n",
    "                area_pos_label = []\n",
    "                for i in range(num_areas):\n",
    "                    area_pos_label += [\"posx\"+str(i)]\n",
    "                    area_pos_label += [\"posy\"+str(i)]\n",
    "                # area_pos_label\n",
    "\n",
    "                areas_pos = df_area_client[area_pos_label].iloc[0, :].values\n",
    "                areas_pos = areas_pos.reshape(-1,2)\n",
    "#                 print(areas_pos)\n",
    "                \n",
    "                color_list = [\"color\" + str(i) for i in range(num_areas)]\n",
    "                df_area3_s = df_area_server.iloc[:1, :][color_list]\n",
    "                df_area3_c = df_area_client.iloc[:1, :][color_list]\n",
    "\n",
    "                for i,idx in enumerate(range(1,len(df_area3_c.columns)*2,2)):\n",
    "                #     print(i, ' ', idx)\n",
    "                    df_area3_c.insert(loc=idx, column='other_col'+str(i), value=df_area3_s.iloc[0][i])\n",
    "\n",
    "                df_area3_c\n",
    "                client = [col for col in df_area3_c.columns if 'color' in col]\n",
    "                server = [col for col in df_area3_c.columns if 'other_col' in col]\n",
    "                df_area_colors = pd.lreshape(df_area3_c, {'color_client' : client, 'color_server' : server})\n",
    "                area_type = []\n",
    "                for area in df_area_colors.values:\n",
    "                    if(area[0] == 0 and area[1] == 0):\n",
    "                        area_type += ['BB']\n",
    "                    if(area[0] == 0 and area[1] == 1):\n",
    "                        area_type += ['BR']\n",
    "                    if(area[0] == 1 and area[1] == 0):\n",
    "                        area_type += ['RB']\n",
    "                    if(area[0] == 1 and area[1] == 1):\n",
    "                        area_type += ['RR']\n",
    "                df_area_colors.insert(loc=2, column='area_type', value=area_type)\n",
    "                \n",
    "                for i,kilo_id in enumerate(np.arange(1, len(df_kilo_server.columns), 5)):\n",
    "                    # print(colored(\"kilo_id:\"+str((kilo_id-1)//5), 'blue'))\n",
    "                #     print(df_kilo_client.iloc[:20, kilo_id+2:kilo_id+4].values, end='\\n\\n')\n",
    "                    kilo_pos = df_kilo_server.iloc[:, kilo_id+i+2:kilo_id+i+4].values\n",
    "                #     print(kilo_pos)\n",
    "                    in_area=np.empty(kilo_pos.shape[0], dtype=int); in_area.fill(-1)\n",
    "                    for area_idx, area_pos in enumerate(areas_pos):\n",
    "                    #     print(area_idx,' ', area_pos)\n",
    "                        dist = np.linalg.norm(kilo_pos-area_pos, axis=1)\n",
    "                    #     print(dist, end='\\n\\n')\n",
    "                        in_area = np.where(dist < 0.1, df_area_colors.iloc[area_idx][-1][::-1], in_area)\n",
    "                #     in_area = np.where(in_area == -1, np.NaN, in_area)\n",
    "                #     print(in_area)\n",
    "                    df_kilo_server.insert(loc=int(kilo_id+i+2), column='area_type'+str(i), value=in_area)\n",
    "                    \n",
    "                for i,kilo_id in enumerate(np.arange(1, len(df_kilo_client.columns), 5)):\n",
    "#                     print(colored(\"kilo_id:\"+str((kilo_id-1)//5), 'blue'))\n",
    "                #     print(df_kilo_client.iloc[:20, kilo_id+2:kilo_id+4].values, end='\\n\\n')\n",
    "                    kilo_pos = df_kilo_client.iloc[:, kilo_id+i+2:kilo_id+i+4].values\n",
    "                #     print(kilo_pos)\n",
    "                    in_area=np.empty(kilo_pos.shape[0], dtype=int); in_area.fill(-1)\n",
    "                    for area_idx, area_pos in enumerate(areas_pos):\n",
    "                    #     print(area_idx,' ', area_pos)\n",
    "                        dist = np.linalg.norm(kilo_pos-area_pos, axis=1)\n",
    "                    #     print(dist, end='\\n\\n')\n",
    "                        in_area = np.where(dist < 0.1, df_area_colors.iloc[area_idx][-1], in_area)\n",
    "                #     in_area = np.where(in_area == -1, np.NaN, in_area)\n",
    "                #     print(in_area)\n",
    "                    df_kilo_client.insert(loc=int(kilo_id+i+2), column='area_type'+str(i), value=in_area)\n",
    "                    \n",
    "                df_kilo_single_run = df_kilo_client.join(df_kilo_server, lsuffix='_c', rsuffix='_s')\n",
    "                df_kilo_single_run = df_kilo_single_run.set_index(df_kilo_single_run.index.astype(str) + '_' + filename_seed)\n",
    "                \n",
    "                df_kilo_timeout = df_kilo_timeout.append(df_kilo_single_run)\n",
    "            \n",
    "                \n",
    "                evaluate_run = False\n",
    "        df_kilo_timeout.to_pickle(os.path.join(results_folder, timeout_folder, \"kiloLOG_timeout#\"+str(timeout)+\"_.pickle\"))\n",
    "        print(\"Saving at: \", os.path.join(results_folder, timeout_folder, \"kiloLOG_timeout#\"+str(timeout)+\"_.pickle\"))\n",
    "        print(\"Changing dir\")\n",
    "    \n",
    "    if(timeout == 20):\n",
    "        break"
   ]
  },
  {
   "cell_type": "code",
   "execution_count": 84,
   "metadata": {},
   "outputs": [
    {
     "data": {
      "text/plain": [
       "(0, 0)"
      ]
     },
     "execution_count": 84,
     "metadata": {},
     "output_type": "execute_result"
    }
   ],
   "source": [
    "df_kilo_timeout.shape"
   ]
  },
  {
   "cell_type": "code",
   "execution_count": 90,
   "metadata": {},
   "outputs": [],
   "source": [
    "dfPath = \"/home/luigi/Documents/ARGoS/argos_results_scripts/DHTF/results_adaptive/random_mixed/random_mixed_2021-05-05_robots#24_timeout#1_redAreas#4_1800seconds/kiloLOG_timeout#10_.pickle\""
   ]
  },
  {
   "cell_type": "code",
   "execution_count": 91,
   "metadata": {},
   "outputs": [],
   "source": [
    "df_timeout_20 = pd.read_pickle(dfPath)"
   ]
  },
  {
   "cell_type": "code",
   "execution_count": 92,
   "metadata": {},
   "outputs": [
    {
     "data": {
      "text/plain": [
       "(89778, 290)"
      ]
     },
     "execution_count": 92,
     "metadata": {},
     "output_type": "execute_result"
    }
   ],
   "source": [
    "df_timeout_20.shape"
   ]
  },
  {
   "cell_type": "code",
   "execution_count": 87,
   "metadata": {},
   "outputs": [
    {
     "data": {
      "text/plain": [
       "(0, 0)"
      ]
     },
     "execution_count": 87,
     "metadata": {},
     "output_type": "execute_result"
    }
   ],
   "source": [
    "df_timeout_10.shape"
   ]
  },
  {
   "cell_type": "code",
   "execution_count": 70,
   "metadata": {},
   "outputs": [
    {
     "data": {
      "text/html": [
       "<div>\n",
       "<style scoped>\n",
       "    .dataframe tbody tr th:only-of-type {\n",
       "        vertical-align: middle;\n",
       "    }\n",
       "\n",
       "    .dataframe tbody tr th {\n",
       "        vertical-align: top;\n",
       "    }\n",
       "\n",
       "    .dataframe thead th {\n",
       "        text-align: right;\n",
       "    }\n",
       "</style>\n",
       "<table border=\"1\" class=\"dataframe\">\n",
       "  <thead>\n",
       "    <tr style=\"text-align: right;\">\n",
       "      <th></th>\n",
       "      <th>time_c</th>\n",
       "      <th>id0_c</th>\n",
       "    </tr>\n",
       "  </thead>\n",
       "  <tbody>\n",
       "    <tr>\n",
       "      <th>308_4</th>\n",
       "      <td>616.0</td>\n",
       "      <td>0</td>\n",
       "    </tr>\n",
       "    <tr>\n",
       "      <th>309_4</th>\n",
       "      <td>618.0</td>\n",
       "      <td>0</td>\n",
       "    </tr>\n",
       "  </tbody>\n",
       "</table>\n",
       "</div>"
      ],
      "text/plain": [
       "       time_c  id0_c\n",
       "308_4   616.0      0\n",
       "309_4   618.0      0"
      ]
     },
     "execution_count": 70,
     "metadata": {},
     "output_type": "execute_result"
    }
   ],
   "source": [
    "df_timeout_10.iloc[3000:3002,:2]"
   ]
  },
  {
   "cell_type": "code",
   "execution_count": null,
   "metadata": {},
   "outputs": [],
   "source": []
  }
 ],
 "metadata": {
  "kernelspec": {
   "display_name": "Python 3",
   "language": "python",
   "name": "python3"
  },
  "language_info": {
   "codemirror_mode": {
    "name": "ipython",
    "version": 3
   },
   "file_extension": ".py",
   "mimetype": "text/x-python",
   "name": "python",
   "nbconvert_exporter": "python",
   "pygments_lexer": "ipython3",
   "version": "3.6.9"
  }
 },
 "nbformat": 4,
 "nbformat_minor": 4
}
