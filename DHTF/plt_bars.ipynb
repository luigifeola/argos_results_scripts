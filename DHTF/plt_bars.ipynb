{
 "cells": [
  {
   "cell_type": "code",
   "execution_count": 1,
   "metadata": {},
   "outputs": [
    {
     "data": {
      "text/html": [
       "<style>.container { width:70% !important; }</style>"
      ],
      "text/plain": [
       "<IPython.core.display.HTML object>"
      ]
     },
     "metadata": {},
     "output_type": "display_data"
    }
   ],
   "source": [
    "from IPython.core.display import display, HTML\n",
    "display(HTML(\"<style>.container { width:70% !important; }</style>\"))"
   ]
  },
  {
   "cell_type": "code",
   "execution_count": 2,
   "metadata": {},
   "outputs": [],
   "source": [
    "import numpy as np\n",
    "from collections import OrderedDict\n",
    "import matplotlib as mpl\n",
    "import matplotlib.pyplot as plt\n",
    "\n",
    "# mpl.style.use('seaborn')"
   ]
  },
  {
   "cell_type": "code",
   "execution_count": 3,
   "metadata": {
    "pycharm": {
     "name": "#%%\n"
    }
   },
   "outputs": [],
   "source": [
    "blue_exp = OrderedDict([(5, 39.92), (30, 54.58), (60, 49.69), (90, 46.95), (120, 43.84)])\n",
    "red_exp = OrderedDict([(5, 30.03), (30, 34.75), (60, 34.36), (90, 34.2), (120, 35.49)])\n",
    "mixed_exp = OrderedDict([(5, 20.15), (30, 23.29), (60, 17.67), (90, 2.82), (120, 13.70)])"
   ]
  },
  {
   "cell_type": "code",
   "execution_count": null,
   "metadata": {
    "pycharm": {
     "name": "#%%\n"
    }
   },
   "outputs": [],
   "source": [
    "# keys = blue_exp.keys()\n",
    "# values = blue_exp.values()\n",
    "\n",
    "# plt.bar(keys, values)\n",
    "# plt.show()"
   ]
  },
  {
   "cell_type": "code",
   "execution_count": null,
   "metadata": {
    "pycharm": {
     "name": "#%%\n"
    }
   },
   "outputs": [],
   "source": [
    "# keys = red_exp.keys()\n",
    "# values = red_exp.values()\n",
    "\n",
    "# plt.bar(keys, values)\n",
    "# plt.show()\n"
   ]
  },
  {
   "cell_type": "code",
   "execution_count": null,
   "metadata": {
    "pycharm": {
     "name": "#%%\n"
    }
   },
   "outputs": [],
   "source": [
    "# keys = mixed_exp.keys()\n",
    "# values = mixed_exp.values()\n",
    "\n",
    "# plt.bar(keys, values)\n",
    "# plt.show()\n"
   ]
  },
  {
   "cell_type": "code",
   "execution_count": null,
   "metadata": {
    "pycharm": {
     "name": "#%%\n"
    }
   },
   "outputs": [],
   "source": [
    "\n",
    "\n",
    "labels = mixed_exp.keys()\n",
    "red_mean = red_exp.values()\n",
    "blue_mean = blue_exp.values()\n",
    "mixed_mean = mixed_exp.values()\n",
    "\n",
    "x = np.arange(len(labels))  # the label locations\n",
    "width = 0.35  # the width of the bars\n",
    "\n",
    "fig, ax = plt.subplots(dpi=120)\n",
    "rects1 = ax.bar(x - width/3 , blue_mean, width/3, label='Homogeneous BLUE')\n",
    "rects2 = ax.bar(x + width/3 , mixed_mean, width/3, label='MIXED')\n",
    "rects3 = ax.bar(x , red_mean, width/3, label='Homogeneous RED')\n",
    "\n",
    "# Add some text for labels, title and custom x-axis tick labels, etc.\n",
    "ax.set_ylabel('Mean completed areas')\n",
    "ax.set_title('Completed areas varying the timeout')\n",
    "ax.set_xticks(x)\n",
    "ax.set_xticklabels(labels)\n",
    "ax.legend()\n",
    "\n",
    "\n",
    "fig.tight_layout()\n",
    "\n",
    "plt.show()\n",
    "# plt.savefig(\"comparison\")\n",
    "# plt.close(fig)"
   ]
  },
  {
   "cell_type": "code",
   "execution_count": null,
   "metadata": {
    "pycharm": {
     "name": "#%%\n"
    }
   },
   "outputs": [],
   "source": []
  },
  {
   "cell_type": "markdown",
   "metadata": {},
   "source": [
    "# BoxPlot"
   ]
  },
  {
   "cell_type": "code",
   "execution_count": 4,
   "metadata": {},
   "outputs": [],
   "source": [
    "import numpy as np\n",
    "import matplotlib.pyplot as plt\n",
    "\n",
    "# # Fixing random state for reproducibility\n",
    "# np.random.seed(19680801)\n",
    "\n",
    "# # fake up some data\n",
    "# spread = np.random.rand(50) * 100\n",
    "# center = np.ones(25) * 50\n",
    "# flier_high = np.random.rand(10) * 100 + 100\n",
    "# flier_low = np.random.rand(10) * -100\n",
    "# data = np.concatenate((spread, center, flier_high, flier_low))\n",
    "\n"
   ]
  },
  {
   "cell_type": "code",
   "execution_count": null,
   "metadata": {},
   "outputs": [],
   "source": [
    "data_mixed = np.array(\n",
    "    [18, 32, 24, 27, 27, 20, 21, 27, 25, 27, 25, 24, 18, 26, 28, 21, 24, 21,\n",
    "     22, 35, 24, 15, 22, 14, 31, 28, 22, 22, 26, 22, 19, 33, 19, 33, 28, 26,\n",
    "     29, 29, 25, 19, 18, 27, 26, 25, 24, 26, 19, 27, 13, 28, 17, 13, 26, 35,\n",
    "     23, 19, 27, 19, 13, 23, 24, 19, 28, 26, 32, 23, 18, 24, 23, 20, 23, 20,\n",
    "     24, 23, 24,  9, 24, 22, 30, 31, 16, 20, 20, 20, 15, 23, 22, 17, 25, 30,\n",
    "     26, 20, 25, 20, 31, 24, 17, 25, 16, 24])"
   ]
  },
  {
   "cell_type": "code",
   "execution_count": null,
   "metadata": {},
   "outputs": [],
   "source": [
    "data_blue = np.array([40, 48, 40, 45, 38, 34, 53, 34, 46, 50, 30, 29, 41, 30, 29, 44, 35, 37,\n",
    " 52, 47, 35, 24, 45, 43, 42, 38, 39, 40, 29, 38, 44, 45, 36, 52, 45, 41,\n",
    " 40, 32, 39, 47, 34, 39, 40, 40, 41, 33, 34, 56, 38, 38, 44, 42, 41, 46,\n",
    " 49, 36, 31, 30, 34, 37, 33, 37, 29, 37, 52, 42, 34, 45, 40, 35, 33, 50,\n",
    " 39, 39, 42, 37, 50, 49, 43, 46, 39, 42, 38, 37, 52, 36, 42, 34, 35, 53,\n",
    " 48, 32, 52, 28, 46, 36, 44, 40, 36, 31])"
   ]
  },
  {
   "cell_type": "code",
   "execution_count": null,
   "metadata": {},
   "outputs": [],
   "source": [
    "data_blue.shape"
   ]
  },
  {
   "cell_type": "code",
   "execution_count": null,
   "metadata": {},
   "outputs": [],
   "source": [
    "fig1, ax1 = plt.subplots(dpi=160)\n",
    "ax1.set_title('Basic Plot')\n",
    "ax1.boxplot(data_mixed)\n",
    "ax1.boxplot(data_blue)\n",
    "\n",
    "\n",
    "plt.show()"
   ]
  },
  {
   "cell_type": "code",
   "execution_count": 5,
   "metadata": {},
   "outputs": [],
   "source": [
    "blue = {\n",
    "    '5': np.array([31., 46., 36., 34., 30., 41., 37., 46., 29., 50., 33., 50., 50.,\n",
    "       42., 49., 40., 40., 29., 41., 45., 37., 35., 37., 35., 38., 49.,\n",
    "       29., 33., 38., 39., 40., 34., 35., 37., 39., 44., 32., 39., 39.,\n",
    "       56., 29., 45., 30., 30., 42., 38., 31., 36., 53., 53., 24., 42.,\n",
    "       39., 47., 41., 38., 52., 37., 38., 44., 52., 40., 48., 45., 32.,\n",
    "       40., 44., 28., 43., 36., 39., 40., 48., 40., 40., 38., 42., 46.,\n",
    "       52., 52., 34., 44., 34., 36., 46., 52., 42., 37., 34., 36., 35.,\n",
    "       47., 41., 34., 45., 34., 45., 43., 33., 42.]),\n",
    "    '30': np.array([49., 63., 54., 46., 47., 48., 50., 57., 52., 52., 51., 58., 56.,\n",
    "       49., 71., 59., 63., 56., 64., 55., 52., 59., 58., 61., 56., 59.,\n",
    "       61., 50., 65., 56., 61., 51., 49., 50., 68., 55., 60., 57., 34.,\n",
    "       63., 56., 53., 40., 52., 45., 57., 51., 50., 51., 52., 43., 46.,\n",
    "       58., 55., 51., 44., 52., 57., 66., 51., 68., 47., 62., 55., 56.,\n",
    "       50., 70., 52., 62., 40., 60., 57., 62., 52., 59., 47., 57., 57.,\n",
    "       41., 49., 61., 52., 58., 63., 62., 50., 44., 57., 44., 52., 49.,\n",
    "       62., 62., 69., 45., 47., 48., 44., 71., 60.]),\n",
    "    '60': np.array([41., 50., 51., 57., 37., 81., 66., 57., 44., 51., 40., 53., 38.,\n",
    "       40., 41., 47., 52., 36., 48., 65., 62., 36., 64., 59., 45., 44.,\n",
    "       52., 34., 63., 55., 71., 65., 24., 52., 41., 45., 58., 70., 29.,\n",
    "       47., 48., 67., 57., 53., 58., 51., 51., 38., 53., 35., 37., 56.,\n",
    "       54., 59., 70., 55., 37., 46., 49., 57., 41., 59., 41., 67., 51.,\n",
    "       44., 64., 54., 56., 35., 47., 57., 36., 31., 46., 63., 29., 45.,\n",
    "       59., 59., 40., 57., 55., 30., 56., 45., 51., 47., 33., 40., 48.,\n",
    "       49., 56., 25., 67., 46., 60., 49., 45., 44.]),\n",
    "    '90': np.array([46., 67., 62., 36., 46., 54., 49., 53., 46., 45., 52., 54., 45.,\n",
    "       32., 39., 60., 28., 53., 46., 45., 66., 56., 30., 54., 59., 42.,\n",
    "       33., 54., 38., 66., 63., 51., 51., 68., 32., 57., 41., 48., 56.,\n",
    "       25., 45., 25., 41., 69., 48., 62., 31., 49., 30., 45., 54., 53.,\n",
    "       43., 35., 57., 52., 60., 58., 54., 66., 56., 33., 50., 37., 35.,\n",
    "       46., 56., 38., 42., 28., 66., 50., 68., 49., 55., 32., 41., 38.,\n",
    "       39., 58., 42., 41., 59., 27., 50., 35., 39., 38., 44., 35., 42.,\n",
    "       39., 41., 63., 43., 53., 24., 45., 47., 46.]),\n",
    "    '120': np.array([32., 52., 30., 56., 55., 45., 58., 24., 64., 25., 46., 29., 59.,\n",
    "       27., 43., 27., 40., 24., 73., 31., 60., 22., 47., 52., 53., 24.,\n",
    "       14., 57., 27., 47., 24., 60., 47., 53., 53., 20., 48., 50., 42.,\n",
    "       58., 32., 58., 57., 26., 66., 61., 32., 50., 69., 29., 50., 41.,\n",
    "       46., 27., 33., 51., 77., 31., 50., 41., 42., 30., 35., 49., 25.,\n",
    "       50., 45., 66., 59., 45., 39., 36., 54., 20., 33., 49., 35., 32.,\n",
    "       48., 54., 17., 42., 40., 38., 40., 32., 45., 49., 57., 25., 54.,\n",
    "       60., 27., 48., 63., 58., 58., 54., 57., 49.])}"
   ]
  },
  {
   "cell_type": "code",
   "execution_count": 9,
   "metadata": {},
   "outputs": [
    {
     "data": {
      "image/png": "[encoded data removed]",
      "text/plain": [
       "<Figure size 960x640 with 1 Axes>"
      ]
     },
     "metadata": {
      "needs_background": "light"
     },
     "output_type": "display_data"
    }
   ],
   "source": [
    "green_diamond = dict(markerfacecolor='g', marker='D')\n",
    "fig, ax = plt.subplots(dpi=160)\n",
    "ax.boxplot(blue.values(), flierprops=green_diamond)\n",
    "ax.set_xticklabels(blue.keys())\n",
    "ax.set_title('Blue experiment')\n",
    "\n",
    "plt.savefig(\"boxPlot.png\")"
   ]
  },
  {
   "cell_type": "code",
   "execution_count": null,
   "metadata": {},
   "outputs": [],
   "source": [
    "green_diamond = dict(markerfacecolor='g', marker='D')\n",
    "fig3, ax3 = plt.subplots(dpi=160)\n",
    "ax3.set_title('Changed Outlier Symbols')\n",
    "ax3.boxplot(data, flierprops=green_diamond)"
   ]
  },
  {
   "cell_type": "code",
   "execution_count": null,
   "metadata": {},
   "outputs": [],
   "source": []
  }
 ],
 "metadata": {
  "kernelspec": {
   "display_name": "Python 3",
   "language": "python",
   "name": "python3"
  },
  "language_info": {
   "codemirror_mode": {
    "name": "ipython",
    "version": 3
   },
   "file_extension": ".py",
   "mimetype": "text/x-python",
   "name": "python",
   "nbconvert_exporter": "python",
   "pygments_lexer": "ipython3",
   "version": "3.6.9"
  }
 },
 "nbformat": 4,
 "nbformat_minor": 1
}