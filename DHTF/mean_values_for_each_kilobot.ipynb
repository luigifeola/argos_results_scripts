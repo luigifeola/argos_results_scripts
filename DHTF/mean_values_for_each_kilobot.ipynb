{
 "cells": [
  {
   "cell_type": "code",
   "execution_count": 2,
   "metadata": {},
   "outputs": [
    {
     "data": {
      "text/html": [
       "<style>.container { width:85% !important; }</style>"
      ],
      "text/plain": [
       "<IPython.core.display.HTML object>"
      ]
     },
     "metadata": {},
     "output_type": "display_data"
    }
   ],
   "source": [
    "from IPython.core.display import display, HTML\n",
    "display(HTML(\"<style>.container { width:85% !important; }</style>\"))"
   ]
  },
  {
   "cell_type": "code",
   "execution_count": 3,
   "metadata": {},
   "outputs": [],
   "source": [
    "import os\n",
    "import pandas as pd\n",
    "from termcolor import colored\n",
    "import numpy as np\n",
    "import matplotlib.pyplot as plt\n",
    "from natsort import natsorted\n",
    "import sys\n",
    "from utils import boxplots_utils"
   ]
  },
  {
   "cell_type": "code",
   "execution_count": 4,
   "metadata": {},
   "outputs": [],
   "source": [
    "#Display pandas df without truncation\n",
    "\n",
    "# pd.set_option('display.max_rows', None)\n",
    "# pd.set_option('display.max_columns', None)\n",
    "# pd.set_option('display.width', None)\n",
    "# pd.set_option('display.max_colwidth', None)"
   ]
  },
  {
   "cell_type": "code",
   "execution_count": 5,
   "metadata": {},
   "outputs": [],
   "source": [
    "experiment = \"random_mixed\""
   ]
  },
  {
   "cell_type": "code",
   "execution_count": 6,
   "metadata": {},
   "outputs": [
    {
     "name": "stdout",
     "output_type": "stream",
     "text": [
      "\u001b[32mOK, /home/luigi/Documents/ARGoS/argos_results_scripts/DHTF/results_adaptive/random_mixed exists\u001b[0m\n"
     ]
    }
   ],
   "source": [
    "results_folder = os.path.join(os.getcwd(), \"results_adaptive/\"+experiment)\n",
    "if not os.path.isdir(results_folder):\n",
    "    print(colored(\"Error, results_folder does not exist\", 'red'))\n",
    "else:\n",
    "    print(colored(\"OK, \"+results_folder+\" exists\", 'green'))"
   ]
  },
  {
   "cell_type": "code",
   "execution_count": null,
   "metadata": {},
   "outputs": [],
   "source": []
  },
  {
   "cell_type": "code",
   "execution_count": 7,
   "metadata": {},
   "outputs": [
    {
     "name": "stdout",
     "output_type": "stream",
     "text": [
      "\u001b[34mTimeout folder:\u001b[0m random_mixed_2021-05-05_robots#24_timeout#1_redAreas#4_1800seconds\n",
      "\tfilename:  seed#1_areaLOG_client.tsv\n",
      "\tfilename:  seed#1_areaLOG_server.tsv\n",
      "\tfilename:  seed#1_kiloLOG_client.tsv\n",
      "\tfilename:  seed#1_kiloLOG_server.tsv\n"
     ]
    }
   ],
   "source": [
    "for timeout_folder in natsorted(os.listdir(os.path.join(results_folder))):\n",
    "    print(colored(\"Timeout folder:\", 'blue'),timeout_folder)\n",
    "    parameters = timeout_folder.split(\"_\")\n",
    "    \n",
    "    for param in parameters:\n",
    "        if param.startswith(\"timeout\"):\n",
    "            timeout = int(param.split(\"#\")[-1]) * 10\n",
    "            # print(\"\\ttimeoutR:\",timeoutR)\n",
    "\n",
    "    if timeout == -1 :\n",
    "        print(colored(\"\\tWARNING: wrong timeout folder\", 'green'))\n",
    "        continue\n",
    "        \n",
    "    for filename in natsorted(os.listdir(os.path.join(results_folder, timeout_folder))):\n",
    "#         print('\\tfilename: ', filename)\n",
    "        if filename.endswith(\"areaLOG_client.tsv\"):\n",
    "            if not os.path.getsize(os.path.join(results_folder, timeout_folder, filename)) > 0:\n",
    "                print(colored(\"\\tWARNING, empty file at:\" + filename, 'red'))\n",
    "                continue\n",
    "            print('\\tfilename: ', filename)\n",
    "            df_area_client = pd.read_csv(os.path.join(results_folder, timeout_folder, filename), sep=\"\\t\", header=None)\n",
    "        \n",
    "        if filename.endswith(\"areaLOG_server.tsv\"):\n",
    "            if not os.path.getsize(os.path.join(results_folder, timeout_folder, filename)) > 0:\n",
    "                print(colored(\"\\tWARNING, empty file at:\" + filename, 'red'))\n",
    "                continue\n",
    "            print('\\tfilename: ', filename)\n",
    "            df_area_server = pd.read_csv(os.path.join(results_folder, timeout_folder, filename), sep=\"\\t\", header=None)\n",
    "            \n",
    "        if filename.endswith(\"kiloLOG_client.tsv\"):\n",
    "            if not os.path.getsize(os.path.join(results_folder, timeout_folder, filename)) > 0:\n",
    "                print(colored(\"\\tWARNING, empty file at:\" + filename, 'red'))\n",
    "                continue\n",
    "            print('\\tfilename: ', filename)\n",
    "            df_kilo_client = pd.read_csv(os.path.join(results_folder, timeout_folder, filename), sep=\"\\t\", header=None)\n",
    "        \n",
    "        if filename.endswith(\"kiloLOG_server.tsv\"):\n",
    "            if not os.path.getsize(os.path.join(results_folder, timeout_folder, filename)) > 0:\n",
    "                print(colored(\"\\tWARNING, empty file at:\" + filename, 'red'))\n",
    "                continue\n",
    "            print('\\tfilename: ', filename)\n",
    "            df_kilo_server = pd.read_csv(os.path.join(results_folder, timeout_folder, filename), sep=\"\\t\", header=None)\n",
    "            \n",
    "            break\n",
    "    break"
   ]
  },
  {
   "cell_type": "code",
   "execution_count": 7,
   "metadata": {},
   "outputs": [],
   "source": [
    "# print(len(df_kilo_client.columns))\n",
    "# print(len(df_kilo_server.columns))\n",
    "# print(len(df_area_client.columns))\n",
    "# print(len(df_area_server.columns))"
   ]
  },
  {
   "cell_type": "code",
   "execution_count": 8,
   "metadata": {},
   "outputs": [
    {
     "name": "stdout",
     "output_type": "stream",
     "text": [
      "Cutting null elements in client kilo df\n",
      "Cutting null elements in server kilo df\n"
     ]
    }
   ],
   "source": [
    "if len(df_kilo_client.columns) > 145:\n",
    "    print(\"Cutting null elements in client kilo df\")\n",
    "    df_kilo_client.drop(df_kilo_client.columns[len(df_kilo_client.columns)-1], axis=1, inplace=True)\n",
    "    \n",
    "if len(df_kilo_server.columns) > 145:\n",
    "    print(\"Cutting null elements in server kilo df\")\n",
    "    df_kilo_server.drop(df_kilo_server.columns[len(df_kilo_server.columns)-1], axis=1, inplace=True)\n",
    "    "
   ]
  },
  {
   "cell_type": "code",
   "execution_count": 9,
   "metadata": {
    "scrolled": true
   },
   "outputs": [],
   "source": [
    "# df_kilo_server"
   ]
  },
  {
   "cell_type": "code",
   "execution_count": 10,
   "metadata": {},
   "outputs": [],
   "source": [
    "# df_kilo_client"
   ]
  },
  {
   "cell_type": "code",
   "execution_count": 11,
   "metadata": {},
   "outputs": [],
   "source": [
    "col_kilo_labels = ['time']\n",
    "for i in range (0, len(df_kilo_server.columns)-1, 6):\n",
    "#     print(i,end=\", \")\n",
    "    col_kilo_labels += ['id'+str(i//6), 'state'+str(i//6), 'posx'+str(i//6), 'posy'+str(i//6), 'ori'+str(i//6), 'same_state'+str(i//6)]\n",
    "    \n",
    "col_kilo_to_drop = []\n",
    "for i in range((len(df_kilo_server.columns)-1)//6):\n",
    "#     print(i,end=\", \")\n",
    "    col_kilo_to_drop += ['same_state'+str(i)]"
   ]
  },
  {
   "cell_type": "code",
   "execution_count": 12,
   "metadata": {},
   "outputs": [],
   "source": [
    "df_kilo_server.columns = col_kilo_labels\n",
    "df_kilo_client.columns = col_kilo_labels\n",
    "df_kilo_server = df_kilo_server.drop(col_kilo_to_drop, axis=1)\n",
    "df_kilo_client = df_kilo_client.drop(col_kilo_to_drop, axis=1)"
   ]
  },
  {
   "cell_type": "code",
   "execution_count": 14,
   "metadata": {},
   "outputs": [],
   "source": [
    "kID0_client = df_kilo_client.iloc[:10,:6]"
   ]
  },
  {
   "cell_type": "code",
   "execution_count": 15,
   "metadata": {},
   "outputs": [
    {
     "data": {
      "text/html": [
       "<div>\n",
       "<style scoped>\n",
       "    .dataframe tbody tr th:only-of-type {\n",
       "        vertical-align: middle;\n",
       "    }\n",
       "\n",
       "    .dataframe tbody tr th {\n",
       "        vertical-align: top;\n",
       "    }\n",
       "\n",
       "    .dataframe thead th {\n",
       "        text-align: right;\n",
       "    }\n",
       "</style>\n",
       "<table border=\"1\" class=\"dataframe\">\n",
       "  <thead>\n",
       "    <tr style=\"text-align: right;\">\n",
       "      <th></th>\n",
       "      <th>time</th>\n",
       "      <th>id0</th>\n",
       "      <th>state0</th>\n",
       "      <th>posx0</th>\n",
       "      <th>posy0</th>\n",
       "      <th>ori0</th>\n",
       "    </tr>\n",
       "  </thead>\n",
       "  <tbody>\n",
       "    <tr>\n",
       "      <th>0</th>\n",
       "      <td>0.1</td>\n",
       "      <td>0</td>\n",
       "      <td>0</td>\n",
       "      <td>-0.2607</td>\n",
       "      <td>0.3622</td>\n",
       "      <td>0.4071</td>\n",
       "    </tr>\n",
       "    <tr>\n",
       "      <th>1</th>\n",
       "      <td>2.0</td>\n",
       "      <td>0</td>\n",
       "      <td>0</td>\n",
       "      <td>-0.2448</td>\n",
       "      <td>0.3572</td>\n",
       "      <td>-1.0773</td>\n",
       "    </tr>\n",
       "    <tr>\n",
       "      <th>2</th>\n",
       "      <td>4.0</td>\n",
       "      <td>0</td>\n",
       "      <td>0</td>\n",
       "      <td>-0.2429</td>\n",
       "      <td>0.3376</td>\n",
       "      <td>-1.5564</td>\n",
       "    </tr>\n",
       "    <tr>\n",
       "      <th>3</th>\n",
       "      <td>6.0</td>\n",
       "      <td>0</td>\n",
       "      <td>0</td>\n",
       "      <td>-0.2426</td>\n",
       "      <td>0.3177</td>\n",
       "      <td>-1.6271</td>\n",
       "    </tr>\n",
       "    <tr>\n",
       "      <th>4</th>\n",
       "      <td>8.0</td>\n",
       "      <td>0</td>\n",
       "      <td>0</td>\n",
       "      <td>-0.2552</td>\n",
       "      <td>0.3053</td>\n",
       "      <td>3.0853</td>\n",
       "    </tr>\n",
       "    <tr>\n",
       "      <th>5</th>\n",
       "      <td>10.0</td>\n",
       "      <td>0</td>\n",
       "      <td>0</td>\n",
       "      <td>-0.2739</td>\n",
       "      <td>0.3118</td>\n",
       "      <td>2.7633</td>\n",
       "    </tr>\n",
       "    <tr>\n",
       "      <th>6</th>\n",
       "      <td>12.0</td>\n",
       "      <td>0</td>\n",
       "      <td>0</td>\n",
       "      <td>-0.2925</td>\n",
       "      <td>0.3192</td>\n",
       "      <td>2.7633</td>\n",
       "    </tr>\n",
       "    <tr>\n",
       "      <th>7</th>\n",
       "      <td>14.0</td>\n",
       "      <td>0</td>\n",
       "      <td>0</td>\n",
       "      <td>-0.3111</td>\n",
       "      <td>0.3266</td>\n",
       "      <td>2.7633</td>\n",
       "    </tr>\n",
       "    <tr>\n",
       "      <th>8</th>\n",
       "      <td>16.0</td>\n",
       "      <td>0</td>\n",
       "      <td>0</td>\n",
       "      <td>-0.3303</td>\n",
       "      <td>0.3318</td>\n",
       "      <td>2.9203</td>\n",
       "    </tr>\n",
       "    <tr>\n",
       "      <th>9</th>\n",
       "      <td>18.0</td>\n",
       "      <td>0</td>\n",
       "      <td>0</td>\n",
       "      <td>-0.3498</td>\n",
       "      <td>0.3362</td>\n",
       "      <td>2.9203</td>\n",
       "    </tr>\n",
       "  </tbody>\n",
       "</table>\n",
       "</div>"
      ],
      "text/plain": [
       "   time  id0  state0   posx0   posy0    ori0\n",
       "0   0.1    0       0 -0.2607  0.3622  0.4071\n",
       "1   2.0    0       0 -0.2448  0.3572 -1.0773\n",
       "2   4.0    0       0 -0.2429  0.3376 -1.5564\n",
       "3   6.0    0       0 -0.2426  0.3177 -1.6271\n",
       "4   8.0    0       0 -0.2552  0.3053  3.0853\n",
       "5  10.0    0       0 -0.2739  0.3118  2.7633\n",
       "6  12.0    0       0 -0.2925  0.3192  2.7633\n",
       "7  14.0    0       0 -0.3111  0.3266  2.7633\n",
       "8  16.0    0       0 -0.3303  0.3318  2.9203\n",
       "9  18.0    0       0 -0.3498  0.3362  2.9203"
      ]
     },
     "execution_count": 15,
     "metadata": {},
     "output_type": "execute_result"
    }
   ],
   "source": [
    "kID0_client"
   ]
  },
  {
   "cell_type": "code",
   "execution_count": null,
   "metadata": {},
   "outputs": [],
   "source": []
  },
  {
   "cell_type": "code",
   "execution_count": 17,
   "metadata": {},
   "outputs": [],
   "source": [
    "col_area_labels = ['time']\n",
    "for i in range(0, len(df_area_server.columns) - 2, 6):\n",
    "    # print(i, end=\", \")\n",
    "    col_area_labels += ['id' + str(i // 6), 'posx' + str(i // 6), 'posy' + str(i // 6), 'color' + str(i // 6),\n",
    "                        'completed' + str(i // 6), 'contained' + str(i // 6)]"
   ]
  },
  {
   "cell_type": "code",
   "execution_count": 18,
   "metadata": {},
   "outputs": [
    {
     "name": "stdout",
     "output_type": "stream",
     "text": [
      "Cutting null elements in area server df\n",
      "Cutting null elements in area client df\n"
     ]
    }
   ],
   "source": [
    "# Remove last empty col and assign labels to df_area_server\n",
    "if len(df_area_server.columns) > 49:\n",
    "    print(\"Cutting null elements in area server df\")\n",
    "    df_area_server.drop(df_area_server.columns[len(df_area_server.columns) - 1], axis=1, inplace=True)\n",
    "df_area_server.columns = col_area_labels\n",
    "\n",
    "# First df_area_client row contains garbage, so is substituted with the second row except for the time,\n",
    "# then remove Nan values in [:,49:]\n",
    "if len(df_area_client.columns) > 49:\n",
    "    print(\"Cutting null elements in area client df\")\n",
    "    df_area_client.loc[0, 1:] = df_area_client.loc[1, 1:]\n",
    "    df_area_client = df_area_client.drop(np.arange(49, len(df_area_client.columns)), axis=1)\n",
    "df_area_client.columns = col_area_labels"
   ]
  },
  {
   "cell_type": "code",
   "execution_count": 22,
   "metadata": {},
   "outputs": [],
   "source": [
    "area0_client = df_area_client.iloc[:10,:7]"
   ]
  },
  {
   "cell_type": "code",
   "execution_count": 23,
   "metadata": {},
   "outputs": [
    {
     "data": {
      "text/html": [
       "<div>\n",
       "<style scoped>\n",
       "    .dataframe tbody tr th:only-of-type {\n",
       "        vertical-align: middle;\n",
       "    }\n",
       "\n",
       "    .dataframe tbody tr th {\n",
       "        vertical-align: top;\n",
       "    }\n",
       "\n",
       "    .dataframe thead th {\n",
       "        text-align: right;\n",
       "    }\n",
       "</style>\n",
       "<table border=\"1\" class=\"dataframe\">\n",
       "  <thead>\n",
       "    <tr style=\"text-align: right;\">\n",
       "      <th></th>\n",
       "      <th>time</th>\n",
       "      <th>id0</th>\n",
       "      <th>posx0</th>\n",
       "      <th>posy0</th>\n",
       "      <th>color0</th>\n",
       "      <th>completed0</th>\n",
       "      <th>contained0</th>\n",
       "    </tr>\n",
       "  </thead>\n",
       "  <tbody>\n",
       "    <tr>\n",
       "      <th>0</th>\n",
       "      <td>0.1</td>\n",
       "      <td>1.0</td>\n",
       "      <td>-0.125</td>\n",
       "      <td>0.375</td>\n",
       "      <td>1.0</td>\n",
       "      <td>0.0</td>\n",
       "      <td>0.0</td>\n",
       "    </tr>\n",
       "    <tr>\n",
       "      <th>1</th>\n",
       "      <td>2.0</td>\n",
       "      <td>1.0</td>\n",
       "      <td>-0.125</td>\n",
       "      <td>0.375</td>\n",
       "      <td>1.0</td>\n",
       "      <td>0.0</td>\n",
       "      <td>0.0</td>\n",
       "    </tr>\n",
       "    <tr>\n",
       "      <th>2</th>\n",
       "      <td>4.0</td>\n",
       "      <td>1.0</td>\n",
       "      <td>-0.125</td>\n",
       "      <td>0.375</td>\n",
       "      <td>1.0</td>\n",
       "      <td>0.0</td>\n",
       "      <td>0.0</td>\n",
       "    </tr>\n",
       "    <tr>\n",
       "      <th>3</th>\n",
       "      <td>6.0</td>\n",
       "      <td>1.0</td>\n",
       "      <td>-0.125</td>\n",
       "      <td>0.375</td>\n",
       "      <td>1.0</td>\n",
       "      <td>0.0</td>\n",
       "      <td>0.0</td>\n",
       "    </tr>\n",
       "    <tr>\n",
       "      <th>4</th>\n",
       "      <td>8.0</td>\n",
       "      <td>1.0</td>\n",
       "      <td>-0.125</td>\n",
       "      <td>0.375</td>\n",
       "      <td>1.0</td>\n",
       "      <td>0.0</td>\n",
       "      <td>0.0</td>\n",
       "    </tr>\n",
       "    <tr>\n",
       "      <th>5</th>\n",
       "      <td>10.0</td>\n",
       "      <td>1.0</td>\n",
       "      <td>-0.125</td>\n",
       "      <td>0.375</td>\n",
       "      <td>1.0</td>\n",
       "      <td>0.0</td>\n",
       "      <td>0.0</td>\n",
       "    </tr>\n",
       "    <tr>\n",
       "      <th>6</th>\n",
       "      <td>12.0</td>\n",
       "      <td>1.0</td>\n",
       "      <td>-0.125</td>\n",
       "      <td>0.375</td>\n",
       "      <td>1.0</td>\n",
       "      <td>0.0</td>\n",
       "      <td>0.0</td>\n",
       "    </tr>\n",
       "    <tr>\n",
       "      <th>7</th>\n",
       "      <td>14.0</td>\n",
       "      <td>1.0</td>\n",
       "      <td>-0.125</td>\n",
       "      <td>0.375</td>\n",
       "      <td>1.0</td>\n",
       "      <td>0.0</td>\n",
       "      <td>0.0</td>\n",
       "    </tr>\n",
       "    <tr>\n",
       "      <th>8</th>\n",
       "      <td>16.0</td>\n",
       "      <td>1.0</td>\n",
       "      <td>-0.125</td>\n",
       "      <td>0.375</td>\n",
       "      <td>1.0</td>\n",
       "      <td>0.0</td>\n",
       "      <td>0.0</td>\n",
       "    </tr>\n",
       "    <tr>\n",
       "      <th>9</th>\n",
       "      <td>18.0</td>\n",
       "      <td>1.0</td>\n",
       "      <td>-0.125</td>\n",
       "      <td>0.375</td>\n",
       "      <td>1.0</td>\n",
       "      <td>0.0</td>\n",
       "      <td>0.0</td>\n",
       "    </tr>\n",
       "  </tbody>\n",
       "</table>\n",
       "</div>"
      ],
      "text/plain": [
       "   time  id0  posx0  posy0  color0  completed0  contained0\n",
       "0   0.1  1.0 -0.125  0.375     1.0         0.0         0.0\n",
       "1   2.0  1.0 -0.125  0.375     1.0         0.0         0.0\n",
       "2   4.0  1.0 -0.125  0.375     1.0         0.0         0.0\n",
       "3   6.0  1.0 -0.125  0.375     1.0         0.0         0.0\n",
       "4   8.0  1.0 -0.125  0.375     1.0         0.0         0.0\n",
       "5  10.0  1.0 -0.125  0.375     1.0         0.0         0.0\n",
       "6  12.0  1.0 -0.125  0.375     1.0         0.0         0.0\n",
       "7  14.0  1.0 -0.125  0.375     1.0         0.0         0.0\n",
       "8  16.0  1.0 -0.125  0.375     1.0         0.0         0.0\n",
       "9  18.0  1.0 -0.125  0.375     1.0         0.0         0.0"
      ]
     },
     "execution_count": 23,
     "metadata": {},
     "output_type": "execute_result"
    }
   ],
   "source": [
    "area0_client"
   ]
  },
  {
   "cell_type": "code",
   "execution_count": null,
   "metadata": {},
   "outputs": [],
   "source": []
  }
 ],
 "metadata": {
  "kernelspec": {
   "display_name": "Python 3",
   "language": "python",
   "name": "python3"
  },
  "language_info": {
   "codemirror_mode": {
    "name": "ipython",
    "version": 3
   },
   "file_extension": ".py",
   "mimetype": "text/x-python",
   "name": "python",
   "nbconvert_exporter": "python",
   "pygments_lexer": "ipython3",
   "version": "3.6.9"
  }
 },
 "nbformat": 4,
 "nbformat_minor": 4
}
