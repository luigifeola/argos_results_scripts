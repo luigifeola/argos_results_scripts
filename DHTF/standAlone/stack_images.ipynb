{
 "cells": [
  {
   "cell_type": "code",
   "execution_count": 1,
   "metadata": {},
   "outputs": [],
   "source": [
    "import sys\n",
    "import os\n",
    "import numpy as np\n",
    "import PIL\n",
    "from PIL import Image\n",
    "from natsort import natsorted"
   ]
  },
  {
   "cell_type": "code",
   "execution_count": 51,
   "metadata": {},
   "outputs": [],
   "source": [
    "# walk = \"brownian\"\n",
    "walk = \"persistent\""
   ]
  },
  {
   "cell_type": "code",
   "execution_count": 52,
   "metadata": {
    "scrolled": true
   },
   "outputs": [
    {
     "name": "stdout",
     "output_type": "stream",
     "text": [
      "persistent_completedTaskMean_TimeoutRespawnExp_2021-06-30_BLUE.png\n",
      "persistent_completedTaskMean_TimeoutRespawnExp_2021-06-30_MIXED.png\n",
      "persistent_completedTaskMean_TimeoutRespawnExp_2021-06-30_RED.png\n",
      "persistent_completedTask_TimeoutRespawnExp_2021-06-30_BLUE.png\n",
      "persistent_completedTask_TimeoutRespawnExp_2021-06-30_MIXED.png\n",
      "persistent_completedTask_TimeoutRespawnExp_2021-06-30_RED.png\n",
      "persistent_elapsedTimeout_TimeoutRespawnExp_2021-06-30_BLUE.png\n",
      "persistent_elapsedTimeout_TimeoutRespawnExp_2021-06-30_MIXED.png\n",
      "persistent_elapsedTimeout_TimeoutRespawnExp_2021-06-30_RED.png\n",
      "persistent_meanActiveAreas_TimeoutRespawnExp_2021-06-30_BLUE.png\n",
      "persistent_meanActiveAreas_TimeoutRespawnExp_2021-06-30_MIXED.png\n",
      "persistent_meanActiveAreas_TimeoutRespawnExp_2021-06-30_RED.png\n"
     ]
    }
   ],
   "source": [
    "plotsFolder = os.path.join(os.getcwd(), \"Plots_standAlone_circular/\"+walk+\"/\")\n",
    "for pictures in natsorted(os.listdir(plotsFolder)):\n",
    "    print(pictures)"
   ]
  },
  {
   "cell_type": "code",
   "execution_count": 59,
   "metadata": {},
   "outputs": [],
   "source": [
    "image_type = \"completedTaskMean\"\n",
    "# image_type = \"completedTask\"\n",
    "# image_type = \"elapsedTimeout\"\n",
    "# image_type = \"meanActiveAreas\""
   ]
  },
  {
   "cell_type": "code",
   "execution_count": 60,
   "metadata": {},
   "outputs": [
    {
     "name": "stdout",
     "output_type": "stream",
     "text": [
      "Processing:\n",
      "persistent_completedTaskMean_TimeoutRespawnExp_2021-06-30_BLUE.png\n",
      "persistent_completedTaskMean_TimeoutRespawnExp_2021-06-30_MIXED.png\n",
      "persistent_completedTaskMean_TimeoutRespawnExp_2021-06-30_RED.png\n"
     ]
    }
   ],
   "source": [
    "stack_imgs_vertical(plotsFolder, image_type)"
   ]
  },
  {
   "cell_type": "code",
   "execution_count": 41,
   "metadata": {},
   "outputs": [],
   "source": [
    "def stack_imgs_vertical(savePath, imgType):\n",
    "    print(\"Processing:\")\n",
    "    for x in natsorted(os.listdir(savePath)):\n",
    "        if x.split(\"_\")[1] == imgType and len(x.split(\"_\"))>1:\n",
    "            print(x)\n",
    "    images = [Image.open(savePath+x) for x in natsorted(os.listdir(savePath)) if x.split(\"_\")[1] == imgType]\n",
    "    widths, heights = zip(*(i.size for i in images))\n",
    "\n",
    "    total_width = max(widths)\n",
    "    max_height = sum(heights)\n",
    "\n",
    "    new_im = Image.new('RGB', (total_width, max_height))\n",
    "\n",
    "    y_offset = 0\n",
    "    for im in images:\n",
    "      new_im.paste(im, (0,y_offset))\n",
    "      y_offset += im.size[1]\n",
    "\n",
    "    new_im.save(savePath+walk+\"_\"+imgType+'.png')"
   ]
  },
  {
   "cell_type": "code",
   "execution_count": null,
   "metadata": {},
   "outputs": [],
   "source": []
  },
  {
   "cell_type": "code",
   "execution_count": null,
   "metadata": {},
   "outputs": [],
   "source": []
  },
  {
   "cell_type": "code",
   "execution_count": null,
   "metadata": {},
   "outputs": [],
   "source": []
  },
  {
   "cell_type": "code",
   "execution_count": null,
   "metadata": {},
   "outputs": [],
   "source": []
  },
  {
   "cell_type": "code",
   "execution_count": 90,
   "metadata": {},
   "outputs": [
    {
     "name": "stdout",
     "output_type": "stream",
     "text": [
      "brownian_completedTask.png\n",
      "brownian_completedTaskMean.png\n",
      "brownian_elapsedTimeout.png\n",
      "brownian_meanActiveAreas.png\n",
      "completedTaskMean.png\n",
      "persistent_completedTask.png\n",
      "persistent_completedTaskMean.png\n",
      "persistent_elapsedTimeout.png\n",
      "persistent_meanActiveAreas.png\n"
     ]
    }
   ],
   "source": [
    "plotsFolder = os.path.join(os.getcwd(), \"Plots_standAlone_circular/\")\n",
    "for pictures in natsorted(os.listdir(plotsFolder)):\n",
    "    if pictures.split(\".\")[-1] == 'png':\n",
    "        print(pictures)"
   ]
  },
  {
   "cell_type": "code",
   "execution_count": 129,
   "metadata": {},
   "outputs": [],
   "source": [
    "# image_type = \"completedTaskMean\"\n",
    "image_type = \"completedTask\"\n",
    "# image_type = \"elapsedTimeout\"\n",
    "# image_type = \"meanActiveAreas\""
   ]
  },
  {
   "cell_type": "code",
   "execution_count": 136,
   "metadata": {},
   "outputs": [
    {
     "name": "stdout",
     "output_type": "stream",
     "text": [
      "Processing:\n",
      "brownian_completedTask.png\n",
      "persistent_completedTask.png\n"
     ]
    }
   ],
   "source": [
    "stack_imgs_horziontal(plotsFolder, image_type)"
   ]
  },
  {
   "cell_type": "markdown",
   "metadata": {},
   "source": [
    "## horizontal"
   ]
  },
  {
   "cell_type": "code",
   "execution_count": 135,
   "metadata": {},
   "outputs": [],
   "source": [
    "def stack_imgs_horziontal(savePath, imgType):\n",
    "    print(\"Processing:\")\n",
    "    for x in natsorted(os.listdir(savePath)):\n",
    "#         print(x)\n",
    "        if len(x.split(\".\")[0].split(\"_\"))>1 and imgType == x.split(\".\")[0].split(\"_\")[1]:\n",
    "            print(x)\n",
    "    images = [Image.open(savePath+x) for x in natsorted(os.listdir(savePath)) if len(x.split(\".\")[0].split(\"_\"))>1 and imgType == x.split(\".\")[0].split(\"_\")[1]]\n",
    "    widths, heights = zip(*(i.size for i in images))\n",
    "\n",
    "    total_width = sum(widths)\n",
    "    max_height = max(heights)\n",
    "\n",
    "    new_im = Image.new('RGB', (total_width, max_height))\n",
    "\n",
    "    x_offset = 0\n",
    "    for im in images:\n",
    "      new_im.paste(im, (x_offset,0))\n",
    "      x_offset += im.size[0]\n",
    "\n",
    "    new_im.save(savePath+imgType+'.png')"
   ]
  },
  {
   "cell_type": "code",
   "execution_count": null,
   "metadata": {},
   "outputs": [],
   "source": []
  },
  {
   "cell_type": "code",
   "execution_count": null,
   "metadata": {},
   "outputs": [],
   "source": []
  }
 ],
 "metadata": {
  "kernelspec": {
   "display_name": "Python 3",
   "language": "python",
   "name": "python3"
  },
  "language_info": {
   "codemirror_mode": {
    "name": "ipython",
    "version": 3
   },
   "file_extension": ".py",
   "mimetype": "text/x-python",
   "name": "python",
   "nbconvert_exporter": "python",
   "pygments_lexer": "ipython3",
   "version": "3.6.9"
  }
 },
 "nbformat": 4,
 "nbformat_minor": 4
}
