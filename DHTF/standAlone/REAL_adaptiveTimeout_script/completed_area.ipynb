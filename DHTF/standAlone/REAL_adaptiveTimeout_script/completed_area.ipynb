{
 "cells": [
  {
   "cell_type": "code",
   "execution_count": 1,
   "metadata": {},
   "outputs": [
    {
     "data": {
      "text/html": [
       "<style>.container { width:80% !important; }</style>"
      ],
      "text/plain": [
       "<IPython.core.display.HTML object>"
      ]
     },
     "metadata": {},
     "output_type": "display_data"
    }
   ],
   "source": [
    "from IPython.core.display import display, HTML\n",
    "display(HTML(\"<style>.container { width:80% !important; }</style>\"))"
   ]
  },
  {
   "cell_type": "code",
   "execution_count": 2,
   "metadata": {},
   "outputs": [],
   "source": [
    "import os\n",
    "import pandas as pd\n",
    "from termcolor import colored\n",
    "import numpy as np\n",
    "from collections import OrderedDict\n",
    "from collections import Counter\n",
    "import matplotlib.pyplot as plt\n",
    "from natsort import natsorted\n",
    "import sys\n",
    "import pickle\n",
    "import seaborn as sns\n",
    "\n",
    "# Display pandas df without truncation\n",
    "pd.set_option('display.max_rows', None)\n",
    "pd.set_option('display.max_columns', None)\n",
    "pd.set_option('display.width', None)\n",
    "pd.set_option('display.max_colwidth', None)\n",
    "\n",
    "np.set_printoptions(edgeitems=30, linewidth=100000, formatter=dict(float=lambda x: \"%.3g\" % x))\n",
    "\n"
   ]
  },
  {
   "cell_type": "markdown",
   "metadata": {},
   "source": [
    "## Simple boxplot func"
   ]
  },
  {
   "cell_type": "code",
   "execution_count": 19,
   "metadata": {},
   "outputs": [],
   "source": [
    "green_diamond = dict(markerfacecolor='g', marker='D')\n",
    "\n",
    "def simple_boxplot(my_dict, fig_name, save_flag, ylim=160):\n",
    "    fig, ax = plt.subplots(figsize=(20, 5), dpi=80)\n",
    "    ax.boxplot(my_dict.values(), flierprops=green_diamond)\n",
    "    ax.set_xticklabels(my_dict.keys())\n",
    "    ax.grid()\n",
    "    plt.ylim(-1)\n",
    "    plt.tight_layout()\n",
    "    if save_flag:\n",
    "        plt.savefig(fig_name+'.png')"
   ]
  },
  {
   "cell_type": "code",
   "execution_count": 4,
   "metadata": {},
   "outputs": [],
   "source": [
    "def set_box_color(bp, edge_color, fill_color):\n",
    "    plt.setp(bp['boxes'], color=edge_color)\n",
    "    plt.setp(bp['whiskers'], color=edge_color)\n",
    "    plt.setp(bp['caps'], color=edge_color)\n",
    "    plt.setp(bp['medians'], color=edge_color)\n",
    "    plt.setp(bp['fliers'], color=green_diamond)\n",
    "#     for flier in bp['fliers']:\n",
    "#         flier.set(marker='o', color=edge_color, alpha=1)\n",
    "    \n",
    "    for patch in bp['boxes']:\n",
    "        patch.set(facecolor=fill_color)"
   ]
  },
  {
   "cell_type": "code",
   "execution_count": 5,
   "metadata": {},
   "outputs": [],
   "source": [
    "def boxplot_3dict(dictl, dictc, dictr, plotName):\n",
    "    ticks = dictr.keys()\n",
    "\n",
    "    fig, ax = plt.subplots(figsize=(20, 5), dpi=80)\n",
    "\n",
    "    bpl = ax.boxplot(dictl.values(), patch_artist=True, flierprops=green_diamond, positions=np.array(range(len(dictl.values())))*3.0-0.6, widths=0.4)\n",
    "    bpr = ax.boxplot(dictr.values(), patch_artist=True, flierprops=green_diamond, positions=np.array(range(len(dictr.values())))*3.0+0.6, widths=0.4)\n",
    "    bpc = ax.boxplot(dictc.values(), patch_artist=True, flierprops=green_diamond, positions=np.array(range(len(dictc.values())))*3.0, widths=0.4)\n",
    "\n",
    "    set_box_color(bpl, 'red', 'tan') # colors are from http://colorbrewer2.org/\n",
    "    set_box_color(bpr, 'blue', 'cyan')\n",
    "    set_box_color(bpc, 'green', '#BCEE68')\n",
    "\n",
    "    # draw temporary red and blue lines and use them to create a legend\n",
    "    plt.plot([], c='red', label='Brownian')\n",
    "    plt.plot([], c='green', label='Persistent')\n",
    "    plt.plot([], c='blue', label='Adaptive')\n",
    "    plt.legend(loc=2)\n",
    "\n",
    "    # plt.xticks(range(0, 300, 5), ticks)\n",
    "    # plt.xlim(-3, len(ticks)*3)\n",
    "    # plt.ylim(0, 80)\n",
    "    plt.xticks(range(0, len(ticks) * 3, 3), ticks)\n",
    "    plt.xlim(-2, len(ticks)*3)\n",
    "\n",
    "    ax.set_xticklabels([\"Regions\", \"Mixed\"])\n",
    "    ax.grid()\n",
    "\n",
    "#     plt.tight_layout()\n",
    "    \n",
    "    figName = plotName+'.png'\n",
    "    print(\"Figure name: \", figName)\n",
    "\n",
    "    plt.savefig(figName)"
   ]
  },
  {
   "cell_type": "code",
   "execution_count": null,
   "metadata": {},
   "outputs": [],
   "source": []
  },
  {
   "cell_type": "code",
   "execution_count": 6,
   "metadata": {},
   "outputs": [],
   "source": [
    "num_robot = 24\n",
    "experiment_time = 1800\n",
    "num_run = 100"
   ]
  },
  {
   "cell_type": "code",
   "execution_count": 7,
   "metadata": {},
   "outputs": [],
   "source": [
    "results_folders = '/home/luigi/Documents/ARGoS/argos_results_scripts/DHTF/standAlone/results_realEXP/'"
   ]
  },
  {
   "cell_type": "code",
   "execution_count": 8,
   "metadata": {},
   "outputs": [
    {
     "name": "stdout",
     "output_type": "stream",
     "text": [
      "\u001b[32mOK, /home/luigi/Documents/ARGoS/argos_results_scripts/DHTF/standAlone/results_realEXP/ exists\u001b[0m\n"
     ]
    }
   ],
   "source": [
    "if not os.path.isdir(results_folders):\n",
    "    print(colored(\"Error, \" + results_folders + \" does not exist\", 'red'))\n",
    "else:\n",
    "    print(colored(\"OK, \" + results_folders + \" exists\", 'green'))"
   ]
  },
  {
   "cell_type": "code",
   "execution_count": 9,
   "metadata": {},
   "outputs": [],
   "source": [
    "completed_task_label = [\"time\", \"areaID\", \"creation_time\", \"completion_time\", \"type\", \"kID_on_top\", \"kIDs\"]"
   ]
  },
  {
   "cell_type": "markdown",
   "metadata": {},
   "source": [
    "## Completed areas per kilobot"
   ]
  },
  {
   "cell_type": "code",
   "execution_count": 10,
   "metadata": {
    "scrolled": true
   },
   "outputs": [
    {
     "name": "stdout",
     "output_type": "stream",
     "text": [
      "\u001b[34mTimeout folder:\u001b[0m Mixed_Adaptive\n",
      "\tExp configuration: Mixed_Adaptive\n",
      "\u001b[34mTimeout folder:\u001b[0m Regions_Adaptive\n",
      "\tExp configuration: Regions_Adaptive\n"
     ]
    }
   ],
   "source": [
    "completed_task_dict = {}\n",
    "\n",
    "for results_folder in os.listdir(results_folders):\n",
    "    timeout = -1\n",
    "    for timeout_folder in natsorted(os.listdir(os.path.join(results_folders,results_folder))):\n",
    "        print(colored(\"Timeout folder:\", 'blue'),timeout_folder)\n",
    "\n",
    "        parameters = timeout_folder.split(\"_\")\n",
    "\n",
    "\n",
    "        exp_config = parameters[0]+\"_\"+parameters[1]\n",
    "        print(\"\\tExp configuration:\",exp_config)\n",
    "\n",
    "        completed_task_count = []\n",
    "        for filename in os.listdir(os.path.join(results_folders, results_folder, timeout_folder)):\n",
    "            if filename.endswith(\"completedAreas.txt\"):\n",
    "                if not os.path.getsize(os.path.join(results_folders, results_folder, timeout_folder, filename)) > 0:\n",
    "                    print(colored(\"\\tWARNING, empty file at:\" + filename, 'red'))\n",
    "                    continue\n",
    "    #             print('\\tfilename: ', filename)\n",
    "\n",
    "                df_completedTask = pd.read_csv(os.path.join(results_folders, results_folder, timeout_folder, filename), sep=\"\\t\", header=None)\n",
    "                df_completedTask.columns = completed_task_label\n",
    "                completed_area_kIDs = np.array([]).astype(int)\n",
    "                for area in df_completedTask[\"kIDs\"].values:\n",
    "                #     print(np.fromstring(area, dtype=int, sep=','))\n",
    "                    completed_area_kIDs = np.append(completed_area_kIDs, np.fromstring(area, dtype=int, sep=','))\n",
    "                counter = Counter(completed_area_kIDs)\n",
    "\n",
    "                for i in np.arange(num_robot):\n",
    "                    if i not in counter.keys():\n",
    "    #                     print(i)\n",
    "                        counter[i] = 0\n",
    "\n",
    "                completed_task_count += list(counter.values())\n",
    "    #             print(elapsed_timeout_count)\n",
    "\n",
    "        if len(completed_task_count):\n",
    "            completed_task_dict[exp_config] = completed_task_count\n",
    "        else:\n",
    "            print(colored(\"\\tWARNING: empty list!!\", 'green'))\n",
    "            completed_task_dict[exp_config] = [0] * num_robot * num_run\n",
    "            \n"
   ]
  },
  {
   "cell_type": "code",
   "execution_count": 11,
   "metadata": {},
   "outputs": [
    {
     "name": "stdout",
     "output_type": "stream",
     "text": [
      "Mixed_Adaptive\n",
      "Regions_Adaptive\n"
     ]
    }
   ],
   "source": [
    "for key in completed_task_dict.keys():\n",
    "    print(key)"
   ]
  },
  {
   "cell_type": "code",
   "execution_count": 12,
   "metadata": {},
   "outputs": [],
   "source": [
    "# boxplot_3dict({\"Regions_Brownian\":completed_task_dict.pop(\"Regions_Brownian\"), \"Mixed_Brownian\":completed_task_dict.pop(\"Mixed_Brownian\")},\n",
    "#               {\"Regions_Persistent\":completed_task_dict.pop(\"Regions_Persistent\"), \"Mixed_Persistent\":completed_task_dict.pop(\"Mixed_Persistent\")},\n",
    "#               {\"Regions_Adaptive\":completed_task_dict.pop(\"Regions_Adaptive\"), \"Mixed_Adaptive\":completed_task_dict.pop(\"Mixed_Adaptive\")},\n",
    "#               \"adaptiveTimeout_completedTaskMean\")"
   ]
  },
  {
   "cell_type": "code",
   "execution_count": 13,
   "metadata": {},
   "outputs": [
    {
     "data": {
      "image/png": "[encoded data removed]",
      "text/plain": [
       "<Figure size 1600x400 with 1 Axes>"
      ]
     },
     "metadata": {
      "needs_background": "light"
     },
     "output_type": "display_data"
    }
   ],
   "source": [
    "simple_boxplot(completed_task_dict, \"REAL_adaptiveTimeout_completedTaskMean\", True)"
   ]
  },
  {
   "cell_type": "code",
   "execution_count": null,
   "metadata": {},
   "outputs": [],
   "source": []
  },
  {
   "cell_type": "markdown",
   "metadata": {},
   "source": [
    "## Completed areas in general"
   ]
  },
  {
   "cell_type": "code",
   "execution_count": 14,
   "metadata": {
    "scrolled": true
   },
   "outputs": [
    {
     "name": "stdout",
     "output_type": "stream",
     "text": [
      "\u001b[34mTimeout folder:\u001b[0m Mixed_Adaptive\n",
      "\tExp configuration: Mixed_Adaptive\n",
      "\u001b[31m\tWARNING, completed_task_count should be 100!\u001b[0m\n",
      "\u001b[34m\tlen(completed_task_count)12\u001b[0m\n",
      "\u001b[34mTimeout folder:\u001b[0m Regions_Adaptive\n",
      "\tExp configuration: Regions_Adaptive\n",
      "\u001b[31m\tWARNING, completed_task_count should be 100!\u001b[0m\n",
      "\u001b[34m\tlen(completed_task_count)12\u001b[0m\n"
     ]
    }
   ],
   "source": [
    "completed_task_dict = {}\n",
    "\n",
    "for results_folder in os.listdir(results_folders):\n",
    "    timeout = -1\n",
    "    for timeout_folder in natsorted(os.listdir(os.path.join(results_folders,results_folder))):\n",
    "        print(colored(\"Timeout folder:\", 'blue'),timeout_folder)\n",
    "\n",
    "        parameters = timeout_folder.split(\"_\")\n",
    "\n",
    "\n",
    "        exp_config = parameters[0]+\"_\"+parameters[1]\n",
    "        print(\"\\tExp configuration:\",exp_config)\n",
    "\n",
    "        completed_task_count = []\n",
    "        for filename in os.listdir(os.path.join(results_folders, results_folder, timeout_folder)):\n",
    "            if filename.endswith(\"completedAreas.txt\"):\n",
    "                if not os.path.getsize(os.path.join(results_folders, results_folder, timeout_folder, filename)) > 0:\n",
    "                    print(colored(\"\\tWARNING, empty file at:\" + filename, 'red'))\n",
    "                    continue\n",
    "    #             print('\\tfilename: ', filename)\n",
    "\n",
    "                df_completedTask = pd.read_csv(os.path.join(results_folders, results_folder, timeout_folder, filename), sep=\"\\t\", header=None)\n",
    "                completed_task_count += [df_completedTask.shape[0]]\n",
    "\n",
    "        if(len(completed_task_count)!= 100):\n",
    "            print(colored(\"\\tWARNING, completed_task_count should be 100!\", 'red'))\n",
    "        print(colored(\"\\tlen(completed_task_count)\"+str(len(completed_task_count)), 'blue'))\n",
    "        completed_task_dict[exp_config] = completed_task_count\n",
    "    \n",
    "            \n"
   ]
  },
  {
   "cell_type": "code",
   "execution_count": 15,
   "metadata": {},
   "outputs": [
    {
     "name": "stdout",
     "output_type": "stream",
     "text": [
      "Mixed_Adaptive\n",
      "Regions_Adaptive\n"
     ]
    }
   ],
   "source": [
    "for key in completed_task_dict.keys():\n",
    "    print(key)"
   ]
  },
  {
   "cell_type": "code",
   "execution_count": 16,
   "metadata": {},
   "outputs": [
    {
     "data": {
      "text/plain": [
       "{'Mixed_Adaptive': [116, 101, 91, 153, 107, 93, 122, 107, 101, 117, 90, 126],\n",
       " 'Regions_Adaptive': [85, 86, 105, 66, 71, 60, 89, 79, 84, 56, 78, 83]}"
      ]
     },
     "execution_count": 16,
     "metadata": {},
     "output_type": "execute_result"
    }
   ],
   "source": [
    "completed_task_dict"
   ]
  },
  {
   "cell_type": "code",
   "execution_count": 17,
   "metadata": {},
   "outputs": [],
   "source": [
    "# boxplot_3dict({\"Regions_Brownian\":completed_task_dict.pop(\"Regions_Brownian\"), \"Mixed_Brownian\":completed_task_dict.pop(\"Mixed_Brownian\")},\n",
    "#               {\"Regions_Persistent\":completed_task_dict.pop(\"Regions_Persistent\"), \"Mixed_Persistent\":completed_task_dict.pop(\"Mixed_Persistent\")},\n",
    "#               {\"Regions_Adaptive\":completed_task_dict.pop(\"Regions_Adaptive\"), \"Mixed_Adaptive\":completed_task_dict.pop(\"Mixed_Adaptive\")},\n",
    "#               \"adaptiveTimeout_completedTask\")"
   ]
  },
  {
   "cell_type": "code",
   "execution_count": 18,
   "metadata": {},
   "outputs": [
    {
     "data": {
      "image/png": "[encoded data removed]",
      "text/plain": [
       "<Figure size 1600x400 with 1 Axes>"
      ]
     },
     "metadata": {
      "needs_background": "light"
     },
     "output_type": "display_data"
    }
   ],
   "source": [
    "simple_boxplot(completed_task_dict, \"REAL_adaptiveTimeout_completedTask\", True)"
   ]
  }
 ],
 "metadata": {
  "kernelspec": {
   "display_name": "Python 3",
   "language": "python",
   "name": "python3"
  },
  "language_info": {
   "codemirror_mode": {
    "name": "ipython",
    "version": 3
   },
   "file_extension": ".py",
   "mimetype": "text/x-python",
   "name": "python",
   "nbconvert_exporter": "python",
   "pygments_lexer": "ipython3",
   "version": "3.6.9"
  }
 },
 "nbformat": 4,
 "nbformat_minor": 4
}
