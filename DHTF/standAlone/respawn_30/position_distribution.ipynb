{
 "cells": [
  {
   "cell_type": "code",
   "execution_count": 1,
   "metadata": {},
   "outputs": [
    {
     "data": {
      "text/html": [
       "<style>.container { width:80% !important; }</style>"
      ],
      "text/plain": [
       "<IPython.core.display.HTML object>"
      ]
     },
     "metadata": {},
     "output_type": "display_data"
    }
   ],
   "source": [
    "from IPython.core.display import display, HTML\n",
    "display(HTML(\"<style>.container { width:80% !important; }</style>\"))"
   ]
  },
  {
   "cell_type": "code",
   "execution_count": 2,
   "metadata": {},
   "outputs": [],
   "source": [
    "import os\n",
    "import pandas as pd\n",
    "from termcolor import colored\n",
    "import numpy as np\n",
    "from collections import OrderedDict\n",
    "from collections import Counter\n",
    "import matplotlib.pyplot as plt\n",
    "from natsort import natsorted\n",
    "import sys\n",
    "import pickle\n",
    "import seaborn as sns\n",
    "\n",
    "# Display pandas df without truncation\n",
    "pd.set_option('display.max_rows', None)\n",
    "pd.set_option('display.max_columns', None)\n",
    "pd.set_option('display.width', None)\n",
    "pd.set_option('display.max_colwidth', None)\n",
    "\n",
    "np.set_printoptions(edgeitems=30, linewidth=100000, formatter=dict(float=lambda x: \"%.3g\" % x))\n",
    "\n"
   ]
  },
  {
   "cell_type": "code",
   "execution_count": 3,
   "metadata": {},
   "outputs": [],
   "source": [
    "num_robot = 24\n",
    "fieldsPerKilobot = 6\n",
    "experiment_time = 1800\n",
    "num_run = 100\n",
    "\n",
    "num_areas = 16\n",
    "fieldsPerArea = 6 #id, posx, posy, color, completed?, #kilo_in_area"
   ]
  },
  {
   "cell_type": "code",
   "execution_count": 4,
   "metadata": {},
   "outputs": [
    {
     "data": {
      "text/plain": [
       "array([0, 2, 4, 6, 8, 10, 12, 14, 16, 18, 20, 22, 24])"
      ]
     },
     "execution_count": 4,
     "metadata": {},
     "output_type": "execute_result"
    }
   ],
   "source": [
    "bin_edges = np.linspace(0, 24, 13)\n",
    "bin_edges"
   ]
  },
  {
   "cell_type": "code",
   "execution_count": null,
   "metadata": {},
   "outputs": [],
   "source": [
    "results_folders = ['/home/luigi/Documents/ARGoS/argos_results_scripts/DHTF/standAlone/results_newWalkParam/brownian/Regions']\n",
    "results_folders += ['/home/luigi/Documents/ARGoS/argos_results_scripts/DHTF/standAlone/results_newWalkParam/persistent/Regions']\n",
    "results_folders += ['/home/luigi/Documents/ARGoS/argos_results_scripts/DHTF/standAlone/results_newWalkParam/adaptive/Regions']\n",
    "\n",
    "results_folders += ['/home/luigi/Documents/ARGoS/argos_results_scripts/DHTF/standAlone/results_newWalkParam/brownian/Mixed']\n",
    "results_folders += ['/home/luigi/Documents/ARGoS/argos_results_scripts/DHTF/standAlone/results_newWalkParam/persistent/Mixed']\n",
    "results_folders += ['/home/luigi/Documents/ARGoS/argos_results_scripts/DHTF/standAlone/results_newWalkParam/adaptive/Mixed']"
   ]
  },
  {
   "cell_type": "code",
   "execution_count": null,
   "metadata": {},
   "outputs": [],
   "source": [
    "results_folders"
   ]
  },
  {
   "cell_type": "code",
   "execution_count": null,
   "metadata": {},
   "outputs": [],
   "source": [
    "# if not os.path.isdir(results_folder):\n",
    "#     print(colored(\"Error, \" + results_folder + \" does not exist\", 'red'))\n",
    "# else:\n",
    "#     print(colored(\"OK, \" + results_folder + \" exists\", 'green'))"
   ]
  },
  {
   "cell_type": "code",
   "execution_count": null,
   "metadata": {},
   "outputs": [],
   "source": []
  },
  {
   "cell_type": "code",
   "execution_count": null,
   "metadata": {},
   "outputs": [],
   "source": [
    "def distances(xy1, xy2):\n",
    "    d0 = np.subtract.outer(xy1[:,0], xy2[:,0])\n",
    "    d1 = np.subtract.outer(xy1[:,1], xy2[:,1])\n",
    "    return np.hypot(d0, d1)"
   ]
  },
  {
   "cell_type": "code",
   "execution_count": null,
   "metadata": {},
   "outputs": [],
   "source": [
    "def get_histogram(distribution_history, bins):\n",
    "    hist_val = np.array([])\n",
    "    for x in distribution_history.T:\n",
    "    #     print(x.size)\n",
    "        hist,_= np.histogram(x,bins)\n",
    "        hist_val = np.vstack([hist_val, hist]) if hist_val.size else hist\n",
    "\n",
    "    print(hist_val.shape)\n",
    "    return hist_val\n",
    "\n",
    "def plot_heatmap(histogram,bins,imgName):\n",
    "    fig = plt.figure(figsize=(20, 5), dpi=160)\n",
    "\n",
    "    y_values = histogram.T\n",
    "    y_edges = bins.round(decimals=2)\n",
    "\n",
    "    # plt.xlabel('time(s)')\n",
    "    yticks = y_edges\n",
    "\n",
    "\n",
    "    # print(\"\\t v_max:\", v_max)\n",
    "    ax = sns.heatmap(y_values, yticklabels=yticks, cmap=\"viridis\", vmin=0, vmax=25)\n",
    "    ax.set_title(\"Position distribution around red areas\")\n",
    "    ax.set_xlabel('time(s)')\n",
    "    plt.ylabel('#robots')\n",
    "    plt.yticks(np.arange(y_edges.size), yticks)\n",
    "    fileName = \"positionDistribution_\"+imgName+\".png\"\n",
    "    print(fileName)\n",
    "    plt.savefig(fileName)\n",
    "    plt.show()"
   ]
  },
  {
   "cell_type": "code",
   "execution_count": null,
   "metadata": {},
   "outputs": [],
   "source": []
  },
  {
   "cell_type": "code",
   "execution_count": null,
   "metadata": {},
   "outputs": [],
   "source": [
    "# timeout_folder = \"Mixed_AdaptiveWalk_2021-07-13_robots#24_timeout#1_respawn#30_NumAreas#16_redAreas#8_1800#seconds\"\n",
    "# kiloFilename = \"seed#1_kiloLOG.tsv\"\n",
    "# areaFilename = \"seed#1_areaLOG.tsv\""
   ]
  },
  {
   "cell_type": "markdown",
   "metadata": {},
   "source": [
    "### KiloLog labels"
   ]
  },
  {
   "cell_type": "code",
   "execution_count": null,
   "metadata": {},
   "outputs": [],
   "source": [
    "kiloLOG_label = ['time']\n",
    "for i in range(0, num_robot*fieldsPerKilobot, fieldsPerKilobot):\n",
    "    kiloLOG_label += ['id' + str(i // fieldsPerKilobot), 'state' + str(i // fieldsPerKilobot), 'posx' + str(i // fieldsPerKilobot), 'posy' + str(i // fieldsPerKilobot), 'ori' + str(i // fieldsPerKilobot), 'state' + str(i // fieldsPerKilobot)]"
   ]
  },
  {
   "cell_type": "code",
   "execution_count": null,
   "metadata": {},
   "outputs": [],
   "source": [
    "print(kiloLOG_label)"
   ]
  },
  {
   "cell_type": "markdown",
   "metadata": {},
   "source": [
    "#### Kilobot Position Labels"
   ]
  },
  {
   "cell_type": "code",
   "execution_count": null,
   "metadata": {},
   "outputs": [],
   "source": [
    "kiloPOS_label = []\n",
    "for i in range(num_robot):\n",
    "    kiloPOS_label += [\"posx\"+str(i),\"posy\"+str(i)]"
   ]
  },
  {
   "cell_type": "code",
   "execution_count": null,
   "metadata": {},
   "outputs": [],
   "source": [
    "print(kiloPOS_label)"
   ]
  },
  {
   "cell_type": "markdown",
   "metadata": {},
   "source": [
    "### Area labels"
   ]
  },
  {
   "cell_type": "code",
   "execution_count": null,
   "metadata": {},
   "outputs": [],
   "source": [
    "df_area_labels = ['time']\n",
    "for i in range(0, num_areas*fieldsPerArea, fieldsPerArea):\n",
    "    # print(i, end=\", \")\n",
    "    df_area_labels += ['id' + str(i // fieldsPerArea), 'posx' + str(i // fieldsPerArea), 'posy' + str(i // fieldsPerArea), 'color' + str(i // fieldsPerArea),\n",
    "                        'completed' + str(i // fieldsPerArea), 'contained' + str(i // fieldsPerArea)]"
   ]
  },
  {
   "cell_type": "code",
   "execution_count": null,
   "metadata": {},
   "outputs": [],
   "source": [
    "print(df_area_labels)"
   ]
  },
  {
   "cell_type": "markdown",
   "metadata": {},
   "source": [
    "#### Area Position Labels"
   ]
  },
  {
   "cell_type": "code",
   "execution_count": null,
   "metadata": {},
   "outputs": [],
   "source": [
    "areaPOS_label = []\n",
    "for i in range(num_areas):\n",
    "    areaPOS_label += [\"posx\"+str(i),\"posy\"+str(i)]\n",
    "\n",
    "areaCOL_label = []\n",
    "for i in range(num_areas):\n",
    "    areaCOL_label += [\"color\"+str(i)]"
   ]
  },
  {
   "cell_type": "code",
   "execution_count": null,
   "metadata": {},
   "outputs": [],
   "source": [
    "print(areaPOS_label, end=\"\\n\\n\")\n",
    "print(areaCOL_label)"
   ]
  },
  {
   "cell_type": "markdown",
   "metadata": {},
   "source": [
    "### Area Df"
   ]
  },
  {
   "cell_type": "code",
   "execution_count": null,
   "metadata": {},
   "outputs": [],
   "source": [
    "# df_areaLOG = pd.read_csv(os.path.join(results_folder, timeout_folder, areaFilename), sep=\"\\t\", header=None)\n",
    "# df_areaLOG.columns = df_area_labels"
   ]
  },
  {
   "cell_type": "code",
   "execution_count": null,
   "metadata": {},
   "outputs": [],
   "source": [
    "# df_areaLOG.iloc[:1,:]"
   ]
  },
  {
   "cell_type": "code",
   "execution_count": null,
   "metadata": {
    "scrolled": true
   },
   "outputs": [],
   "source": [
    "# df_areaLOG[areaCOL_label].iloc[:1,:]"
   ]
  },
  {
   "cell_type": "code",
   "execution_count": null,
   "metadata": {},
   "outputs": [],
   "source": [
    "# color_val = df_areaLOG[areaCOL_label].iloc[:1,:].values.reshape(-1)"
   ]
  },
  {
   "cell_type": "code",
   "execution_count": null,
   "metadata": {},
   "outputs": [],
   "source": [
    "# print(color_val)"
   ]
  },
  {
   "cell_type": "code",
   "execution_count": null,
   "metadata": {},
   "outputs": [],
   "source": [
    "# area_pos = df_areaLOG[areaPOS_label].iloc[0, :].values\n",
    "# area_pos = area_pos.reshape(-1, 2)"
   ]
  },
  {
   "cell_type": "code",
   "execution_count": null,
   "metadata": {},
   "outputs": [],
   "source": [
    "# print(area_pos)"
   ]
  },
  {
   "cell_type": "code",
   "execution_count": null,
   "metadata": {},
   "outputs": [],
   "source": []
  },
  {
   "cell_type": "code",
   "execution_count": null,
   "metadata": {},
   "outputs": [],
   "source": []
  },
  {
   "cell_type": "markdown",
   "metadata": {},
   "source": [
    "### Kilo Df"
   ]
  },
  {
   "cell_type": "code",
   "execution_count": null,
   "metadata": {},
   "outputs": [],
   "source": [
    "# df_kiloPOS = pd.read_csv(os.path.join(results_folder, timeout_folder, kiloFilename), sep=\"\\t\", header=None)\n",
    "# df_kiloPOS.columns = kiloLOG_label"
   ]
  },
  {
   "cell_type": "code",
   "execution_count": null,
   "metadata": {
    "scrolled": true
   },
   "outputs": [],
   "source": [
    "# df_kiloPOS[kiloPOS_label].iloc[:1,:]"
   ]
  },
  {
   "cell_type": "code",
   "execution_count": null,
   "metadata": {},
   "outputs": [],
   "source": [
    "# kilo_single_pos = df_kiloPOS[kiloPOS_label].iloc[1,:2].values\n",
    "\n",
    "# kilo_pos = df_kiloPOS[kiloPOS_label].iloc[:1,:].values.reshape(-1,2)\n",
    "# print(kilo_pos.shape)"
   ]
  },
  {
   "cell_type": "markdown",
   "metadata": {},
   "source": [
    "### kilo - area distances"
   ]
  },
  {
   "cell_type": "code",
   "execution_count": null,
   "metadata": {},
   "outputs": [],
   "source": [
    "# np.linalg.norm(kilo_single_pos - area_pos, axis=1)"
   ]
  },
  {
   "cell_type": "code",
   "execution_count": null,
   "metadata": {
    "scrolled": true
   },
   "outputs": [],
   "source": [
    "# distance_t = distances(kilo_pos, area_pos)"
   ]
  },
  {
   "cell_type": "code",
   "execution_count": null,
   "metadata": {},
   "outputs": [],
   "source": [
    "# print(\"kilos-areas distance at time t\")\n",
    "# print(distance_t.shape)\n",
    "# # print(distance_t)"
   ]
  },
  {
   "cell_type": "code",
   "execution_count": null,
   "metadata": {},
   "outputs": [],
   "source": [
    "# l'indice corrispondente al valore minimo per ogni riga corrisponde all'area più vicina al kilobot\n",
    "# in_area = np.argmin(distances(kilo_pos, area_pos),axis=1)"
   ]
  },
  {
   "cell_type": "code",
   "execution_count": null,
   "metadata": {},
   "outputs": [],
   "source": [
    "# print(in_area.shape)\n",
    "# print(in_area)"
   ]
  },
  {
   "cell_type": "code",
   "execution_count": null,
   "metadata": {},
   "outputs": [],
   "source": [
    "# color_val"
   ]
  },
  {
   "cell_type": "code",
   "execution_count": null,
   "metadata": {},
   "outputs": [],
   "source": [
    "#id - color association\n",
    "# color_val[in_area]"
   ]
  },
  {
   "cell_type": "code",
   "execution_count": null,
   "metadata": {},
   "outputs": [],
   "source": [
    "# 0:in area blue, 1:in area red ----> count how many NON 0s\n",
    "# np.count_nonzero(color_val[in_area])"
   ]
  },
  {
   "cell_type": "code",
   "execution_count": null,
   "metadata": {},
   "outputs": [],
   "source": [
    "# df_kiloPOS[kiloPOS_label]"
   ]
  },
  {
   "cell_type": "code",
   "execution_count": null,
   "metadata": {
    "scrolled": true
   },
   "outputs": [],
   "source": [
    "# single_run_count = np.array([])\n",
    "# for row in df_kiloPOS[kiloPOS_label].values:\n",
    "# #     print(row)\n",
    "#     kilo_pos_t = row.reshape(-1,2)\n",
    "#     in_area = np.argmin(distances(kilo_pos_t, area_pos),axis=1)\n",
    "#     color_val[in_area]\n",
    "#     np.count_nonzero(color_val[in_area])\n",
    "    \n",
    "# #     print(\"kilo_pos_t.shape: \",kilo_pos_t.shape)\n",
    "# #     print(\"in_area.shape:\",in_area.shape)\n",
    "#     print(np.count_nonzero(color_val[in_area]), end=\", \")\n",
    "#     single_run_count = np.append(single_run_count,np.count_nonzero(color_val[in_area]))\n",
    "# #     print(end=\"\\n\\n\")"
   ]
  },
  {
   "cell_type": "code",
   "execution_count": null,
   "metadata": {},
   "outputs": [],
   "source": [
    "# print(single_run_count)"
   ]
  },
  {
   "cell_type": "code",
   "execution_count": null,
   "metadata": {},
   "outputs": [],
   "source": [
    "# np.vstack((single_run_count,single_run_count)).shape"
   ]
  },
  {
   "cell_type": "code",
   "execution_count": null,
   "metadata": {},
   "outputs": [],
   "source": [
    "# timeout_folder = \"/home/luigi/Documents/ARGoS/argos_results_scripts/DHTF/standAlone/results_newWalkParam/adaptive/Mixed/Mixed_AdaptiveWalk_2021-07-13_robots#24_timeout#1_respawn#30_NumAreas#16_redAreas#8_1800#seconds\""
   ]
  },
  {
   "cell_type": "code",
   "execution_count": null,
   "metadata": {
    "scrolled": true
   },
   "outputs": [],
   "source": [
    "for results_folder in results_folders:\n",
    "    for timeout_folder in natsorted(os.listdir(os.path.join(results_folder))):\n",
    "        timeout = -1\n",
    "        print(colored(\"Timeout folder:\", 'blue'),timeout_folder)\n",
    "\n",
    "        parameters = timeout_folder.split(\"_\")\n",
    "\n",
    "        for param in parameters:\n",
    "            if param.startswith(\"timeout\"):\n",
    "    #             print(param.split(\"#\")[-1])\n",
    "                timeout = int(param.split(\"#\")[-1]) * 10\n",
    "                print(\"\\ttimeout:\",timeout)\n",
    "\n",
    "        if timeout == -1 :\n",
    "            print(colored(\"\\tWARNING: wrong timeout folder\", 'green'))\n",
    "            continue\n",
    "\n",
    "        imgName = results_folder.split(\"/\")[-2]+\"_\"+results_folder.split(\"/\")[-1]+\"_timeout#\"+str(timeout)\n",
    "\n",
    "\n",
    "        timeout_run_count = np.array([])\n",
    "        evaluate_seed = False\n",
    "        for filename in natsorted(os.listdir(os.path.join(results_folder, timeout_folder))):\n",
    "            if filename.endswith(\"areaLOG.tsv\"):\n",
    "                if not os.path.getsize(os.path.join(results_folder, timeout_folder, filename)) > 0:\n",
    "                    print(colored(\"\\tWARNING, empty file at:\" + filename, 'red'))\n",
    "                    continue\n",
    "    #             print('\\tfilename: ', filename)\n",
    "                df_areaLOG = pd.read_csv(os.path.join(results_folder, timeout_folder, filename), sep=\"\\t\", header=None)\n",
    "\n",
    "            if filename.endswith(\"kiloLOG.tsv\"):\n",
    "                if not os.path.getsize(os.path.join(results_folder, timeout_folder, filename)) > 0:\n",
    "                    print(colored(\"\\tWARNING, empty file at:\" + filename, 'red'))\n",
    "                    continue\n",
    "    #             print('\\tfilename: ', filename)\n",
    "                df_kiloPOS = pd.read_csv(os.path.join(results_folder, timeout_folder, filename), sep=\"\\t\", header=None)\n",
    "\n",
    "                evaluate_seed = True\n",
    "\n",
    "            if evaluate_seed:\n",
    "    #             print(\"\\tProcessing\")\n",
    "\n",
    "\n",
    "\n",
    "                df_areaLOG.columns = df_area_labels\n",
    "                color_val = df_areaLOG[areaCOL_label].iloc[:1,:].values.reshape(-1)\n",
    "                area_pos = df_areaLOG[areaPOS_label].iloc[0, :].values.reshape(-1, 2)\n",
    "\n",
    "                df_kiloPOS.columns = kiloLOG_label\n",
    "\n",
    "                single_run_count = np.array([])\n",
    "                for row in df_kiloPOS[kiloPOS_label].values:\n",
    "                #     print(row)\n",
    "                    kilo_pos_t = row.reshape(-1,2)\n",
    "                    in_area = np.argmin(distances(kilo_pos_t, area_pos),axis=1)\n",
    "                #    color_val[in_area]\n",
    "                #    np.count_nonzero(color_val[in_area])\n",
    "\n",
    "                #     print(\"kilo_pos_t.shape: \",kilo_pos_t.shape)\n",
    "                #     print(\"in_area.shape:\",in_area.shape)\n",
    "                #     print(np.count_nonzero(color_val[in_area]), end=\", \")\n",
    "                    single_run_count = np.append(single_run_count,np.count_nonzero(color_val[in_area]))\n",
    "                #     print(end=\"\\n\\n\")\n",
    "\n",
    "                timeout_run_count = np.vstack((timeout_run_count, single_run_count)) if timeout_run_count.size else single_run_count\n",
    "    #             print(\"timeout_run_count.shape \",timeout_run_count.shape)\n",
    "\n",
    "                evaluate_seed = False\n",
    "\n",
    "        print(\"timeout_run_count.shape \",timeout_run_count.shape)        \n",
    "        histogram = get_histogram(timeout_run_count, bin_edges)\n",
    "        plot_heatmap(histogram, bin_edges,imgName)"
   ]
  },
  {
   "cell_type": "code",
   "execution_count": null,
   "metadata": {},
   "outputs": [],
   "source": [
    "# timeout_run_count.shape"
   ]
  },
  {
   "cell_type": "code",
   "execution_count": null,
   "metadata": {},
   "outputs": [],
   "source": []
  },
  {
   "cell_type": "code",
   "execution_count": null,
   "metadata": {},
   "outputs": [],
   "source": [
    "\n",
    "# hist_val = np.array([])\n",
    "# for x in timeout_run_count.T:\n",
    "# #     print(x.size)\n",
    "#     hist,_= np.histogram(x,bin_edges)\n",
    "#     hist_val = np.vstack([hist_val, hist]) if hist_val.size else hist\n",
    "\n",
    "# print(hist_val.shape)\n",
    "   \n",
    "    \n",
    "    \n",
    "# fig = plt.figure(figsize=(20, 5), dpi=160)\n",
    "\n",
    "# y_values = hist_val.T\n",
    "# y_edges = bin_edges.round(decimals=2)\n",
    "\n",
    "# # plt.xlabel('time(s)')\n",
    "# yticks = y_edges\n",
    "\n",
    "\n",
    "# # print(\"\\t v_max:\", v_max)\n",
    "# ax = sns.heatmap(y_values, yticklabels=yticks, cmap=\"viridis\", vmin=0)\n",
    "# ax.set_title(\"Position distribution around red areas\")\n",
    "# ax.set_xlabel('time(s)')\n",
    "# plt.ylabel('#robots')\n",
    "# plt.yticks(np.arange(y_edges.size), yticks)\n",
    "# # plt.savefig(\"position_distribution_X_timeout\"+str(timeout)+\".png\")\n",
    "# plt.show()"
   ]
  },
  {
   "cell_type": "code",
   "execution_count": null,
   "metadata": {},
   "outputs": [],
   "source": []
  }
 ],
 "metadata": {
  "kernelspec": {
   "display_name": "Python 3",
   "language": "python",
   "name": "python3"
  },
  "language_info": {
   "codemirror_mode": {
    "name": "ipython",
    "version": 3
   },
   "file_extension": ".py",
   "mimetype": "text/x-python",
   "name": "python",
   "nbconvert_exporter": "python",
   "pygments_lexer": "ipython3",
   "version": "3.6.9"
  }
 },
 "nbformat": 4,
 "nbformat_minor": 4
}
