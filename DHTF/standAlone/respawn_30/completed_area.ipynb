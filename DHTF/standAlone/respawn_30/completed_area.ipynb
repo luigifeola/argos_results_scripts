{
 "cells": [
  {
   "cell_type": "code",
   "execution_count": 1,
   "metadata": {},
   "outputs": [
    {
     "data": {
      "text/html": [
       "<style>.container { width:70% !important; }</style>"
      ],
      "text/plain": [
       "<IPython.core.display.HTML object>"
      ]
     },
     "metadata": {},
     "output_type": "display_data"
    }
   ],
   "source": [
    "from IPython.core.display import display, HTML\n",
    "display(HTML(\"<style>.container { width:70% !important; }</style>\"))"
   ]
  },
  {
   "cell_type": "code",
   "execution_count": 2,
   "metadata": {},
   "outputs": [],
   "source": [
    "import os\n",
    "import pandas as pd\n",
    "from termcolor import colored\n",
    "import numpy as np\n",
    "from collections import OrderedDict\n",
    "from collections import Counter\n",
    "import matplotlib.pyplot as plt\n",
    "from natsort import natsorted\n",
    "import sys\n",
    "import pickle\n",
    "import seaborn as sns\n",
    "\n",
    "# Display pandas df without truncation\n",
    "pd.set_option('display.max_rows', None)\n",
    "pd.set_option('display.max_columns', None)\n",
    "pd.set_option('display.width', None)\n",
    "pd.set_option('display.max_colwidth', None)\n",
    "\n",
    "np.set_printoptions(edgeitems=30, linewidth=100000, formatter=dict(float=lambda x: \"%.3g\" % x))\n",
    "\n"
   ]
  },
  {
   "cell_type": "markdown",
   "metadata": {},
   "source": [
    "## Simple boxplot func"
   ]
  },
  {
   "cell_type": "code",
   "execution_count": 3,
   "metadata": {},
   "outputs": [],
   "source": [
    "green_diamond = dict(markerfacecolor='g', marker='D')\n",
    "\n",
    "def simple_boxplot(my_dict, fig_name, yLim, save_flag):\n",
    "    fig, ax = plt.subplots(figsize=(20, 5), dpi=80)\n",
    "    ax.boxplot(my_dict.values(), flierprops=green_diamond)\n",
    "    ax.set_xticklabels(my_dict.keys())\n",
    "    ax.grid()\n",
    "    plt.ylim(-1,yLim)\n",
    "    plt.tight_layout()\n",
    "    if save_flag:\n",
    "        plt.savefig(fig_name+'.png')"
   ]
  },
  {
   "cell_type": "code",
   "execution_count": 4,
   "metadata": {},
   "outputs": [],
   "source": [
    "num_robot = 24\n",
    "experiment_time = 1800\n",
    "num_run = 100"
   ]
  },
  {
   "cell_type": "code",
   "execution_count": 5,
   "metadata": {},
   "outputs": [],
   "source": [
    "# results_folder = '/home/luigi/Documents/ARGoS/argos_results_scripts/DHTF/standAlone/results/persistent/Respawn#30_2021-07-08_robots#24MIXED'\n",
    "# results_folder = '/home/luigi/Documents/ARGoS/argos_results_scripts/DHTF/standAlone/results/brownian/Respawn#30_2021-07-08_robots#24MIXED'\n",
    "# results_folder = '/home/luigi/Documents/ARGoS/argos_results_scripts/DHTF/standAlone/results/brownian/Regions'\n",
    "# results_folder = '/home/luigi/Documents/ARGoS/argos_results_scripts/DHTF/standAlone/results/persistent/Regions'\n",
    "results_folder = '/home/luigi/Documents/ARGoS/argos_results_scripts/DHTF/standAlone/results/adaptive/Regions'"
   ]
  },
  {
   "cell_type": "code",
   "execution_count": 6,
   "metadata": {},
   "outputs": [
    {
     "name": "stdout",
     "output_type": "stream",
     "text": [
      "\u001b[32mOK, /home/luigi/Documents/ARGoS/argos_results_scripts/DHTF/standAlone/results/adaptive/Regions exists\u001b[0m\n"
     ]
    }
   ],
   "source": [
    "if not os.path.isdir(results_folder):\n",
    "    print(colored(\"Error, \" + results_folder + \" does not exist\", 'red'))\n",
    "else:\n",
    "    print(colored(\"OK, \" + results_folder + \" exists\", 'green'))"
   ]
  },
  {
   "cell_type": "code",
   "execution_count": 7,
   "metadata": {},
   "outputs": [],
   "source": [
    "completed_task_label = [\"time\", \"areaID\", \"creation_time\", \"completion_time\", \"type\", \"kID_on_top\", \"kIDs\"]"
   ]
  },
  {
   "cell_type": "markdown",
   "metadata": {},
   "source": [
    "## Completed areas per kilobot"
   ]
  },
  {
   "cell_type": "code",
   "execution_count": 8,
   "metadata": {},
   "outputs": [
    {
     "name": "stdout",
     "output_type": "stream",
     "text": [
      "\u001b[34mTimeout folder:\u001b[0m Regions_AdaptiveWalk_2021-07-12_robots#24_timeout#1_respawn#30_NumAreas#16_redAreas#8_1800#seconds\n",
      "\ttimeout: 10\n",
      "\u001b[34mTimeout folder:\u001b[0m Regions_AdaptiveWalk_2021-07-12_robots#24_timeout#3_respawn#30_NumAreas#16_redAreas#8_1800#seconds\n",
      "\ttimeout: 30\n",
      "\u001b[34mTimeout folder:\u001b[0m Regions_AdaptiveWalk_2021-07-12_robots#24_timeout#6_respawn#30_NumAreas#16_redAreas#8_1800#seconds\n",
      "\ttimeout: 60\n",
      "\u001b[34mTimeout folder:\u001b[0m Regions_AdaptiveWalk_2021-07-12_robots#24_timeout#12_respawn#30_NumAreas#16_redAreas#8_1800#seconds\n",
      "\ttimeout: 120\n",
      "\u001b[34mTimeout folder:\u001b[0m Regions_AdaptiveWalk_2021-07-12_robots#24_timeout#18_respawn#30_NumAreas#16_redAreas#8_1800#seconds\n",
      "\ttimeout: 180\n",
      "\u001b[34mTimeout folder:\u001b[0m Regions_AdaptiveWalk_2021-07-12_robots#24_timeout#24_respawn#30_NumAreas#16_redAreas#8_1800#seconds\n",
      "\ttimeout: 240\n",
      "\u001b[34mTimeout folder:\u001b[0m Regions_AdaptiveWalk_2021-07-12_robots#24_timeout#30_respawn#30_NumAreas#16_redAreas#8_1800#seconds\n",
      "\ttimeout: 300\n",
      "\u001b[34mTimeout folder:\u001b[0m Regions_AdaptiveWalk_2021-07-12_robots#24_timeout#36_respawn#30_NumAreas#16_redAreas#8_1800#seconds\n",
      "\ttimeout: 360\n",
      "\u001b[34mTimeout folder:\u001b[0m Regions_AdaptiveWalk_2021-07-12_robots#24_timeout#42_respawn#30_NumAreas#16_redAreas#8_1800#seconds\n",
      "\ttimeout: 420\n",
      "\u001b[34mTimeout folder:\u001b[0m Regions_AdaptiveWalk_2021-07-12_robots#24_timeout#48_respawn#30_NumAreas#16_redAreas#8_1800#seconds\n",
      "\ttimeout: 480\n",
      "\u001b[34mTimeout folder:\u001b[0m Regions_AdaptiveWalk_2021-07-12_robots#24_timeout#54_respawn#30_NumAreas#16_redAreas#8_1800#seconds\n",
      "\ttimeout: 540\n",
      "\u001b[34mTimeout folder:\u001b[0m Regions_AdaptiveWalk_2021-07-12_robots#24_timeout#60_respawn#30_NumAreas#16_redAreas#8_1800#seconds\n",
      "\ttimeout: 600\n"
     ]
    }
   ],
   "source": [
    "completed_task_dict = {}\n",
    "\n",
    "timeout = -1\n",
    "for timeout_folder in natsorted(os.listdir(os.path.join(results_folder))):\n",
    "    print(colored(\"Timeout folder:\", 'blue'),timeout_folder)\n",
    "    \n",
    "    parameters = timeout_folder.split(\"_\")\n",
    "    \n",
    "    for param in parameters:\n",
    "        if param.startswith(\"timeout\"):\n",
    "#             print(param.split(\"#\")[-1])\n",
    "            timeout = int(param.split(\"#\")[-1]) * 10\n",
    "            print(\"\\ttimeout:\",timeout)\n",
    "    \n",
    "#     if timeout == 20 :\n",
    "#         break\n",
    "        \n",
    "    if timeout == -1 :\n",
    "        print(colored(\"\\tWARNING: wrong timeout folder\", 'green'))\n",
    "        continue\n",
    "\n",
    "    completed_task_count = []\n",
    "    for filename in os.listdir(os.path.join(results_folder, timeout_folder)):\n",
    "        if filename.endswith(\"completed_taskLOG.tsv\"):\n",
    "            if not os.path.getsize(os.path.join(results_folder, timeout_folder, filename)) > 0:\n",
    "                print(colored(\"\\tWARNING, empty file at:\" + filename, 'red'))\n",
    "                continue\n",
    "#             print('\\tfilename: ', filename)\n",
    "            \n",
    "            df_completedTask = pd.read_csv(os.path.join(results_folder, timeout_folder, filename), sep=\"\\t\", header=None)\n",
    "            df_completedTask.columns = completed_task_label\n",
    "            completed_area_kIDs = np.array([]).astype(int)\n",
    "            for area in df_completedTask[\"kIDs\"].values:\n",
    "            #     print(np.fromstring(area, dtype=int, sep=','))\n",
    "                completed_area_kIDs = np.append(completed_area_kIDs, np.fromstring(area, dtype=int, sep=','))\n",
    "            counter = Counter(completed_area_kIDs)\n",
    "            \n",
    "            for i in np.arange(num_robot):\n",
    "                if i not in counter.keys():\n",
    "#                     print(i)\n",
    "                    counter[i] = 0\n",
    "                    \n",
    "            completed_task_count += list(counter.values())\n",
    "#             print(elapsed_timeout_count)\n",
    "    \n",
    "    if len(completed_task_count):\n",
    "        completed_task_dict[str(timeout)] = completed_task_count\n",
    "    else:\n",
    "        print(colored(\"\\tWARNING: empty list!!\", 'green'))\n",
    "        completed_task_dict[str(timeout)] = [0] * num_robot * num_run\n",
    "            \n"
   ]
  },
  {
   "cell_type": "markdown",
   "metadata": {},
   "source": [
    "### Persistent"
   ]
  },
  {
   "cell_type": "code",
   "execution_count": null,
   "metadata": {
    "scrolled": false
   },
   "outputs": [],
   "source": [
    "saveFigure = False\n",
    "figName = \"completedTaskMean_persistent_\"+results_folder.split(\"/\")[-1]\n",
    "print(\"Figure name: \", figName)\n",
    "simple_boxplot(completed_task_dict, figName, 30, saveFigure)"
   ]
  },
  {
   "cell_type": "markdown",
   "metadata": {},
   "source": [
    "### Brownian"
   ]
  },
  {
   "cell_type": "code",
   "execution_count": null,
   "metadata": {
    "scrolled": false
   },
   "outputs": [],
   "source": [
    "saveFigure = False\n",
    "figName = \"completedTaskMean_brownian_\"+results_folder.split(\"/\")[-1]\n",
    "print(\"Figure name: \", figName)\n",
    "simple_boxplot(completed_task_dict, figName, 30, saveFigure)"
   ]
  },
  {
   "cell_type": "code",
   "execution_count": null,
   "metadata": {},
   "outputs": [],
   "source": []
  },
  {
   "cell_type": "code",
   "execution_count": null,
   "metadata": {},
   "outputs": [],
   "source": []
  },
  {
   "cell_type": "markdown",
   "metadata": {},
   "source": [
    "### Adaptive"
   ]
  },
  {
   "cell_type": "code",
   "execution_count": 9,
   "metadata": {},
   "outputs": [
    {
     "name": "stdout",
     "output_type": "stream",
     "text": [
      "Figure name:  completedTaskMean_adaptive_Regions\n"
     ]
    },
    {
     "data": {
      "image/png": "[encoded data removed]",
      "text/plain": [
       "<Figure size 1600x400 with 1 Axes>"
      ]
     },
     "metadata": {
      "needs_background": "light"
     },
     "output_type": "display_data"
    }
   ],
   "source": [
    "saveFigure = True\n",
    "figName = \"completedTaskMean_adaptive_\"+results_folder.split(\"/\")[-1]\n",
    "print(\"Figure name: \", figName)\n",
    "simple_boxplot(completed_task_dict, figName, 30, saveFigure)"
   ]
  },
  {
   "cell_type": "markdown",
   "metadata": {},
   "source": [
    "## Completed areas in general"
   ]
  },
  {
   "cell_type": "code",
   "execution_count": 10,
   "metadata": {},
   "outputs": [
    {
     "name": "stdout",
     "output_type": "stream",
     "text": [
      "\u001b[34mTimeout folder:\u001b[0m Regions_AdaptiveWalk_2021-07-12_robots#24_timeout#1_respawn#30_NumAreas#16_redAreas#8_1800#seconds\n",
      "\ttimeout: 10\n",
      "\u001b[34m\tlen(completed_task_count)100\u001b[0m\n",
      "\u001b[34mTimeout folder:\u001b[0m Regions_AdaptiveWalk_2021-07-12_robots#24_timeout#3_respawn#30_NumAreas#16_redAreas#8_1800#seconds\n",
      "\ttimeout: 30\n",
      "\u001b[34m\tlen(completed_task_count)100\u001b[0m\n",
      "\u001b[34mTimeout folder:\u001b[0m Regions_AdaptiveWalk_2021-07-12_robots#24_timeout#6_respawn#30_NumAreas#16_redAreas#8_1800#seconds\n",
      "\ttimeout: 60\n",
      "\u001b[34m\tlen(completed_task_count)100\u001b[0m\n",
      "\u001b[34mTimeout folder:\u001b[0m Regions_AdaptiveWalk_2021-07-12_robots#24_timeout#12_respawn#30_NumAreas#16_redAreas#8_1800#seconds\n",
      "\ttimeout: 120\n",
      "\u001b[34m\tlen(completed_task_count)100\u001b[0m\n",
      "\u001b[34mTimeout folder:\u001b[0m Regions_AdaptiveWalk_2021-07-12_robots#24_timeout#18_respawn#30_NumAreas#16_redAreas#8_1800#seconds\n",
      "\ttimeout: 180\n",
      "\u001b[34m\tlen(completed_task_count)100\u001b[0m\n",
      "\u001b[34mTimeout folder:\u001b[0m Regions_AdaptiveWalk_2021-07-12_robots#24_timeout#24_respawn#30_NumAreas#16_redAreas#8_1800#seconds\n",
      "\ttimeout: 240\n",
      "\u001b[34m\tlen(completed_task_count)100\u001b[0m\n",
      "\u001b[34mTimeout folder:\u001b[0m Regions_AdaptiveWalk_2021-07-12_robots#24_timeout#30_respawn#30_NumAreas#16_redAreas#8_1800#seconds\n",
      "\ttimeout: 300\n",
      "\u001b[34m\tlen(completed_task_count)100\u001b[0m\n",
      "\u001b[34mTimeout folder:\u001b[0m Regions_AdaptiveWalk_2021-07-12_robots#24_timeout#36_respawn#30_NumAreas#16_redAreas#8_1800#seconds\n",
      "\ttimeout: 360\n",
      "\u001b[34m\tlen(completed_task_count)100\u001b[0m\n",
      "\u001b[34mTimeout folder:\u001b[0m Regions_AdaptiveWalk_2021-07-12_robots#24_timeout#42_respawn#30_NumAreas#16_redAreas#8_1800#seconds\n",
      "\ttimeout: 420\n",
      "\u001b[34m\tlen(completed_task_count)100\u001b[0m\n",
      "\u001b[34mTimeout folder:\u001b[0m Regions_AdaptiveWalk_2021-07-12_robots#24_timeout#48_respawn#30_NumAreas#16_redAreas#8_1800#seconds\n",
      "\ttimeout: 480\n",
      "\u001b[34m\tlen(completed_task_count)100\u001b[0m\n",
      "\u001b[34mTimeout folder:\u001b[0m Regions_AdaptiveWalk_2021-07-12_robots#24_timeout#54_respawn#30_NumAreas#16_redAreas#8_1800#seconds\n",
      "\ttimeout: 540\n",
      "\u001b[34m\tlen(completed_task_count)100\u001b[0m\n",
      "\u001b[34mTimeout folder:\u001b[0m Regions_AdaptiveWalk_2021-07-12_robots#24_timeout#60_respawn#30_NumAreas#16_redAreas#8_1800#seconds\n",
      "\ttimeout: 600\n",
      "\u001b[34m\tlen(completed_task_count)100\u001b[0m\n"
     ]
    }
   ],
   "source": [
    "completed_task_dict = {}\n",
    "\n",
    "timeout = -1\n",
    "for timeout_folder in natsorted(os.listdir(os.path.join(results_folder))):\n",
    "    print(colored(\"Timeout folder:\", 'blue'),timeout_folder)\n",
    "    \n",
    "    parameters = timeout_folder.split(\"_\")\n",
    "    \n",
    "    for param in parameters:\n",
    "        if param.startswith(\"timeout\"):\n",
    "#             print(param.split(\"#\")[-1])\n",
    "            timeout = int(param.split(\"#\")[-1]) * 10\n",
    "            print(\"\\ttimeout:\",timeout)\n",
    "    \n",
    "#     if timeout == 20 :\n",
    "#         break\n",
    "        \n",
    "    if timeout == -1 :\n",
    "        print(colored(\"\\tWARNING: wrong timeout folder\", 'green'))\n",
    "        continue\n",
    "\n",
    "    completed_task_count = []\n",
    "    for filename in os.listdir(os.path.join(results_folder, timeout_folder)):\n",
    "        if filename.endswith(\"completed_taskLOG.tsv\"):\n",
    "            if not os.path.getsize(os.path.join(results_folder, timeout_folder, filename)) > 0:\n",
    "                print(colored(\"\\tWARNING, empty file at:\" + filename, 'red'))\n",
    "                completed_task_dict[str(timeout)] = 0\n",
    "                continue\n",
    "#             print('\\tfilename: ', filename)\n",
    "            \n",
    "            df_completedTask = pd.read_csv(os.path.join(results_folder, timeout_folder, filename), sep=\"\\t\", header=None)\n",
    "            completed_task_count += [df_completedTask.shape[0]]\n",
    "            \n",
    "    if(len(completed_task_count)!= 100):\n",
    "        print(colored(\"\\tWARNING, completed_task_count should be 100!\", 'red'))\n",
    "    print(colored(\"\\tlen(completed_task_count)\"+str(len(completed_task_count)), 'blue'))\n",
    "    completed_task_dict[str(timeout)] = completed_task_count\n",
    "    \n",
    "            \n"
   ]
  },
  {
   "cell_type": "markdown",
   "metadata": {},
   "source": [
    "### Persistent"
   ]
  },
  {
   "cell_type": "code",
   "execution_count": null,
   "metadata": {
    "scrolled": false
   },
   "outputs": [],
   "source": [
    "saveFigure = True\n",
    "figureName = \"completedTask_persistent_\"+results_folder.split(\"/\")[-1]\n",
    "print(figureName)\n",
    "simple_boxplot(completed_task_dict, figureName, 170, saveFigure)"
   ]
  },
  {
   "cell_type": "markdown",
   "metadata": {},
   "source": [
    "### Brownian"
   ]
  },
  {
   "cell_type": "code",
   "execution_count": null,
   "metadata": {
    "scrolled": false
   },
   "outputs": [],
   "source": [
    "saveFigure = True\n",
    "figureName = \"completedTask_brownian_\"+results_folder.split(\"/\")[-1]\n",
    "print(figureName)\n",
    "simple_boxplot(completed_task_dict, figureName, 170, saveFigure)"
   ]
  },
  {
   "cell_type": "code",
   "execution_count": null,
   "metadata": {},
   "outputs": [],
   "source": []
  },
  {
   "cell_type": "code",
   "execution_count": null,
   "metadata": {},
   "outputs": [],
   "source": []
  },
  {
   "cell_type": "markdown",
   "metadata": {},
   "source": [
    "### Adaptive"
   ]
  },
  {
   "cell_type": "code",
   "execution_count": 11,
   "metadata": {},
   "outputs": [
    {
     "name": "stdout",
     "output_type": "stream",
     "text": [
      "completedTask_adaptive_Regions\n"
     ]
    },
    {
     "data": {
      "image/png": "[encoded data removed]",
      "text/plain": [
       "<Figure size 1600x400 with 1 Axes>"
      ]
     },
     "metadata": {
      "needs_background": "light"
     },
     "output_type": "display_data"
    }
   ],
   "source": [
    "saveFigure = True\n",
    "figureName = \"completedTask_adaptive_\"+results_folder.split(\"/\")[-1]\n",
    "print(figureName)\n",
    "simple_boxplot(completed_task_dict, figureName, 170, saveFigure)"
   ]
  },
  {
   "cell_type": "code",
   "execution_count": null,
   "metadata": {},
   "outputs": [],
   "source": []
  }
 ],
 "metadata": {
  "kernelspec": {
   "display_name": "Python 3",
   "language": "python",
   "name": "python3"
  },
  "language_info": {
   "codemirror_mode": {
    "name": "ipython",
    "version": 3
   },
   "file_extension": ".py",
   "mimetype": "text/x-python",
   "name": "python",
   "nbconvert_exporter": "python",
   "pygments_lexer": "ipython3",
   "version": "3.6.9"
  }
 },
 "nbformat": 4,
 "nbformat_minor": 4
}
