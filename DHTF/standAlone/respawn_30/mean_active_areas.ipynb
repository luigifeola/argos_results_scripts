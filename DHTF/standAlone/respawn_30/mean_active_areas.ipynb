{
 "cells": [
  {
   "cell_type": "code",
   "execution_count": 1,
   "metadata": {},
   "outputs": [
    {
     "data": {
      "text/html": [
       "<style>.container { width:70% !important; }</style>"
      ],
      "text/plain": [
       "<IPython.core.display.HTML object>"
      ]
     },
     "metadata": {},
     "output_type": "display_data"
    }
   ],
   "source": [
    "from IPython.core.display import display, HTML\n",
    "display(HTML(\"<style>.container { width:70% !important; }</style>\"))"
   ]
  },
  {
   "cell_type": "code",
   "execution_count": 2,
   "metadata": {},
   "outputs": [],
   "source": [
    "import os\n",
    "import pandas as pd\n",
    "from termcolor import colored\n",
    "import numpy as np\n",
    "from collections import OrderedDict\n",
    "from collections import Counter\n",
    "import matplotlib.pyplot as plt\n",
    "from natsort import natsorted\n",
    "import sys\n",
    "import pickle\n",
    "import seaborn as sns\n",
    "\n",
    "# Display pandas df without truncation\n",
    "pd.set_option('display.max_rows', None)\n",
    "pd.set_option('display.max_columns', None)\n",
    "pd.set_option('display.width', None)\n",
    "pd.set_option('display.max_colwidth', None)\n",
    "\n",
    "np.set_printoptions(edgeitems=30, linewidth=100000, formatter=dict(float=lambda x: \"%.3g\" % x))\n",
    "\n"
   ]
  },
  {
   "cell_type": "markdown",
   "metadata": {},
   "source": [
    "## Simple boxplot func"
   ]
  },
  {
   "cell_type": "code",
   "execution_count": 3,
   "metadata": {},
   "outputs": [],
   "source": [
    "green_diamond = dict(markerfacecolor='g', marker='D')\n",
    "\n",
    "def simple_boxplot(my_dict, fig_name, save_flag):\n",
    "    fig, ax = plt.subplots(figsize=(20, 5), dpi=80)\n",
    "    ax.boxplot(my_dict.values(), flierprops=green_diamond)\n",
    "    ax.set_xticklabels(my_dict.keys())\n",
    "    ax.grid()\n",
    "    plt.ylim(-1, 20)\n",
    "    plt.tight_layout()\n",
    "    if save_flag:\n",
    "        plt.savefig(fig_name+'.png')"
   ]
  },
  {
   "cell_type": "code",
   "execution_count": 4,
   "metadata": {},
   "outputs": [],
   "source": [
    "def set_box_color(bp, edge_color, fill_color):\n",
    "    plt.setp(bp['boxes'], color=edge_color)\n",
    "    plt.setp(bp['whiskers'], color=edge_color)\n",
    "    plt.setp(bp['caps'], color=edge_color)\n",
    "    plt.setp(bp['medians'], color=edge_color)\n",
    "    plt.setp(bp['fliers'], color=green_diamond)\n",
    "#     for flier in bp['fliers']:\n",
    "#         flier.set(marker='o', color=edge_color, alpha=1)\n",
    "    \n",
    "    for patch in bp['boxes']:\n",
    "        patch.set(facecolor=fill_color)"
   ]
  },
  {
   "cell_type": "code",
   "execution_count": 5,
   "metadata": {},
   "outputs": [],
   "source": [
    "def boxplot_3dict(dictl, dictc, dictr, plotName):\n",
    "    ticks = dictr.keys()\n",
    "\n",
    "    fig, ax = plt.subplots(figsize=(20, 5), dpi=80)\n",
    "\n",
    "    bpl = ax.boxplot(dictl.values(), patch_artist=True, flierprops=green_diamond, positions=np.array(range(len(dictl.values())))*3.0-0.6, widths=0.4)\n",
    "    bpr = ax.boxplot(dictr.values(), patch_artist=True, flierprops=green_diamond, positions=np.array(range(len(dictr.values())))*3.0+0.6, widths=0.4)\n",
    "    bpc = ax.boxplot(dictc.values(), patch_artist=True, flierprops=green_diamond, positions=np.array(range(len(dictc.values())))*3.0, widths=0.4)\n",
    "\n",
    "    set_box_color(bpl, 'red', 'tan') # colors are from http://colorbrewer2.org/\n",
    "    set_box_color(bpr, 'blue', 'cyan')\n",
    "    set_box_color(bpc, 'green', '#BCEE68')\n",
    "\n",
    "    # draw temporary red and blue lines and use them to create a legend\n",
    "    plt.plot([], c='red', label='Brownian')\n",
    "    plt.plot([], c='green', label='Persistent')\n",
    "    plt.plot([], c='blue', label='Adaptive')\n",
    "    plt.legend(loc=2)\n",
    "\n",
    "    # plt.xticks(range(0, 300, 5), ticks)\n",
    "    # plt.xlim(-3, len(ticks)*3)\n",
    "    # plt.ylim(0, 80)\n",
    "    plt.xticks(range(0, len(ticks) * 3, 3), ticks)\n",
    "    plt.xlim(-2, len(ticks)*3)\n",
    "    plt.ylim(10, 18)\n",
    "\n",
    "    ax.set_xticklabels(dictr.keys())\n",
    "    ax.set_xlabel(\"Timeout[s]\")\n",
    "    ax.grid()\n",
    "\n",
    "#     plt.tight_layout()\n",
    "    # plt.savefig('boxcompare.png')\n",
    "    figName = plotName + results_folder.split(\"/\")[-1]+'.png'\n",
    "    print(\"Figure name: \", figName)\n",
    "\n",
    "    plt.savefig(figName)"
   ]
  },
  {
   "cell_type": "code",
   "execution_count": 6,
   "metadata": {},
   "outputs": [],
   "source": [
    "num_areas = 16\n",
    "fieldsPerArea = 6 #id, posx, posy, color, completed?, #kilo_in_area\n",
    "\n",
    "num_robot = 24\n",
    "experiment_time = 1800\n",
    "num_run = 100"
   ]
  },
  {
   "cell_type": "code",
   "execution_count": 19,
   "metadata": {},
   "outputs": [],
   "source": [
    "# results_folder = '/home/luigi/Documents/ARGoS/argos_results_scripts/DHTF/standAlone/results_newWalkParam/brownian/Regions'\n",
    "# results_folder = '/home/luigi/Documents/ARGoS/argos_results_scripts/DHTF/standAlone/results_newWalkParam/persistent/Regions'\n",
    "# results_folder = '/home/luigi/Documents/ARGoS/argos_results_scripts/DHTF/standAlone/results_newWalkParam/adaptive/Regions'\n",
    "\n",
    "# results_folder = '/home/luigi/Documents/ARGoS/argos_results_scripts/DHTF/standAlone/results_newWalkParam/brownian/Mixed'\n",
    "# results_folder = '/home/luigi/Documents/ARGoS/argos_results_scripts/DHTF/standAlone/results_newWalkParam/persistent/Mixed'\n",
    "results_folder = '/home/luigi/Documents/ARGoS/argos_results_scripts/DHTF/standAlone/results_newWalkParam/adaptive/Mixed'"
   ]
  },
  {
   "cell_type": "code",
   "execution_count": 20,
   "metadata": {},
   "outputs": [
    {
     "name": "stdout",
     "output_type": "stream",
     "text": [
      "\u001b[32mOK, /home/luigi/Documents/ARGoS/argos_results_scripts/DHTF/standAlone/results_newWalkParam/adaptive/Mixed exists\u001b[0m\n"
     ]
    }
   ],
   "source": [
    "if not os.path.isdir(results_folder):\n",
    "    print(colored(\"Error, \" + results_folder + \" does not exist\", 'red'))\n",
    "else:\n",
    "    print(colored(\"OK, \" + results_folder + \" exists\", 'green'))"
   ]
  },
  {
   "cell_type": "markdown",
   "metadata": {},
   "source": [
    "### Area labels"
   ]
  },
  {
   "cell_type": "code",
   "execution_count": 21,
   "metadata": {},
   "outputs": [],
   "source": [
    "df_area_labels = ['time']\n",
    "for i in range(0, num_areas*fieldsPerArea, fieldsPerArea):\n",
    "    # print(i, end=\", \")\n",
    "    df_area_labels += ['id' + str(i // fieldsPerArea), 'posx' + str(i // fieldsPerArea), 'posy' + str(i // fieldsPerArea), 'color' + str(i // fieldsPerArea),\n",
    "                        'completed' + str(i // fieldsPerArea), 'contained' + str(i // fieldsPerArea)]"
   ]
  },
  {
   "cell_type": "markdown",
   "metadata": {},
   "source": [
    "## Completed labels"
   ]
  },
  {
   "cell_type": "code",
   "execution_count": 22,
   "metadata": {},
   "outputs": [],
   "source": [
    "completed_labels = []\n",
    "for i in range(0, num_areas):\n",
    "    completed_labels += ['completed' + str(i)]"
   ]
  },
  {
   "cell_type": "code",
   "execution_count": 23,
   "metadata": {
    "scrolled": true
   },
   "outputs": [
    {
     "name": "stdout",
     "output_type": "stream",
     "text": [
      "\u001b[34mTimeout folder:\u001b[0m Mixed_AdaptiveWalk_2021-07-13_robots#24_timeout#1_respawn#30_NumAreas#16_redAreas#8_1800#seconds\n",
      "\ttimeout: 10\n",
      "\u001b[34mTimeout folder:\u001b[0m Mixed_AdaptiveWalk_2021-07-13_robots#24_timeout#3_respawn#30_NumAreas#16_redAreas#8_1800#seconds\n",
      "\ttimeout: 30\n",
      "\u001b[34mTimeout folder:\u001b[0m Mixed_AdaptiveWalk_2021-07-13_robots#24_timeout#6_respawn#30_NumAreas#16_redAreas#8_1800#seconds\n",
      "\ttimeout: 60\n",
      "\u001b[34mTimeout folder:\u001b[0m Mixed_AdaptiveWalk_2021-07-13_robots#24_timeout#12_respawn#30_NumAreas#16_redAreas#8_1800#seconds\n",
      "\ttimeout: 120\n",
      "\u001b[34mTimeout folder:\u001b[0m Mixed_AdaptiveWalk_2021-07-13_robots#24_timeout#18_respawn#30_NumAreas#16_redAreas#8_1800#seconds\n",
      "\ttimeout: 180\n",
      "\u001b[34mTimeout folder:\u001b[0m Mixed_AdaptiveWalk_2021-07-13_robots#24_timeout#24_respawn#30_NumAreas#16_redAreas#8_1800#seconds\n",
      "\ttimeout: 240\n",
      "\u001b[34mTimeout folder:\u001b[0m Mixed_AdaptiveWalk_2021-07-13_robots#24_timeout#30_respawn#30_NumAreas#16_redAreas#8_1800#seconds\n",
      "\ttimeout: 300\n",
      "\u001b[34mTimeout folder:\u001b[0m Mixed_AdaptiveWalk_2021-07-13_robots#24_timeout#36_respawn#30_NumAreas#16_redAreas#8_1800#seconds\n",
      "\ttimeout: 360\n",
      "\u001b[34mTimeout folder:\u001b[0m Mixed_AdaptiveWalk_2021-07-13_robots#24_timeout#42_respawn#30_NumAreas#16_redAreas#8_1800#seconds\n",
      "\ttimeout: 420\n",
      "\u001b[34mTimeout folder:\u001b[0m Mixed_AdaptiveWalk_2021-07-13_robots#24_timeout#48_respawn#30_NumAreas#16_redAreas#8_1800#seconds\n",
      "\ttimeout: 480\n",
      "\u001b[34mTimeout folder:\u001b[0m Mixed_AdaptiveWalk_2021-07-13_robots#24_timeout#54_respawn#30_NumAreas#16_redAreas#8_1800#seconds\n",
      "\ttimeout: 540\n",
      "\u001b[34mTimeout folder:\u001b[0m Mixed_AdaptiveWalk_2021-07-13_robots#24_timeout#60_respawn#30_NumAreas#16_redAreas#8_1800#seconds\n",
      "\ttimeout: 600\n"
     ]
    }
   ],
   "source": [
    "mean_active_areas_dict = {}\n",
    "\n",
    "timeout = -1\n",
    "for timeout_folder in natsorted(os.listdir(os.path.join(results_folder))):\n",
    "    print(colored(\"Timeout folder:\", 'blue'),timeout_folder)\n",
    "    \n",
    "    parameters = timeout_folder.split(\"_\")\n",
    "    \n",
    "    for param in parameters:\n",
    "        if param.startswith(\"timeout\"):\n",
    "#             print(param.split(\"#\")[-1])\n",
    "            timeout = int(param.split(\"#\")[-1]) * 10\n",
    "            print(\"\\ttimeout:\",timeout)\n",
    "    \n",
    "#     if timeout == 20 :\n",
    "#         break\n",
    "        \n",
    "    if timeout == -1 :\n",
    "        print(colored(\"\\tWARNING: wrong timeout folder\", 'green'))\n",
    "        continue\n",
    "\n",
    "    mean_active_areas_count = []\n",
    "    for filename in os.listdir(os.path.join(results_folder, timeout_folder)):\n",
    "        if filename.endswith(\"areaLOG.tsv\"):\n",
    "            if not os.path.getsize(os.path.join(results_folder, timeout_folder, filename)) > 0:\n",
    "                print(colored(\"\\tWARNING, empty file at:\" + filename, 'red'))\n",
    "                continue\n",
    "#             print('\\tfilename: ', filename)\n",
    "            \n",
    "            df_meanActiveAreas = pd.read_csv(os.path.join(results_folder, timeout_folder, filename), sep=\"\\t\", header=None)\n",
    "            df_meanActiveAreas.columns = df_area_labels\n",
    "#             print(df_elpsTimeot['kID'].values)\n",
    "            \n",
    "            mean_active_areas_count += [(df_meanActiveAreas[completed_labels] == 0).sum(axis=1).mean()]\n",
    "#             print(mean_active_areas_count)\n",
    "    \n",
    "    mean_active_areas_dict[str(timeout)] = mean_active_areas_count       \n"
   ]
  },
  {
   "cell_type": "code",
   "execution_count": null,
   "metadata": {},
   "outputs": [],
   "source": [
    "# for i in mean_active_areas_dict.values():\n",
    "#     print(len(i))"
   ]
  },
  {
   "cell_type": "code",
   "execution_count": null,
   "metadata": {},
   "outputs": [],
   "source": []
  },
  {
   "cell_type": "markdown",
   "metadata": {},
   "source": [
    "### Brownian"
   ]
  },
  {
   "cell_type": "code",
   "execution_count": 12,
   "metadata": {},
   "outputs": [],
   "source": [
    "brownian_dict = mean_active_areas_dict"
   ]
  },
  {
   "cell_type": "markdown",
   "metadata": {},
   "source": [
    "### Persistent"
   ]
  },
  {
   "cell_type": "code",
   "execution_count": 18,
   "metadata": {},
   "outputs": [],
   "source": [
    "persistent_dict = mean_active_areas_dict"
   ]
  },
  {
   "cell_type": "markdown",
   "metadata": {},
   "source": [
    "### Adaptive"
   ]
  },
  {
   "cell_type": "code",
   "execution_count": 24,
   "metadata": {},
   "outputs": [],
   "source": [
    "adaptive_dict = mean_active_areas_dict"
   ]
  },
  {
   "cell_type": "code",
   "execution_count": null,
   "metadata": {},
   "outputs": [],
   "source": []
  },
  {
   "cell_type": "code",
   "execution_count": 25,
   "metadata": {},
   "outputs": [
    {
     "name": "stdout",
     "output_type": "stream",
     "text": [
      "Figure name:  meanActiveAreas_Mixed.png\n"
     ]
    },
    {
     "data": {
      "image/png": "[encoded data removed]",
      "text/plain": [
       "<Figure size 1600x400 with 1 Axes>"
      ]
     },
     "metadata": {
      "needs_background": "light"
     },
     "output_type": "display_data"
    }
   ],
   "source": [
    "boxplot_3dict(brownian_dict, persistent_dict, adaptive_dict, \"meanActiveAreas_\")"
   ]
  },
  {
   "cell_type": "code",
   "execution_count": null,
   "metadata": {},
   "outputs": [],
   "source": []
  },
  {
   "cell_type": "markdown",
   "metadata": {},
   "source": [
    "### Brownian"
   ]
  },
  {
   "cell_type": "code",
   "execution_count": null,
   "metadata": {},
   "outputs": [],
   "source": [
    "# saveFigure = True\n",
    "# figName = \"meanActiveAreas_brownian_\"+results_folder.split(\"/\")[-1]\n",
    "# print(figName)\n",
    "# simple_boxplot(mean_active_areas_dict, figName, saveFigure)"
   ]
  },
  {
   "cell_type": "markdown",
   "metadata": {},
   "source": [
    "### Persistent"
   ]
  },
  {
   "cell_type": "code",
   "execution_count": null,
   "metadata": {},
   "outputs": [],
   "source": [
    "# saveFigure = True\n",
    "# figName = \"meanActiveAreas_persistent_\"+results_folder.split(\"/\")[-1]\n",
    "# print(figName)\n",
    "# simple_boxplot(mean_active_areas_dict, figName, saveFigure)"
   ]
  },
  {
   "cell_type": "markdown",
   "metadata": {},
   "source": [
    "### Adaptive"
   ]
  },
  {
   "cell_type": "code",
   "execution_count": null,
   "metadata": {},
   "outputs": [],
   "source": [
    "# saveFigure = True\n",
    "# figName = \"meanActiveAreas_adaptive_\"+results_folder.split(\"/\")[-1]\n",
    "# print(figName)\n",
    "# simple_boxplot(mean_active_areas_dict, figName, saveFigure)"
   ]
  },
  {
   "cell_type": "code",
   "execution_count": null,
   "metadata": {},
   "outputs": [],
   "source": []
  }
 ],
 "metadata": {
  "kernelspec": {
   "display_name": "Python 3",
   "language": "python",
   "name": "python3"
  },
  "language_info": {
   "codemirror_mode": {
    "name": "ipython",
    "version": 3
   },
   "file_extension": ".py",
   "mimetype": "text/x-python",
   "name": "python",
   "nbconvert_exporter": "python",
   "pygments_lexer": "ipython3",
   "version": "3.6.9"
  }
 },
 "nbformat": 4,
 "nbformat_minor": 4
}
