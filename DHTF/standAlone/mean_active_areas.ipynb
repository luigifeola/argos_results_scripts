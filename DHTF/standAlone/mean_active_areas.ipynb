{
 "cells": [
  {
   "cell_type": "code",
   "execution_count": 1,
   "metadata": {},
   "outputs": [
    {
     "data": {
      "text/html": [
       "<style>.container { width:85% !important; }</style>"
      ],
      "text/plain": [
       "<IPython.core.display.HTML object>"
      ]
     },
     "metadata": {},
     "output_type": "display_data"
    }
   ],
   "source": [
    "from IPython.core.display import display, HTML\n",
    "display(HTML(\"<style>.container { width:85% !important; }</style>\"))"
   ]
  },
  {
   "cell_type": "code",
   "execution_count": 2,
   "metadata": {},
   "outputs": [],
   "source": [
    "import os\n",
    "import pandas as pd\n",
    "from termcolor import colored\n",
    "import numpy as np\n",
    "from collections import OrderedDict\n",
    "from collections import Counter\n",
    "import matplotlib.pyplot as plt\n",
    "from natsort import natsorted\n",
    "import sys\n",
    "import pickle\n",
    "import seaborn as sns\n",
    "\n",
    "# Display pandas df without truncation\n",
    "pd.set_option('display.max_rows', None)\n",
    "pd.set_option('display.max_columns', None)\n",
    "pd.set_option('display.width', None)\n",
    "pd.set_option('display.max_colwidth', None)\n",
    "\n",
    "np.set_printoptions(edgeitems=30, linewidth=100000, formatter=dict(float=lambda x: \"%.3g\" % x))\n",
    "\n"
   ]
  },
  {
   "cell_type": "markdown",
   "metadata": {},
   "source": [
    "## Simple boxplot func"
   ]
  },
  {
   "cell_type": "code",
   "execution_count": 57,
   "metadata": {},
   "outputs": [],
   "source": [
    "green_diamond = dict(markerfacecolor='g', marker='D')\n",
    "\n",
    "def simple_boxplot(my_dict, fig_name, save_flag):\n",
    "    fig, ax = plt.subplots(figsize=(20, 5), dpi=80)\n",
    "    ax.boxplot(my_dict.values(), flierprops=green_diamond)\n",
    "    ax.set_xticklabels(my_dict.keys())\n",
    "    plt.ylim(-1, 20)\n",
    "    plt.tight_layout()\n",
    "    if save_flag:\n",
    "        plt.savefig(fig_name+'.png')"
   ]
  },
  {
   "cell_type": "code",
   "execution_count": 4,
   "metadata": {},
   "outputs": [],
   "source": [
    "num_areas = 16\n",
    "fieldsPerArea = 6 #id, posx, posy, color, completed?, #kilo_in_area\n",
    "\n",
    "num_robot = 48\n",
    "experiment_time = 1800\n",
    "num_run = 100"
   ]
  },
  {
   "cell_type": "code",
   "execution_count": 59,
   "metadata": {},
   "outputs": [],
   "source": [
    "# results_folder = '/home/luigi/Documents/ARGoS/argos_results_scripts/DHTF/standAlone/results/standalone_circular'\n",
    "# results_folder = '/home/luigi/Documents/ARGoS/argos_results_scripts/DHTF/standAlone/results/timeout_respawn_study_red'\n",
    "# results_folder = '/home/luigi/Documents/ARGoS/argos_results_scripts/DHTF/standAlone/results/timeout_respawn_study_blue'\n",
    "results_folder = '/home/luigi/Documents/ARGoS/argos_results_scripts/DHTF/standAlone/results/timeout_respawn_study_mixed'"
   ]
  },
  {
   "cell_type": "markdown",
   "metadata": {},
   "source": [
    "### Area labels"
   ]
  },
  {
   "cell_type": "code",
   "execution_count": 14,
   "metadata": {},
   "outputs": [],
   "source": [
    "df_area_labels = ['time']\n",
    "for i in range(0, num_areas*fieldsPerArea, fieldsPerArea):\n",
    "    # print(i, end=\", \")\n",
    "    df_area_labels += ['id' + str(i // fieldsPerArea), 'posx' + str(i // fieldsPerArea), 'posy' + str(i // fieldsPerArea), 'color' + str(i // fieldsPerArea),\n",
    "                        'completed' + str(i // fieldsPerArea), 'contained' + str(i // fieldsPerArea)]"
   ]
  },
  {
   "cell_type": "markdown",
   "metadata": {},
   "source": [
    "## Completed labels"
   ]
  },
  {
   "cell_type": "code",
   "execution_count": 23,
   "metadata": {},
   "outputs": [],
   "source": [
    "completed_labels = []\n",
    "for i in range(0, num_areas):\n",
    "    completed_labels += ['completed' + str(i)]"
   ]
  },
  {
   "cell_type": "code",
   "execution_count": 60,
   "metadata": {
    "scrolled": true
   },
   "outputs": [
    {
     "name": "stdout",
     "output_type": "stream",
     "text": [
      "\u001b[34mTimeout folder:\u001b[0m TimeoutRespawnMixedExp_2021-06-26_robots#48_timeout#1_respawn#10_redAreas#8_1800#seconds\n",
      "\ttimeout: 10\n",
      "\trespawn: 10\n",
      "\u001b[34mTimeout folder:\u001b[0m TimeoutRespawnMixedExp_2021-06-26_robots#48_timeout#1_respawn#30_redAreas#8_1800#seconds\n",
      "\ttimeout: 10\n",
      "\trespawn: 30\n",
      "\u001b[34mTimeout folder:\u001b[0m TimeoutRespawnMixedExp_2021-06-26_robots#48_timeout#1_respawn#60_redAreas#8_1800#seconds\n",
      "\ttimeout: 10\n",
      "\trespawn: 60\n",
      "\u001b[34mTimeout folder:\u001b[0m TimeoutRespawnMixedExp_2021-06-26_robots#48_timeout#1_respawn#120_redAreas#8_1800#seconds\n",
      "\ttimeout: 10\n",
      "\trespawn: 120\n",
      "\u001b[34mTimeout folder:\u001b[0m TimeoutRespawnMixedExp_2021-06-26_robots#48_timeout#2_respawn#10_redAreas#8_1800#seconds\n",
      "\ttimeout: 20\n",
      "\trespawn: 10\n",
      "\u001b[34mTimeout folder:\u001b[0m TimeoutRespawnMixedExp_2021-06-26_robots#48_timeout#2_respawn#30_redAreas#8_1800#seconds\n",
      "\ttimeout: 20\n",
      "\trespawn: 30\n",
      "\u001b[34mTimeout folder:\u001b[0m TimeoutRespawnMixedExp_2021-06-26_robots#48_timeout#2_respawn#60_redAreas#8_1800#seconds\n",
      "\ttimeout: 20\n",
      "\trespawn: 60\n",
      "\u001b[34mTimeout folder:\u001b[0m TimeoutRespawnMixedExp_2021-06-26_robots#48_timeout#2_respawn#120_redAreas#8_1800#seconds\n",
      "\ttimeout: 20\n",
      "\trespawn: 120\n",
      "\u001b[34mTimeout folder:\u001b[0m TimeoutRespawnMixedExp_2021-06-26_robots#48_timeout#3_respawn#10_redAreas#8_1800#seconds\n",
      "\ttimeout: 30\n",
      "\trespawn: 10\n",
      "\u001b[34mTimeout folder:\u001b[0m TimeoutRespawnMixedExp_2021-06-26_robots#48_timeout#3_respawn#30_redAreas#8_1800#seconds\n",
      "\ttimeout: 30\n",
      "\trespawn: 30\n",
      "\u001b[34mTimeout folder:\u001b[0m TimeoutRespawnMixedExp_2021-06-26_robots#48_timeout#3_respawn#60_redAreas#8_1800#seconds\n",
      "\ttimeout: 30\n",
      "\trespawn: 60\n",
      "\u001b[34mTimeout folder:\u001b[0m TimeoutRespawnMixedExp_2021-06-26_robots#48_timeout#3_respawn#120_redAreas#8_1800#seconds\n",
      "\ttimeout: 30\n",
      "\trespawn: 120\n",
      "\u001b[34mTimeout folder:\u001b[0m TimeoutRespawnMixedExp_2021-06-26_robots#48_timeout#6_respawn#10_redAreas#8_1800#seconds\n",
      "\ttimeout: 60\n",
      "\trespawn: 10\n",
      "\u001b[34mTimeout folder:\u001b[0m TimeoutRespawnMixedExp_2021-06-26_robots#48_timeout#6_respawn#30_redAreas#8_1800#seconds\n",
      "\ttimeout: 60\n",
      "\trespawn: 30\n",
      "\u001b[34mTimeout folder:\u001b[0m TimeoutRespawnMixedExp_2021-06-26_robots#48_timeout#6_respawn#60_redAreas#8_1800#seconds\n",
      "\ttimeout: 60\n",
      "\trespawn: 60\n",
      "\u001b[34mTimeout folder:\u001b[0m TimeoutRespawnMixedExp_2021-06-26_robots#48_timeout#6_respawn#120_redAreas#8_1800#seconds\n",
      "\ttimeout: 60\n",
      "\trespawn: 120\n",
      "\u001b[34mTimeout folder:\u001b[0m TimeoutRespawnMixedExp_2021-06-26_robots#48_timeout#12_respawn#10_redAreas#8_1800#seconds\n",
      "\ttimeout: 120\n",
      "\trespawn: 10\n",
      "\u001b[34mTimeout folder:\u001b[0m TimeoutRespawnMixedExp_2021-06-26_robots#48_timeout#12_respawn#30_redAreas#8_1800#seconds\n",
      "\ttimeout: 120\n",
      "\trespawn: 30\n",
      "\u001b[34mTimeout folder:\u001b[0m TimeoutRespawnMixedExp_2021-06-26_robots#48_timeout#12_respawn#60_redAreas#8_1800#seconds\n",
      "\ttimeout: 120\n",
      "\trespawn: 60\n",
      "\u001b[34mTimeout folder:\u001b[0m TimeoutRespawnMixedExp_2021-06-26_robots#48_timeout#12_respawn#120_redAreas#8_1800#seconds\n",
      "\ttimeout: 120\n",
      "\trespawn: 120\n",
      "\u001b[34mTimeout folder:\u001b[0m TimeoutRespawnMixedExp_2021-06-26_robots#48_timeout#18_respawn#10_redAreas#8_1800#seconds\n",
      "\ttimeout: 180\n",
      "\trespawn: 10\n",
      "\u001b[34mTimeout folder:\u001b[0m TimeoutRespawnMixedExp_2021-06-26_robots#48_timeout#18_respawn#30_redAreas#8_1800#seconds\n",
      "\ttimeout: 180\n",
      "\trespawn: 30\n",
      "\u001b[34mTimeout folder:\u001b[0m TimeoutRespawnMixedExp_2021-06-26_robots#48_timeout#18_respawn#60_redAreas#8_1800#seconds\n",
      "\ttimeout: 180\n",
      "\trespawn: 60\n",
      "\u001b[34mTimeout folder:\u001b[0m TimeoutRespawnMixedExp_2021-06-26_robots#48_timeout#18_respawn#120_redAreas#8_1800#seconds\n",
      "\ttimeout: 180\n",
      "\trespawn: 120\n",
      "\u001b[34mTimeout folder:\u001b[0m TimeoutRespawnMixedExp_2021-06-26_robots#48_timeout#24_respawn#10_redAreas#8_1800#seconds\n",
      "\ttimeout: 240\n",
      "\trespawn: 10\n",
      "\u001b[34mTimeout folder:\u001b[0m TimeoutRespawnMixedExp_2021-06-26_robots#48_timeout#24_respawn#30_redAreas#8_1800#seconds\n",
      "\ttimeout: 240\n",
      "\trespawn: 30\n",
      "\u001b[34mTimeout folder:\u001b[0m TimeoutRespawnMixedExp_2021-06-26_robots#48_timeout#24_respawn#60_redAreas#8_1800#seconds\n",
      "\ttimeout: 240\n",
      "\trespawn: 60\n",
      "\u001b[34mTimeout folder:\u001b[0m TimeoutRespawnMixedExp_2021-06-26_robots#48_timeout#24_respawn#120_redAreas#8_1800#seconds\n",
      "\ttimeout: 240\n",
      "\trespawn: 120\n"
     ]
    }
   ],
   "source": [
    "mean_active_areas_dict = {}\n",
    "\n",
    "timeout = -1\n",
    "respawn = -1\n",
    "for timeout_folder in natsorted(os.listdir(os.path.join(results_folder))):\n",
    "    print(colored(\"Timeout folder:\", 'blue'),timeout_folder)\n",
    "    \n",
    "    parameters = timeout_folder.split(\"_\")\n",
    "    \n",
    "    for param in parameters:\n",
    "        if param.startswith(\"timeout\"):\n",
    "#             print(param.split(\"#\")[-1])\n",
    "            timeout = int(param.split(\"#\")[-1]) * 10\n",
    "            print(\"\\ttimeout:\",timeout)\n",
    "        elif param.startswith(\"respawn\"):\n",
    "#           print(param.split(\"#\")[-1])\n",
    "            respawn = int(param.split(\"#\")[-1])\n",
    "            print(\"\\trespawn:\",respawn)\n",
    "    \n",
    "#     if timeout == 20 :\n",
    "#         break\n",
    "        \n",
    "    if timeout == -1 :\n",
    "        print(colored(\"\\tWARNING: wrong timeout folder\", 'green'))\n",
    "        continue\n",
    "    if respawn == -1 :\n",
    "        print(colored(\"\\tWARNING: wrong timeout folder\", 'green'))\n",
    "        continue\n",
    "\n",
    "    mean_active_areas_count = []\n",
    "    for filename in os.listdir(os.path.join(results_folder, timeout_folder)):\n",
    "        if filename.endswith(\"areaLOG.tsv\"):\n",
    "            if not os.path.getsize(os.path.join(results_folder, timeout_folder, filename)) > 0:\n",
    "                print(colored(\"\\tWARNING, empty file at:\" + filename, 'red'))\n",
    "                continue\n",
    "#             print('\\tfilename: ', filename)\n",
    "            \n",
    "            df_meanActiveAreas = pd.read_csv(os.path.join(results_folder, timeout_folder, filename), sep=\"\\t\", header=None)\n",
    "            df_meanActiveAreas.columns = df_area_labels\n",
    "#             print(df_elpsTimeot['kID'].values)\n",
    "            \n",
    "            mean_active_areas_count += [(df_meanActiveAreas[completed_labels] == 0).sum(axis=1).mean()]\n",
    "#             print(mean_active_areas_count)\n",
    "    \n",
    "    mean_active_areas_dict[str(timeout)+\",\"+str(respawn)] = mean_active_areas_count       \n"
   ]
  },
  {
   "cell_type": "code",
   "execution_count": 50,
   "metadata": {},
   "outputs": [],
   "source": [
    "# for i in mean_active_areas_dict.values():\n",
    "#     print(len(i))"
   ]
  },
  {
   "cell_type": "code",
   "execution_count": 61,
   "metadata": {},
   "outputs": [
    {
     "name": "stdout",
     "output_type": "stream",
     "text": [
      "mean_active_areas_timeout_respawn_study_mixed\n"
     ]
    },
    {
     "data": {
      "image/png": "[encoded data removed]",
      "text/plain": [
       "<Figure size 1600x400 with 1 Axes>"
      ]
     },
     "metadata": {
      "needs_background": "light"
     },
     "output_type": "display_data"
    }
   ],
   "source": [
    "saveFigure = True\n",
    "figName = \"mean_active_areas_\"+results_folder.split(\"/\")[-1]\n",
    "print(figName)\n",
    "simple_boxplot(mean_active_areas_dict, figName, saveFigure)"
   ]
  },
  {
   "cell_type": "code",
   "execution_count": null,
   "metadata": {},
   "outputs": [],
   "source": []
  }
 ],
 "metadata": {
  "kernelspec": {
   "display_name": "Python 3",
   "language": "python",
   "name": "python3"
  },
  "language_info": {
   "codemirror_mode": {
    "name": "ipython",
    "version": 3
   },
   "file_extension": ".py",
   "mimetype": "text/x-python",
   "name": "python",
   "nbconvert_exporter": "python",
   "pygments_lexer": "ipython3",
   "version": "3.6.9"
  }
 },
 "nbformat": 4,
 "nbformat_minor": 4
}
