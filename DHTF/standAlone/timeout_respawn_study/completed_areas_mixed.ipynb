{
 "cells": [
  {
   "cell_type": "code",
   "execution_count": 1,
   "metadata": {},
   "outputs": [
    {
     "data": {
      "text/html": [
       "<style>.container { width:85% !important; }</style>"
      ],
      "text/plain": [
       "<IPython.core.display.HTML object>"
      ]
     },
     "metadata": {},
     "output_type": "display_data"
    }
   ],
   "source": [
    "from IPython.core.display import display, HTML\n",
    "display(HTML(\"<style>.container { width:85% !important; }</style>\"))"
   ]
  },
  {
   "cell_type": "code",
   "execution_count": 2,
   "metadata": {},
   "outputs": [],
   "source": [
    "import os\n",
    "import pandas as pd\n",
    "from termcolor import colored\n",
    "import numpy as np\n",
    "from collections import OrderedDict\n",
    "from collections import Counter\n",
    "import matplotlib.pyplot as plt\n",
    "from natsort import natsorted\n",
    "import sys\n",
    "import pickle\n",
    "import seaborn as sns\n",
    "\n",
    "# Display pandas df without truncation\n",
    "pd.set_option('display.max_rows', None)\n",
    "pd.set_option('display.max_columns', None)\n",
    "pd.set_option('display.width', None)\n",
    "pd.set_option('display.max_colwidth', None)\n",
    "\n",
    "np.set_printoptions(edgeitems=30, linewidth=100000, formatter=dict(float=lambda x: \"%.3g\" % x))\n",
    "\n"
   ]
  },
  {
   "cell_type": "markdown",
   "metadata": {},
   "source": [
    "## Simple boxplot func"
   ]
  },
  {
   "cell_type": "code",
   "execution_count": 3,
   "metadata": {},
   "outputs": [],
   "source": [
    "green_diamond = dict(markerfacecolor='g', marker='D')\n",
    "\n",
    "def simple_boxplot(my_dict, fig_name, save_flag):\n",
    "    fig, ax = plt.subplots(figsize=(20, 5), dpi=80)\n",
    "    ax.boxplot(my_dict.values(), flierprops=green_diamond)\n",
    "    ax.set_xticklabels(my_dict.keys())\n",
    "    plt.ylim(-1,600)\n",
    "    plt.tight_layout()\n",
    "    if save_flag:\n",
    "        plt.savefig(fig_name+'.png')"
   ]
  },
  {
   "cell_type": "code",
   "execution_count": 26,
   "metadata": {},
   "outputs": [],
   "source": [
    "num_robot = 48\n",
    "experiment_time = 1800\n",
    "num_run = 100"
   ]
  },
  {
   "cell_type": "code",
   "execution_count": 27,
   "metadata": {},
   "outputs": [],
   "source": [
    "results_folder = '/home/luigi/Documents/ARGoS/argos_results_scripts/DHTF/standAlone/results/brownian/TimeoutRespawnExp_2021-07-06_robots#24_MIXED'\n",
    "results_folder = '/home/luigi/Documents/ARGoS/argos_results_scripts/DHTF/standAlone/results/brownian/TimeoutRespawnExp_2021-06-26_MIXED'\n",
    "# results_folder = '/home/luigi/Documents/ARGoS/argos_results_scripts/DHTF/standAlone/results/persistent/TimeoutRespawnExp_2021-07-06_robots#24_MIXED'"
   ]
  },
  {
   "cell_type": "code",
   "execution_count": 28,
   "metadata": {},
   "outputs": [
    {
     "name": "stdout",
     "output_type": "stream",
     "text": [
      "\u001b[32mOK, /home/luigi/Documents/ARGoS/argos_results_scripts/DHTF/standAlone/results/brownian/TimeoutRespawnExp_2021-06-26_MIXED exists\u001b[0m\n"
     ]
    }
   ],
   "source": [
    "if not os.path.isdir(results_folder):\n",
    "    print(colored(\"Error, \" + results_folder + \" does not exist\", 'red'))\n",
    "else:\n",
    "    print(colored(\"OK, \" + results_folder + \" exists\", 'green'))"
   ]
  },
  {
   "cell_type": "code",
   "execution_count": 29,
   "metadata": {},
   "outputs": [],
   "source": [
    "completed_task_label = [\"time\", \"areaID\", \"creation_time\", \"completion_time\", \"type\", \"kID_on_top\", \"kIDs\"]"
   ]
  },
  {
   "cell_type": "code",
   "execution_count": null,
   "metadata": {},
   "outputs": [],
   "source": []
  },
  {
   "cell_type": "markdown",
   "metadata": {},
   "source": [
    "## Completed mixed areas in details (split blue and red)"
   ]
  },
  {
   "cell_type": "code",
   "execution_count": 30,
   "metadata": {},
   "outputs": [
    {
     "name": "stdout",
     "output_type": "stream",
     "text": [
      "\u001b[34mTimeout folder:\u001b[0m TimeoutRespawnMixedExp_2021-06-26_robots#48_timeout#1_respawn#10_redAreas#8_1800#seconds\n",
      "\ttimeout: 10\n",
      "\trespawn: 10\n",
      "\u001b[31m\tWARNING, completed_task_count should be 100!\u001b[0m\n",
      "\u001b[34m\tlen(completed_task_count)200\u001b[0m\n",
      "\u001b[34mTimeout folder:\u001b[0m TimeoutRespawnMixedExp_2021-06-26_robots#48_timeout#1_respawn#30_redAreas#8_1800#seconds\n",
      "\ttimeout: 10\n",
      "\trespawn: 30\n",
      "\u001b[31m\tWARNING, completed_task_count should be 100!\u001b[0m\n",
      "\u001b[34m\tlen(completed_task_count)200\u001b[0m\n",
      "\u001b[34mTimeout folder:\u001b[0m TimeoutRespawnMixedExp_2021-06-26_robots#48_timeout#1_respawn#60_redAreas#8_1800#seconds\n",
      "\ttimeout: 10\n",
      "\trespawn: 60\n",
      "\u001b[31m\tWARNING, completed_task_count should be 100!\u001b[0m\n",
      "\u001b[34m\tlen(completed_task_count)200\u001b[0m\n",
      "\u001b[34mTimeout folder:\u001b[0m TimeoutRespawnMixedExp_2021-06-26_robots#48_timeout#1_respawn#120_redAreas#8_1800#seconds\n",
      "\ttimeout: 10\n",
      "\trespawn: 120\n",
      "\u001b[31m\tWARNING, completed_task_count should be 100!\u001b[0m\n",
      "\u001b[34m\tlen(completed_task_count)200\u001b[0m\n",
      "\u001b[34mTimeout folder:\u001b[0m TimeoutRespawnMixedExp_2021-06-26_robots#48_timeout#2_respawn#10_redAreas#8_1800#seconds\n",
      "\ttimeout: 20\n",
      "\trespawn: 10\n",
      "\u001b[31m\tWARNING, completed_task_count should be 100!\u001b[0m\n",
      "\u001b[34m\tlen(completed_task_count)200\u001b[0m\n",
      "\u001b[34mTimeout folder:\u001b[0m TimeoutRespawnMixedExp_2021-06-26_robots#48_timeout#2_respawn#30_redAreas#8_1800#seconds\n",
      "\ttimeout: 20\n",
      "\trespawn: 30\n",
      "\u001b[31m\tWARNING, completed_task_count should be 100!\u001b[0m\n",
      "\u001b[34m\tlen(completed_task_count)200\u001b[0m\n",
      "\u001b[34mTimeout folder:\u001b[0m TimeoutRespawnMixedExp_2021-06-26_robots#48_timeout#2_respawn#60_redAreas#8_1800#seconds\n",
      "\ttimeout: 20\n",
      "\trespawn: 60\n",
      "\u001b[31m\tWARNING, completed_task_count should be 100!\u001b[0m\n",
      "\u001b[34m\tlen(completed_task_count)200\u001b[0m\n",
      "\u001b[34mTimeout folder:\u001b[0m TimeoutRespawnMixedExp_2021-06-26_robots#48_timeout#2_respawn#120_redAreas#8_1800#seconds\n",
      "\ttimeout: 20\n",
      "\trespawn: 120\n",
      "\u001b[31m\tWARNING, completed_task_count should be 100!\u001b[0m\n",
      "\u001b[34m\tlen(completed_task_count)200\u001b[0m\n",
      "\u001b[34mTimeout folder:\u001b[0m TimeoutRespawnMixedExp_2021-06-26_robots#48_timeout#3_respawn#10_redAreas#8_1800#seconds\n",
      "\ttimeout: 30\n",
      "\trespawn: 10\n",
      "\u001b[31m\tWARNING, completed_task_count should be 100!\u001b[0m\n",
      "\u001b[34m\tlen(completed_task_count)200\u001b[0m\n",
      "\u001b[34mTimeout folder:\u001b[0m TimeoutRespawnMixedExp_2021-06-26_robots#48_timeout#3_respawn#30_redAreas#8_1800#seconds\n",
      "\ttimeout: 30\n",
      "\trespawn: 30\n",
      "\u001b[31m\tWARNING, completed_task_count should be 100!\u001b[0m\n",
      "\u001b[34m\tlen(completed_task_count)200\u001b[0m\n",
      "\u001b[34mTimeout folder:\u001b[0m TimeoutRespawnMixedExp_2021-06-26_robots#48_timeout#3_respawn#60_redAreas#8_1800#seconds\n",
      "\ttimeout: 30\n",
      "\trespawn: 60\n",
      "\u001b[31m\tWARNING, completed_task_count should be 100!\u001b[0m\n",
      "\u001b[34m\tlen(completed_task_count)200\u001b[0m\n",
      "\u001b[34mTimeout folder:\u001b[0m TimeoutRespawnMixedExp_2021-06-26_robots#48_timeout#3_respawn#120_redAreas#8_1800#seconds\n",
      "\ttimeout: 30\n",
      "\trespawn: 120\n",
      "\u001b[31m\tWARNING, completed_task_count should be 100!\u001b[0m\n",
      "\u001b[34m\tlen(completed_task_count)200\u001b[0m\n",
      "\u001b[34mTimeout folder:\u001b[0m TimeoutRespawnMixedExp_2021-06-26_robots#48_timeout#6_respawn#10_redAreas#8_1800#seconds\n",
      "\ttimeout: 60\n",
      "\trespawn: 10\n",
      "\u001b[31m\tWARNING, completed_task_count should be 100!\u001b[0m\n",
      "\u001b[34m\tlen(completed_task_count)200\u001b[0m\n",
      "\u001b[34mTimeout folder:\u001b[0m TimeoutRespawnMixedExp_2021-06-26_robots#48_timeout#6_respawn#30_redAreas#8_1800#seconds\n",
      "\ttimeout: 60\n",
      "\trespawn: 30\n",
      "\u001b[31m\tWARNING, completed_task_count should be 100!\u001b[0m\n",
      "\u001b[34m\tlen(completed_task_count)200\u001b[0m\n",
      "\u001b[34mTimeout folder:\u001b[0m TimeoutRespawnMixedExp_2021-06-26_robots#48_timeout#6_respawn#60_redAreas#8_1800#seconds\n",
      "\ttimeout: 60\n",
      "\trespawn: 60\n",
      "\u001b[31m\tWARNING, completed_task_count should be 100!\u001b[0m\n",
      "\u001b[34m\tlen(completed_task_count)200\u001b[0m\n",
      "\u001b[34mTimeout folder:\u001b[0m TimeoutRespawnMixedExp_2021-06-26_robots#48_timeout#6_respawn#120_redAreas#8_1800#seconds\n",
      "\ttimeout: 60\n",
      "\trespawn: 120\n",
      "\u001b[31m\tWARNING, completed_task_count should be 100!\u001b[0m\n",
      "\u001b[34m\tlen(completed_task_count)200\u001b[0m\n",
      "\u001b[34mTimeout folder:\u001b[0m TimeoutRespawnMixedExp_2021-06-26_robots#48_timeout#12_respawn#10_redAreas#8_1800#seconds\n",
      "\ttimeout: 120\n",
      "\trespawn: 10\n",
      "\u001b[31m\tWARNING, completed_task_count should be 100!\u001b[0m\n",
      "\u001b[34m\tlen(completed_task_count)200\u001b[0m\n",
      "\u001b[34mTimeout folder:\u001b[0m TimeoutRespawnMixedExp_2021-06-26_robots#48_timeout#12_respawn#30_redAreas#8_1800#seconds\n",
      "\ttimeout: 120\n",
      "\trespawn: 30\n",
      "\u001b[31m\tWARNING, completed_task_count should be 100!\u001b[0m\n",
      "\u001b[34m\tlen(completed_task_count)200\u001b[0m\n",
      "\u001b[34mTimeout folder:\u001b[0m TimeoutRespawnMixedExp_2021-06-26_robots#48_timeout#12_respawn#60_redAreas#8_1800#seconds\n",
      "\ttimeout: 120\n",
      "\trespawn: 60\n",
      "\u001b[31m\tWARNING, completed_task_count should be 100!\u001b[0m\n",
      "\u001b[34m\tlen(completed_task_count)200\u001b[0m\n",
      "\u001b[34mTimeout folder:\u001b[0m TimeoutRespawnMixedExp_2021-06-26_robots#48_timeout#12_respawn#120_redAreas#8_1800#seconds\n",
      "\ttimeout: 120\n",
      "\trespawn: 120\n",
      "\u001b[31m\tWARNING, completed_task_count should be 100!\u001b[0m\n",
      "\u001b[34m\tlen(completed_task_count)200\u001b[0m\n",
      "\u001b[34mTimeout folder:\u001b[0m TimeoutRespawnMixedExp_2021-06-26_robots#48_timeout#18_respawn#10_redAreas#8_1800#seconds\n",
      "\ttimeout: 180\n",
      "\trespawn: 10\n",
      "\u001b[31m\tWARNING, completed_task_count should be 100!\u001b[0m\n",
      "\u001b[34m\tlen(completed_task_count)200\u001b[0m\n",
      "\u001b[34mTimeout folder:\u001b[0m TimeoutRespawnMixedExp_2021-06-26_robots#48_timeout#18_respawn#30_redAreas#8_1800#seconds\n",
      "\ttimeout: 180\n",
      "\trespawn: 30\n",
      "\u001b[31m\tWARNING, completed_task_count should be 100!\u001b[0m\n",
      "\u001b[34m\tlen(completed_task_count)200\u001b[0m\n",
      "\u001b[34mTimeout folder:\u001b[0m TimeoutRespawnMixedExp_2021-06-26_robots#48_timeout#18_respawn#60_redAreas#8_1800#seconds\n",
      "\ttimeout: 180\n",
      "\trespawn: 60\n",
      "\u001b[31m\tWARNING, completed_task_count should be 100!\u001b[0m\n",
      "\u001b[34m\tlen(completed_task_count)200\u001b[0m\n",
      "\u001b[34mTimeout folder:\u001b[0m TimeoutRespawnMixedExp_2021-06-26_robots#48_timeout#18_respawn#120_redAreas#8_1800#seconds\n",
      "\ttimeout: 180\n",
      "\trespawn: 120\n",
      "\u001b[31m\tWARNING, completed_task_count should be 100!\u001b[0m\n",
      "\u001b[34m\tlen(completed_task_count)200\u001b[0m\n",
      "\u001b[34mTimeout folder:\u001b[0m TimeoutRespawnMixedExp_2021-06-26_robots#48_timeout#24_respawn#10_redAreas#8_1800#seconds\n",
      "\ttimeout: 240\n",
      "\trespawn: 10\n",
      "\u001b[31m\tWARNING, completed_task_count should be 100!\u001b[0m\n",
      "\u001b[34m\tlen(completed_task_count)200\u001b[0m\n",
      "\u001b[34mTimeout folder:\u001b[0m TimeoutRespawnMixedExp_2021-06-26_robots#48_timeout#24_respawn#30_redAreas#8_1800#seconds\n",
      "\ttimeout: 240\n",
      "\trespawn: 30\n",
      "\u001b[31m\tWARNING, completed_task_count should be 100!\u001b[0m\n",
      "\u001b[34m\tlen(completed_task_count)200\u001b[0m\n",
      "\u001b[34mTimeout folder:\u001b[0m TimeoutRespawnMixedExp_2021-06-26_robots#48_timeout#24_respawn#60_redAreas#8_1800#seconds\n",
      "\ttimeout: 240\n",
      "\trespawn: 60\n",
      "\u001b[31m\tWARNING, completed_task_count should be 100!\u001b[0m\n",
      "\u001b[34m\tlen(completed_task_count)200\u001b[0m\n",
      "\u001b[34mTimeout folder:\u001b[0m TimeoutRespawnMixedExp_2021-06-26_robots#48_timeout#24_respawn#120_redAreas#8_1800#seconds\n",
      "\ttimeout: 240\n",
      "\trespawn: 120\n",
      "\u001b[31m\tWARNING, completed_task_count should be 100!\u001b[0m\n",
      "\u001b[34m\tlen(completed_task_count)200\u001b[0m\n"
     ]
    }
   ],
   "source": [
    "completed_task_blue_dict = {}\n",
    "completed_task_red_dict = {}\n",
    "\n",
    "timeout = -1\n",
    "respawn = -1\n",
    "for timeout_folder in natsorted(os.listdir(os.path.join(results_folder))):\n",
    "    print(colored(\"Timeout folder:\", 'blue'),timeout_folder)\n",
    "    \n",
    "    parameters = timeout_folder.split(\"_\")\n",
    "    \n",
    "    for param in parameters:\n",
    "        if param.startswith(\"timeout\"):\n",
    "#             print(param.split(\"#\")[-1])\n",
    "            timeout = int(param.split(\"#\")[-1]) * 10\n",
    "            print(\"\\ttimeout:\",timeout)\n",
    "        elif param.startswith(\"respawn\"):\n",
    "#           print(param.split(\"#\")[-1])\n",
    "            respawn = int(param.split(\"#\")[-1])\n",
    "            print(\"\\trespawn:\",respawn)\n",
    "    \n",
    "#     if timeout == 20 :\n",
    "#         break\n",
    "        \n",
    "    if timeout == -1 :\n",
    "        print(colored(\"\\tWARNING: wrong timeout folder\", 'green'))\n",
    "        continue\n",
    "    if respawn == -1 :\n",
    "        print(colored(\"\\tWARNING: wrong timeout folder\", 'green'))\n",
    "        continue\n",
    "\n",
    "    completed_task_count_red = []\n",
    "    completed_task_count_blue = []\n",
    "    for filename in os.listdir(os.path.join(results_folder, timeout_folder)):\n",
    "        if filename.endswith(\"completed_taskLOG.tsv\"):\n",
    "            if not os.path.getsize(os.path.join(results_folder, timeout_folder, filename)) > 0:\n",
    "                print(colored(\"\\tWARNING, empty file at:\" + filename, 'red'))\n",
    "                completed_task_blue_dict[str(timeout)+\",\"+str(respawn)] = 0\n",
    "                completed_task_red_dict[str(timeout)+\",\"+str(respawn)] = 0\n",
    "                continue\n",
    "#             print('\\tfilename: ', filename)\n",
    "            \n",
    "            df_completedTask = pd.read_csv(os.path.join(results_folder, timeout_folder, filename), sep=\"\\t\", header=None)\n",
    "            df_completedTask.columns = completed_task_label\n",
    "            \n",
    "            completed_task_count_blue += [df_completedTask.loc[df_completedTask['type'] == 0].shape[0]]\n",
    "            completed_task_count_red += [df_completedTask.loc[df_completedTask['type'] == 1].shape[0]]\n",
    "            \n",
    "    if(len(completed_task_count_blue)+len(completed_task_count_red)!= 100):\n",
    "        print(colored(\"\\tWARNING, completed_task_count should be 100!\", 'red'))\n",
    "    print(colored(\"\\tlen(completed_task_count)\"+str(len(completed_task_count_blue)+len(completed_task_count_red)), 'blue'))\n",
    "    completed_task_blue_dict[str(timeout)+\",\"+str(respawn)] = completed_task_count_blue\n",
    "    completed_task_red_dict[str(timeout)+\",\"+str(respawn)] = completed_task_count_red\n",
    "    \n",
    "            \n"
   ]
  },
  {
   "cell_type": "code",
   "execution_count": null,
   "metadata": {},
   "outputs": [],
   "source": []
  },
  {
   "cell_type": "markdown",
   "metadata": {},
   "source": [
    "### Brownian"
   ]
  },
  {
   "cell_type": "code",
   "execution_count": 34,
   "metadata": {
    "scrolled": false
   },
   "outputs": [
    {
     "name": "stdout",
     "output_type": "stream",
     "text": [
      "Figure name:  completedTaskMean_Mixed_brownian_TimeoutRespawnExp_2021-06-26_MIXED.png\n"
     ]
    },
    {
     "data": {
      "image/png": "[encoded data removed]",
      "text/plain": [
       "<Figure size 1600x800 with 2 Axes>"
      ]
     },
     "metadata": {
      "needs_background": "light"
     },
     "output_type": "display_data"
    }
   ],
   "source": [
    "fig, (ax1, ax2) = plt.subplots(2,figsize=(20, 10), dpi=80)\n",
    "ax1.boxplot(completed_task_blue_dict.values(), flierprops=green_diamond)\n",
    "ax2.boxplot(completed_task_red_dict.values(), flierprops=green_diamond)\n",
    "ax1.set_xticklabels(completed_task_red_dict.keys())\n",
    "ax2.set_xticklabels(completed_task_red_dict.keys())\n",
    "ax1.grid()\n",
    "ax2.grid()\n",
    "\n",
    "ax1.set_yticks(np.arange(0,650,50)) \n",
    "ax2.set_yticks(np.arange(0,650,50)) \n",
    "# ax.set_yticklabels([1,4,5], fontsize=12)\n",
    "# plt.show()\n",
    "\n",
    "figName = \"completedTaskMean_Mixed_brownian_\"+results_folder.split(\"/\")[-1]+'.png'\n",
    "print(\"Figure name: \", figName)\n",
    "plt.savefig(figName)\n",
    "\n",
    "# fig, ax = plt.subplots(figsize=(20, 5), dpi=80)\n",
    "# ax.boxplot(my_dict.values(), flierprops=green_diamond)\n",
    "# ax.set_xticklabels(my_dict.keys())\n",
    "# plt.ylim(-1,600)\n",
    "# plt.tight_layout()\n",
    "# if save_flag:\n",
    "#     plt.savefig(fig_name+'.png')"
   ]
  },
  {
   "cell_type": "markdown",
   "metadata": {},
   "source": [
    "### Persistent"
   ]
  },
  {
   "cell_type": "code",
   "execution_count": null,
   "metadata": {},
   "outputs": [],
   "source": [
    "fig, (ax1, ax2) = plt.subplots(2,figsize=(20, 10), dpi=80, sharey=True)\n",
    "ax1.boxplot(completed_task_blue_dict.values(), flierprops=green_diamond)\n",
    "ax2.boxplot(completed_task_red_dict.values(), flierprops=green_diamond)\n",
    "ax1.set_xticklabels(completed_task_red_dict.keys())\n",
    "ax2.set_xticklabels(completed_task_red_dict.keys())\n",
    "ax1.grid()\n",
    "ax2.grid()\n",
    "# plt.show()\n",
    "\n",
    "plt.savefig(\"completedTaskMean_Mixed_persistent_\"+results_folder.split(\"/\")[-1]+'.png')\n",
    "# fig, ax = plt.subplots(figsize=(20, 5), dpi=80)\n",
    "# ax.boxplot(my_dict.values(), flierprops=green_diamond)\n",
    "# ax.set_xticklabels(my_dict.keys())\n",
    "# plt.ylim(-1,600)\n",
    "# plt.tight_layout()\n",
    "# if save_flag:\n",
    "#     plt.savefig(fig_name+'.png')"
   ]
  },
  {
   "cell_type": "code",
   "execution_count": 16,
   "metadata": {},
   "outputs": [
    {
     "data": {
      "text/plain": [
       "array([  0,  50, 100, 150, 200, 250, 300])"
      ]
     },
     "execution_count": 16,
     "metadata": {},
     "output_type": "execute_result"
    }
   ],
   "source": [
    "np.arange(0,350,50)"
   ]
  },
  {
   "cell_type": "code",
   "execution_count": null,
   "metadata": {},
   "outputs": [],
   "source": []
  }
 ],
 "metadata": {
  "kernelspec": {
   "display_name": "Python 3",
   "language": "python",
   "name": "python3"
  },
  "language_info": {
   "codemirror_mode": {
    "name": "ipython",
    "version": 3
   },
   "file_extension": ".py",
   "mimetype": "text/x-python",
   "name": "python",
   "nbconvert_exporter": "python",
   "pygments_lexer": "ipython3",
   "version": "3.6.9"
  }
 },
 "nbformat": 4,
 "nbformat_minor": 4
}
