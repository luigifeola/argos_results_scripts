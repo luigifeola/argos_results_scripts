{
 "cells": [
  {
   "cell_type": "code",
   "execution_count": 1,
   "metadata": {},
   "outputs": [],
   "source": [
    "from IPython.core.display import display, HTML\n",
    "display(HTML(\"<style>.container { width:70% !important; }</style>\"))"
   ]
  },
  {
   "cell_type": "code",
   "execution_count": 2,
   "metadata": {},
   "outputs": [],
   "source": [
    "import os\n",
    "import pandas as pd\n",
    "from termcolor import colored\n",
    "import numpy as np\n",
    "from collections import OrderedDict\n",
    "from collections import Counter\n",
    "import matplotlib.pyplot as plt\n",
    "from natsort import natsorted\n",
    "import sys\n",
    "import pickle\n",
    "import seaborn as sns\n",
    "\n",
    "# Display pandas df without truncation\n",
    "pd.set_option('display.max_rows', None)\n",
    "pd.set_option('display.max_columns', None)\n",
    "pd.set_option('display.width', None)\n",
    "pd.set_option('display.max_colwidth', None)\n",
    "\n",
    "np.set_printoptions(edgeitems=30, linewidth=100000, formatter=dict(float=lambda x: \"%.3g\" % x))\n",
    "\n"
   ]
  },
  {
   "cell_type": "markdown",
   "metadata": {},
   "source": [
    "## Simple boxplot func"
   ]
  },
  {
   "cell_type": "code",
   "execution_count": 3,
   "metadata": {},
   "outputs": [],
   "source": [
    "green_diamond = dict(markerfacecolor='g', marker='D')\n",
    "\n",
    "def simple_boxplot(my_dict, fig_name, save_flag):\n",
    "    fig, ax = plt.subplots(figsize=(20, 5), dpi=80)\n",
    "    ax.boxplot(my_dict.values(), flierprops=green_diamond)\n",
    "    ax.set_xticklabels(my_dict.keys())\n",
    "    ax.grid()\n",
    "    plt.ylim(-1, 50)\n",
    "    plt.tight_layout()\n",
    "    if save_flag:\n",
    "        plt.savefig(fig_name+'.png')"
   ]
  },
  {
   "cell_type": "code",
   "execution_count": 4,
   "metadata": {},
   "outputs": [],
   "source": [
    "def set_box_color(bp, edge_color, fill_color):\n",
    "    plt.setp(bp['boxes'], color=edge_color)\n",
    "    plt.setp(bp['whiskers'], color=edge_color)\n",
    "    plt.setp(bp['caps'], color=edge_color)\n",
    "    plt.setp(bp['medians'], color=edge_color)\n",
    "    plt.setp(bp['fliers'], color=green_diamond)\n",
    "#     for flier in bp['fliers']:\n",
    "#         flier.set(marker='o', color=edge_color, alpha=1)\n",
    "    \n",
    "    for patch in bp['boxes']:\n",
    "        patch.set(facecolor=fill_color)"
   ]
  },
  {
   "cell_type": "code",
   "execution_count": 5,
   "metadata": {},
   "outputs": [],
   "source": [
    "def boxplot_3dict(dictl, dictc, dictr, plotName):\n",
    "    ticks = dictr.keys()\n",
    "\n",
    "    fig, ax = plt.subplots(figsize=(20, 5), dpi=80)\n",
    "\n",
    "    bpl = ax.boxplot(dictl.values(), patch_artist=True, flierprops=green_diamond, positions=np.array(range(len(dictl.values())))*3.0-0.6, widths=0.4)\n",
    "    bpr = ax.boxplot(dictr.values(), patch_artist=True, flierprops=green_diamond, positions=np.array(range(len(dictr.values())))*3.0+0.6, widths=0.4)\n",
    "    bpc = ax.boxplot(dictc.values(), patch_artist=True, flierprops=green_diamond, positions=np.array(range(len(dictc.values())))*3.0, widths=0.4)\n",
    "\n",
    "    set_box_color(bpl, 'red', 'tan') # colors are from http://colorbrewer2.org/\n",
    "    set_box_color(bpr, 'blue', 'cyan')\n",
    "    set_box_color(bpc, 'green', '#BCEE68')\n",
    "\n",
    "    # draw temporary red and blue lines and use them to create a legend\n",
    "    plt.plot([], c='red', label='Brownian')\n",
    "    plt.plot([], c='green', label='Persistent')\n",
    "    plt.plot([], c='blue', label='Adaptive')\n",
    "    plt.legend(loc=2)\n",
    "\n",
    "    # plt.xticks(range(0, 300, 5), ticks)\n",
    "    # plt.xlim(-3, len(ticks)*3)\n",
    "    plt.ylim(0,20)\n",
    "    plt.xticks(range(0, len(ticks) * 3, 3), ticks)\n",
    "    plt.xlim(-2, len(ticks)*3)\n",
    "\n",
    "    ax.set_xticklabels([\"Regions\", \"Mixed\"])\n",
    "    ax.grid()\n",
    "\n",
    "#     plt.tight_layout()\n",
    "    \n",
    "    figName = plotName+'.png'\n",
    "    print(\"Figure name: \", figName)\n",
    "\n",
    "    plt.savefig(figName)"
   ]
  },
  {
   "cell_type": "code",
   "execution_count": 6,
   "metadata": {},
   "outputs": [],
   "source": [
    "num_robot = 24\n",
    "experiment_time = 1800\n",
    "num_run = 100"
   ]
  },
  {
   "cell_type": "code",
   "execution_count": 7,
   "metadata": {},
   "outputs": [],
   "source": [
    "results_folders = '/home/luigi/Documents/ARGoS/argos_results_scripts/DHTF/standAlone/results_newWalkParam/adaptiveTimeout/'"
   ]
  },
  {
   "cell_type": "code",
   "execution_count": 8,
   "metadata": {},
   "outputs": [
    {
     "name": "stdout",
     "output_type": "stream",
     "text": [
      "\u001b[32mOK, /home/luigi/Documents/ARGoS/argos_results_scripts/DHTF/standAlone/results_newWalkParam/adaptiveTimeout/ exists\u001b[0m\n"
     ]
    }
   ],
   "source": [
    "if not os.path.isdir(results_folders):\n",
    "    print(colored(\"Error, \" + results_folders + \" does not exist\", 'red'))\n",
    "else:\n",
    "    print(colored(\"OK, \" + results_folders + \" exists\", 'green'))"
   ]
  },
  {
   "cell_type": "code",
   "execution_count": 9,
   "metadata": {},
   "outputs": [],
   "source": [
    "elpsTimeout_label = ['time', 'kID', 'areaID', 'areaColor']"
   ]
  },
  {
   "cell_type": "code",
   "execution_count": 10,
   "metadata": {
    "scrolled": true
   },
   "outputs": [
    {
     "name": "stdout",
     "output_type": "stream",
     "text": [
      "\u001b[34mTimeout folder:\u001b[0m Regions_Adaptive_2021-07-16_robots#24_timeout#6_respawn#30_NumAreas#16_redAreas#8_1800#seconds\n",
      "\tExp configuration: Regions_Adaptive\n",
      "\u001b[34mTimeout folder:\u001b[0m Regions_Brownian_2021-07-16_robots#24_timeout#6_respawn#30_NumAreas#16_redAreas#8_1800#seconds\n",
      "\tExp configuration: Regions_Brownian\n",
      "\u001b[34mTimeout folder:\u001b[0m Regions_Persistent_2021-07-16_robots#24_timeout#6_respawn#30_NumAreas#16_redAreas#8_1800#seconds\n",
      "\tExp configuration: Regions_Persistent\n",
      "\u001b[34mTimeout folder:\u001b[0m Mixed_Adaptive_2021-07-16_robots#24_timeout#6_respawn#30_NumAreas#16_redAreas#8_1800#seconds\n",
      "\tExp configuration: Mixed_Adaptive\n",
      "\u001b[34mTimeout folder:\u001b[0m Mixed_Brownian_2021-07-16_robots#24_timeout#6_respawn#30_NumAreas#16_redAreas#8_1800#seconds\n",
      "\tExp configuration: Mixed_Brownian\n",
      "\u001b[34mTimeout folder:\u001b[0m Mixed_Persistent_2021-07-16_robots#24_timeout#6_respawn#30_NumAreas#16_redAreas#8_1800#seconds\n",
      "\tExp configuration: Mixed_Persistent\n"
     ]
    }
   ],
   "source": [
    "elapsed_timeout_dict = {}\n",
    "\n",
    "for results_folder in os.listdir(results_folders):\n",
    "    timeout = -1\n",
    "    for timeout_folder in natsorted(os.listdir(os.path.join(results_folders,results_folder))):\n",
    "        print(colored(\"Timeout folder:\", 'blue'),timeout_folder)\n",
    "\n",
    "        parameters = timeout_folder.split(\"_\")\n",
    "\n",
    "        for param in parameters:\n",
    "            if param.startswith(\"timeout\"):\n",
    "    #             print(param.split(\"#\")[-1])\n",
    "                timeout = int(param.split(\"#\")[-1]) * 10\n",
    "    #             print(\"\\ttimeout:\",timeout)\n",
    "\n",
    "\n",
    "        if timeout == -1 :\n",
    "            print(colored(\"\\tWARNING: wrong timeout folder\", 'green'))\n",
    "            continue\n",
    "\n",
    "        exp_config = parameters[0]+\"_\"+parameters[1]\n",
    "        print(\"\\tExp configuration:\",exp_config)\n",
    "        \n",
    "        elapsed_timeout_count = []\n",
    "        for filename in os.listdir(os.path.join(results_folders, results_folder, timeout_folder)):\n",
    "            if filename.endswith(\"elapsed_timeoutLOG.tsv\"):\n",
    "                if not os.path.getsize(os.path.join(results_folders, results_folder, timeout_folder, filename)) > 0:\n",
    "                    print(colored(\"\\tWARNING, empty file at:\" + filename, 'red'))\n",
    "                    continue\n",
    "    #             print('\\tfilename: ', filename)\n",
    "\n",
    "                df_elpsTimeot = pd.read_csv(os.path.join(results_folders, results_folder, timeout_folder, filename), sep=\"\\t\", header=None)\n",
    "                df_elpsTimeot.columns = elpsTimeout_label\n",
    "    #             print(df_elpsTimeot['kID'].values)\n",
    "                counter = Counter(df_elpsTimeot['kID'].values)\n",
    "\n",
    "                for i in np.arange(num_robot):\n",
    "                    if i not in counter.keys():\n",
    "    #                     print(\"\\t\",i)\n",
    "                        counter[i] = 0\n",
    "                elapsed_timeout_count += list(counter.values())\n",
    "    #             print(elapsed_timeout_count)\n",
    "\n",
    "        if len(elapsed_timeout_count):\n",
    "            elapsed_timeout_dict[exp_config] = elapsed_timeout_count\n",
    "        else:\n",
    "            print(colored(\"\\tWARNING: empty list!!\", 'green'))\n",
    "            elapsed_timeout_dict[exp_config] = [0] * num_robot * num_run\n",
    "\n"
   ]
  },
  {
   "cell_type": "code",
   "execution_count": 11,
   "metadata": {},
   "outputs": [],
   "source": [
    "# elapsed_timeout_dict.keys()"
   ]
  },
  {
   "cell_type": "code",
   "execution_count": 12,
   "metadata": {},
   "outputs": [],
   "source": [
    "# print(len(elapsed_timeout_dict['10']))"
   ]
  },
  {
   "cell_type": "code",
   "execution_count": 13,
   "metadata": {},
   "outputs": [
    {
     "name": "stdout",
     "output_type": "stream",
     "text": [
      "Regions_Adaptive\n",
      "Regions_Brownian\n",
      "Regions_Persistent\n",
      "Mixed_Adaptive\n",
      "Mixed_Brownian\n",
      "Mixed_Persistent\n"
     ]
    }
   ],
   "source": [
    "for key in elapsed_timeout_dict.keys():\n",
    "    print(key)"
   ]
  },
  {
   "cell_type": "code",
   "execution_count": 14,
   "metadata": {},
   "outputs": [
    {
     "name": "stdout",
     "output_type": "stream",
     "text": [
      "Figure name:  adaptiveTimeout_elapsedTimeout.png\n"
     ]
    },
    {
     "data": {
      "image/png": "[encoded data removed]",
      "text/plain": [
       "<Figure size 1600x400 with 1 Axes>"
      ]
     },
     "metadata": {
      "needs_background": "light"
     },
     "output_type": "display_data"
    }
   ],
   "source": [
    "boxplot_3dict({\"Regions_Brownian\":elapsed_timeout_dict.pop(\"Regions_Brownian\"), \"Mixed_Brownian\":elapsed_timeout_dict.pop(\"Mixed_Brownian\")},\n",
    "              {\"Regions_Persistent\":elapsed_timeout_dict.pop(\"Regions_Persistent\"), \"Mixed_Persistent\":elapsed_timeout_dict.pop(\"Mixed_Persistent\")},\n",
    "              {\"Regions_Adaptive\":elapsed_timeout_dict.pop(\"Regions_Adaptive\"), \"Mixed_Adaptive\":elapsed_timeout_dict.pop(\"Mixed_Adaptive\")},\n",
    "              \"adaptiveTimeout_elapsedTimeout\")"
   ]
  },
  {
   "cell_type": "code",
   "execution_count": null,
   "metadata": {},
   "outputs": [],
   "source": []
  },
  {
   "cell_type": "markdown",
   "metadata": {},
   "source": [
    "### Brownian"
   ]
  },
  {
   "cell_type": "code",
   "execution_count": 15,
   "metadata": {},
   "outputs": [],
   "source": [
    "# brownian_dict = elapsed_timeout_dict"
   ]
  },
  {
   "cell_type": "markdown",
   "metadata": {},
   "source": [
    "### Persistent"
   ]
  },
  {
   "cell_type": "code",
   "execution_count": 16,
   "metadata": {},
   "outputs": [],
   "source": [
    "# persistent_dict = elapsed_timeout_dict"
   ]
  },
  {
   "cell_type": "markdown",
   "metadata": {},
   "source": [
    "### Adaptive"
   ]
  },
  {
   "cell_type": "code",
   "execution_count": 17,
   "metadata": {},
   "outputs": [],
   "source": [
    "# adaptive_dict = elapsed_timeout_dict"
   ]
  },
  {
   "cell_type": "code",
   "execution_count": 18,
   "metadata": {},
   "outputs": [],
   "source": [
    "# boxplot_3dict(brownian_dict, persistent_dict, adaptive_dict, \"elapsedTimeout_\")"
   ]
  },
  {
   "cell_type": "code",
   "execution_count": null,
   "metadata": {},
   "outputs": [],
   "source": []
  },
  {
   "cell_type": "code",
   "execution_count": null,
   "metadata": {},
   "outputs": [],
   "source": []
  },
  {
   "cell_type": "markdown",
   "metadata": {},
   "source": [
    "### Brownian"
   ]
  },
  {
   "cell_type": "code",
   "execution_count": 19,
   "metadata": {},
   "outputs": [],
   "source": [
    "# saveFigure = True\n",
    "# figName=\"elapsedTimeout_brownian_\"+results_folder.split(\"/\")[-1]\n",
    "# print(figName)\n",
    "# simple_boxplot(elapsed_timeout_dict, figName, saveFigure)"
   ]
  },
  {
   "cell_type": "markdown",
   "metadata": {},
   "source": [
    "### Persistent"
   ]
  },
  {
   "cell_type": "code",
   "execution_count": 20,
   "metadata": {
    "scrolled": false
   },
   "outputs": [],
   "source": [
    "# saveFigure = True\n",
    "# figName=\"elapsedTimeout_persistent_\"+results_folder.split(\"/\")[-1]\n",
    "# print(figName)\n",
    "# simple_boxplot(elapsed_timeout_dict, figName, saveFigure)"
   ]
  },
  {
   "cell_type": "markdown",
   "metadata": {},
   "source": [
    "## Adaptive"
   ]
  },
  {
   "cell_type": "code",
   "execution_count": 21,
   "metadata": {
    "scrolled": false
   },
   "outputs": [],
   "source": [
    "# saveFigure = True\n",
    "# figName=\"elapsedTimeout_adaptive_\"+results_folder.split(\"/\")[-1]\n",
    "# print(figName)\n",
    "# simple_boxplot(elapsed_timeout_dict, figName, saveFigure)"
   ]
  },
  {
   "cell_type": "code",
   "execution_count": null,
   "metadata": {},
   "outputs": [],
   "source": []
  }
 ],
 "metadata": {
  "kernelspec": {
   "display_name": "Python 3",
   "language": "python",
   "name": "python3"
  },
  "language_info": {
   "codemirror_mode": {
    "name": "ipython",
    "version": 3
   },
   "file_extension": ".py",
   "mimetype": "text/x-python",
   "name": "python",
   "nbconvert_exporter": "python",
   "pygments_lexer": "ipython3",
   "version": "3.6.9"
  }
 },
 "nbformat": 4,
 "nbformat_minor": 4
}
