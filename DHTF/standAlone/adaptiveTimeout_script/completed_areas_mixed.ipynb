{
 "cells": [
  {
   "cell_type": "code",
   "execution_count": 1,
   "metadata": {},
   "outputs": [
    {
     "data": {
      "text/html": [
       "<style>.container { width:80% !important; }</style>"
      ],
      "text/plain": [
       "<IPython.core.display.HTML object>"
      ]
     },
     "metadata": {},
     "output_type": "display_data"
    }
   ],
   "source": [
    "from IPython.core.display import display, HTML\n",
    "display(HTML(\"<style>.container { width:80% !important; }</style>\"))"
   ]
  },
  {
   "cell_type": "code",
   "execution_count": 2,
   "metadata": {},
   "outputs": [],
   "source": [
    "import os\n",
    "import pandas as pd\n",
    "from termcolor import colored\n",
    "import numpy as np\n",
    "import matplotlib.pyplot as plt\n",
    "from natsort import natsorted\n",
    "import sys\n",
    "import pickle\n",
    "# import seaborn as sns\n",
    "# from collections import OrderedDict\n",
    "# from collections import Counter\n",
    "\n",
    "# Display pandas df without truncation\n",
    "# pd.set_option('display.max_rows', None)\n",
    "# pd.set_option('display.max_columns', None)\n",
    "# pd.set_option('display.width', None)\n",
    "# pd.set_option('display.max_colwidth', None)\n",
    "\n",
    "# np.set_printoptions(edgeitems=30, linewidth=100000, formatter=dict(float=lambda x: \"%.3g\" % x))\n",
    "\n"
   ]
  },
  {
   "cell_type": "markdown",
   "metadata": {},
   "source": [
    "## Simple boxplot func"
   ]
  },
  {
   "cell_type": "code",
   "execution_count": 3,
   "metadata": {},
   "outputs": [],
   "source": [
    "green_diamond = dict(markerfacecolor='g', marker='d')\n",
    "\n",
    "def simple_boxplot(my_dict, fig_name, save_flag):\n",
    "    fig, ax = plt.subplots(figsize=(20, 5), dpi=80)\n",
    "    ax.boxplot(my_dict.values(), flierprops=green_diamond)\n",
    "    ax.set_xticklabels(my_dict.keys())\n",
    "    plt.ylim(-1,600)\n",
    "    plt.tight_layout()\n",
    "    if save_flag:\n",
    "        plt.savefig(fig_name+'.png')"
   ]
  },
  {
   "cell_type": "code",
   "execution_count": 4,
   "metadata": {},
   "outputs": [],
   "source": [
    "num_robot = 24\n",
    "experiment_time = 1800\n",
    "num_run = 100"
   ]
  },
  {
   "cell_type": "code",
   "execution_count": 5,
   "metadata": {},
   "outputs": [],
   "source": [
    "results_folders = '/home/luigi/Documents/ARGoS/argos_results_scripts/DHTF/standAlone/results_newWalkParam/adaptiveTimeout/'"
   ]
  },
  {
   "cell_type": "code",
   "execution_count": 6,
   "metadata": {},
   "outputs": [
    {
     "name": "stdout",
     "output_type": "stream",
     "text": [
      "\u001b[32mOK, /home/luigi/Documents/ARGoS/argos_results_scripts/DHTF/standAlone/results_newWalkParam/adaptiveTimeout/ exists\u001b[0m\n"
     ]
    }
   ],
   "source": [
    "if not os.path.isdir(results_folders):\n",
    "    print(colored(\"Error, \" + results_folders + \" does not exist\", 'red'))\n",
    "else:\n",
    "    print(colored(\"OK, \" + results_folders + \" exists\", 'green'))"
   ]
  },
  {
   "cell_type": "code",
   "execution_count": 7,
   "metadata": {},
   "outputs": [],
   "source": [
    "completed_task_label = [\"time\", \"areaID\", \"creation_time\", \"completion_time\", \"type\", \"kID_on_top\", \"kIDs\"]"
   ]
  },
  {
   "cell_type": "code",
   "execution_count": null,
   "metadata": {},
   "outputs": [],
   "source": []
  },
  {
   "cell_type": "code",
   "execution_count": 8,
   "metadata": {},
   "outputs": [],
   "source": [
    "def set_box_color(bp, edge_color, fill_color):\n",
    "    plt.setp(bp['boxes'], color=edge_color)\n",
    "    plt.setp(bp['whiskers'], color=edge_color)\n",
    "    plt.setp(bp['caps'], color=edge_color)\n",
    "    plt.setp(bp['medians'], color=edge_color)\n",
    "    plt.setp(bp['fliers'], color=green_diamond)\n",
    "#     for flier in bp['fliers']:\n",
    "#         flier.set(marker='o', color=edge_color, alpha=1)\n",
    "    \n",
    "    for patch in bp['boxes']:\n",
    "        patch.set(facecolor=fill_color)"
   ]
  },
  {
   "cell_type": "code",
   "execution_count": 9,
   "metadata": {},
   "outputs": [],
   "source": [
    "def boxplot_3dict_2axis(dictl1, dictc1, dictr1, dictl2, dictc2, dictr2):\n",
    "    ticks = dictr1.keys()\n",
    "\n",
    "    fig, (ax1, ax2) = plt.subplots(2,figsize=(20, 10), dpi=80)\n",
    "    \n",
    "    \n",
    "    bpc1 = ax1.boxplot(dictc1.values(), patch_artist=True, flierprops=green_diamond, positions=np.array(range(len(dictc1.values())))*3.0, widths=0.4)\n",
    "    bpl1 = ax1.boxplot(dictl1.values(), patch_artist=True, flierprops=green_diamond, positions=np.array(range(len(dictl1.values())))*3.0-0.6, widths=0.4)\n",
    "    bpr1 = ax1.boxplot(dictr1.values(), patch_artist=True, flierprops=green_diamond, positions=np.array(range(len(dictr1.values())))*3.0+0.6, widths=0.4)\n",
    "\n",
    "    set_box_color(bpl1, 'red', 'tan') # colors are from http://colorbrewer2.org/\n",
    "    set_box_color(bpr1, 'blue', 'cyan')\n",
    "    set_box_color(bpc1, 'green', '#BCEE68')\n",
    "\n",
    "    ax1.set_ylabel(\"Completed areas blue\")\n",
    "    ax1.grid(True,linestyle='-',color='0.85')\n",
    "    \n",
    "    ax1.set_ylim(0, 180)\n",
    "    ax1.set_xticks(range(0, len(ticks) * 3, 3))\n",
    "    ax1.set_xticklabels([\"Regions\", \"Mixed\"])\n",
    "    ax1.set_xlim(xmin=-2, xmax=len(ticks)*3)\n",
    "   \n",
    "    # draw temporary red and blue lines and use them to create a legend\n",
    "    ax1.plot([], c='red', label='Brownian')\n",
    "    ax1.plot([], c='green', label='Persistent')\n",
    "    ax1.plot([], c='blue', label='Adaptive')\n",
    "    ax1.legend(loc=2)\n",
    "    \n",
    "    bpc2 = ax2.boxplot(dictc2.values(), patch_artist=True,  flierprops=green_diamond, positions=np.array(range(len(dictc2.values())))*3.0, widths=0.4)\n",
    "    bpl2 = ax2.boxplot(dictl2.values(), patch_artist=True, flierprops=green_diamond, positions=np.array(range(len(dictl2.values())))*3.0-0.6, widths=0.4)\n",
    "    bpr2 = ax2.boxplot(dictr2.values(), patch_artist=True,  flierprops=green_diamond, positions=np.array(range(len(dictr2.values())))*3.0+0.6, widths=0.4)\n",
    "\n",
    "    set_box_color(bpl2, 'red', 'tan') # colors are from http://colorbrewer2.org/\n",
    "    set_box_color(bpr2, 'blue', 'cyan')\n",
    "    set_box_color(bpc2, 'green', '#BCEE68')\n",
    "\n",
    "    ax2.set_ylabel(\"Completed areas red\")\n",
    "    ax2.grid(True,linestyle='-',color='0.85')\n",
    "    \n",
    "    ax2.set_ylim(0, 80)\n",
    "    ax2.set_xticks(range(0, len(ticks) * 3, 3))\n",
    "    ax2.set_xticklabels([\"Regions\", \"Mixed\"])\n",
    "    ax2.set_xlim(xmin=-2, xmax=len(ticks)*3)\n",
    "    \n",
    "\n",
    "    \n",
    "    # draw temporary red and blue lines and use them to create a legend\n",
    "    ax2.plot([], c='red', label='Brownian')\n",
    "    ax2.plot([], c='green', label='Persistent')\n",
    "    ax2.plot([], c='blue', label='Adaptive')\n",
    "    ax2.legend(loc=2)\n",
    "    \n",
    "#     plt.tight_layout()\n",
    "    figName = \"adaptiveTimeout_completedTaskMeanSplit\"+'.png'\n",
    "    print(\"Figure name: \", figName)\n",
    "\n",
    "    plt.savefig(figName)"
   ]
  },
  {
   "cell_type": "markdown",
   "metadata": {},
   "source": [
    "## Completed mixed areas in details (split blue and red)"
   ]
  },
  {
   "cell_type": "code",
   "execution_count": 10,
   "metadata": {
    "scrolled": true
   },
   "outputs": [
    {
     "name": "stdout",
     "output_type": "stream",
     "text": [
      "\u001b[34mTimeout folder:\u001b[0m Regions_Adaptive_2021-07-16_robots#24_timeout#6_respawn#30_NumAreas#16_redAreas#8_1800#seconds\n",
      "\tExp configuration: Regions_Adaptive\n",
      "\u001b[31m\tWARNING, completed_task_count should be 100!\u001b[0m\n",
      "\u001b[34m\tlen(completed_task_count)200\u001b[0m\n",
      "\u001b[34mTimeout folder:\u001b[0m Regions_Brownian_2021-07-16_robots#24_timeout#6_respawn#30_NumAreas#16_redAreas#8_1800#seconds\n",
      "\tExp configuration: Regions_Brownian\n",
      "\u001b[31m\tWARNING, completed_task_count should be 100!\u001b[0m\n",
      "\u001b[34m\tlen(completed_task_count)200\u001b[0m\n",
      "\u001b[34mTimeout folder:\u001b[0m Regions_Persistent_2021-07-16_robots#24_timeout#6_respawn#30_NumAreas#16_redAreas#8_1800#seconds\n",
      "\tExp configuration: Regions_Persistent\n",
      "\u001b[31m\tWARNING, completed_task_count should be 100!\u001b[0m\n",
      "\u001b[34m\tlen(completed_task_count)200\u001b[0m\n",
      "\u001b[34mTimeout folder:\u001b[0m Mixed_Adaptive_2021-07-16_robots#24_timeout#6_respawn#30_NumAreas#16_redAreas#8_1800#seconds\n",
      "\tExp configuration: Mixed_Adaptive\n",
      "\u001b[31m\tWARNING, completed_task_count should be 100!\u001b[0m\n",
      "\u001b[34m\tlen(completed_task_count)200\u001b[0m\n",
      "\u001b[34mTimeout folder:\u001b[0m Mixed_Brownian_2021-07-16_robots#24_timeout#6_respawn#30_NumAreas#16_redAreas#8_1800#seconds\n",
      "\tExp configuration: Mixed_Brownian\n",
      "\u001b[31m\tWARNING, completed_task_count should be 100!\u001b[0m\n",
      "\u001b[34m\tlen(completed_task_count)200\u001b[0m\n",
      "\u001b[34mTimeout folder:\u001b[0m Mixed_Persistent_2021-07-16_robots#24_timeout#6_respawn#30_NumAreas#16_redAreas#8_1800#seconds\n",
      "\tExp configuration: Mixed_Persistent\n",
      "\u001b[31m\tWARNING, completed_task_count should be 100!\u001b[0m\n",
      "\u001b[34m\tlen(completed_task_count)200\u001b[0m\n"
     ]
    }
   ],
   "source": [
    "completed_task_blue_dict = {}\n",
    "completed_task_red_dict = {}\n",
    "\n",
    "for results_folder in os.listdir(results_folders):\n",
    "    timeout = -1\n",
    "    for timeout_folder in natsorted(os.listdir(os.path.join(results_folders,results_folder))):\n",
    "        print(colored(\"Timeout folder:\", 'blue'),timeout_folder)\n",
    "\n",
    "        parameters = timeout_folder.split(\"_\")\n",
    "\n",
    "        for param in parameters:\n",
    "            if param.startswith(\"timeout\"):\n",
    "    #             print(param.split(\"#\")[-1])\n",
    "                timeout = int(param.split(\"#\")[-1]) * 10\n",
    "    #             print(\"\\ttimeout:\",timeout)\n",
    "\n",
    "    #     if timeout == 20 :\n",
    "    #         break\n",
    "\n",
    "        if timeout == -1 :\n",
    "            print(colored(\"\\tWARNING: wrong timeout folder\", 'green'))\n",
    "            continue\n",
    "\n",
    "        exp_config = parameters[0]+\"_\"+parameters[1]\n",
    "        print(\"\\tExp configuration:\",exp_config)\n",
    "\n",
    "        completed_task_count_red = []\n",
    "        completed_task_count_blue = []\n",
    "        for filename in os.listdir(os.path.join(results_folders, results_folder, timeout_folder)):\n",
    "            if filename.endswith(\"completed_taskLOG.tsv\"):\n",
    "                if not os.path.getsize(os.path.join(results_folders, results_folder, timeout_folder, filename)) > 0:\n",
    "                    print(colored(\"\\tWARNING, empty file at:\" + filename, 'red'))\n",
    "                    completed_task_blue_dict[str(timeout)] = 0\n",
    "                    completed_task_red_dict[str(timeout)] = 0\n",
    "                    continue\n",
    "    #             print('\\tfilename: ', filename)\n",
    "\n",
    "                df_completedTask = pd.read_csv(os.path.join(results_folders, results_folder, timeout_folder, filename), sep=\"\\t\", header=None)\n",
    "                df_completedTask.columns = completed_task_label\n",
    "\n",
    "                completed_task_count_blue += [df_completedTask.loc[df_completedTask['type'] == 0].shape[0]]\n",
    "                completed_task_count_red += [df_completedTask.loc[df_completedTask['type'] == 1].shape[0]]\n",
    "\n",
    "        if(len(completed_task_count_blue)+len(completed_task_count_red)!= 100):\n",
    "            print(colored(\"\\tWARNING, completed_task_count should be 100!\", 'red'))\n",
    "        print(colored(\"\\tlen(completed_task_count)\"+str(len(completed_task_count_blue)+len(completed_task_count_red)), 'blue'))\n",
    "        completed_task_blue_dict[exp_config] = completed_task_count_blue\n",
    "        completed_task_red_dict[exp_config] = completed_task_count_red\n",
    "    \n",
    "            \n"
   ]
  },
  {
   "cell_type": "code",
   "execution_count": 11,
   "metadata": {},
   "outputs": [
    {
     "name": "stdout",
     "output_type": "stream",
     "text": [
      "Regions_Adaptive\n",
      "Regions_Brownian\n",
      "Regions_Persistent\n",
      "Mixed_Adaptive\n",
      "Mixed_Brownian\n",
      "Mixed_Persistent\n"
     ]
    }
   ],
   "source": [
    "for key in completed_task_red_dict.keys():\n",
    "    print(key)"
   ]
  },
  {
   "cell_type": "code",
   "execution_count": 12,
   "metadata": {},
   "outputs": [],
   "source": [
    "# boxplot_3dict({\"Regions_Brownian\":completed_task_dict.pop(\"Regions_Brownian\"), \"Mixed_Brownian\":completed_task_dict.pop(\"Mixed_Brownian\")},\n",
    "#               {\"Regions_Persistent\":completed_task_dict.pop(\"Regions_Persistent\"), \"Mixed_Persistent\":completed_task_dict.pop(\"Mixed_Persistent\")},\n",
    "#               {\"Regions_Adaptive\":completed_task_dict.pop(\"Regions_Adaptive\"), \"Mixed_Adaptive\":completed_task_dict.pop(\"Mixed_Adaptive\")},\n",
    "#               \"adaptiveTimeout_completedTaskMean\")"
   ]
  },
  {
   "cell_type": "code",
   "execution_count": 13,
   "metadata": {},
   "outputs": [
    {
     "name": "stdout",
     "output_type": "stream",
     "text": [
      "Figure name:  adaptiveTimeout_completedTaskMeanSplit.png\n"
     ]
    },
    {
     "data": {
      "image/png": "[encoded data removed]",
      "text/plain": [
       "<Figure size 1600x800 with 2 Axes>"
      ]
     },
     "metadata": {
      "needs_background": "light"
     },
     "output_type": "display_data"
    }
   ],
   "source": [
    "boxplot_3dict_2axis({\"Regions_Brownian\":completed_task_blue_dict.pop(\"Regions_Brownian\"), \"Mixed_Brownian\":completed_task_blue_dict.pop(\"Mixed_Brownian\")},\n",
    "                    {\"Regions_Persistent\":completed_task_blue_dict.pop(\"Regions_Persistent\"), \"Mixed_Persistent\":completed_task_blue_dict.pop(\"Mixed_Persistent\")},\n",
    "                    {\"Regions_Adaptive\":completed_task_blue_dict.pop(\"Regions_Adaptive\"), \"Mixed_Adaptive\":completed_task_blue_dict.pop(\"Mixed_Adaptive\")},\n",
    "                    {\"Regions_Brownian\":completed_task_red_dict.pop(\"Regions_Brownian\"), \"Mixed_Brownian\":completed_task_red_dict.pop(\"Mixed_Brownian\")},\n",
    "                    {\"Regions_Persistent\":completed_task_red_dict.pop(\"Regions_Persistent\"), \"Mixed_Persistent\":completed_task_red_dict.pop(\"Mixed_Persistent\")},\n",
    "                    {\"Regions_Adaptive\":completed_task_red_dict.pop(\"Regions_Adaptive\"), \"Mixed_Adaptive\":completed_task_red_dict.pop(\"Mixed_Adaptive\")})"
   ]
  },
  {
   "cell_type": "code",
   "execution_count": null,
   "metadata": {},
   "outputs": [],
   "source": []
  }
 ],
 "metadata": {
  "kernelspec": {
   "display_name": "Python 3",
   "language": "python",
   "name": "python3"
  },
  "language_info": {
   "codemirror_mode": {
    "name": "ipython",
    "version": 3
   },
   "file_extension": ".py",
   "mimetype": "text/x-python",
   "name": "python",
   "nbconvert_exporter": "python",
   "pygments_lexer": "ipython3",
   "version": "3.6.9"
  }
 },
 "nbformat": 4,
 "nbformat_minor": 4
}
