{
 "cells": [
  {
   "cell_type": "code",
   "execution_count": 40,
   "metadata": {},
   "outputs": [
    {
     "data": {
      "text/html": [
       "<style>.container { width:88% !important; }</style>"
      ],
      "text/plain": [
       "<IPython.core.display.HTML object>"
      ]
     },
     "metadata": {},
     "output_type": "display_data"
    }
   ],
   "source": [
    "from IPython.core.display import display, HTML\n",
    "display(HTML(\"<style>.container { width:88% !important; }</style>\"))"
   ]
  },
  {
   "cell_type": "code",
   "execution_count": 41,
   "metadata": {},
   "outputs": [],
   "source": [
    "import os\n",
    "import sys\n",
    "import img2pdf\n",
    "from PIL import Image"
   ]
  },
  {
   "cell_type": "code",
   "execution_count": 42,
   "metadata": {},
   "outputs": [],
   "source": [
    "def print_help():\n",
    "    print(\"usage : plot_folder_path\")"
   ]
  },
  {
   "cell_type": "code",
   "execution_count": 43,
   "metadata": {},
   "outputs": [],
   "source": [
    "def main():\n",
    "    \n",
    "    number_of_args=len(sys.argv)\n",
    "\n",
    "    if (number_of_args != 2):\n",
    "        print_help()\n",
    "        exit(-1)\n",
    "\n",
    "    folder=sys.argv[1]\n",
    "#     folder = \"/home/luigi/Documents/scripts/test_scripts/py3_scripts/Plots/2020-02-24\"\n",
    "    if not os.path.isdir(folder):\n",
    "        print_help()\n",
    "        exit(-1)\n",
    "    \n",
    "    imagelist = []\n",
    "    for dirName, subdirList, fileList in os.walk(folder):\n",
    "    #     print(dirName)\n",
    "        fileList.sort()\n",
    "        for i in fileList:\n",
    "            if(i.endswith(\".png\")):\n",
    "    #             with open(\"./output.pdf\", \"wb\") as f:\n",
    "    #                 f.write(img2pdf.convert(i))\n",
    "    #             print(dirName+'/'+i)\n",
    "\n",
    "                img = Image.open(dirName+'/'+i)\n",
    "    #             print(type(img))\n",
    "                img = img.convert('RGB')\n",
    "                imagelist.append(img)\n",
    "    #     with open(\"./output.pdf\", \"wb\") as f:\n",
    "    #         f.write(img2pdf.convert([i for i in fileList if i.endswith(\".png\")]))\n",
    "    \n",
    "    imagelist[0].save(r'./plots.pdf',save_all=True, append_images=imagelist)"
   ]
  },
  {
   "cell_type": "code",
   "execution_count": 37,
   "metadata": {},
   "outputs": [],
   "source": []
  },
  {
   "cell_type": "code",
   "execution_count": 1,
   "metadata": {},
   "outputs": [],
   "source": [
    "if __name__ == '__main__':\n",
    "    main()"
   ]
  },
  {
   "cell_type": "code",
   "execution_count": null,
   "metadata": {},
   "outputs": [],
   "source": []
  }
 ],
 "metadata": {
  "kernelspec": {
   "display_name": "Python 3.5.2 64-bit ('argos': virtualenv)",
   "language": "python",
   "name": "python35264bitargosvirtualenv7d4f7d92e2084569ac79cc76ee421ade"
  },
  "language_info": {
   "codemirror_mode": {
    "name": "ipython",
    "version": 3
   },
   "file_extension": ".py",
   "mimetype": "text/x-python",
   "name": "python",
   "nbconvert_exporter": "python",
   "pygments_lexer": "ipython3",
   "version": "3.5.2"
  }
 },
 "nbformat": 4,
 "nbformat_minor": 4
}
