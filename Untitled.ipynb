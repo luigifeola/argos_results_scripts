{
 "cells": [
  {
   "cell_type": "code",
   "execution_count": 9,
   "metadata": {},
   "outputs": [],
   "source": [
    "import os\n",
    "from natsort import natsorted\n",
    "import numpy as np"
   ]
  },
  {
   "cell_type": "code",
   "execution_count": 5,
   "metadata": {},
   "outputs": [],
   "source": [
    "directory = \"/home/luigi/Documents/ARGoS/argos_results_scripts/results/bias_experiment_50_runs\""
   ]
  },
  {
   "cell_type": "code",
   "execution_count": 7,
   "metadata": {},
   "outputs": [
    {
     "name": "stdout",
     "output_type": "stream",
     "text": [
      "2020-07-09_robots#10_alpha#1.2_rho#0.0_1800\n",
      "2020-07-09\n",
      "robots#10\n",
      "alpha#1.2\n",
      "rho#0.0\n",
      "1800\n"
     ]
    }
   ],
   "source": [
    "for dirName in natsorted(os.listdir(directory)):\n",
    "    print(dirName)\n",
    "    elements = dirName.split(\"_\")\n",
    "    for e in elements:\n",
    "        print(e)\n",
    "    break"
   ]
  },
  {
   "cell_type": "code",
   "execution_count": null,
   "metadata": {},
   "outputs": [],
   "source": [
    "for filename in directory:\n",
    "    modified_time = os.path.getmtime(filename)   # get file modification timestamp\n",
    "    modified_date = datetime.date.fromtimestamp(modified_time)  # convert timestamp to a date\n",
    "    os.rename(filename, modified_date.strftime(\"%Y-%m-%d\"))"
   ]
  },
  {
   "cell_type": "code",
   "execution_count": 3,
   "metadata": {},
   "outputs": [],
   "source": [
    "folder = \"./Plots/bias_experiment_50_runs\""
   ]
  },
  {
   "cell_type": "code",
   "execution_count": 4,
   "metadata": {},
   "outputs": [
    {
     "name": "stdout",
     "output_type": "stream",
     "text": [
      "Questa e' una cartella \n"
     ]
    }
   ],
   "source": [
    "if not os.path.isdir(folder):\n",
    "    print(\"Dioporco\")\n",
    "else:\n",
    "    print(\"Questa e' una cartella \")"
   ]
  },
  {
   "cell_type": "code",
   "execution_count": 2,
   "metadata": {},
   "outputs": [
    {
     "name": "stdout",
     "output_type": "stream",
     "text": [
      "/home/luigi/Documents/ARGoS/argos_results_scripts\r\n"
     ]
    }
   ],
   "source": [
    "!pwd"
   ]
  },
  {
   "cell_type": "code",
   "execution_count": 7,
   "metadata": {},
   "outputs": [
    {
     "name": "stdout",
     "output_type": "stream",
     "text": [
      "./Plots/bias_experiment_50_runs\n",
      "[]\n",
      "\n",
      "./Plots/bias_experiment_50_runs/origin_distance_distribution\n",
      "['origin_distance_distr_10_rho_0.0_alpha_1.2.png', 'origin_distance_distr_10_rho_0.0_alpha_1.6.png', 'origin_distance_distr_10_rho_0.0_alpha_2.0.png', 'origin_distance_distr_10_rho_0.3_alpha_1.2.png', 'origin_distance_distr_10_rho_0.3_alpha_1.6.png', 'origin_distance_distr_10_rho_0.3_alpha_2.0.png', 'origin_distance_distr_10_rho_0.6_alpha_1.2.png', 'origin_distance_distr_10_rho_0.6_alpha_1.6.png', 'origin_distance_distr_10_rho_0.6_alpha_2.0.png', 'origin_distance_distr_10_rho_0.9_alpha_1.2.png', 'origin_distance_distr_10_rho_0.9_alpha_1.6.png', 'origin_distance_distr_10_rho_0.9_alpha_2.0.png', 'origin_distance_distr_20_rho_0.0_alpha_1.2.png', 'origin_distance_distr_20_rho_0.0_alpha_1.6.png', 'origin_distance_distr_20_rho_0.0_alpha_2.0.png', 'origin_distance_distr_20_rho_0.3_alpha_1.2.png', 'origin_distance_distr_20_rho_0.3_alpha_1.6.png', 'origin_distance_distr_20_rho_0.3_alpha_2.0.png', 'origin_distance_distr_20_rho_0.6_alpha_1.2.png', 'origin_distance_distr_20_rho_0.6_alpha_1.6.png', 'origin_distance_distr_20_rho_0.6_alpha_2.0.png', 'origin_distance_distr_20_rho_0.9_alpha_1.2.png', 'origin_distance_distr_20_rho_0.9_alpha_1.6.png', 'origin_distance_distr_20_rho_0.9_alpha_2.0.png', 'origin_distance_distr_50_rho_0.0_alpha_1.2.png', 'origin_distance_distr_50_rho_0.0_alpha_1.6.png', 'origin_distance_distr_50_rho_0.0_alpha_2.0.png', 'origin_distance_distr_50_rho_0.3_alpha_1.2.png', 'origin_distance_distr_50_rho_0.3_alpha_1.6.png', 'origin_distance_distr_50_rho_0.3_alpha_2.0.png', 'origin_distance_distr_50_rho_0.6_alpha_1.2.png', 'origin_distance_distr_50_rho_0.6_alpha_1.6.png', 'origin_distance_distr_50_rho_0.6_alpha_2.0.png', 'origin_distance_distr_50_rho_0.9_alpha_1.2.png', 'origin_distance_distr_50_rho_0.9_alpha_1.6.png', 'origin_distance_distr_50_rho_0.9_alpha_2.0.png', 'origin_distance_distr_100_rho_0.0_alpha_1.2.png', 'origin_distance_distr_100_rho_0.0_alpha_1.6.png', 'origin_distance_distr_100_rho_0.0_alpha_2.0.png', 'origin_distance_distr_100_rho_0.3_alpha_1.2.png', 'origin_distance_distr_100_rho_0.3_alpha_1.6.png', 'origin_distance_distr_100_rho_0.3_alpha_2.0.png', 'origin_distance_distr_100_rho_0.6_alpha_1.2.png', 'origin_distance_distr_100_rho_0.6_alpha_1.6.png', 'origin_distance_distr_100_rho_0.6_alpha_2.0.png', 'origin_distance_distr_100_rho_0.9_alpha_1.2.png', 'origin_distance_distr_100_rho_0.9_alpha_1.6.png', 'origin_distance_distr_100_rho_0.9_alpha_2.0.png']\n",
      "\n",
      "./Plots/bias_experiment_50_runs/time_stats\n",
      "[]\n",
      "\n",
      "./Plots/bias_experiment_50_runs/time_stats/convergence_time\n",
      "['Convergence Time_10_robots.png', 'Convergence Time_20_robots.png', 'Convergence Time_50_robots.png', 'Convergence Time_100_robots.png', 'conv_time_robots_10_alpha_1.2_rho_0.0.png', 'conv_time_robots_10_alpha_1.2_rho_0.3.png', 'conv_time_robots_10_alpha_1.2_rho_0.6.png', 'conv_time_robots_10_alpha_1.2_rho_0.9.png', 'conv_time_robots_10_alpha_1.6_rho_0.0.png', 'conv_time_robots_10_alpha_1.6_rho_0.3.png', 'conv_time_robots_10_alpha_1.6_rho_0.6.png', 'conv_time_robots_10_alpha_1.6_rho_0.9.png', 'conv_time_robots_10_alpha_2.0_rho_0.0.png', 'conv_time_robots_10_alpha_2.0_rho_0.3.png', 'conv_time_robots_10_alpha_2.0_rho_0.6.png', 'conv_time_robots_10_alpha_2.0_rho_0.9.png', 'conv_time_robots_20_alpha_1.2_rho_0.0.png', 'conv_time_robots_20_alpha_1.2_rho_0.3.png', 'conv_time_robots_20_alpha_1.2_rho_0.6.png', 'conv_time_robots_20_alpha_1.2_rho_0.9.png', 'conv_time_robots_20_alpha_1.6_rho_0.0.png', 'conv_time_robots_20_alpha_1.6_rho_0.3.png', 'conv_time_robots_20_alpha_1.6_rho_0.6.png', 'conv_time_robots_20_alpha_1.6_rho_0.9.png', 'conv_time_robots_20_alpha_2.0_rho_0.0.png', 'conv_time_robots_20_alpha_2.0_rho_0.3.png', 'conv_time_robots_20_alpha_2.0_rho_0.6.png', 'conv_time_robots_20_alpha_2.0_rho_0.9.png', 'conv_time_robots_50_alpha_1.2_rho_0.0.png', 'conv_time_robots_50_alpha_1.2_rho_0.3.png', 'conv_time_robots_50_alpha_1.2_rho_0.6.png', 'conv_time_robots_50_alpha_1.2_rho_0.9.png', 'conv_time_robots_50_alpha_1.6_rho_0.0.png', 'conv_time_robots_50_alpha_1.6_rho_0.3.png', 'conv_time_robots_50_alpha_1.6_rho_0.6.png', 'conv_time_robots_50_alpha_1.6_rho_0.9.png', 'conv_time_robots_50_alpha_2.0_rho_0.0.png', 'conv_time_robots_50_alpha_2.0_rho_0.3.png', 'conv_time_robots_50_alpha_2.0_rho_0.6.png', 'conv_time_robots_50_alpha_2.0_rho_0.9.png', 'conv_time_robots_100_alpha_1.2_rho_0.0.png', 'conv_time_robots_100_alpha_1.2_rho_0.3.png', 'conv_time_robots_100_alpha_1.2_rho_0.6.png', 'conv_time_robots_100_alpha_1.2_rho_0.9.png', 'conv_time_robots_100_alpha_1.6_rho_0.0.png', 'conv_time_robots_100_alpha_1.6_rho_0.3.png', 'conv_time_robots_100_alpha_1.6_rho_0.6.png', 'conv_time_robots_100_alpha_1.6_rho_0.9.png', 'conv_time_robots_100_alpha_2.0_rho_0.0.png', 'conv_time_robots_100_alpha_2.0_rho_0.3.png', 'conv_time_robots_100_alpha_2.0_rho_0.6.png', 'conv_time_robots_100_alpha_2.0_rho_0.9.png']\n",
      "\n",
      "./Plots/bias_experiment_50_runs/time_stats/first_passage_time\n",
      "['Average First Passage Time_10_robots.png', 'Average First Passage Time_20_robots.png', 'Average First Passage Time_50_robots.png', 'Average First Passage Time_100_robots.png', 'fpt_robots_10_alpha_1.2_rho_0.0.png', 'fpt_robots_10_alpha_1.2_rho_0.3.png', 'fpt_robots_10_alpha_1.2_rho_0.6.png', 'fpt_robots_10_alpha_1.2_rho_0.9.png', 'fpt_robots_10_alpha_1.6_rho_0.0.png', 'fpt_robots_10_alpha_1.6_rho_0.3.png', 'fpt_robots_10_alpha_1.6_rho_0.6.png', 'fpt_robots_10_alpha_1.6_rho_0.9.png', 'fpt_robots_10_alpha_2.0_rho_0.0.png', 'fpt_robots_10_alpha_2.0_rho_0.3.png', 'fpt_robots_10_alpha_2.0_rho_0.6.png', 'fpt_robots_10_alpha_2.0_rho_0.9.png', 'fpt_robots_20_alpha_1.2_rho_0.0.png', 'fpt_robots_20_alpha_1.2_rho_0.3.png', 'fpt_robots_20_alpha_1.2_rho_0.6.png', 'fpt_robots_20_alpha_1.2_rho_0.9.png', 'fpt_robots_20_alpha_1.6_rho_0.0.png', 'fpt_robots_20_alpha_1.6_rho_0.3.png', 'fpt_robots_20_alpha_1.6_rho_0.6.png', 'fpt_robots_20_alpha_1.6_rho_0.9.png', 'fpt_robots_20_alpha_2.0_rho_0.0.png', 'fpt_robots_20_alpha_2.0_rho_0.3.png', 'fpt_robots_20_alpha_2.0_rho_0.6.png', 'fpt_robots_20_alpha_2.0_rho_0.9.png', 'fpt_robots_50_alpha_1.2_rho_0.0.png', 'fpt_robots_50_alpha_1.2_rho_0.3.png', 'fpt_robots_50_alpha_1.2_rho_0.6.png', 'fpt_robots_50_alpha_1.2_rho_0.9.png', 'fpt_robots_50_alpha_1.6_rho_0.0.png', 'fpt_robots_50_alpha_1.6_rho_0.3.png', 'fpt_robots_50_alpha_1.6_rho_0.6.png', 'fpt_robots_50_alpha_1.6_rho_0.9.png', 'fpt_robots_50_alpha_2.0_rho_0.0.png', 'fpt_robots_50_alpha_2.0_rho_0.3.png', 'fpt_robots_50_alpha_2.0_rho_0.6.png', 'fpt_robots_50_alpha_2.0_rho_0.9.png', 'fpt_robots_100_alpha_1.2_rho_0.0.png', 'fpt_robots_100_alpha_1.2_rho_0.3.png', 'fpt_robots_100_alpha_1.2_rho_0.6.png', 'fpt_robots_100_alpha_1.2_rho_0.9.png', 'fpt_robots_100_alpha_1.6_rho_0.0.png', 'fpt_robots_100_alpha_1.6_rho_0.3.png', 'fpt_robots_100_alpha_1.6_rho_0.6.png', 'fpt_robots_100_alpha_1.6_rho_0.9.png', 'fpt_robots_100_alpha_2.0_rho_0.0.png', 'fpt_robots_100_alpha_2.0_rho_0.3.png', 'fpt_robots_100_alpha_2.0_rho_0.6.png', 'fpt_robots_100_alpha_2.0_rho_0.9.png']\n",
      "\n",
      "./Plots/bias_experiment_50_runs/density_maps\n",
      "['dist_heat_robots_10_rho_0.0_alpha_1.2.png', 'dist_heat_robots_10_rho_0.0_alpha_1.6.png', 'dist_heat_robots_10_rho_0.0_alpha_2.0.png', 'dist_heat_robots_10_rho_0.3_alpha_1.2.png', 'dist_heat_robots_10_rho_0.3_alpha_1.6.png', 'dist_heat_robots_10_rho_0.3_alpha_2.0.png', 'dist_heat_robots_10_rho_0.6_alpha_1.2.png', 'dist_heat_robots_10_rho_0.6_alpha_1.6.png', 'dist_heat_robots_10_rho_0.6_alpha_2.0.png', 'dist_heat_robots_10_rho_0.9_alpha_1.2.png', 'dist_heat_robots_10_rho_0.9_alpha_1.6.png', 'dist_heat_robots_10_rho_0.9_alpha_2.0.png', 'dist_heat_robots_20_rho_0.0_alpha_1.2.png', 'dist_heat_robots_20_rho_0.0_alpha_1.6.png', 'dist_heat_robots_20_rho_0.0_alpha_2.0.png', 'dist_heat_robots_20_rho_0.3_alpha_1.2.png', 'dist_heat_robots_20_rho_0.3_alpha_1.6.png', 'dist_heat_robots_20_rho_0.3_alpha_2.0.png', 'dist_heat_robots_20_rho_0.6_alpha_1.2.png', 'dist_heat_robots_20_rho_0.6_alpha_1.6.png', 'dist_heat_robots_20_rho_0.6_alpha_2.0.png', 'dist_heat_robots_20_rho_0.9_alpha_1.2.png', 'dist_heat_robots_20_rho_0.9_alpha_1.6.png', 'dist_heat_robots_20_rho_0.9_alpha_2.0.png', 'dist_heat_robots_50_rho_0.0_alpha_1.2.png', 'dist_heat_robots_50_rho_0.0_alpha_1.6.png', 'dist_heat_robots_50_rho_0.0_alpha_2.0.png', 'dist_heat_robots_50_rho_0.3_alpha_1.2.png', 'dist_heat_robots_50_rho_0.3_alpha_1.6.png', 'dist_heat_robots_50_rho_0.3_alpha_2.0.png', 'dist_heat_robots_50_rho_0.6_alpha_1.2.png', 'dist_heat_robots_50_rho_0.6_alpha_1.6.png', 'dist_heat_robots_50_rho_0.6_alpha_2.0.png', 'dist_heat_robots_50_rho_0.9_alpha_1.2.png', 'dist_heat_robots_50_rho_0.9_alpha_1.6.png', 'dist_heat_robots_50_rho_0.9_alpha_2.0.png', 'dist_heat_robots_100_rho_0.0_alpha_1.2.png', 'dist_heat_robots_100_rho_0.0_alpha_1.6.png', 'dist_heat_robots_100_rho_0.0_alpha_2.0.png', 'dist_heat_robots_100_rho_0.3_alpha_1.2.png', 'dist_heat_robots_100_rho_0.3_alpha_1.6.png', 'dist_heat_robots_100_rho_0.3_alpha_2.0.png', 'dist_heat_robots_100_rho_0.6_alpha_1.2.png', 'dist_heat_robots_100_rho_0.6_alpha_1.6.png', 'dist_heat_robots_100_rho_0.6_alpha_2.0.png', 'dist_heat_robots_100_rho_0.9_alpha_1.2.png', 'dist_heat_robots_100_rho_0.9_alpha_1.6.png', 'dist_heat_robots_100_rho_0.9_alpha_2.0.png']\n",
      "\n",
      "./Plots/bias_experiment_50_runs/fixed_window_displacement\n",
      "['comparison_robots_10_rho_0.0_alpha_1.2.png', 'comparison_robots_10_rho_0.0_alpha_1.6.png', 'comparison_robots_10_rho_0.0_alpha_2.0.png', 'comparison_robots_10_rho_0.3_alpha_1.2.png', 'comparison_robots_10_rho_0.3_alpha_1.6.png', 'comparison_robots_10_rho_0.3_alpha_2.0.png', 'comparison_robots_10_rho_0.6_alpha_1.2.png', 'comparison_robots_10_rho_0.6_alpha_1.6.png', 'comparison_robots_10_rho_0.6_alpha_2.0.png', 'comparison_robots_10_rho_0.9_alpha_1.2.png', 'comparison_robots_10_rho_0.9_alpha_1.6.png', 'comparison_robots_10_rho_0.9_alpha_2.0.png', 'comparison_robots_20_rho_0.0_alpha_1.2.png', 'comparison_robots_20_rho_0.0_alpha_1.6.png', 'comparison_robots_20_rho_0.0_alpha_2.0.png', 'comparison_robots_20_rho_0.3_alpha_1.2.png', 'comparison_robots_20_rho_0.3_alpha_1.6.png', 'comparison_robots_20_rho_0.3_alpha_2.0.png', 'comparison_robots_20_rho_0.6_alpha_1.2.png', 'comparison_robots_20_rho_0.6_alpha_1.6.png', 'comparison_robots_20_rho_0.6_alpha_2.0.png', 'comparison_robots_20_rho_0.9_alpha_1.2.png', 'comparison_robots_20_rho_0.9_alpha_1.6.png', 'comparison_robots_20_rho_0.9_alpha_2.0.png', 'comparison_robots_50_rho_0.0_alpha_1.2.png', 'comparison_robots_50_rho_0.0_alpha_1.6.png', 'comparison_robots_50_rho_0.0_alpha_2.0.png', 'comparison_robots_50_rho_0.3_alpha_1.2.png', 'comparison_robots_50_rho_0.3_alpha_1.6.png', 'comparison_robots_50_rho_0.3_alpha_2.0.png', 'comparison_robots_50_rho_0.6_alpha_1.2.png', 'comparison_robots_50_rho_0.6_alpha_1.6.png', 'comparison_robots_50_rho_0.6_alpha_2.0.png', 'comparison_robots_50_rho_0.9_alpha_1.2.png', 'comparison_robots_50_rho_0.9_alpha_1.6.png', 'comparison_robots_50_rho_0.9_alpha_2.0.png', 'comparison_robots_100_rho_0.0_alpha_1.2.png', 'comparison_robots_100_rho_0.0_alpha_1.6.png', 'comparison_robots_100_rho_0.0_alpha_2.0.png', 'comparison_robots_100_rho_0.3_alpha_1.2.png', 'comparison_robots_100_rho_0.3_alpha_1.6.png', 'comparison_robots_100_rho_0.3_alpha_2.0.png', 'comparison_robots_100_rho_0.6_alpha_1.2.png', 'comparison_robots_100_rho_0.6_alpha_1.6.png', 'comparison_robots_100_rho_0.6_alpha_2.0.png', 'comparison_robots_100_rho_0.9_alpha_1.2.png', 'comparison_robots_100_rho_0.9_alpha_1.6.png', 'comparison_robots_100_rho_0.9_alpha_2.0.png']\n",
      "\n",
      "./Plots/bias_experiment_50_runs/fixed_window_displacement/Heatmap\n",
      "['WMSD_10_robots_wsize_1_heatmap.png', 'WMSD_10_robots_wsize_2_heatmap.png', 'WMSD_10_robots_wsize_3_heatmap.png', 'WMSD_10_robots_wsize_4_heatmap.png', 'WMSD_10_robots_wsize_5_heatmap.png', 'WMSD_10_robots_wsize_6_heatmap.png', 'WMSD_10_robots_wsize_7_heatmap.png', 'WMSD_10_robots_wsize_8_heatmap.png', 'WMSD_10_robots_wsize_9_heatmap.png', 'WMSD_20_robots_wsize_1_heatmap.png', 'WMSD_20_robots_wsize_2_heatmap.png', 'WMSD_20_robots_wsize_3_heatmap.png', 'WMSD_20_robots_wsize_4_heatmap.png', 'WMSD_20_robots_wsize_5_heatmap.png', 'WMSD_20_robots_wsize_6_heatmap.png', 'WMSD_20_robots_wsize_7_heatmap.png', 'WMSD_20_robots_wsize_8_heatmap.png', 'WMSD_20_robots_wsize_9_heatmap.png', 'WMSD_50_robots_wsize_1_heatmap.png', 'WMSD_50_robots_wsize_2_heatmap.png', 'WMSD_50_robots_wsize_3_heatmap.png', 'WMSD_50_robots_wsize_4_heatmap.png', 'WMSD_50_robots_wsize_5_heatmap.png', 'WMSD_50_robots_wsize_6_heatmap.png', 'WMSD_50_robots_wsize_7_heatmap.png', 'WMSD_50_robots_wsize_8_heatmap.png', 'WMSD_50_robots_wsize_9_heatmap.png', 'WMSD_100_robots_wsize_1_heatmap.png', 'WMSD_100_robots_wsize_2_heatmap.png', 'WMSD_100_robots_wsize_3_heatmap.png', 'WMSD_100_robots_wsize_4_heatmap.png', 'WMSD_100_robots_wsize_5_heatmap.png', 'WMSD_100_robots_wsize_6_heatmap.png', 'WMSD_100_robots_wsize_7_heatmap.png', 'WMSD_100_robots_wsize_8_heatmap.png', 'WMSD_100_robots_wsize_9_heatmap.png']\n",
      "\n"
     ]
    }
   ],
   "source": [
    "for dirName, subdirList, fileList in os.walk(folder):\n",
    "    print(dirName)\n",
    "#     fileList.sort()\n",
    "    print(natsorted(fileList), end=\"\\n\\n\")\n",
    "#     for i in fileList:\n",
    "#         if (i.endswith(\".png\")):\n",
    "#             img = Image.open(dirName + '/' + i)\n",
    "#             img = img.convert('RGB')\n",
    "#             imagelist.append(img)"
   ]
  },
  {
   "cell_type": "code",
   "execution_count": null,
   "metadata": {},
   "outputs": [],
   "source": [
    "for dirName, subdirList, fileList in os.walk(folder):\n",
    "    elements = dirName.split(\"_\")"
   ]
  },
  {
   "cell_type": "code",
   "execution_count": 13,
   "metadata": {},
   "outputs": [],
   "source": [
    "bin_edges = np.linspace(0, 1, 20)"
   ]
  },
  {
   "cell_type": "code",
   "execution_count": 14,
   "metadata": {},
   "outputs": [
    {
     "data": {
      "text/plain": [
       "20"
      ]
     },
     "execution_count": 14,
     "metadata": {},
     "output_type": "execute_result"
    }
   ],
   "source": [
    "bin_edges.size"
   ]
  },
  {
   "cell_type": "code",
   "execution_count": null,
   "metadata": {},
   "outputs": [],
   "source": []
  }
 ],
 "metadata": {
  "kernelspec": {
   "display_name": "Python 3",
   "language": "python",
   "name": "python3"
  },
  "language_info": {
   "codemirror_mode": {
    "name": "ipython",
    "version": 3
   },
   "file_extension": ".py",
   "mimetype": "text/x-python",
   "name": "python",
   "nbconvert_exporter": "python",
   "pygments_lexer": "ipython3",
   "version": "3.6.9"
  }
 },
 "nbformat": 4,
 "nbformat_minor": 4
}
