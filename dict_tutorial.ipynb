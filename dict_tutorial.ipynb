{
 "cells": [
  {
   "cell_type": "markdown",
   "metadata": {},
   "source": [
    "##### Qui dal dizionario con i tempi di convergenza devo ricavare il plot delle errorbar"
   ]
  },
  {
   "cell_type": "code",
   "execution_count": 15,
   "metadata": {},
   "outputs": [
    {
     "data": {
      "text/html": [
       "<style>.container { width:88% !important; }</style>"
      ],
      "text/plain": [
       "<IPython.core.display.HTML object>"
      ]
     },
     "metadata": {},
     "output_type": "display_data"
    }
   ],
   "source": [
    "from IPython.core.display import display, HTML\n",
    "display(HTML(\"<style>.container { width:88% !important; }</style>\"))"
   ]
  },
  {
   "cell_type": "code",
   "execution_count": 16,
   "metadata": {},
   "outputs": [],
   "source": [
    "import numpy as np\n",
    "import matplotlib.pyplot as plt\n",
    "import os"
   ]
  },
  {
   "cell_type": "code",
   "execution_count": 17,
   "metadata": {},
   "outputs": [],
   "source": [
    "from datetime import date\n",
    "today = date.today()\n",
    "\n",
    "'''Generate folder to store plots and heatmaps'''\n",
    "script_dir = os.path.abspath('')\n",
    "errorbars_dir = os.path.join(script_dir, 'Plots/'+str(today)+'/Weibull/ErrorBars')\n",
    "ftp_dir = os.path.join(errorbars_dir,'ftp_errorbars')\n",
    "convTime_dir = os.path.join(errorbars_dir,'convTime_errorbars')\n",
    "\n",
    "if not os.path.isdir(errorbars_dir):\n",
    "    os.makedirs(errorbars_dir)\n",
    "if not os.path.isdir(ftp_dir):\n",
    "    os.makedirs(ftp_dir)\n",
    "if not os.path.isdir(convTime_dir):\n",
    "    os.makedirs(convTime_dir)\n",
    "    \n"
   ]
  },
  {
   "cell_type": "code",
   "execution_count": 18,
   "metadata": {},
   "outputs": [],
   "source": [
    "def swap_0_1_col(array):\n",
    "    array[:,[0, 1]] = array[:,[1, 0]]\n",
    "    return array"
   ]
  },
  {
   "cell_type": "code",
   "execution_count": 19,
   "metadata": {},
   "outputs": [],
   "source": [
    "congergence_time_eval = True\n",
    "#conv time errorbars\n",
    "if(congergence_time_eval):\n",
    "    tot_dict = {'100': {'1.2': {'0.3': [311.7034402218946, 16.55355070952002], '0.6': [296.84648708149155, 16.174961704438957], '0.9': [308.1495923058286, 17.84967925865103], '0.0': [302.71730898237854, 17.926009271762247]}, '2.0': {'0.3': [298.49465109210394, 15.863277003197538], '0.6': [271.98079630001064, 14.083808402829186], '0.9': [308.60495300360486, 16.47952296438654], '0.0': [303.66290269393176, 17.252322449503815]}, '1.6': {'0.3': [317.4395160471933, 16.871030658021308], '0.6': [291.88416766462774, 15.695716731350624], '0.9': [288.27513464846004, 14.760129785688246], '0.0': [286.60084140564834, 15.157109722666679]}}, '20': {'1.2': {'0.3': [2990.6666529448335, 148.86610296011207], '0.6': [2893.5776949465367, 134.42071877976633], '0.9': [3422.966187497151, 177.17126418111093], '0.0': [3362.3478065346817, 180.45572561909978]}, '2.0': {'0.3': [3350.11396321894, 161.72241256886815], '0.0': [4038.432238643122, 240.48709248090822], '0.9': [3803.777277773733, 206.61906011883903], '0.6': [2801.3800006989736, 121.49297287798308]}, '1.6': {'0.3': [3010.867830251771, 155.27111151527498], '0.0': [3614.7086675080886, 200.3215862738644], '0.9': [3524.9444584653356, 202.76910856496403], '0.6': [2668.6350626813232, 124.14276314378696]}}, '10': {'1.2': {'0.3': [5961.50943241874, 291.95915299167103], '0.0': [6353.353107248888, 348.95725389076415], '0.9': [6443.490659996681, 335.00979822263264], '0.6': [4943.890877978175, 267.4057824929987]}, '2.0': {'0.3': [6722.253468917855, 355.432677865307], '0.6': [4683.47077757047, 232.60493097667305], '0.9': [8415.060984193433, 443.0663748911313], '0.0': [8799.448152700583, 482.3648064296094]}, '1.6': {'0.3': [6504.395966163576, 316.58325987553786], '0.0': [7466.151714161362, 381.5528411690255], '0.9': [7555.8217084629205, 400.9036863659445], '0.6': [4747.266949499249, 245.648165897575]}}, '50': {'1.2': {'0.3': [1007.6655273301122, 51.325965503489485], '0.6': [1003.5463532986987, 57.246392698734994], '0.9': [1018.929914187105, 58.479688547432886], '0.0': [958.0543876169355, 47.9671784602952]}, '2.0': {'0.3': [974.4352235336238, 45.67472211209867], '0.6': [895.4686901634549, 42.663810070911566], '0.9': [1038.3591252723318, 51.86991618284786], '0.0': [1108.7172207665071, 52.80550284600476]}, '1.6': {'0.3': [947.388288970896, 47.890805216084026], '0.6': [904.2346271041355, 49.22363795907875], '0.9': [970.3182934230649, 43.05650699532329], '0.0': [935.6772825010344, 43.41747685640526]}}}\n",
    "#fpt errorbars\n",
    "else:\n",
    "    tot_dict = {'100': {'1.2': {'0.3': [32979.16052176917, 563.4043189513847], '0.6': [31185.185767064526, 521.0181743173769], '0.9': [36568.729052257426, 651.6455812913259], '0.0': [41062.64425960135, 776.2410973545709]}, '2.0': {'0.3': [42070.66639591774, 798.8374095032143], '0.6': [28430.74135703452, 463.0323703442458], '0.9': [49951.00727104864, 1009.9313449710481], '0.0': [57921.2263247556, 1244.4241152361508]}, '1.6': {'0.3': [34719.53522029973, 604.4467066398287], '0.6': [27187.602020055125, 432.64769216951345], '0.9': [41836.60861862098, 786.5016343745527], '0.0': [40903.144210643346, 754.4572867156977]}}, '20': {'1.2': {'0.3': [30659.42525884933, 1176.7142418517838], '0.6': [25257.000654688207, 879.6390731415889], '0.9': [32126.80250276912, 1215.538098436205], '0.0': [38467.20841256846, 1633.7425849530807]}, '2.0': {'0.3': [33531.97351356221, 1288.004574416323], '0.0': [47109.20108770551, 2134.968847908009], '0.9': [43013.88607899356, 1905.021793080859], '0.6': [22876.090697200885, 782.097447959471]}, '1.6': {'0.3': [29397.178168848433, 1087.3903642468345], '0.0': [33940.65994330516, 1328.0491446065494], '0.9': [33588.83872816127, 1317.1467829565825], '0.6': [21609.28800738729, 717.6169890626753]}}, '10': {'1.2': {'0.3': [34467.88465869855, 1891.4516550636495], '0.0': [41414.371404571735, 2595.4364551756767], '0.9': [38478.25888156054, 2258.8008468415355], '0.6': [28341.637701799064, 1553.804808148832]}, '2.0': {'0.3': [31860.720276122116, 1697.4145478045082], '0.6': [21974.743510258395, 1047.4972514294907], '0.9': [51025.368243016914, 3382.2283853891586], '0.0': [42644.75723850495, 2612.2632694854165]}, '1.6': {'0.3': [27375.741800705684, 1357.4305585139518], '0.0': [33689.14959458275, 1872.716640964781], '0.9': [32185.81585561201, 1661.3818895357215], '0.6': [23919.875444055015, 1217.179327626512]}}, '50': {'1.2': {'0.3': [33599.99887337053, 836.8304594418654], '0.6': [28674.676558013067, 659.7363920345292], '0.9': [33776.80328932172, 824.011146333632], '0.0': [36929.32789635891, 940.7891320762502]}, '2.0': {'0.3': [35795.41905602526, 892.944918759879], '0.6': [24869.61437346806, 547.9287384950164], '0.9': [43798.91485349672, 1193.5185816872386], '0.0': [53456.07249532258, 1585.828532758354]}, '1.6': {'0.3': [31654.559680759095, 755.0173464097243], '0.6': [23941.822318518454, 506.19715122802927], '0.9': [37378.06952813669, 965.4195010371252], '0.0': [41731.77493102369, 1116.771017095452]}}}"
   ]
  },
  {
   "cell_type": "code",
   "execution_count": 20,
   "metadata": {},
   "outputs": [
    {
     "data": {
      "text/plain": [
       "{'10': {'1.2': {'0.0': [6353.353107248888, 348.95725389076415],\n",
       "   '0.3': [5961.50943241874, 291.95915299167103],\n",
       "   '0.6': [4943.890877978175, 267.4057824929987],\n",
       "   '0.9': [6443.490659996681, 335.00979822263264]},\n",
       "  '1.6': {'0.0': [7466.151714161362, 381.5528411690255],\n",
       "   '0.3': [6504.395966163576, 316.58325987553786],\n",
       "   '0.6': [4747.266949499249, 245.648165897575],\n",
       "   '0.9': [7555.8217084629205, 400.9036863659445]},\n",
       "  '2.0': {'0.0': [8799.448152700583, 482.3648064296094],\n",
       "   '0.3': [6722.253468917855, 355.432677865307],\n",
       "   '0.6': [4683.47077757047, 232.60493097667305],\n",
       "   '0.9': [8415.060984193433, 443.0663748911313]}},\n",
       " '100': {'1.2': {'0.0': [302.71730898237854, 17.926009271762247],\n",
       "   '0.3': [311.7034402218946, 16.55355070952002],\n",
       "   '0.6': [296.84648708149155, 16.174961704438957],\n",
       "   '0.9': [308.1495923058286, 17.84967925865103]},\n",
       "  '1.6': {'0.0': [286.60084140564834, 15.157109722666679],\n",
       "   '0.3': [317.4395160471933, 16.871030658021308],\n",
       "   '0.6': [291.88416766462774, 15.695716731350624],\n",
       "   '0.9': [288.27513464846004, 14.760129785688246]},\n",
       "  '2.0': {'0.0': [303.66290269393176, 17.252322449503815],\n",
       "   '0.3': [298.49465109210394, 15.863277003197538],\n",
       "   '0.6': [271.98079630001064, 14.083808402829186],\n",
       "   '0.9': [308.60495300360486, 16.47952296438654]}},\n",
       " '20': {'1.2': {'0.0': [3362.3478065346817, 180.45572561909978],\n",
       "   '0.3': [2990.6666529448335, 148.86610296011207],\n",
       "   '0.6': [2893.5776949465367, 134.42071877976633],\n",
       "   '0.9': [3422.966187497151, 177.17126418111093]},\n",
       "  '1.6': {'0.0': [3614.7086675080886, 200.3215862738644],\n",
       "   '0.3': [3010.867830251771, 155.27111151527498],\n",
       "   '0.6': [2668.6350626813232, 124.14276314378696],\n",
       "   '0.9': [3524.9444584653356, 202.76910856496403]},\n",
       "  '2.0': {'0.0': [4038.432238643122, 240.48709248090822],\n",
       "   '0.3': [3350.11396321894, 161.72241256886815],\n",
       "   '0.6': [2801.3800006989736, 121.49297287798308],\n",
       "   '0.9': [3803.777277773733, 206.61906011883903]}},\n",
       " '50': {'1.2': {'0.0': [958.0543876169355, 47.9671784602952],\n",
       "   '0.3': [1007.6655273301122, 51.325965503489485],\n",
       "   '0.6': [1003.5463532986987, 57.246392698734994],\n",
       "   '0.9': [1018.929914187105, 58.479688547432886]},\n",
       "  '1.6': {'0.0': [935.6772825010344, 43.41747685640526],\n",
       "   '0.3': [947.388288970896, 47.890805216084026],\n",
       "   '0.6': [904.2346271041355, 49.22363795907875],\n",
       "   '0.9': [970.3182934230649, 43.05650699532329]},\n",
       "  '2.0': {'0.0': [1108.7172207665071, 52.80550284600476],\n",
       "   '0.3': [974.4352235336238, 45.67472211209867],\n",
       "   '0.6': [895.4686901634549, 42.663810070911566],\n",
       "   '0.9': [1038.3591252723318, 51.86991618284786]}}}"
      ]
     },
     "execution_count": 20,
     "metadata": {},
     "output_type": "execute_result"
    }
   ],
   "source": [
    "tot_dict"
   ]
  },
  {
   "cell_type": "code",
   "execution_count": 21,
   "metadata": {},
   "outputs": [],
   "source": [
    "# for keys,values in tot_dict.items():\n",
    "#     print(\"Key:\",keys)\n",
    "#     print(values)"
   ]
  },
  {
   "cell_type": "code",
   "execution_count": 22,
   "metadata": {},
   "outputs": [],
   "source": [
    "#experiment = [alpha, rho, num]\n",
    "experiment = np.array([])\n",
    "for num_robot,values in tot_dict.items():\n",
    "#     print(\"Key:\", keys)\n",
    "#     print(values)\n",
    "    for alpha,val in values.items():\n",
    "        for rho,v in val.items():\n",
    "#             print(int(num_robot), float(alpha), float(rho))\n",
    "#             print(v)\n",
    "            #v[0] : mean\n",
    "            #v[1] : std_err\n",
    "            exp = np.asarray([float(alpha), float(rho), int(num_robot), v[0], v[1]])\n",
    "            experiment = np.vstack([experiment,exp]) if experiment.size else exp \n",
    "\n",
    "experiment = experiment[experiment[:,0].argsort()] #ordered on the first col (i.e. alpha)\n",
    "alpha = np.unique(experiment[:,0])\n",
    "rho = np.unique(experiment[:,1])\n",
    "num_robots = np.unique(experiment[:,2])"
   ]
  },
  {
   "cell_type": "code",
   "execution_count": 23,
   "metadata": {
    "scrolled": true
   },
   "outputs": [
    {
     "data": {
      "text/html": [
       "\n",
       "<style>\n",
       "    div#notebook-container    { width: 95%; }\n",
       "    div#menubar-container     { width: 75%; }\n",
       "    div#maintoolbar-container { width: 99%; }\n",
       "</style>\n"
      ],
      "text/plain": [
       "<IPython.core.display.HTML object>"
      ]
     },
     "metadata": {},
     "output_type": "display_data"
    }
   ],
   "source": [
    "from IPython.display import display, HTML\n",
    "\n",
    "display(HTML(data=\"\"\"\n",
    "<style>\n",
    "    div#notebook-container    { width: 95%; }\n",
    "    div#menubar-container     { width: 75%; }\n",
    "    div#maintoolbar-container { width: 99%; }\n",
    "</style>\n",
    "\"\"\"))"
   ]
  },
  {
   "cell_type": "code",
   "execution_count": 24,
   "metadata": {},
   "outputs": [],
   "source": [
    "np.set_printoptions(edgeitems=30, linewidth=100000, \n",
    "    formatter=dict(float=lambda x: \"%.9g\" % x))"
   ]
  },
  {
   "cell_type": "code",
   "execution_count": 25,
   "metadata": {
    "scrolled": false
   },
   "outputs": [],
   "source": [
    "# print(experiment)"
   ]
  },
  {
   "cell_type": "code",
   "execution_count": 26,
   "metadata": {},
   "outputs": [],
   "source": [
    "Ncolors = 4\n",
    "colormap = plt.cm.viridis# LinearSegmentedColormap\n",
    "Ncolors = min(colormap.N,Ncolors)\n",
    "mapcolors = [colormap(int(x*colormap.N/Ncolors)) for x in range(Ncolors)]"
   ]
  },
  {
   "cell_type": "markdown",
   "metadata": {},
   "source": [
    "# Questo è per alpha"
   ]
  },
  {
   "cell_type": "code",
   "execution_count": 27,
   "metadata": {},
   "outputs": [],
   "source": [
    "\n",
    "\n",
    "for a in range(0,alpha.size):\n",
    "    plt.figure(figsize=(10, 4), dpi= 160)\n",
    "#     print(i*rho.size*num_robots.size, (i+1)*rho.size*num_robots.size-1)\n",
    "    \n",
    "#     print(a*rho.size*num_robots.size, (a+1)*rho.size*num_robots.size-1)\n",
    "    exp = experiment[a*rho.size*num_robots.size : (a+1)*rho.size*num_robots.size,:]\n",
    "    exp = exp[exp[:,1].argsort()]\n",
    "#     print(exp,end=\"\\n\\n\")\n",
    "    for r in range(0,rho.size):\n",
    "        exp1 = exp[r*num_robots.size : (r+1)*num_robots.size,:]\n",
    "        exp1 = exp1[exp1[:,2].argsort()]\n",
    "#         print(\"exp1\\n\",exp1, end=\"\\n\\n\")\n",
    "        x = exp1[:,2]\n",
    "        y = exp1[:,3]\n",
    "        yerr = exp1[:,4]\n",
    "        plt.errorbar(x, y, yerr=yerr, capsize=5, elinewidth=2, markeredgewidth=2, label=exp1[0,1], color = mapcolors[r])\n",
    "#         print()\n",
    "    plt.title(\"Errorbars for alpha:%s\" %(alpha[a]))\n",
    "    # plt.grid()\n",
    "    plt.xlabel(\"Num robots\")\n",
    "    plt.ylabel(\"Mean\")\n",
    "    plt.xticks(ticks=np.arange(0,110,10))\n",
    "#     plt.show() \n",
    "    plt.legend(title=\"Rho\", bbox_to_anchor=(1, 1))\n",
    "    figName = \"errorbars_alpha_%s.png\" %(alpha[a])\n",
    "    if(congergence_time_eval):\n",
    "        plt.savefig(convTime_dir+\"/\"+figName)\n",
    "    else:\n",
    "        plt.savefig(ftp_dir+\"/\"+figName)\n",
    "    plt.close()"
   ]
  },
  {
   "cell_type": "markdown",
   "metadata": {},
   "source": [
    "# Questo è per rho"
   ]
  },
  {
   "cell_type": "code",
   "execution_count": 28,
   "metadata": {},
   "outputs": [],
   "source": [
    "experiment = swap_0_1_col(experiment)\n",
    "experiment = experiment[experiment[:,0].argsort()]\n",
    "\n",
    "for r in range(0,rho.size):\n",
    "    plt.figure(figsize=(10, 4), dpi= 160)\n",
    "#     print(i*rho.size*num_robots.size, (i+1)*rho.size*num_robots.size-1)\n",
    "    \n",
    "#     print(a*rho.size*num_robots.size, (a+1)*rho.size*num_robots.size-1)\n",
    "    exp = experiment[r*alpha.size*num_robots.size : (r+1)*alpha.size*num_robots.size,:]\n",
    "    exp = exp[exp[:,1].argsort()]\n",
    "#     print(exp,end=\"\\n\\n\")\n",
    "    for a in range(0,alpha.size):\n",
    "        exp1 = exp[a*num_robots.size : (a+1)*num_robots.size,:]\n",
    "        exp1 = exp1[exp1[:,2].argsort()]\n",
    "#         print(\"exp1\\n\",exp1, end=\"\\n\\n\")\n",
    "        x = exp1[:,2]\n",
    "        y = exp1[:,3]\n",
    "        yerr = exp1[:,4]\n",
    "        plt.errorbar(x, y, yerr=yerr, capsize=5, elinewidth=2, markeredgewidth=2, label=exp1[0,1], color = mapcolors[a])\n",
    "#         print()\n",
    "    plt.title(\"Errorbars for rho:%s\" %(rho[r]))\n",
    "    # plt.grid()\n",
    "    plt.legend(title=\"Alpha\", bbox_to_anchor=(1, 1))\n",
    "    plt.xlabel(\"Num robots\")\n",
    "    plt.ylabel(\"Mean\")\n",
    "    plt.xticks(ticks=np.arange(0,110,10))\n",
    "#     plt.show()  \n",
    "    figName = \"errorbars_rho_%s.png\" %(rho[r])\n",
    "    if(congergence_time_eval):\n",
    "        plt.savefig(convTime_dir+\"/\"+figName)\n",
    "    else:\n",
    "        plt.savefig(ftp_dir+\"/\"+figName)\n",
    "    plt.close()"
   ]
  },
  {
   "cell_type": "code",
   "execution_count": null,
   "metadata": {},
   "outputs": [],
   "source": []
  },
  {
   "cell_type": "code",
   "execution_count": null,
   "metadata": {},
   "outputs": [],
   "source": []
  },
  {
   "cell_type": "code",
   "execution_count": null,
   "metadata": {},
   "outputs": [],
   "source": []
  },
  {
   "cell_type": "code",
   "execution_count": null,
   "metadata": {},
   "outputs": [],
   "source": []
  },
  {
   "cell_type": "markdown",
   "metadata": {},
   "source": [
    "# Errorbars plot"
   ]
  },
  {
   "cell_type": "code",
   "execution_count": null,
   "metadata": {},
   "outputs": [],
   "source": [
    "def errorbars_plot:\n",
    "    # example data\n",
    "    x = np.array([10,20,50,100])\n",
    "    y = np.array([6353.353107248888,3362.3478065346817, 1056.712693503968,302.71730898237854])\n",
    "\n",
    "\n",
    "    # example variable error bar values\n",
    "    yerr = [348.95725389076415, 180.45572561909978, 108.73814270558944, 17.926009271762247]\n",
    "\n",
    "\n",
    "    # First illustrate basic pyplot interface, using defaults where possible.\n",
    "    plt.figure()\n",
    "    plt.errorbar(x, y, yerr=yerr)\n",
    "    plt.title(\"Robot errorbars\")\n",
    "    # plt.grid()\n",
    "    plt.show()"
   ]
  },
  {
   "cell_type": "code",
   "execution_count": null,
   "metadata": {},
   "outputs": [],
   "source": []
  }
 ],
 "metadata": {
  "kernelspec": {
   "display_name": "Python 3.5.2 64-bit ('argos': virtualenv)",
   "language": "python",
   "name": "python35264bitargosvirtualenv7d4f7d92e2084569ac79cc76ee421ade"
  },
  "language_info": {
   "codemirror_mode": {
    "name": "ipython",
    "version": 3
   },
   "file_extension": ".py",
   "mimetype": "text/x-python",
   "name": "python",
   "nbconvert_exporter": "python",
   "pygments_lexer": "ipython3",
   "version": "3.5.2"
  }
 },
 "nbformat": 4,
 "nbformat_minor": 4
}
