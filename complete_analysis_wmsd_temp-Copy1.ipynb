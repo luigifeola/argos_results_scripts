{
 "cells": [
  {
   "cell_type": "code",
   "execution_count": 1,
   "metadata": {},
   "outputs": [
    {
     "data": {
      "text/html": [
       "<style>.container { width:88% !important; }</style>"
      ],
      "text/plain": [
       "<IPython.core.display.HTML object>"
      ]
     },
     "metadata": {},
     "output_type": "display_data"
    }
   ],
   "source": [
    "from IPython.core.display import display, HTML\n",
    "display(HTML(\"<style>.container { width:88% !important; }</style>\"))"
   ]
  },
  {
   "cell_type": "code",
   "execution_count": 2,
   "metadata": {},
   "outputs": [],
   "source": [
    "import matplotlib.pyplot as plt\n",
    "import numpy as np\n",
    "import csv\n",
    "import sys\n",
    "import os\n",
    "from scipy import stats\n",
    "import math\n",
    "from scipy.optimize import curve_fit\n",
    "from scipy.stats import norm\n",
    "import seaborn as sns\n",
    "import pandas as pd\n",
    "from matplotlib.ticker import (MultipleLocator, FormatStrFormatter,\n",
    "                               AutoMinorLocator)"
   ]
  },
  {
   "cell_type": "code",
   "execution_count": 3,
   "metadata": {},
   "outputs": [],
   "source": [
    "def print_help():\n",
    "    print(\"usage : folder_path, window size (1 for 10, 2 for 20, ....)\")"
   ]
  },
  {
   "cell_type": "code",
   "execution_count": 4,
   "metadata": {},
   "outputs": [],
   "source": [
    "def distance_from_the_origin(df_values):\n",
    "    distances = np.array([])\n",
    "    # df_values1 = df_values[:3,:4]\n",
    "    for i in range(df_values.shape[1]):\n",
    "    #     print(i)\n",
    "        x_pos = df_values[:,i,0]\n",
    "        y_pos = df_values[:,i,1]\n",
    "        distances = np.vstack([distances,np.sqrt(x_pos**2 + y_pos**2)]) if distances.size else np.sqrt(x_pos**2 + y_pos**2)\n",
    "    # print(distances)\n",
    "    # print(\"distances shape\", distances.shape)\n",
    "    return distances"
   ]
  },
  {
   "cell_type": "code",
   "execution_count": 5,
   "metadata": {},
   "outputs": [],
   "source": [
    "def get_occurrences(distances, edges):\n",
    "    hist_val = np.array([])\n",
    "    for x in distances:\n",
    "        hist, _ = np.histogram(x, edges)\n",
    "    #     print(i,hist)\n",
    "        hist_val = np.vstack([hist_val,hist]) if hist_val.size else hist\n",
    "    \n",
    "    #TODO : put an \"if\" here if you want choose among\n",
    "    #       balanced values or not\n",
    "    for i in range(edges[1:].size):\n",
    "        area = np.pi * (np.square(edges[1:][i])-np.square(edges[1:][i-1])) if i else np.pi * np.square(edges[1:][i])\n",
    "        hist_val[:,i] = np.true_divide(hist_val[:,i], area)\n",
    "    \n",
    "    return hist_val"
   ]
  },
  {
   "cell_type": "code",
   "execution_count": 6,
   "metadata": {},
   "outputs": [],
   "source": [
    "def time_plot_histogram(file_title, values, y_edges, alpha, rho, num_robots,  storagePath):\n",
    "    y_edges= y_edges.round(decimals=3)\n",
    "    fig = plt.figure(figsize=(10, 5), dpi=160)\n",
    "    plt.ylabel('Distance from origin')\n",
    "    plt.xlabel('time(s)')\n",
    "    plt.legend()\n",
    "    yticks = y_edges\n",
    "    # plt.imshow(distances,interpolation='none')\n",
    "    ax = sns.heatmap(values, yticklabels=yticks, vmin=0, cmap=\"viridis\") \n",
    "    ax.set_title(\"Robots diffusion with \" + r\"$\\bf{Robots}$:\"+num_robots+ r\" $\\bf{\\rho}:$\"+rho+\" and \" + r\"$\\bf{\\alpha}:$\"+alpha)\n",
    "    file_name = \"dist_heat_robots_%s_rho_%s_alpha_%s.png\" %(num_robots, rho, alpha)\n",
    "    plt.savefig(storagePath+'/'+file_name)\n",
    "    plt.close(fig)"
   ]
  },
  {
   "cell_type": "code",
   "execution_count": 7,
   "metadata": {},
   "outputs": [],
   "source": [
    "'''Windowed mean square displacement'''\n",
    "'''Input : dataFrame (num_robot x stored times), window size'''\n",
    "'''Output : average wmsd for all the robot at each timestep'''\n",
    "def window_displacement(df, window_size):\n",
    "    # print(df.shape[1])\n",
    "    w_displacement_matrix = np.array([])\n",
    "    for f in range(window_size, df.shape[1]):\n",
    "        xf = df[:,f]\n",
    "        xi = df[:,f-window_size]\n",
    "        sq_distance = np.sum((xf-xi)**2, axis=1)\n",
    "        wmsd = np.true_divide(sq_distance, window_size**2)     #wmsd for the single robots\n",
    "        w_displacement_matrix = np.column_stack([w_displacement_matrix, wmsd]) if w_displacement_matrix.size else wmsd\n",
    "#         print(f-window_size, f)\n",
    "    w_displacement_array = np.mean(w_displacement_matrix, axis=0)\n",
    "    return(w_displacement_array)"
   ]
  },
  {
   "cell_type": "code",
   "execution_count": 8,
   "metadata": {},
   "outputs": [],
   "source": [
    "'''Fixed window mean square displacement'''\n",
    "'''Input : dataFrame (num_robot x stored times), window size'''\n",
    "'''Output : average fixed wmsd for all the robot at each timestep'''\n",
    "def fixed_window_displacement(df, window_size):\n",
    "    w_displacement_matrix = np.array([])\n",
    "    for f in range(window_size, df.shape[1], window_size):\n",
    "        tf = df[:,f]\n",
    "        ti = df[:,f-window_size]\n",
    "        sq_distance = np.sum((tf-ti)**2, axis=1)\n",
    "        wmsd = np.true_divide(sq_distance, window_size**2)\n",
    "        w_displacement_matrix = np.column_stack([w_displacement_matrix, wmsd]) if w_displacement_matrix.size else wmsd\n",
    "    \n",
    "    w_displacement_array = np.mean(w_displacement_matrix, axis=0)\n",
    "    return(w_displacement_array)\n",
    "#     wmsd = np.mean(w_displacement_array)"
   ]
  },
  {
   "cell_type": "code",
   "execution_count": 9,
   "metadata": {},
   "outputs": [],
   "source": [
    "def plot_heatmap(dictionary, w_size, storage_dir):\n",
    "    for key, value in dictionary.items():\n",
    "        fig=plt.figure(figsize = (12, 8))\n",
    "        dataFrame=pd.DataFrame.from_dict(value)\n",
    "        reversed_df=dataFrame.iloc[::-1]\n",
    "        ax=sns.heatmap(reversed_df, annot = True, fmt = \".2e\", vmin=0.0001, vmax=0.01, cmap=\"viridis\")\n",
    "        ax.set_title(\"Heatmap of WMSD for %s robots, w_size:%s\" % (key, w_size))\n",
    "        ax.set_ylabel(\"alpha\")\n",
    "        ax.set_xlabel(\"rho\")\n",
    "#         plt.show();\n",
    "        #Salva su file\n",
    "        file_name=\"WMSD_%s_robots_wsize_%s_heatmap.png\" % (key, w_size)\n",
    "        plt.savefig(storage_dir+'/'+file_name)\n",
    "        plt.close(fig)"
   ]
  },
  {
   "cell_type": "code",
   "execution_count": 10,
   "metadata": {},
   "outputs": [],
   "source": [
    "# def plot_time_wmsd_temp(w_displacement_array, single_experiments, w_size, rho, alpha):\n",
    "#     times = np.arange(w_displacement_array.size)*10#*w_size scommentare solo per fixed wmsd\n",
    "# #     print(\"times.shape\", times.shape)\n",
    "# #     print(\"single_experiments.shape\", single_experiments.shape)\n",
    "#     fig=plt.figure(figsize=(20, 10), dpi= 160, facecolor='w', edgecolor='k')\n",
    "# #     for y in single_experiments:\n",
    "# #         plt.plot(times, y, \"-o\", linestyle='--')\n",
    "#     plt.plot(times, w_displacement_array, linewidth=3.0, marker='o')\n",
    "#     plt.title(\"WMSD in time, with \" + r\"$\\bf{\\rho}:$\"+rho+\" and \" + r\"$\\bf{\\alpha}:$\"+alpha)\n",
    "#     plt.ylabel('w_displacement with window_size: %s' % w_size)\n",
    "#     plt.xlabel('time(s)')\n",
    "#     plt.ylim((0, 0.01))\n",
    "#     plt.grid()\n",
    "# #     plt.show();\n",
    "#     fileName = \"wsize=%s_rho_%s_alpha_%s.png\" %(w_size, rho, alpha)\n",
    "#     plt.savefig(result_time+'/'+fileName)\n",
    "#     plt.close(fig)"
   ]
  },
  {
   "cell_type": "code",
   "execution_count": 11,
   "metadata": {},
   "outputs": [],
   "source": [
    "# def plot_total_experiment_wmsd(total_wmsd_matrix, alpha, rho, w_size):\n",
    "#     fig=plt.figure(figsize=(20, 10), dpi= 160, facecolor='w', edgecolor='k')\n",
    "#     for i,y in enumerate(total_experiment_wmsd):\n",
    "#         if(windowed):\n",
    "#             times = np.arange(len(y))*10\n",
    "#         else:\n",
    "#             times = np.arange(len(y))*(i+1)*10\n",
    "        \n",
    "# #         print(\"Times:\", times)\n",
    "# #         print(\"WMSD:\", y)\n",
    "#         plt.plot(times, y, label=i+1, marker='o')\n",
    "# #         print(i+1)\n",
    "#     plt.title(\"WMSD with different w_size, with \" + r\"$\\bf{\\rho}:$\"+rho+\" and \" + r\"$\\bf{\\alpha}:$\"+alpha)\n",
    "#     plt.ylabel('WMSD')\n",
    "#     plt.xlabel('time(s)')\n",
    "#     plt.legend(loc='lower right')\n",
    "# #     plt.xticks(np.arange(0, 900, 10))\n",
    "# #     plt.grid(which='minor')\n",
    "#     plt.grid()\n",
    "#     plt.ylim((0,0.01))\n",
    "    \n",
    "# #     ax = plt.axes()\n",
    "# # #     plt.setp(ax.get_xticklabels(),visible=False)\n",
    "# #     # Make a plot with major ticks that are multiples of 20 and minor ticks that\n",
    "# #     # are multiples of 5.  Label major ticks with '%d' formatting but don't label\n",
    "# #     # minor ticks.\n",
    "# #     ax.xaxis.set_major_locator(MultipleLocator(100))\n",
    "# #     ax.xaxis.set_major_formatter(FormatStrFormatter('%d'))\n",
    "\n",
    "# #     # For the minor ticks, use no labels; default NullFormatter.\n",
    "# #     ax.xaxis.set_minor_locator(MultipleLocator(10))\n",
    "# #     ax.yaxis.set_minor_locator(AutoMinorLocator(2))\n",
    "# #     ax.yaxis.set_major_formatter(FormatStrFormatter('%f'))\n",
    "    \n",
    "    \n",
    "# #     plt.show();\n",
    "#     fileName = \"different_wSize_rho_%s_alpha_%s.png\" %(rho, alpha)\n",
    "#     plt.savefig(result_time+'/'+fileName)\n",
    "#     plt.close(fig)"
   ]
  },
  {
   "cell_type": "code",
   "execution_count": 12,
   "metadata": {},
   "outputs": [],
   "source": [
    "# colors = ['red','blue','darkgreen','crimson','turquoise', 'khaki','navy', 'orangered', 'sienna']\n",
    "Ncolors = 9\n",
    "colormap = plt.cm.viridis# LinearSegmentedColormap\n",
    "Ncolors = min(colormap.N,Ncolors)\n",
    "mapcolors = [colormap(int(x*colormap.N/Ncolors)) for x in range(Ncolors)]"
   ]
  },
  {
   "cell_type": "code",
   "execution_count": 13,
   "metadata": {},
   "outputs": [],
   "source": [
    "def plot_both_wmsd(windowed, base_matrix, total_wmsd_matrix, alpha, rho, num_robots, storage_dir):\n",
    "    fig=plt.figure(figsize=(20, 10), dpi= 160, facecolor='w', edgecolor='k')\n",
    "    for i,y in enumerate(total_wmsd_matrix):\n",
    "        if(windowed):\n",
    "            times = np.arange(len(y))*10\n",
    "        else:\n",
    "            times = np.linspace(0, len(y)*(i+1)*10,len(y), endpoint=True)\n",
    "        \n",
    "#         print(\"indice finestra: \", i+1)\n",
    "#         print(\"numero di punti: \", len(y))\n",
    "#         print(\"Max val linspace: \", len(y)*(i+1)*10)\n",
    "#         print(\"times shape:\", times.shape)\n",
    "#         print(times)\n",
    "        plt.plot(times, y, label=i+1, marker='o', color=mapcolors[i])\n",
    "        \n",
    "        \n",
    "    for i,y in enumerate(base_matrix):\n",
    "        if(windowed):\n",
    "            times = np.arange(len(y))*10\n",
    "        else:\n",
    "            times = np.linspace(0, len(y)*(i+1)*10,len(y), endpoint=True)\n",
    "        \n",
    "        plt.plot(times, y, label=\"b\"+str(i+1), linestyle='dashed', alpha=0.6, color=mapcolors[i])\n",
    "    \n",
    "    \n",
    "    fig.legend(loc=7, bbox_to_anchor=(0.95, 0.5))#, prop={'size': 20})\n",
    "#     fig.subplots_adjust(right=0.9)   \n",
    "#     plt.show()\n",
    "    \n",
    "    \n",
    "    plt.title(\"WMSD with different w_size, with \" + r\"$\\bf{Robots}:$\"+ num_robots + r\" $\\bf{\\rho}:$\"+rho+\" and \" + r\"$\\bf{\\alpha}:$\"+alpha)\n",
    "    plt.ylabel('WMSD')\n",
    "    plt.xlabel('time(s)')\n",
    "#     plt.legend(loc='lower right')\n",
    "    plt.xticks(np.arange(0, 1900, 200))\n",
    "#     plt.grid(which='minor')\n",
    "    plt.grid()\n",
    "    plt.ylim((0,0.01))\n",
    "    \n",
    "    ax = plt.axes()\n",
    "# #     plt.setp(ax.get_xticklabels(),visible=False)\n",
    "#     # Make a plot with major ticks that are multiples of 20 and minor ticks that\n",
    "#     # are multiples of 5.  Label major ticks with '%d' formatting but don't label\n",
    "#     # minor ticks.\n",
    "#     ax.xaxis.set_major_locator(MultipleLocator(100))\n",
    "#     ax.xaxis.set_major_formatter(FormatStrFormatter('%d'))\n",
    "\n",
    "#     # For the minor ticks, use no labels; default NullFormatter.\n",
    "#     ax.xaxis.set_minor_locator(MultipleLocator(10))\n",
    "#     ax.yaxis.set_minor_locator(AutoMinorLocator(2))\n",
    "#     ax.yaxis.set_major_formatter(FormatStrFormatter('%f'))\n",
    "    \n",
    "    \n",
    "#     plt.show();\n",
    "    fileName = \"comparison_robots_%s_rho_%s_alpha_%s.png\" %(num_robots, rho, alpha)\n",
    "    plt.savefig(storage_dir+'/'+fileName)\n",
    "    plt.close(fig)\n",
    "    \n",
    "    \n",
    "#     plt.setp(ax2.get_xticklabels(), visible=False)\n",
    "#     frame1 = plt.gca()\n",
    "#     frame1.axes.label.#().set_visible(False)"
   ]
  },
  {
   "cell_type": "code",
   "execution_count": 14,
   "metadata": {},
   "outputs": [],
   "source": [
    "def load_pd_positions(dirPath, experiment_type):\n",
    "    if(experiment_type!=\"experiment\" and experiment_type!=\"baseline\"):\n",
    "        print(\"experiment_type could be only $experiment or $baseline\")\n",
    "        exit(-1)\n",
    "    \n",
    "    num_experiment = len([name for name in os.listdir(dirPath) if (os.path.isfile(os.path.join(dirPath, name)) and (name.endswith('position.tsv')))])\n",
    "    \n",
    "    if(os.path.exists(dirPath+\"/\"+experiment_type+\".pkl\")):\n",
    "#         print(\"Sto cazzo di file esiste\")\n",
    "        return (num_experiment,pd.read_pickle(dirPath+\"/\"+experiment_type+\".pkl\"))\n",
    "    \n",
    "    print(\"Generating pickle positions file in \" + dirPath+\"/\"+experiment_type+\".pkl\" )\n",
    "    df = pd.DataFrame()\n",
    "    for filename in os.listdir(dirPath):\n",
    "        if filename.endswith('position.tsv'):\n",
    "            df_single = pd.read_csv(dirPath+\"/\"+filename, sep=\"\\t\")\n",
    "            df = df.append(df_single)\n",
    "    \n",
    "    df.to_pickle(dirPath+\"/\"+experiment_type+\".pkl\")\n",
    "    return (num_experiment,df)"
   ]
  },
  {
   "cell_type": "markdown",
   "metadata": {},
   "source": [
    "### WMSD in time & \"Hystogram2d\""
   ]
  },
  {
   "cell_type": "code",
   "execution_count": 15,
   "metadata": {},
   "outputs": [],
   "source": [
    "def evaluate_history_WMSD_and_time_diffusion(main_folder, folder_experiments, windowed, b_edges, result_time_dir, distance_heatmap_dir):\n",
    "    for dirName, subdirList, fileList in os.walk(main_folder+'/'+folder_experiments):\n",
    "\n",
    "        num_robots = \"-1\"\n",
    "        rho = -1.0\n",
    "        alpha = -1.0\n",
    "        elements=dirName.split(\"_\")\n",
    "        for e in elements:\n",
    "            if e.startswith(\"robots\"):\n",
    "                num_robots=e.split(\"#\")[-1]\n",
    "            if(e.startswith(\"rho\")):\n",
    "                rho=float(e.split(\"#\")[-1])\n",
    "            if(e.startswith(\"alpha\")):\n",
    "                alpha=float(e.split(\"#\")[-1])\n",
    "\n",
    "        if(num_robots == \"-1\" or rho == -1.0 or alpha == -1):\n",
    "            continue\n",
    "\n",
    "\n",
    "        rho_str=str(rho)\n",
    "        alpha_str=str(alpha)\n",
    "    #     print(\"rho\", rho_str)\n",
    "    #     print(\"alpha\", alpha_str)\n",
    "    #     print(dirName)\n",
    "\n",
    "\n",
    "        total_experiment_wmsd = []\n",
    "        baseline_experiment_wmsd = []\n",
    "\n",
    "    #     print(alpha_str)\n",
    "\n",
    "        folder_baseline = \"baseline_2020-02-14/2020-02-14_robots#1_alpha#%s_rho#%s_baseline_1800\" %(alpha_str, rho_str)\n",
    "        if not os.path.isdir(main_folder+'/'+folder_baseline):\n",
    "            print(\"folder_baseline is not an existing directory\")\n",
    "            exit(-1)\n",
    "\n",
    "        number_of_experiments = 0\n",
    "        df_experiment = pd.DataFrame()\n",
    "        df_baseline = pd.DataFrame()\n",
    "\n",
    "    #         print(\"W_size=\", window_size)\n",
    "        [number_of_experiments, df_experiment] = load_pd_positions(dirName, \"experiment\")\n",
    "        [_, df_baseline] = load_pd_positions(main_folder+'/'+folder_baseline, \"baseline\") \n",
    "\n",
    "\n",
    "    #     print(number_of_experiments)\n",
    "        positions_concatenated = df_experiment.values[:,1:]\n",
    "        [num_robot, num_times] = positions_concatenated.shape\n",
    "        positions_concatenated = np.array([x.split(',') for x in positions_concatenated.ravel()],dtype=float)\n",
    "        positions_concatenated = positions_concatenated.reshape(num_robot,num_times,2)\n",
    "        print(positions_concatenated.shape)\n",
    "\n",
    "        baseline_concatenated = df_baseline.values[:,1:]\n",
    "        [num_robot, num_times] = baseline_concatenated.shape\n",
    "        baseline_concatenated = np.array([x.split(',') for x in baseline_concatenated.ravel()],dtype=float)\n",
    "        baseline_concatenated = baseline_concatenated.reshape(num_robot,num_times,2)\n",
    "\n",
    "\n",
    "\n",
    "\n",
    "        for window_size in range(1,10):\n",
    "            w_displacement_array = np.array([])\n",
    "            base_w_displacement_array = np.array([])\n",
    "\n",
    "            if(windowed):\n",
    "                base_win_disp = window_displacement(baseline_concatenated, window_size)\n",
    "                win_disp = window_displacement(positions_concatenated, window_size)     \n",
    "            else:\n",
    "                win_disp = fixed_window_displacement(positions_concatenated, window_size)     \n",
    "                base_win_disp = fixed_window_displacement(baseline_concatenated, window_size)     \n",
    "            w_displacement_array = np.vstack([w_displacement_array,win_disp]) if w_displacement_array.size else win_disp\n",
    "            base_w_displacement_array = np.vstack([base_w_displacement_array,base_win_disp]) if base_w_displacement_array.size else base_win_disp\n",
    "            mean_wmsd = win_disp.mean()\n",
    "\n",
    "            total_experiment_wmsd.append(w_displacement_array)\n",
    "            baseline_experiment_wmsd.append(base_w_displacement_array)\n",
    "\n",
    "        plot_both_wmsd(windowed, baseline_experiment_wmsd, total_experiment_wmsd, alpha_str, rho_str, num_robots, result_time_dir)\n",
    "\n",
    "        #distance_heatmap\n",
    "        distances = distance_from_the_origin(positions_concatenated)\n",
    "        occurrences = get_occurrences(distances, b_edges)\n",
    "\n",
    "        time_plot_histogram(\"unbalanced\",occurrences.T, b_edges[1:], alpha_str, rho_str, num_robots, distance_heatmap_dir)"
   ]
  },
  {
   "cell_type": "markdown",
   "metadata": {},
   "source": [
    "## Heatmaps"
   ]
  },
  {
   "cell_type": "code",
   "execution_count": 16,
   "metadata": {
    "scrolled": true
   },
   "outputs": [],
   "source": [
    "def evaluate_WMSD_heatmap(main_folder, folder_experiments, windowed, heatmap_dir):\n",
    "    for window_size in range(1,10):\n",
    "\n",
    "        total_dict=dict()\n",
    "        number_dict=dict()\n",
    "\n",
    "        for dirName, subdirList, fileList in os.walk(main_folder+'/'+folder_experiments):\n",
    "\n",
    "            num_robots = \"-1\"\n",
    "            rho = -1.0\n",
    "            alpha = -1.0\n",
    "            elements=dirName.split(\"_\")\n",
    "            for e in elements:\n",
    "                if e.startswith(\"robots\"):\n",
    "                    num_robots=e.split(\"#\")[-1]\n",
    "                    if(num_robots not in total_dict):\n",
    "                        total_dict[num_robots]=dict()\n",
    "                        number_dict[num_robots]=dict()\n",
    "\n",
    "\n",
    "\n",
    "                if(e.startswith(\"rho\")):\n",
    "                    rho=float(e.split(\"#\")[-1])\n",
    "                if(e.startswith(\"alpha\")):\n",
    "                    alpha=float(e.split(\"#\")[-1])\n",
    "\n",
    "        #     print(str(count) + \" : \" + dirName)\n",
    "            if(num_robots == \"-1\" or rho == -1.0 or alpha == -1):\n",
    "                continue\n",
    "\n",
    "\n",
    "            rho_str=str(rho)\n",
    "            alpha_str=str(alpha)\n",
    "        #     print(\"rho\", rho_str)\n",
    "        #     print(\"alpha\", alpha_str)\n",
    "        #     print(dirName)\n",
    "            if(rho_str not in total_dict[num_robots]):\n",
    "                total_dict[num_robots][rho_str]=dict()\n",
    "                number_dict[num_robots][rho_str]=dict()\n",
    "        #         print(total_dict)\n",
    "\n",
    "\n",
    "            total_experiment_wmsd = []\n",
    "            baseline_experiment_wmsd = []\n",
    "\n",
    "            folder_baseline = \"baseline_2020-02-14/2020-02-14_robots#1_alpha#%s_rho#%s_baseline_1800\" %(alpha_str, rho_str)\n",
    "\n",
    "            number_of_experiments = 0\n",
    "            df_experiment = pd.DataFrame()\n",
    "            df_baseline = pd.DataFrame()\n",
    "\n",
    "        #         print(\"W_size=\", window_size)\n",
    "            [number_of_experiments, df_experiment] = load_pd_positions(dirName, \"experiment\")\n",
    "            [_, df_baseline] = load_pd_positions(main_folder+'/'+folder_baseline, \"baseline\") \n",
    "\n",
    "\n",
    "        #     print(number_of_experiments)\n",
    "            positions_concatenated = df_experiment.values[:,1:]\n",
    "            [num_robot, num_times] = positions_concatenated.shape\n",
    "            positions_concatenated = np.array([x.split(',') for x in positions_concatenated.ravel()],dtype=float)\n",
    "            positions_concatenated = positions_concatenated.reshape(num_robot,num_times,2)\n",
    "\n",
    "\n",
    "            baseline_concatenated = df_baseline.values[:,1:]\n",
    "            [num_robot, num_times] = baseline_concatenated.shape\n",
    "            baseline_concatenated = np.array([x.split(',') for x in baseline_concatenated.ravel()],dtype=float)\n",
    "            baseline_concatenated = baseline_concatenated.reshape(num_robot,num_times,2)\n",
    "\n",
    "\n",
    "\n",
    "\n",
    "\n",
    "            w_displacement_array = np.array([])\n",
    "            base_w_displacement_array = np.array([])\n",
    "\n",
    "            if(windowed):\n",
    "                base_win_disp = window_displacement(baseline_concatenated, window_size)\n",
    "                win_disp = window_displacement(positions_concatenated, window_size)     \n",
    "            else:\n",
    "                win_disp = fixed_window_displacement(positions_concatenated, window_size)     \n",
    "                base_win_disp = fixed_window_displacement(baseline_concatenated, window_size)     \n",
    "            w_displacement_array = np.vstack([w_displacement_array,win_disp]) if w_displacement_array.size else win_disp\n",
    "            base_w_displacement_array = np.vstack([base_w_displacement_array,base_win_disp]) if base_w_displacement_array.size else base_win_disp\n",
    "            mean_wmsd = win_disp.mean()\n",
    "\n",
    "            total_dict[num_robots][rho_str][alpha_str]=mean_wmsd\n",
    "            number_dict[num_robots][rho_str][alpha_str]=number_of_experiments\n",
    "            total_experiment_wmsd.append(w_displacement_array)\n",
    "            baseline_experiment_wmsd.append(base_w_displacement_array)\n",
    "\n",
    "    #         print(heatmap_dir)\n",
    "            print(total_dict)\n",
    "            plot_heatmap(total_dict, window_size, heatmap_dir)"
   ]
  },
  {
   "cell_type": "code",
   "execution_count": null,
   "metadata": {},
   "outputs": [],
   "source": []
  },
  {
   "cell_type": "markdown",
   "metadata": {},
   "source": [
    "# Main"
   ]
  },
  {
   "cell_type": "code",
   "execution_count": 17,
   "metadata": {},
   "outputs": [],
   "source": [
    "def main():\n",
    "    \n",
    "    main_folder = \"/home/luigi/Documents/scripts/test_scripts/results\"\n",
    "    folder_experiments = \"results_2020-02-21_rob_20\"\n",
    "    windowed = False\n",
    "\n",
    "    from datetime import date\n",
    "    today = date.today()\n",
    "\n",
    "    '''Generate folder to store plots and heatmaps'''\n",
    "    script_dir = os.path.abspath('')\n",
    "    results_dir = os.path.join(script_dir, 'Plots/'+str(today)+'/WMSD')\n",
    "\n",
    "    distance_heatmap_dir = os.path.join(results_dir, 'distance_heatmap') \n",
    "\n",
    "    if (windowed):\n",
    "        result_time_dir = os.path.join(results_dir, 'moving_window')\n",
    "    else:\n",
    "        result_time_dir = os.path.join(results_dir, 'fixed_window')\n",
    "\n",
    "    heatmap_dir = os.path.join(result_time_dir, 'Heatmap')\n",
    "\n",
    "    if not os.path.isdir(results_dir):\n",
    "        os.makedirs(results_dir)\n",
    "    if not os.path.isdir(result_time_dir):\n",
    "        os.makedirs(result_time_dir)\n",
    "    if not os.path.isdir(heatmap_dir):\n",
    "        os.makedirs(heatmap_dir)\n",
    "    if not os.path.isdir(distance_heatmap_dir):\n",
    "        os.makedirs(distance_heatmap_dir)\n",
    "\n",
    "\n",
    "    bin_edges = np.linspace(0, 0.475,20)\n",
    "\n",
    "    if not os.path.isdir(main_folder+'/'+folder_experiments):\n",
    "        print(\"folder_experiment is not an existing directory\")\n",
    "        exit(-1)\n",
    "\n",
    "\n",
    "    #TODO : fix the necessity of define folder_baseline in the for loop\n",
    "    #TODO : fix file_title in time_plot_histogram\n",
    "\n",
    "    evaluate_history_WMSD_and_time_diffusion(main_folder, folder_experiments, windowed, bin_edges, result_time_dir, distance_heatmap_dir)\n",
    "    evaluate_WMSD_heatmap(main_folder, folder_experiments, windowed, heatmap_dir)\n",
    "    \n"
   ]
  },
  {
   "cell_type": "code",
   "execution_count": 18,
   "metadata": {},
   "outputs": [
    {
     "name": "stdout",
     "output_type": "stream",
     "text": [
      "(2000, 181, 2)\n"
     ]
    },
    {
     "name": "stderr",
     "output_type": "stream",
     "text": [
      "/home/luigi/.virtualenvs/argos/lib/python3.5/site-packages/matplotlib/figure.py:98: MatplotlibDeprecationWarning: \n",
      "Adding an axes using the same arguments as a previous axes currently reuses the earlier instance.  In a future version, a new instance will always be created and returned.  Meanwhile, this warning can be suppressed, and the future behavior ensured, by passing a unique label to each axes instance.\n",
      "  \"Adding an axes using the same arguments as a previous axes \"\n",
      "No handles with labels found to put in legend.\n"
     ]
    },
    {
     "name": "stdout",
     "output_type": "stream",
     "text": [
      "(2000, 181, 2)\n"
     ]
    },
    {
     "name": "stderr",
     "output_type": "stream",
     "text": [
      "/home/luigi/.virtualenvs/argos/lib/python3.5/site-packages/matplotlib/figure.py:98: MatplotlibDeprecationWarning: \n",
      "Adding an axes using the same arguments as a previous axes currently reuses the earlier instance.  In a future version, a new instance will always be created and returned.  Meanwhile, this warning can be suppressed, and the future behavior ensured, by passing a unique label to each axes instance.\n",
      "  \"Adding an axes using the same arguments as a previous axes \"\n",
      "No handles with labels found to put in legend.\n"
     ]
    },
    {
     "name": "stdout",
     "output_type": "stream",
     "text": [
      "(2000, 181, 2)\n"
     ]
    },
    {
     "name": "stderr",
     "output_type": "stream",
     "text": [
      "/home/luigi/.virtualenvs/argos/lib/python3.5/site-packages/matplotlib/figure.py:98: MatplotlibDeprecationWarning: \n",
      "Adding an axes using the same arguments as a previous axes currently reuses the earlier instance.  In a future version, a new instance will always be created and returned.  Meanwhile, this warning can be suppressed, and the future behavior ensured, by passing a unique label to each axes instance.\n",
      "  \"Adding an axes using the same arguments as a previous axes \"\n",
      "No handles with labels found to put in legend.\n"
     ]
    },
    {
     "name": "stdout",
     "output_type": "stream",
     "text": [
      "(2000, 181, 2)\n"
     ]
    },
    {
     "name": "stderr",
     "output_type": "stream",
     "text": [
      "/home/luigi/.virtualenvs/argos/lib/python3.5/site-packages/matplotlib/figure.py:98: MatplotlibDeprecationWarning: \n",
      "Adding an axes using the same arguments as a previous axes currently reuses the earlier instance.  In a future version, a new instance will always be created and returned.  Meanwhile, this warning can be suppressed, and the future behavior ensured, by passing a unique label to each axes instance.\n",
      "  \"Adding an axes using the same arguments as a previous axes \"\n",
      "No handles with labels found to put in legend.\n"
     ]
    },
    {
     "name": "stdout",
     "output_type": "stream",
     "text": [
      "(2000, 181, 2)\n"
     ]
    },
    {
     "name": "stderr",
     "output_type": "stream",
     "text": [
      "/home/luigi/.virtualenvs/argos/lib/python3.5/site-packages/matplotlib/figure.py:98: MatplotlibDeprecationWarning: \n",
      "Adding an axes using the same arguments as a previous axes currently reuses the earlier instance.  In a future version, a new instance will always be created and returned.  Meanwhile, this warning can be suppressed, and the future behavior ensured, by passing a unique label to each axes instance.\n",
      "  \"Adding an axes using the same arguments as a previous axes \"\n",
      "No handles with labels found to put in legend.\n"
     ]
    },
    {
     "name": "stdout",
     "output_type": "stream",
     "text": [
      "(2000, 181, 2)\n"
     ]
    },
    {
     "name": "stderr",
     "output_type": "stream",
     "text": [
      "/home/luigi/.virtualenvs/argos/lib/python3.5/site-packages/matplotlib/figure.py:98: MatplotlibDeprecationWarning: \n",
      "Adding an axes using the same arguments as a previous axes currently reuses the earlier instance.  In a future version, a new instance will always be created and returned.  Meanwhile, this warning can be suppressed, and the future behavior ensured, by passing a unique label to each axes instance.\n",
      "  \"Adding an axes using the same arguments as a previous axes \"\n",
      "No handles with labels found to put in legend.\n"
     ]
    },
    {
     "name": "stdout",
     "output_type": "stream",
     "text": [
      "(2000, 181, 2)\n"
     ]
    },
    {
     "name": "stderr",
     "output_type": "stream",
     "text": [
      "/home/luigi/.virtualenvs/argos/lib/python3.5/site-packages/matplotlib/figure.py:98: MatplotlibDeprecationWarning: \n",
      "Adding an axes using the same arguments as a previous axes currently reuses the earlier instance.  In a future version, a new instance will always be created and returned.  Meanwhile, this warning can be suppressed, and the future behavior ensured, by passing a unique label to each axes instance.\n",
      "  \"Adding an axes using the same arguments as a previous axes \"\n",
      "No handles with labels found to put in legend.\n"
     ]
    },
    {
     "name": "stdout",
     "output_type": "stream",
     "text": [
      "(2000, 181, 2)\n"
     ]
    },
    {
     "name": "stderr",
     "output_type": "stream",
     "text": [
      "/home/luigi/.virtualenvs/argos/lib/python3.5/site-packages/matplotlib/figure.py:98: MatplotlibDeprecationWarning: \n",
      "Adding an axes using the same arguments as a previous axes currently reuses the earlier instance.  In a future version, a new instance will always be created and returned.  Meanwhile, this warning can be suppressed, and the future behavior ensured, by passing a unique label to each axes instance.\n",
      "  \"Adding an axes using the same arguments as a previous axes \"\n",
      "No handles with labels found to put in legend.\n"
     ]
    },
    {
     "name": "stdout",
     "output_type": "stream",
     "text": [
      "(2000, 181, 2)\n"
     ]
    },
    {
     "name": "stderr",
     "output_type": "stream",
     "text": [
      "/home/luigi/.virtualenvs/argos/lib/python3.5/site-packages/matplotlib/figure.py:98: MatplotlibDeprecationWarning: \n",
      "Adding an axes using the same arguments as a previous axes currently reuses the earlier instance.  In a future version, a new instance will always be created and returned.  Meanwhile, this warning can be suppressed, and the future behavior ensured, by passing a unique label to each axes instance.\n",
      "  \"Adding an axes using the same arguments as a previous axes \"\n",
      "No handles with labels found to put in legend.\n"
     ]
    },
    {
     "name": "stdout",
     "output_type": "stream",
     "text": [
      "(2000, 181, 2)\n"
     ]
    },
    {
     "name": "stderr",
     "output_type": "stream",
     "text": [
      "/home/luigi/.virtualenvs/argos/lib/python3.5/site-packages/matplotlib/figure.py:98: MatplotlibDeprecationWarning: \n",
      "Adding an axes using the same arguments as a previous axes currently reuses the earlier instance.  In a future version, a new instance will always be created and returned.  Meanwhile, this warning can be suppressed, and the future behavior ensured, by passing a unique label to each axes instance.\n",
      "  \"Adding an axes using the same arguments as a previous axes \"\n",
      "No handles with labels found to put in legend.\n"
     ]
    },
    {
     "name": "stdout",
     "output_type": "stream",
     "text": [
      "(2000, 181, 2)\n"
     ]
    },
    {
     "name": "stderr",
     "output_type": "stream",
     "text": [
      "/home/luigi/.virtualenvs/argos/lib/python3.5/site-packages/matplotlib/figure.py:98: MatplotlibDeprecationWarning: \n",
      "Adding an axes using the same arguments as a previous axes currently reuses the earlier instance.  In a future version, a new instance will always be created and returned.  Meanwhile, this warning can be suppressed, and the future behavior ensured, by passing a unique label to each axes instance.\n",
      "  \"Adding an axes using the same arguments as a previous axes \"\n",
      "No handles with labels found to put in legend.\n"
     ]
    },
    {
     "name": "stdout",
     "output_type": "stream",
     "text": [
      "(2000, 181, 2)\n"
     ]
    },
    {
     "name": "stderr",
     "output_type": "stream",
     "text": [
      "/home/luigi/.virtualenvs/argos/lib/python3.5/site-packages/matplotlib/figure.py:98: MatplotlibDeprecationWarning: \n",
      "Adding an axes using the same arguments as a previous axes currently reuses the earlier instance.  In a future version, a new instance will always be created and returned.  Meanwhile, this warning can be suppressed, and the future behavior ensured, by passing a unique label to each axes instance.\n",
      "  \"Adding an axes using the same arguments as a previous axes \"\n",
      "No handles with labels found to put in legend.\n"
     ]
    },
    {
     "name": "stdout",
     "output_type": "stream",
     "text": [
      "{'20': {'0.3': {'1.6': 0.0045886200611111125}}}\n",
      "{'20': {'0.9': {'2.0': 0.0038555442500000014}, '0.3': {'1.6': 0.0045886200611111125}}}\n",
      "{'20': {'0.9': {'2.0': 0.0038555442500000014}, '0.3': {'1.6': 0.0045886200611111125, '2.0': 0.004415943777777779}}}\n",
      "{'20': {'0.0': {'1.6': 0.0039294335972222235}, '0.9': {'2.0': 0.0038555442500000014}, '0.3': {'1.6': 0.0045886200611111125, '2.0': 0.004415943777777779}}}\n",
      "{'20': {'0.0': {'1.6': 0.0039294335972222235}, '0.9': {'2.0': 0.0038555442500000014}, '0.3': {'1.2': 0.004264101602777779, '1.6': 0.0045886200611111125, '2.0': 0.004415943777777779}}}\n",
      "{'20': {'0.0': {'1.6': 0.0039294335972222235, '2.0': 0.0036182139472222237}, '0.9': {'2.0': 0.0038555442500000014}, '0.3': {'1.2': 0.004264101602777779, '1.6': 0.0045886200611111125, '2.0': 0.004415943777777779}}}\n",
      "{'20': {'0.0': {'1.6': 0.0039294335972222235, '2.0': 0.0036182139472222237}, '0.9': {'1.2': 0.003977797427777778, '2.0': 0.0038555442500000014}, '0.3': {'1.2': 0.004264101602777779, '1.6': 0.0045886200611111125, '2.0': 0.004415943777777779}}}\n",
      "{'20': {'0.0': {'1.6': 0.0039294335972222235, '2.0': 0.0036182139472222237}, '0.9': {'1.2': 0.003977797427777778, '2.0': 0.0038555442500000014}, '0.3': {'1.2': 0.004264101602777779, '1.6': 0.0045886200611111125, '2.0': 0.004415943777777779}, '0.6': {'2.0': 0.0053638947611111135}}}\n",
      "{'20': {'0.0': {'1.6': 0.0039294335972222235, '2.0': 0.0036182139472222237}, '0.9': {'1.2': 0.003977797427777778, '2.0': 0.0038555442500000014}, '0.3': {'1.2': 0.004264101602777779, '1.6': 0.0045886200611111125, '2.0': 0.004415943777777779}, '0.6': {'1.2': 0.00450641411388889, '2.0': 0.0053638947611111135}}}\n",
      "{'20': {'0.0': {'1.2': 0.0038618765055555564, '1.6': 0.0039294335972222235, '2.0': 0.0036182139472222237}, '0.9': {'1.2': 0.003977797427777778, '2.0': 0.0038555442500000014}, '0.3': {'1.2': 0.004264101602777779, '1.6': 0.0045886200611111125, '2.0': 0.004415943777777779}, '0.6': {'1.2': 0.00450641411388889, '2.0': 0.0053638947611111135}}}\n",
      "{'20': {'0.0': {'1.2': 0.0038618765055555564, '1.6': 0.0039294335972222235, '2.0': 0.0036182139472222237}, '0.9': {'1.2': 0.003977797427777778, '1.6': 0.0041308369722222234, '2.0': 0.0038555442500000014}, '0.3': {'1.2': 0.004264101602777779, '1.6': 0.0045886200611111125, '2.0': 0.004415943777777779}, '0.6': {'1.2': 0.00450641411388889, '2.0': 0.0053638947611111135}}}\n",
      "{'20': {'0.0': {'1.2': 0.0038618765055555564, '1.6': 0.0039294335972222235, '2.0': 0.0036182139472222237}, '0.9': {'1.2': 0.003977797427777778, '1.6': 0.0041308369722222234, '2.0': 0.0038555442500000014}, '0.3': {'1.2': 0.004264101602777779, '1.6': 0.0045886200611111125, '2.0': 0.004415943777777779}, '0.6': {'1.2': 0.00450641411388889, '1.6': 0.005295846911111113, '2.0': 0.0053638947611111135}}}\n",
      "{'20': {'0.3': {'1.6': 0.0027224598388888893}}}\n",
      "{'20': {'0.9': {'2.0': 0.0018174420583333345}, '0.3': {'1.6': 0.0027224598388888893}}}\n",
      "{'20': {'0.9': {'2.0': 0.0018174420583333345}, '0.3': {'1.6': 0.0027224598388888893, '2.0': 0.002283659650000001}}}\n",
      "{'20': {'0.0': {'1.6': 0.0021213234680555566}, '0.9': {'2.0': 0.0018174420583333345}, '0.3': {'1.6': 0.0027224598388888893, '2.0': 0.002283659650000001}}}\n",
      "{'20': {'0.0': {'1.6': 0.0021213234680555566}, '0.9': {'2.0': 0.0018174420583333345}, '0.3': {'1.2': 0.002917900715277778, '1.6': 0.0027224598388888893, '2.0': 0.002283659650000001}}}\n",
      "{'20': {'0.0': {'1.6': 0.0021213234680555566, '2.0': 0.0016458383430555563}, '0.9': {'2.0': 0.0018174420583333345}, '0.3': {'1.2': 0.002917900715277778, '1.6': 0.0027224598388888893, '2.0': 0.002283659650000001}}}\n",
      "{'20': {'0.0': {'1.6': 0.0021213234680555566, '2.0': 0.0016458383430555563}, '0.9': {'1.2': 0.002606566366666667, '2.0': 0.0018174420583333345}, '0.3': {'1.2': 0.002917900715277778, '1.6': 0.0027224598388888893, '2.0': 0.002283659650000001}}}\n",
      "{'20': {'0.0': {'1.6': 0.0021213234680555566, '2.0': 0.0016458383430555563}, '0.9': {'1.2': 0.002606566366666667, '2.0': 0.0018174420583333345}, '0.3': {'1.2': 0.002917900715277778, '1.6': 0.0027224598388888893, '2.0': 0.002283659650000001}, '0.6': {'2.0': 0.003362002227777779}}}\n",
      "{'20': {'0.0': {'1.6': 0.0021213234680555566, '2.0': 0.0016458383430555563}, '0.9': {'1.2': 0.002606566366666667, '2.0': 0.0018174420583333345}, '0.3': {'1.2': 0.002917900715277778, '1.6': 0.0027224598388888893, '2.0': 0.002283659650000001}, '0.6': {'1.2': 0.003373966748611112, '2.0': 0.003362002227777779}}}\n",
      "{'20': {'0.0': {'1.2': 0.0024699800222222224, '1.6': 0.0021213234680555566, '2.0': 0.0016458383430555563}, '0.9': {'1.2': 0.002606566366666667, '2.0': 0.0018174420583333345}, '0.3': {'1.2': 0.002917900715277778, '1.6': 0.0027224598388888893, '2.0': 0.002283659650000001}, '0.6': {'1.2': 0.003373966748611112, '2.0': 0.003362002227777779}}}\n",
      "{'20': {'0.0': {'1.2': 0.0024699800222222224, '1.6': 0.0021213234680555566, '2.0': 0.0016458383430555563}, '0.9': {'1.2': 0.002606566366666667, '1.6': 0.0022873938000000003, '2.0': 0.0018174420583333345}, '0.3': {'1.2': 0.002917900715277778, '1.6': 0.0027224598388888893, '2.0': 0.002283659650000001}, '0.6': {'1.2': 0.003373966748611112, '2.0': 0.003362002227777779}}}\n",
      "{'20': {'0.0': {'1.2': 0.0024699800222222224, '1.6': 0.0021213234680555566, '2.0': 0.0016458383430555563}, '0.9': {'1.2': 0.002606566366666667, '1.6': 0.0022873938000000003, '2.0': 0.0018174420583333345}, '0.3': {'1.2': 0.002917900715277778, '1.6': 0.0027224598388888893, '2.0': 0.002283659650000001}, '0.6': {'1.2': 0.003373966748611112, '1.6': 0.0035955716583333333, '2.0': 0.003362002227777779}}}\n",
      "{'20': {'0.3': {'1.6': 0.0019320449185185184}}}\n",
      "{'20': {'0.9': {'2.0': 0.001198367935185185}, '0.3': {'1.6': 0.0019320449185185184}}}\n",
      "{'20': {'0.9': {'2.0': 0.001198367935185185}, '0.3': {'1.6': 0.0019320449185185184, '2.0': 0.00151852394074074}}}\n",
      "{'20': {'0.0': {'1.6': 0.0014833852416666663}, '0.9': {'2.0': 0.001198367935185185}, '0.3': {'1.6': 0.0019320449185185184, '2.0': 0.00151852394074074}}}\n",
      "{'20': {'0.0': {'1.6': 0.0014833852416666663}, '0.9': {'2.0': 0.001198367935185185}, '0.3': {'1.2': 0.002251662763888888, '1.6': 0.0019320449185185184, '2.0': 0.00151852394074074}}}\n",
      "{'20': {'0.0': {'1.6': 0.0014833852416666663, '2.0': 0.001073753973148148}, '0.9': {'2.0': 0.001198367935185185}, '0.3': {'1.2': 0.002251662763888888, '1.6': 0.0019320449185185184, '2.0': 0.00151852394074074}}}\n",
      "{'20': {'0.0': {'1.6': 0.0014833852416666663, '2.0': 0.001073753973148148}, '0.9': {'1.2': 0.001986305057407407, '2.0': 0.001198367935185185}, '0.3': {'1.2': 0.002251662763888888, '1.6': 0.0019320449185185184, '2.0': 0.00151852394074074}}}\n",
      "{'20': {'0.0': {'1.6': 0.0014833852416666663, '2.0': 0.001073753973148148}, '0.9': {'1.2': 0.001986305057407407, '2.0': 0.001198367935185185}, '0.3': {'1.2': 0.002251662763888888, '1.6': 0.0019320449185185184, '2.0': 0.00151852394074074}, '0.6': {'2.0': 0.002370573664814814}}}\n",
      "{'20': {'0.0': {'1.6': 0.0014833852416666663, '2.0': 0.001073753973148148}, '0.9': {'1.2': 0.001986305057407407, '2.0': 0.001198367935185185}, '0.3': {'1.2': 0.002251662763888888, '1.6': 0.0019320449185185184, '2.0': 0.00151852394074074}, '0.6': {'1.2': 0.002686667397222221, '2.0': 0.002370573664814814}}}\n",
      "{'20': {'0.0': {'1.2': 0.0018813689777777772, '1.6': 0.0014833852416666663, '2.0': 0.001073753973148148}, '0.9': {'1.2': 0.001986305057407407, '2.0': 0.001198367935185185}, '0.3': {'1.2': 0.002251662763888888, '1.6': 0.0019320449185185184, '2.0': 0.00151852394074074}, '0.6': {'1.2': 0.002686667397222221, '2.0': 0.002370573664814814}}}\n",
      "{'20': {'0.0': {'1.2': 0.0018813689777777772, '1.6': 0.0014833852416666663, '2.0': 0.001073753973148148}, '0.9': {'1.2': 0.001986305057407407, '1.6': 0.001599421324074074, '2.0': 0.001198367935185185}, '0.3': {'1.2': 0.002251662763888888, '1.6': 0.0019320449185185184, '2.0': 0.00151852394074074}, '0.6': {'1.2': 0.002686667397222221, '2.0': 0.002370573664814814}}}\n",
      "{'20': {'0.0': {'1.2': 0.0018813689777777772, '1.6': 0.0014833852416666663, '2.0': 0.001073753973148148}, '0.9': {'1.2': 0.001986305057407407, '1.6': 0.001599421324074074, '2.0': 0.001198367935185185}, '0.3': {'1.2': 0.002251662763888888, '1.6': 0.0019320449185185184, '2.0': 0.00151852394074074}, '0.6': {'1.2': 0.002686667397222221, '1.6': 0.0026764936925925925, '2.0': 0.002370573664814814}}}\n"
     ]
    },
    {
     "name": "stdout",
     "output_type": "stream",
     "text": [
      "{'20': {'0.3': {'1.6': 0.0014795124319444447}}}\n",
      "{'20': {'0.9': {'2.0': 0.0008757600652777779}, '0.3': {'1.6': 0.0014795124319444447}}}\n",
      "{'20': {'0.9': {'2.0': 0.0008757600652777779}, '0.3': {'1.6': 0.0014795124319444447, '2.0': 0.0011177949027777775}}}\n",
      "{'20': {'0.0': {'1.6': 0.0011427014548611118}, '0.9': {'2.0': 0.0008757600652777779}, '0.3': {'1.6': 0.0014795124319444447, '2.0': 0.0011177949027777775}}}\n",
      "{'20': {'0.0': {'1.6': 0.0011427014548611118}, '0.9': {'2.0': 0.0008757600652777779}, '0.3': {'1.2': 0.0018437188881944451, '1.6': 0.0014795124319444447, '2.0': 0.0011177949027777775}}}\n",
      "{'20': {'0.0': {'1.6': 0.0011427014548611118, '2.0': 0.0007900035048611113}, '0.9': {'2.0': 0.0008757600652777779}, '0.3': {'1.2': 0.0018437188881944451, '1.6': 0.0014795124319444447, '2.0': 0.0011177949027777775}}}\n",
      "{'20': {'0.0': {'1.6': 0.0011427014548611118, '2.0': 0.0007900035048611113}, '0.9': {'1.2': 0.0016160202180555553, '2.0': 0.0008757600652777779}, '0.3': {'1.2': 0.0018437188881944451, '1.6': 0.0014795124319444447, '2.0': 0.0011177949027777775}}}\n",
      "{'20': {'0.0': {'1.6': 0.0011427014548611118, '2.0': 0.0007900035048611113}, '0.9': {'1.2': 0.0016160202180555553, '2.0': 0.0008757600652777779}, '0.3': {'1.2': 0.0018437188881944451, '1.6': 0.0014795124319444447, '2.0': 0.0011177949027777775}, '0.6': {'2.0': 0.0017950851763888893}}}\n",
      "{'20': {'0.0': {'1.6': 0.0011427014548611118, '2.0': 0.0007900035048611113}, '0.9': {'1.2': 0.0016160202180555553, '2.0': 0.0008757600652777779}, '0.3': {'1.2': 0.0018437188881944451, '1.6': 0.0014795124319444447, '2.0': 0.0011177949027777775}, '0.6': {'1.2': 0.002237057132638889, '2.0': 0.0017950851763888893}}}\n",
      "{'20': {'0.0': {'1.2': 0.0015388730555555554, '1.6': 0.0011427014548611118, '2.0': 0.0007900035048611113}, '0.9': {'1.2': 0.0016160202180555553, '2.0': 0.0008757600652777779}, '0.3': {'1.2': 0.0018437188881944451, '1.6': 0.0014795124319444447, '2.0': 0.0011177949027777775}, '0.6': {'1.2': 0.002237057132638889, '2.0': 0.0017950851763888893}}}\n",
      "{'20': {'0.0': {'1.2': 0.0015388730555555554, '1.6': 0.0011427014548611118, '2.0': 0.0007900035048611113}, '0.9': {'1.2': 0.0016160202180555553, '1.6': 0.0012364294027777782, '2.0': 0.0008757600652777779}, '0.3': {'1.2': 0.0018437188881944451, '1.6': 0.0014795124319444447, '2.0': 0.0011177949027777775}, '0.6': {'1.2': 0.002237057132638889, '2.0': 0.0017950851763888893}}}\n",
      "{'20': {'0.0': {'1.2': 0.0015388730555555554, '1.6': 0.0011427014548611118, '2.0': 0.0007900035048611113}, '0.9': {'1.2': 0.0016160202180555553, '1.6': 0.0012364294027777782, '2.0': 0.0008757600652777779}, '0.3': {'1.2': 0.0018437188881944451, '1.6': 0.0014795124319444447, '2.0': 0.0011177949027777775}, '0.6': {'1.2': 0.002237057132638889, '1.6': 0.0021165234069444438, '2.0': 0.0017950851763888893}}}\n",
      "{'20': {'0.3': {'1.6': 0.00121037646}}}\n",
      "{'20': {'0.9': {'2.0': 0.0006952669577777779}, '0.3': {'1.6': 0.00121037646}}}\n",
      "{'20': {'0.9': {'2.0': 0.0006952669577777779}, '0.3': {'1.6': 0.00121037646, '2.0': 0.0008868319966666668}}}\n",
      "{'20': {'0.0': {'1.6': 0.0009256344805555558}, '0.9': {'2.0': 0.0006952669577777779}, '0.3': {'1.6': 0.00121037646, '2.0': 0.0008868319966666668}}}\n",
      "{'20': {'0.0': {'1.6': 0.0009256344805555558}, '0.9': {'2.0': 0.0006952669577777779}, '0.3': {'1.2': 0.0015609523072222223, '1.6': 0.00121037646, '2.0': 0.0008868319966666668}}}\n",
      "{'20': {'0.0': {'1.6': 0.0009256344805555558, '2.0': 0.0006194020894444444}, '0.9': {'2.0': 0.0006952669577777779}, '0.3': {'1.2': 0.0015609523072222223, '1.6': 0.00121037646, '2.0': 0.0008868319966666668}}}\n",
      "{'20': {'0.0': {'1.6': 0.0009256344805555558, '2.0': 0.0006194020894444444}, '0.9': {'1.2': 0.0013583821766666667, '2.0': 0.0006952669577777779}, '0.3': {'1.2': 0.0015609523072222223, '1.6': 0.00121037646, '2.0': 0.0008868319966666668}}}\n",
      "{'20': {'0.0': {'1.6': 0.0009256344805555558, '2.0': 0.0006194020894444444}, '0.9': {'1.2': 0.0013583821766666667, '2.0': 0.0006952669577777779}, '0.3': {'1.2': 0.0015609523072222223, '1.6': 0.00121037646, '2.0': 0.0008868319966666668}, '0.6': {'2.0': 0.0014439955522222224}}}\n",
      "{'20': {'0.0': {'1.6': 0.0009256344805555558, '2.0': 0.0006194020894444444}, '0.9': {'1.2': 0.0013583821766666667, '2.0': 0.0006952669577777779}, '0.3': {'1.2': 0.0015609523072222223, '1.6': 0.00121037646, '2.0': 0.0008868319966666668}, '0.6': {'1.2': 0.001888584408333333, '2.0': 0.0014439955522222224}}}\n",
      "{'20': {'0.0': {'1.2': 0.0012940182799999996, '1.6': 0.0009256344805555558, '2.0': 0.0006194020894444444}, '0.9': {'1.2': 0.0013583821766666667, '2.0': 0.0006952669577777779}, '0.3': {'1.2': 0.0015609523072222223, '1.6': 0.00121037646, '2.0': 0.0008868319966666668}, '0.6': {'1.2': 0.001888584408333333, '2.0': 0.0014439955522222224}}}\n",
      "{'20': {'0.0': {'1.2': 0.0012940182799999996, '1.6': 0.0009256344805555558, '2.0': 0.0006194020894444444}, '0.9': {'1.2': 0.0013583821766666667, '1.6': 0.0009967688711111115, '2.0': 0.0006952669577777779}, '0.3': {'1.2': 0.0015609523072222223, '1.6': 0.00121037646, '2.0': 0.0008868319966666668}, '0.6': {'1.2': 0.001888584408333333, '2.0': 0.0014439955522222224}}}\n",
      "{'20': {'0.0': {'1.2': 0.0012940182799999996, '1.6': 0.0009256344805555558, '2.0': 0.0006194020894444444}, '0.9': {'1.2': 0.0013583821766666667, '1.6': 0.0009967688711111115, '2.0': 0.0006952669577777779}, '0.3': {'1.2': 0.0015609523072222223, '1.6': 0.00121037646, '2.0': 0.0008868319966666668}, '0.6': {'1.2': 0.001888584408333333, '1.6': 0.001720125536666667, '2.0': 0.0014439955522222224}}}\n",
      "{'20': {'0.3': {'1.6': 0.0010172009361111107}}}\n",
      "{'20': {'0.9': {'2.0': 0.0005719476888888889}, '0.3': {'1.6': 0.0010172009361111107}}}\n",
      "{'20': {'0.9': {'2.0': 0.0005719476888888889}, '0.3': {'1.6': 0.0010172009361111107, '2.0': 0.0007243010981481481}}}\n",
      "{'20': {'0.0': {'1.6': 0.0007891002060185187}, '0.9': {'2.0': 0.0005719476888888889}, '0.3': {'1.6': 0.0010172009361111107, '2.0': 0.0007243010981481481}}}\n",
      "{'20': {'0.0': {'1.6': 0.0007891002060185187}, '0.9': {'2.0': 0.0005719476888888889}, '0.3': {'1.2': 0.0013314778615740738, '1.6': 0.0010172009361111107, '2.0': 0.0007243010981481481}}}\n",
      "{'20': {'0.0': {'1.6': 0.0007891002060185187, '2.0': 0.0005071549532407406}, '0.9': {'2.0': 0.0005719476888888889}, '0.3': {'1.2': 0.0013314778615740738, '1.6': 0.0010172009361111107, '2.0': 0.0007243010981481481}}}\n",
      "{'20': {'0.0': {'1.6': 0.0007891002060185187, '2.0': 0.0005071549532407406}, '0.9': {'1.2': 0.0011710964185185182, '2.0': 0.0005719476888888889}, '0.3': {'1.2': 0.0013314778615740738, '1.6': 0.0010172009361111107, '2.0': 0.0007243010981481481}}}\n",
      "{'20': {'0.0': {'1.6': 0.0007891002060185187, '2.0': 0.0005071549532407406}, '0.9': {'1.2': 0.0011710964185185182, '2.0': 0.0005719476888888889}, '0.3': {'1.2': 0.0013314778615740738, '1.6': 0.0010172009361111107, '2.0': 0.0007243010981481481}, '0.6': {'2.0': 0.0011943217805555552}}}\n",
      "{'20': {'0.0': {'1.6': 0.0007891002060185187, '2.0': 0.0005071549532407406}, '0.9': {'1.2': 0.0011710964185185182, '2.0': 0.0005719476888888889}, '0.3': {'1.2': 0.0013314778615740738, '1.6': 0.0010172009361111107, '2.0': 0.0007243010981481481}, '0.6': {'1.2': 0.001643481246759259, '2.0': 0.0011943217805555552}}}\n",
      "{'20': {'0.0': {'1.2': 0.0011094382935185184, '1.6': 0.0007891002060185187, '2.0': 0.0005071549532407406}, '0.9': {'1.2': 0.0011710964185185182, '2.0': 0.0005719476888888889}, '0.3': {'1.2': 0.0013314778615740738, '1.6': 0.0010172009361111107, '2.0': 0.0007243010981481481}, '0.6': {'1.2': 0.001643481246759259, '2.0': 0.0011943217805555552}}}\n",
      "{'20': {'0.0': {'1.2': 0.0011094382935185184, '1.6': 0.0007891002060185187, '2.0': 0.0005071549532407406}, '0.9': {'1.2': 0.0011710964185185182, '1.6': 0.0008385523129629628, '2.0': 0.0005719476888888889}, '0.3': {'1.2': 0.0013314778615740738, '1.6': 0.0010172009361111107, '2.0': 0.0007243010981481481}, '0.6': {'1.2': 0.001643481246759259, '2.0': 0.0011943217805555552}}}\n",
      "{'20': {'0.0': {'1.2': 0.0011094382935185184, '1.6': 0.0007891002060185187, '2.0': 0.0005071549532407406}, '0.9': {'1.2': 0.0011710964185185182, '1.6': 0.0008385523129629628, '2.0': 0.0005719476888888889}, '0.3': {'1.2': 0.0013314778615740738, '1.6': 0.0010172009361111107, '2.0': 0.0007243010981481481}, '0.6': {'1.2': 0.001643481246759259, '1.6': 0.0014563640064814815, '2.0': 0.0011943217805555552}}}\n"
     ]
    },
    {
     "name": "stdout",
     "output_type": "stream",
     "text": [
      "{'20': {'0.3': {'1.6': 0.000870222266530612}}}\n",
      "{'20': {'0.9': {'2.0': 0.0004809332379591835}, '0.3': {'1.6': 0.000870222266530612}}}\n",
      "{'20': {'0.9': {'2.0': 0.0004809332379591835}, '0.3': {'1.6': 0.000870222266530612, '2.0': 0.0006149641367346935}}}\n",
      "{'20': {'0.0': {'1.6': 0.0006709689293877547}, '0.9': {'2.0': 0.0004809332379591835}, '0.3': {'1.6': 0.000870222266530612, '2.0': 0.0006149641367346935}}}\n",
      "{'20': {'0.0': {'1.6': 0.0006709689293877547}, '0.9': {'2.0': 0.0004809332379591835}, '0.3': {'1.2': 0.0011780940689795918, '1.6': 0.000870222266530612, '2.0': 0.0006149641367346935}}}\n",
      "{'20': {'0.0': {'1.6': 0.0006709689293877547, '2.0': 0.00043645108979591845}, '0.9': {'2.0': 0.0004809332379591835}, '0.3': {'1.2': 0.0011780940689795918, '1.6': 0.000870222266530612, '2.0': 0.0006149641367346935}}}\n",
      "{'20': {'0.0': {'1.6': 0.0006709689293877547, '2.0': 0.00043645108979591845}, '0.9': {'1.2': 0.0010216367914285707, '2.0': 0.0004809332379591835}, '0.3': {'1.2': 0.0011780940689795918, '1.6': 0.000870222266530612, '2.0': 0.0006149641367346935}}}\n",
      "{'20': {'0.0': {'1.6': 0.0006709689293877547, '2.0': 0.00043645108979591845}, '0.9': {'1.2': 0.0010216367914285707, '2.0': 0.0004809332379591835}, '0.3': {'1.2': 0.0011780940689795918, '1.6': 0.000870222266530612, '2.0': 0.0006149641367346935}, '0.6': {'2.0': 0.0010158566024489793}}}\n",
      "{'20': {'0.0': {'1.6': 0.0006709689293877547, '2.0': 0.00043645108979591845}, '0.9': {'1.2': 0.0010216367914285707, '2.0': 0.0004809332379591835}, '0.3': {'1.2': 0.0011780940689795918, '1.6': 0.000870222266530612, '2.0': 0.0006149641367346935}, '0.6': {'1.2': 0.0014192495734693877, '2.0': 0.0010158566024489793}}}\n",
      "{'20': {'0.0': {'1.2': 0.0009702756828571424, '1.6': 0.0006709689293877547, '2.0': 0.00043645108979591845}, '0.9': {'1.2': 0.0010216367914285707, '2.0': 0.0004809332379591835}, '0.3': {'1.2': 0.0011780940689795918, '1.6': 0.000870222266530612, '2.0': 0.0006149641367346935}, '0.6': {'1.2': 0.0014192495734693877, '2.0': 0.0010158566024489793}}}\n",
      "{'20': {'0.0': {'1.2': 0.0009702756828571424, '1.6': 0.0006709689293877547, '2.0': 0.00043645108979591845}, '0.9': {'1.2': 0.0010216367914285707, '1.6': 0.0007245413244897958, '2.0': 0.0004809332379591835}, '0.3': {'1.2': 0.0011780940689795918, '1.6': 0.000870222266530612, '2.0': 0.0006149641367346935}, '0.6': {'1.2': 0.0014192495734693877, '2.0': 0.0010158566024489793}}}\n",
      "{'20': {'0.0': {'1.2': 0.0009702756828571424, '1.6': 0.0006709689293877547, '2.0': 0.00043645108979591845}, '0.9': {'1.2': 0.0010216367914285707, '1.6': 0.0007245413244897958, '2.0': 0.0004809332379591835}, '0.3': {'1.2': 0.0011780940689795918, '1.6': 0.000870222266530612, '2.0': 0.0006149641367346935}, '0.6': {'1.2': 0.0014192495734693877, '1.6': 0.001255089255510204, '2.0': 0.0010158566024489793}}}\n",
      "{'20': {'0.3': {'1.6': 0.0007614526658380684}}}\n",
      "{'20': {'0.9': {'2.0': 0.00040964376953125004}, '0.3': {'1.6': 0.0007614526658380684}}}\n",
      "{'20': {'0.9': {'2.0': 0.00040964376953125004}, '0.3': {'1.6': 0.0007614526658380684, '2.0': 0.0005268473554687501}}}\n",
      "{'20': {'0.0': {'1.6': 0.0005832470504261362}, '0.9': {'2.0': 0.00040964376953125004}, '0.3': {'1.6': 0.0007614526658380684, '2.0': 0.0005268473554687501}}}\n",
      "{'20': {'0.0': {'1.6': 0.0005832470504261362}, '0.9': {'2.0': 0.00040964376953125004}, '0.3': {'1.2': 0.001044867819247159, '1.6': 0.0007614526658380684, '2.0': 0.0005268473554687501}}}\n",
      "{'20': {'0.0': {'1.6': 0.0005832470504261362, '2.0': 0.0003711768238636365}, '0.9': {'2.0': 0.00040964376953125004}, '0.3': {'1.2': 0.001044867819247159, '1.6': 0.0007614526658380684, '2.0': 0.0005268473554687501}}}\n",
      "{'20': {'0.0': {'1.6': 0.0005832470504261362, '2.0': 0.0003711768238636365}, '0.9': {'1.2': 0.0009244465692471587, '2.0': 0.00040964376953125004}, '0.3': {'1.2': 0.001044867819247159, '1.6': 0.0007614526658380684, '2.0': 0.0005268473554687501}}}\n",
      "{'20': {'0.0': {'1.6': 0.0005832470504261362, '2.0': 0.0003711768238636365}, '0.9': {'1.2': 0.0009244465692471587, '2.0': 0.00040964376953125004}, '0.3': {'1.2': 0.001044867819247159, '1.6': 0.0007614526658380684, '2.0': 0.0005268473554687501}, '0.6': {'2.0': 0.0008820476484374998}}}\n",
      "{'20': {'0.0': {'1.6': 0.0005832470504261362, '2.0': 0.0003711768238636365}, '0.9': {'1.2': 0.0009244465692471587, '2.0': 0.00040964376953125004}, '0.3': {'1.2': 0.001044867819247159, '1.6': 0.0007614526658380684, '2.0': 0.0005268473554687501}, '0.6': {'1.2': 0.0012777477002840908, '2.0': 0.0008820476484374998}}}\n",
      "{'20': {'0.0': {'1.2': 0.0008651662929687498, '1.6': 0.0005832470504261362, '2.0': 0.0003711768238636365}, '0.9': {'1.2': 0.0009244465692471587, '2.0': 0.00040964376953125004}, '0.3': {'1.2': 0.001044867819247159, '1.6': 0.0007614526658380684, '2.0': 0.0005268473554687501}, '0.6': {'1.2': 0.0012777477002840908, '2.0': 0.0008820476484374998}}}\n",
      "{'20': {'0.0': {'1.2': 0.0008651662929687498, '1.6': 0.0005832470504261362, '2.0': 0.0003711768238636365}, '0.9': {'1.2': 0.0009244465692471587, '1.6': 0.0006308581995738637, '2.0': 0.00040964376953125004}, '0.3': {'1.2': 0.001044867819247159, '1.6': 0.0007614526658380684, '2.0': 0.0005268473554687501}, '0.6': {'1.2': 0.0012777477002840908, '2.0': 0.0008820476484374998}}}\n",
      "{'20': {'0.0': {'1.2': 0.0008651662929687498, '1.6': 0.0005832470504261362, '2.0': 0.0003711768238636365}, '0.9': {'1.2': 0.0009244465692471587, '1.6': 0.0006308581995738637, '2.0': 0.00040964376953125004}, '0.3': {'1.2': 0.001044867819247159, '1.6': 0.0007614526658380684, '2.0': 0.0005268473554687501}, '0.6': {'1.2': 0.0012777477002840908, '1.6': 0.0010875391878551134, '2.0': 0.0008820476484374998}}}\n",
      "{'20': {'0.3': {'1.6': 0.0006733817135802467}}}\n",
      "{'20': {'0.9': {'2.0': 0.00036694152283950603}, '0.3': {'1.6': 0.0006733817135802467}}}\n",
      "{'20': {'0.9': {'2.0': 0.00036694152283950603}, '0.3': {'1.6': 0.0006733817135802467, '2.0': 0.00046934095679012353}}}\n",
      "{'20': {'0.0': {'1.6': 0.0005261644132716053}, '0.9': {'2.0': 0.00036694152283950603}, '0.3': {'1.6': 0.0006733817135802467, '2.0': 0.00046934095679012353}}}\n",
      "{'20': {'0.0': {'1.6': 0.0005261644132716053}, '0.9': {'2.0': 0.00036694152283950603}, '0.3': {'1.2': 0.0009388117496913582, '1.6': 0.0006733817135802467, '2.0': 0.00046934095679012353}}}\n",
      "{'20': {'0.0': {'1.6': 0.0005261644132716053, '2.0': 0.00032625229969135807}, '0.9': {'2.0': 0.00036694152283950603}, '0.3': {'1.2': 0.0009388117496913582, '1.6': 0.0006733817135802467, '2.0': 0.00046934095679012353}}}\n",
      "{'20': {'0.0': {'1.6': 0.0005261644132716053, '2.0': 0.00032625229969135807}, '0.9': {'1.2': 0.0008236654796296303, '2.0': 0.00036694152283950603}, '0.3': {'1.2': 0.0009388117496913582, '1.6': 0.0006733817135802467, '2.0': 0.00046934095679012353}}}\n",
      "{'20': {'0.0': {'1.6': 0.0005261644132716053, '2.0': 0.00032625229969135807}, '0.9': {'1.2': 0.0008236654796296303, '2.0': 0.00036694152283950603}, '0.3': {'1.2': 0.0009388117496913582, '1.6': 0.0006733817135802467, '2.0': 0.00046934095679012353}, '0.6': {'2.0': 0.000770702927160494}}}\n",
      "{'20': {'0.0': {'1.6': 0.0005261644132716053, '2.0': 0.00032625229969135807}, '0.9': {'1.2': 0.0008236654796296303, '2.0': 0.00036694152283950603}, '0.3': {'1.2': 0.0009388117496913582, '1.6': 0.0006733817135802467, '2.0': 0.00046934095679012353}, '0.6': {'1.2': 0.001117879062654321, '2.0': 0.000770702927160494}}}\n",
      "{'20': {'0.0': {'1.2': 0.0007653628234567902, '1.6': 0.0005261644132716053, '2.0': 0.00032625229969135807}, '0.9': {'1.2': 0.0008236654796296303, '2.0': 0.00036694152283950603}, '0.3': {'1.2': 0.0009388117496913582, '1.6': 0.0006733817135802467, '2.0': 0.00046934095679012353}, '0.6': {'1.2': 0.001117879062654321, '2.0': 0.000770702927160494}}}\n",
      "{'20': {'0.0': {'1.2': 0.0007653628234567902, '1.6': 0.0005261644132716053, '2.0': 0.00032625229969135807}, '0.9': {'1.2': 0.0008236654796296303, '1.6': 0.00055544482654321, '2.0': 0.00036694152283950603}, '0.3': {'1.2': 0.0009388117496913582, '1.6': 0.0006733817135802467, '2.0': 0.00046934095679012353}, '0.6': {'1.2': 0.001117879062654321, '2.0': 0.000770702927160494}}}\n",
      "{'20': {'0.0': {'1.2': 0.0007653628234567902, '1.6': 0.0005261644132716053, '2.0': 0.00032625229969135807}, '0.9': {'1.2': 0.0008236654796296303, '1.6': 0.00055544482654321, '2.0': 0.00036694152283950603}, '0.3': {'1.2': 0.0009388117496913582, '1.6': 0.0006733817135802467, '2.0': 0.00046934095679012353}, '0.6': {'1.2': 0.001117879062654321, '1.6': 0.0009561106154320987, '2.0': 0.000770702927160494}}}\n"
     ]
    }
   ],
   "source": [
    "if __name__ == '__main__':\n",
    "    main()"
   ]
  },
  {
   "cell_type": "code",
   "execution_count": null,
   "metadata": {},
   "outputs": [],
   "source": []
  },
  {
   "cell_type": "code",
   "execution_count": 19,
   "metadata": {},
   "outputs": [],
   "source": [
    "path = \"/home/luigi/Documents/scripts/test_scripts/results/results_2020-02-21_rob_20/2020-02-21_robots#20_alpha#1.2_rho#0.0_experiment_1800/experiment.pkl\"\n",
    "df = pd.read_pickle(path)"
   ]
  },
  {
   "cell_type": "code",
   "execution_count": 20,
   "metadata": {},
   "outputs": [],
   "source": [
    "# df"
   ]
  },
  {
   "cell_type": "code",
   "execution_count": null,
   "metadata": {},
   "outputs": [],
   "source": []
  }
 ],
 "metadata": {
  "kernelspec": {
   "display_name": "Python 3",
   "language": "python",
   "name": "python3"
  },
  "language_info": {
   "codemirror_mode": {
    "name": "ipython",
    "version": 3
   },
   "file_extension": ".py",
   "mimetype": "text/x-python",
   "name": "python",
   "nbconvert_exporter": "python",
   "pygments_lexer": "ipython3",
   "version": "3.5.2"
  }
 },
 "nbformat": 4,
 "nbformat_minor": 4
}
